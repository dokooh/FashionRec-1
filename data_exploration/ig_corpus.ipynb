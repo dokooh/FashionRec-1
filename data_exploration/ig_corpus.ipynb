{
 "cells": [
  {
   "cell_type": "code",
   "execution_count": 245,
   "metadata": {},
   "outputs": [],
   "source": [
    "import emoji\n",
    "import nltk\n",
    "from nltk.stem import WordNetLemmatizer\n",
    "from nltk.tokenize import TweetTokenizer\n",
    "import matplotlib.pyplot as plt\n",
    "import numpy as np\n",
    "import enchant\n",
    "tknzr = TweetTokenizer(strip_handles=False, reduce_len=False)\n",
    "wordnet_lemmatizer = WordNetLemmatizer()\n",
    "plt.rc('text', usetex=True)\n",
    "plt.rc('font', family='serif')"
   ]
  },
  {
   "cell_type": "code",
   "execution_count": 246,
   "metadata": {},
   "outputs": [],
   "source": [
    "with open('ig_corpus.txt', \"r\") as file:\n",
    "        text = file.read()\n",
    "        tokens = tknzr.tokenize(text.decode(\"utf-8\"))"
   ]
  },
  {
   "cell_type": "code",
   "execution_count": 270,
   "metadata": {},
   "outputs": [],
   "source": [
    "def chunks(l, n):\n",
    "    \"\"\"Yield successive n-sized chunks from l.\"\"\"\n",
    "    for i in xrange(0, len(l), n):\n",
    "        yield l[i:i + n]"
   ]
  },
  {
   "cell_type": "code",
   "execution_count": 271,
   "metadata": {},
   "outputs": [],
   "source": [
    "subcorpora = list(chunks(tokens, 12429464))"
   ]
  },
  {
   "cell_type": "code",
   "execution_count": 268,
   "metadata": {},
   "outputs": [
    {
     "data": {
      "text/plain": [
       "12429463.6"
      ]
     },
     "execution_count": 268,
     "metadata": {},
     "output_type": "execute_result"
    }
   ],
   "source": [
    "len(tokens)/float(5)"
   ]
  },
  {
   "cell_type": "code",
   "execution_count": 272,
   "metadata": {},
   "outputs": [
    {
     "data": {
      "text/plain": [
       "5"
      ]
     },
     "execution_count": 272,
     "metadata": {},
     "output_type": "execute_result"
    }
   ],
   "source": [
    "len(subcorpora)"
   ]
  },
  {
   "cell_type": "code",
   "execution_count": 276,
   "metadata": {},
   "outputs": [],
   "source": [
    "from collections import Counter"
   ]
  },
  {
   "cell_type": "code",
   "execution_count": 279,
   "metadata": {},
   "outputs": [],
   "source": [
    "words, freqs = zip(*Counter(tokens).most_common(500))"
   ]
  },
  {
   "cell_type": "code",
   "execution_count": 281,
   "metadata": {},
   "outputs": [
    {
     "data": {
      "text/plain": [
       "u'!'"
      ]
     },
     "execution_count": 281,
     "metadata": {},
     "output_type": "execute_result"
    }
   ],
   "source": [
    "freqs[0]\n",
    "words[0]"
   ]
  },
  {
   "cell_type": "code",
   "execution_count": 284,
   "metadata": {},
   "outputs": [
    {
     "name": "stdout",
     "output_type": "stream",
     "text": [
      "@cristinaaaribeiro\n",
      "(u'@cristinaaaribeiro', 1)\n",
      "@b1gmc\n",
      "(u'@b1gmc', 1)\n",
      "@kedstanton\n",
      "(u'@kedstanton', 1)\n",
      "@allie_ortiz\n",
      "(u'@allie_ortiz', 1)\n",
      "@kedstanton\n",
      "(u'@kedstanton', 1)\n"
     ]
    }
   ],
   "source": [
    "freqlists = []\n",
    "for corpus in subcorpora:\n",
    "    corpusfreq = Counter(corpus).items()\n",
    "    #print corpusfreq[0][0]\n",
    "    #print corpusfreq[0]\n",
    "    select = filter(lambda x: x[0] in words, corpusfreq)\n",
    "    counts = map(lambda x: x[1], select)\n",
    "    freqlists.append(counts)"
   ]
  },
  {
   "cell_type": "code",
   "execution_count": 291,
   "metadata": {},
   "outputs": [],
   "source": [
    "freqlists2 = []\n",
    "for fr in freqlists:\n",
    "    missing_words = 500 - len(fr)\n",
    "    for i in range(missing_words):\n",
    "        fr.append(0)"
   ]
  },
  {
   "cell_type": "code",
   "execution_count": 298,
   "metadata": {},
   "outputs": [
    {
     "data": {
      "text/plain": [
       "500"
      ]
     },
     "execution_count": 298,
     "metadata": {},
     "output_type": "execute_result"
    }
   ],
   "source": [
    "len(freqlists[4])"
   ]
  },
  {
   "cell_type": "code",
   "execution_count": null,
   "metadata": {},
   "outputs": [],
   "source": []
  },
  {
   "cell_type": "code",
   "execution_count": 273,
   "metadata": {},
   "outputs": [
    {
     "data": {
      "text/plain": [
       "(5,)"
      ]
     },
     "execution_count": 273,
     "metadata": {},
     "output_type": "execute_result"
    }
   ],
   "source": [
    "np.array(subcorpora).shape"
   ]
  },
  {
   "cell_type": "code",
   "execution_count": 274,
   "metadata": {},
   "outputs": [],
   "source": [
    "from scipy.stats import chisquare"
   ]
  },
  {
   "cell_type": "code",
   "execution_count": 300,
   "metadata": {},
   "outputs": [],
   "source": [
    "chi_sq_res, p_vals = chisquare(freqlists)"
   ]
  },
  {
   "cell_type": "code",
   "execution_count": 301,
   "metadata": {},
   "outputs": [
    {
     "data": {
      "text/plain": [
       "500"
      ]
     },
     "execution_count": 301,
     "metadata": {},
     "output_type": "execute_result"
    }
   ],
   "source": [
    "len(chi_sq_res)"
   ]
  },
  {
   "cell_type": "code",
   "execution_count": 304,
   "metadata": {},
   "outputs": [
    {
     "data": {
      "text/plain": [
       "139466.34469425381"
      ]
     },
     "execution_count": 304,
     "metadata": {},
     "output_type": "execute_result"
    }
   ],
   "source": [
    "sum(chi_sq_res)/float(len(chi_sq_res))"
   ]
  },
  {
   "cell_type": "code",
   "execution_count": 305,
   "metadata": {},
   "outputs": [
    {
     "data": {
      "text/plain": [
       "1.5887346179139897e-42"
      ]
     },
     "execution_count": 305,
     "metadata": {},
     "output_type": "execute_result"
    }
   ],
   "source": [
    "sum(chi_sq_res)/float(len(chi_sq_res))\n",
    "sum(p_vals)/float(len(p_vals))"
   ]
  },
  {
   "cell_type": "code",
   "execution_count": 219,
   "metadata": {},
   "outputs": [
    {
     "data": {
      "text/plain": [
       "62147318"
      ]
     },
     "execution_count": 219,
     "metadata": {},
     "output_type": "execute_result"
    }
   ],
   "source": [
    "len(tokens)"
   ]
  },
  {
   "cell_type": "code",
   "execution_count": 220,
   "metadata": {},
   "outputs": [
    {
     "data": {
      "text/plain": [
       "62147318"
      ]
     },
     "execution_count": 220,
     "metadata": {},
     "output_type": "execute_result"
    }
   ],
   "source": [
    "len(tokens)"
   ]
  },
  {
   "cell_type": "code",
   "execution_count": 229,
   "metadata": {},
   "outputs": [
    {
     "data": {
      "text/plain": [
       "2369580"
      ]
     },
     "execution_count": 229,
     "metadata": {},
     "output_type": "execute_result"
    }
   ],
   "source": [
    "len(set(tokens))"
   ]
  },
  {
   "cell_type": "code",
   "execution_count": 221,
   "metadata": {},
   "outputs": [],
   "source": [
    "def extract_emojis(words):\n",
    "    return ''.join(c for c in words if c in emoji.UNICODE_EMOJI)"
   ]
  },
  {
   "cell_type": "code",
   "execution_count": 222,
   "metadata": {},
   "outputs": [],
   "source": [
    "emojis = extract_emojis(tokens)"
   ]
  },
  {
   "cell_type": "code",
   "execution_count": 223,
   "metadata": {},
   "outputs": [
    {
     "data": {
      "text/plain": [
       "9582526"
      ]
     },
     "execution_count": 223,
     "metadata": {},
     "output_type": "execute_result"
    }
   ],
   "source": [
    "len(emojis)"
   ]
  },
  {
   "cell_type": "code",
   "execution_count": 224,
   "metadata": {},
   "outputs": [],
   "source": [
    "def extract_hashtags(tokens):\n",
    "    return [x for x in tokens if x.startswith(\"#\")]"
   ]
  },
  {
   "cell_type": "code",
   "execution_count": 225,
   "metadata": {},
   "outputs": [],
   "source": [
    "hashtags = extract_hashtags(tokens)act"
   ]
  },
  {
   "cell_type": "code",
   "execution_count": 226,
   "metadata": {},
   "outputs": [
    {
     "data": {
      "text/plain": [
       "1800445"
      ]
     },
     "execution_count": 226,
     "metadata": {},
     "output_type": "execute_result"
    }
   ],
   "source": [
    "len(hashtags)"
   ]
  },
  {
   "cell_type": "code",
   "execution_count": 227,
   "metadata": {},
   "outputs": [],
   "source": [
    "d = enchant.Dict(\"en_US\")"
   ]
  },
  {
   "cell_type": "code",
   "execution_count": 308,
   "metadata": {},
   "outputs": [],
   "source": [
    "def clean(token):\n",
    "    if token.startswith(\"#\"):\n",
    "        return False\n",
    "    if token in emoji.UNICODE_EMOJI:\n",
    "        return False\n",
    "    if token.startswith(\"@\"):\n",
    "        return False\n",
    "    return True"
   ]
  },
  {
   "cell_type": "code",
   "execution_count": 412,
   "metadata": {},
   "outputs": [],
   "source": [
    "tokens_clean = filter(lambda x: clean(x), tokens)"
   ]
  },
  {
   "cell_type": "code",
   "execution_count": 413,
   "metadata": {},
   "outputs": [
    {
     "data": {
      "text/plain": [
       "47095723"
      ]
     },
     "execution_count": 413,
     "metadata": {},
     "output_type": "execute_result"
    }
   ],
   "source": [
    "len(tokens_clean)"
   ]
  },
  {
   "cell_type": "code",
   "execution_count": 369,
   "metadata": {},
   "outputs": [
    {
     "data": {
      "text/plain": [
       "9419144"
      ]
     },
     "execution_count": 369,
     "metadata": {},
     "output_type": "execute_result"
    }
   ],
   "source": [
    "len(tokens_clean)/5"
   ]
  },
  {
   "cell_type": "code",
   "execution_count": 423,
   "metadata": {},
   "outputs": [],
   "source": [
    "posts = []\n",
    "with open('ig_corpus.txt', \"r\") as file:\n",
    "    for line in file:\n",
    "        posts.append(line)\n",
    "        #text = file.read()\n",
    "        #tokens = tknzr.tokenize(text.decode(\"utf-8\"))"
   ]
  },
  {
   "cell_type": "code",
   "execution_count": 424,
   "metadata": {},
   "outputs": [
    {
     "data": {
      "text/plain": [
       "197046"
      ]
     },
     "execution_count": 424,
     "metadata": {},
     "output_type": "execute_result"
    }
   ],
   "source": [
    "len(posts)"
   ]
  },
  {
   "cell_type": "code",
   "execution_count": 425,
   "metadata": {},
   "outputs": [
    {
     "data": {
      "text/plain": [
       "\"love the sky blue! @kiki_dkpearla me too! thanks love  happy monday love the bag!! \\xf0\\x9f\\x92\\x95\\xf0\\x9f\\x92\\x96 @jessicalundy_ isn\\xe2\\x80\\x99t it fun. thanks love. that bag is so pretty!! @cherrypickedstyle thank you tomeka i hope you are having an awesome monday beautiful bag! \\xf0\\x9f\\x92\\x99\\xf0\\x9f\\x92\\x99 love this bag \\xf0\\x9f\\x92\\x99\\xf0\\x9f\\x92\\x99\\xf0\\x9f\\x92\\x99 omg love it \\xf0\\x9f\\x98\\x8d\\xf0\\x9f\\x98\\x8d great stuff! love the bag \\xf0\\x9f\\x98\\x8d\\xf0\\x9f\\x98\\x8d\\xf0\\x9f\\x98\\x8d details \\xf0\\x9f\\x98\\x8d love this bag babe \\xf0\\x9f\\x92\\x99\\xf0\\x9f\\x92\\x99 that\\xe2\\x80\\x99s a great bag! \\xf0\\x9f\\x91\\x8b\\xf0\\x9f\\x91\\x8c love this fun pop of color love this love @henribendel's latest collection! i just love this pop of bright blue color. \\xf0\\x9f\\x92\\x99\\xf0\\x9f\\x92\\x99 \\xf0\\x9f\\x91\\x8d\\xf0\\x9f\\x8f\\xbc\\xf0\\x9f\\x99\\x8c\\xf0\\x9f\\x8f\\xbd\\xf0\\x9f\\x94\\xa5 such a gorgeous bag bag\\xf0\\x9f\\x98\\x8d\\xf0\\x9f\\x98\\x8d\\xf0\\x9f\\x98\\x8d\\xf0\\x9f\\x98\\x8d \\xf0\\x9f\\x92\\x99\\xf0\\x9f\\x92\\x99\\xf0\\x9f\\x92\\x99 you always have the best handbags \\xf0\\x9f\\x98\\x8d pretty \\xf0\\x9f\\x92\\x99\\xf0\\x9f\\x92\\x99 fabulousity... #aaa that's is beautiful bag is life\\xf0\\x9f\\x98\\x8d\\xf0\\x9f\\x98\\x8d\\xf0\\x9f\\x98\\x8d love this bag! so pretty what a fun bag! ooh such a fun print! love the pattern on this bag! super pretty bag monica \\xf0\\x9f\\x92\\xaf\\xf0\\x9f\\x92\\x95 perf little bag! i know it\\xe2\\x80\\x99s about the bag  but i\\xe2\\x80\\x99m heading to @liketoknow.it app for the boots! obsessed with these details!! i like my outfits with a pop of color. #sittingpretty . get 30% off my bag during the #cybermonday sale! sale ends in 9hours! shop my post on the blog (blog link in bio) or you can instantly shop my looks by following me in the liketoknow.it app. @liketoknow.it http://liketk.it/2tybf #liketkit #ltkholidaystyle #ltkstyletip #ltkitbag . \\xf0\\x9f\\x93\\xb7 by @titispassion . . . . #itshot #whowhatwear #startedwithascreenshot #blogger #fashionblogger #fashiondaily #instafashion #styleblogger #chic #fashionaddict #wwwfall30 #bluebag #salealert #henribendel #whiteboots #photooftheday #fashionista #lookoftheday #fblogger lookoftheday blogger ltkstyletip salealert chic cybermonday wwwfall30 fblogger ltkitbag ltkholidaystyle styleblogger whowhatwear fashionista photooftheday bluebag liketkit itshot fashionaddict whiteboots fashiondaily startedwithascreenshot henribendel fashionblogger sittingpretty instafashion\\n\""
      ]
     },
     "execution_count": 425,
     "metadata": {},
     "output_type": "execute_result"
    }
   ],
   "source": [
    "posts[0]"
   ]
  },
  {
   "cell_type": "code",
   "execution_count": 400,
   "metadata": {},
   "outputs": [],
   "source": [
    "import random"
   ]
  },
  {
   "cell_type": "code",
   "execution_count": 426,
   "metadata": {},
   "outputs": [],
   "source": [
    "random.shuffle(posts)"
   ]
  },
  {
   "cell_type": "code",
   "execution_count": 427,
   "metadata": {},
   "outputs": [
    {
     "data": {
      "text/plain": [
       "'\\xf0\\x9f\\x91\\x8c <saturdays> #mornings #research #coffee #saturdays #lazyday lazyday coffee mornings saturdays research\\n'"
      ]
     },
     "execution_count": 427,
     "metadata": {},
     "output_type": "execute_result"
    }
   ],
   "source": [
    "posts[0]"
   ]
  },
  {
   "cell_type": "code",
   "execution_count": 428,
   "metadata": {},
   "outputs": [
    {
     "data": {
      "text/plain": [
       "39409.2"
      ]
     },
     "execution_count": 428,
     "metadata": {},
     "output_type": "execute_result"
    }
   ],
   "source": [
    "len(posts)/float(5)"
   ]
  },
  {
   "cell_type": "code",
   "execution_count": 429,
   "metadata": {},
   "outputs": [],
   "source": [
    "subcorpora2 = list(chunks(posts, 39410))"
   ]
  },
  {
   "cell_type": "code",
   "execution_count": 430,
   "metadata": {},
   "outputs": [
    {
     "data": {
      "text/plain": [
       "5"
      ]
     },
     "execution_count": 430,
     "metadata": {},
     "output_type": "execute_result"
    }
   ],
   "source": [
    "len(subcorpora2)"
   ]
  },
  {
   "cell_type": "code",
   "execution_count": 431,
   "metadata": {},
   "outputs": [],
   "source": [
    "subcorpora3 = []\n",
    "for corpus in subcorpora2:\n",
    "    c = \"\"\n",
    "    for post in corpus:\n",
    "        c = c + post\n",
    "    subcorpora3.append(c)"
   ]
  },
  {
   "cell_type": "code",
   "execution_count": 434,
   "metadata": {},
   "outputs": [],
   "source": [
    "subcorpora3 = map(lambda x: tknzr.tokenize(x.decode(\"utf-8\")), subcorpora3)"
   ]
  },
  {
   "cell_type": "code",
   "execution_count": 480,
   "metadata": {},
   "outputs": [],
   "source": [
    "from nltk.corpus import stopwords"
   ]
  },
  {
   "cell_type": "code",
   "execution_count": 481,
   "metadata": {},
   "outputs": [],
   "source": [
    "stop_words = set(stopwords.words('english'))\n",
    "stop_words.update(['.', ',', '\"', \"'\", '?', '!', ':', ';', '(', ')', '[', ']', '{', '}'])"
   ]
  },
  {
   "cell_type": "code",
   "execution_count": 483,
   "metadata": {},
   "outputs": [],
   "source": [
    "subcorpora3 = map(lambda x: [y for y in x if y not in stop_words], subcorpora3)"
   ]
  },
  {
   "cell_type": "code",
   "execution_count": 452,
   "metadata": {},
   "outputs": [],
   "source": [
    "subcorpora4 = []\n",
    "for corpus in subcorpora3:\n",
    "    c = filter(lambda x: clean(x), corpus)\n",
    "    subcorpora4.append(c)"
   ]
  },
  {
   "cell_type": "code",
   "execution_count": 453,
   "metadata": {},
   "outputs": [
    {
     "name": "stdout",
     "output_type": "stream",
     "text": [
      "5\n",
      "9595152\n"
     ]
    }
   ],
   "source": [
    "print len(subcorpora4)\n",
    "print len(subcorpora4[0])"
   ]
  },
  {
   "cell_type": "code",
   "execution_count": 484,
   "metadata": {},
   "outputs": [],
   "source": [
    "subcorpora5 = map(lambda x: x[0:1000000], subcorpora3)"
   ]
  },
  {
   "cell_type": "code",
   "execution_count": 487,
   "metadata": {},
   "outputs": [
    {
     "name": "stdout",
     "output_type": "stream",
     "text": [
      "5\n",
      "1000000\n",
      "#coffee\n"
     ]
    }
   ],
   "source": [
    "print len(subcorpora5)\n",
    "print len(subcorpora5[0])\n",
    "print subcorpora5[0][4]"
   ]
  },
  {
   "cell_type": "code",
   "execution_count": 488,
   "metadata": {},
   "outputs": [],
   "source": [
    "subcorpora = subcorpora5"
   ]
  },
  {
   "cell_type": "code",
   "execution_count": 402,
   "metadata": {},
   "outputs": [],
   "source": [
    "random.shuffle(tokens_clean)"
   ]
  },
  {
   "cell_type": "code",
   "execution_count": 414,
   "metadata": {},
   "outputs": [],
   "source": [
    "tokens_clean2 = tokens_clean[0:5000000]"
   ]
  },
  {
   "cell_type": "code",
   "execution_count": 489,
   "metadata": {},
   "outputs": [],
   "source": [
    "tokens3 = []\n",
    "for t in subcorpora:\n",
    "    tokens3 = tokens3 + t"
   ]
  },
  {
   "cell_type": "code",
   "execution_count": 490,
   "metadata": {},
   "outputs": [],
   "source": [
    "words, freqs = zip(*Counter(tokens3).most_common(500))"
   ]
  },
  {
   "cell_type": "code",
   "execution_count": 494,
   "metadata": {},
   "outputs": [
    {
     "name": "stdout",
     "output_type": "stream",
     "text": [
      "thing\n"
     ]
    }
   ],
   "source": [
    "print words[315]"
   ]
  },
  {
   "cell_type": "code",
   "execution_count": 416,
   "metadata": {},
   "outputs": [],
   "source": [
    "subcorpora = list(chunks(tokens_clean2, 1000000))"
   ]
  },
  {
   "cell_type": "code",
   "execution_count": 495,
   "metadata": {},
   "outputs": [
    {
     "name": "stdout",
     "output_type": "stream",
     "text": [
      "5\n"
     ]
    },
    {
     "data": {
      "text/plain": [
       "1000000"
      ]
     },
     "execution_count": 495,
     "metadata": {},
     "output_type": "execute_result"
    }
   ],
   "source": [
    "print len(subcorpora)\n",
    "len(subcorpora[0])"
   ]
  },
  {
   "cell_type": "code",
   "execution_count": 496,
   "metadata": {},
   "outputs": [
    {
     "name": "stdout",
     "output_type": "stream",
     "text": [
      "corpus\n",
      "corpus\n",
      "corpus\n",
      "corpus\n",
      "corpus\n"
     ]
    }
   ],
   "source": [
    "freqlists = []\n",
    "for corpus in subcorpora:\n",
    "    corpusfreq = Counter(corpus)\n",
    "    print \"corpus\"\n",
    "    #print corpusfreq[0][0]\n",
    "    #print corpusfreq[0]\n",
    "    select = []\n",
    "    for w in words:\n",
    "        #print w\n",
    "        #print type(corpusfreq)\n",
    "        #print corpusfreq.keys()[0]\n",
    "        #print corpusfreq\n",
    "        if w in corpusfreq:\n",
    "            select.append(corpusfreq[w])\n",
    "        else:\n",
    "            select.append(0)\n",
    "    freqlists.append(select)"
   ]
  },
  {
   "cell_type": "code",
   "execution_count": 497,
   "metadata": {},
   "outputs": [
    {
     "name": "stdout",
     "output_type": "stream",
     "text": [
      "5\n",
      "500\n",
      "500\n",
      "25300\n",
      "24331\n",
      "27425\n",
      "[49117, 29389, 25300, 24835, 10781, 9465, 8862, 8886, 7844, 6827, 6720, 6759, 6467, 6326, 5813, 5826, 5304, 4944, 4641, 4348, 4244, 4194, 3899, 3663, 3602, 3671, 3850, 3506, 3420, 3038, 3304, 3096, 3132, 3183, 2890, 2983, 2588, 2879, 2740, 2987, 2674, 2676, 2392, 2467, 2611, 2505, 1980, 2436, 2162, 2196, 2209, 2135, 2065, 2109, 2142, 2178, 2066, 2019, 1949, 2027, 1790, 1801, 1875, 1726, 1723, 1719, 1921, 1819, 1735, 1807, 1590, 1648, 1688, 1573, 1588, 1582, 1692, 1388, 1477, 1312, 1478, 1641, 1459, 1388, 1478, 1499, 1522, 1308, 1341, 1397, 1257, 1368, 1405, 1399, 1372, 1287, 1275, 1258, 1327, 1217, 1049, 1204, 1156, 1142, 1180, 1088, 1121, 1056, 1057, 962, 1119, 1125, 1071, 1116, 1064, 1007, 986, 954, 1018, 1028, 1035, 984, 1037, 991, 702, 984, 1062, 894, 505, 925, 909, 868, 912, 915, 726, 841, 827, 840, 792, 828, 832, 849, 872, 788, 827, 737, 800, 772, 763, 788, 784, 370, 478, 803, 755, 786, 705, 764, 784, 716, 642, 363, 739, 664, 704, 668, 707, 704, 773, 723, 713, 545, 666, 724, 603, 752, 734, 659, 685, 671, 666, 634, 672, 650, 631, 665, 600, 618, 613, 565, 629, 470, 605, 587, 586, 668, 549, 672, 586, 525, 511, 564, 540, 553, 620, 542, 558, 589, 486, 524, 571, 518, 570, 580, 560, 496, 565, 511, 564, 520, 505, 560, 541, 527, 502, 503, 496, 513, 459, 487, 493, 481, 503, 497, 465, 491, 482, 518, 547, 481, 538, 533, 469, 472, 499, 458, 510, 481, 441, 370, 485, 455, 455, 473, 520, 426, 482, 468, 420, 454, 471, 429, 609, 414, 399, 425, 398, 440, 502, 447, 380, 394, 501, 461, 448, 412, 441, 405, 374, 464, 317, 372, 448, 397, 411, 391, 388, 395, 400, 396, 412, 372, 26, 357, 402, 381, 361, 417, 413, 373, 307, 432, 378, 381, 382, 371, 369, 313, 236, 401, 369, 345, 381, 347, 371, 333, 392, 338, 374, 341, 479, 356, 296, 500, 330, 362, 344, 407, 380, 321, 373, 328, 345, 316, 270, 307, 306, 360, 300, 295, 279, 340, 279, 258, 369, 263, 279, 329, 316, 295, 341, 344, 309, 332, 310, 354, 290, 289, 323, 310, 272, 329, 342, 191, 381, 292, 289, 369, 353, 316, 287, 297, 327, 328, 261, 319, 300, 311, 235, 270, 262, 309, 276, 307, 271, 326, 254, 281, 314, 256, 282, 327, 239, 264, 256, 190, 278, 293, 263, 180, 302, 297, 404, 294, 270, 258, 272, 359, 296, 268, 285, 322, 250, 285, 238, 302, 278, 238, 316, 288, 252, 353, 287, 233, 280, 267, 277, 343, 287, 219, 274, 273, 252, 254, 220, 242, 249, 255, 240, 272, 256, 260, 262, 241, 293, 260, 252, 357, 231, 472, 258, 257, 255, 252, 242, 247, 209, 233, 194, 199, 288, 241, 199, 223, 227, 244, 271, 181, 222, 209, 231, 282, 241, 220, 248, 217, 177, 249, 193, 140, 183, 195, 232, 263, 200, 216, 231, 212, 276, 213, 200, 252, 256, 255, 198, 193, 218, 143, 191, 222]\n"
     ]
    }
   ],
   "source": [
    "print len(freqlists)\n",
    "print len(freqlists[0])\n",
    "print len(freqlists[1])\n",
    "print freqlists[0][2]\n",
    "print freqlists[1][2]\n",
    "print freqlists[2][2]\n",
    "print freqlists[0]"
   ]
  },
  {
   "cell_type": "code",
   "execution_count": 498,
   "metadata": {},
   "outputs": [],
   "source": [
    "chi_sq_res, p_vals = chisquare(freqlists)"
   ]
  },
  {
   "cell_type": "code",
   "execution_count": 499,
   "metadata": {},
   "outputs": [
    {
     "data": {
      "text/plain": [
       "46.337458598749343"
      ]
     },
     "execution_count": 499,
     "metadata": {},
     "output_type": "execute_result"
    }
   ],
   "source": [
    "sum(chi_sq_res)/float(len(chi_sq_res))"
   ]
  },
  {
   "cell_type": "code",
   "execution_count": 500,
   "metadata": {},
   "outputs": [
    {
     "data": {
      "text/plain": [
       "0.17817832850514118"
      ]
     },
     "execution_count": 500,
     "metadata": {},
     "output_type": "execute_result"
    }
   ],
   "source": [
    "sum(p_vals)/float(len(p_vals))"
   ]
  },
  {
   "cell_type": "code",
   "execution_count": 331,
   "metadata": {},
   "outputs": [],
   "source": [
    "def extract_oov2(y):\n",
    "    print len(y)\n",
    "    return [x for x in y if d.check(x)]"
   ]
  },
  {
   "cell_type": "code",
   "execution_count": 362,
   "metadata": {},
   "outputs": [],
   "source": [
    "def extract_testt(tokenlistlist):\n",
    "    print len(tokenlistlist)\n",
    "    print(len(list(filter(lambda x: clean(x), tokenlistlist[0:500]))))\n",
    "    return [tokeen for tokeen in tokenlistlist if not d.check(tokeen)]"
   ]
  },
  {
   "cell_type": "code",
   "execution_count": 352,
   "metadata": {},
   "outputs": [
    {
     "data": {
      "text/plain": [
       "62147318"
      ]
     },
     "execution_count": 352,
     "metadata": {},
     "output_type": "execute_result"
    }
   ],
   "source": [
    "len(tokens)"
   ]
  },
  {
   "cell_type": "code",
   "execution_count": 351,
   "metadata": {},
   "outputs": [
    {
     "data": {
      "text/plain": [
       "47095723"
      ]
     },
     "execution_count": 351,
     "metadata": {},
     "output_type": "execute_result"
    }
   ],
   "source": [
    "len(tokens_clean)"
   ]
  },
  {
   "cell_type": "code",
   "execution_count": 359,
   "metadata": {},
   "outputs": [
    {
     "data": {
      "text/plain": [
       "False"
      ]
     },
     "execution_count": 359,
     "metadata": {},
     "output_type": "execute_result"
    }
   ],
   "source": [
    "u\"#ootd\" in tokens_clean\n",
    "d.check(u\"#test\")"
   ]
  },
  {
   "cell_type": "code",
   "execution_count": 336,
   "metadata": {},
   "outputs": [
    {
     "data": {
      "text/plain": [
       "True"
      ]
     },
     "execution_count": 336,
     "metadata": {},
     "output_type": "execute_result"
    }
   ],
   "source": [
    "clean(u\"test\")"
   ]
  },
  {
   "cell_type": "code",
   "execution_count": 363,
   "metadata": {},
   "outputs": [
    {
     "name": "stdout",
     "output_type": "stream",
     "text": [
      "62147318\n",
      "404\n",
      "47095723\n",
      "500\n"
     ]
    }
   ],
   "source": [
    "oov2 = extract_testt(tokens)\n",
    "oov3 = extract_testt(tokens_clean)"
   ]
  },
  {
   "cell_type": "code",
   "execution_count": 364,
   "metadata": {},
   "outputs": [
    {
     "data": {
      "text/plain": [
       "29235098"
      ]
     },
     "execution_count": 364,
     "metadata": {},
     "output_type": "execute_result"
    }
   ],
   "source": [
    "len(oov2)"
   ]
  },
  {
   "cell_type": "code",
   "execution_count": 365,
   "metadata": {},
   "outputs": [
    {
     "data": {
      "text/plain": [
       "14183503"
      ]
     },
     "execution_count": 365,
     "metadata": {},
     "output_type": "execute_result"
    }
   ],
   "source": [
    "len(oov3)"
   ]
  },
  {
   "cell_type": "code",
   "execution_count": 347,
   "metadata": {},
   "outputs": [
    {
     "data": {
      "text/plain": [
       "u'happy'"
      ]
     },
     "execution_count": 347,
     "metadata": {},
     "output_type": "execute_result"
    }
   ],
   "source": [
    "oov3[200]"
   ]
  },
  {
   "cell_type": "code",
   "execution_count": 345,
   "metadata": {},
   "outputs": [
    {
     "data": {
      "text/plain": [
       "u'happy'"
      ]
     },
     "execution_count": 345,
     "metadata": {},
     "output_type": "execute_result"
    }
   ],
   "source": [
    "oov2[200]"
   ]
  },
  {
   "cell_type": "code",
   "execution_count": 346,
   "metadata": {},
   "outputs": [
    {
     "data": {
      "text/plain": [
       "u'shop'"
      ]
     },
     "execution_count": 346,
     "metadata": {},
     "output_type": "execute_result"
    }
   ],
   "source": [
    "tokens_clean[200]"
   ]
  },
  {
   "cell_type": "code",
   "execution_count": 349,
   "metadata": {},
   "outputs": [
    {
     "data": {
      "text/plain": [
       "u'\\u2019'"
      ]
     },
     "execution_count": 349,
     "metadata": {},
     "output_type": "execute_result"
    }
   ],
   "source": [
    "tokens[200]"
   ]
  },
  {
   "cell_type": "code",
   "execution_count": 366,
   "metadata": {},
   "outputs": [
    {
     "data": {
      "text/plain": [
       "0.4704160845686052"
      ]
     },
     "execution_count": 366,
     "metadata": {},
     "output_type": "execute_result"
    }
   ],
   "source": [
    "float(len(oov2))/float(len(tokens))"
   ]
  },
  {
   "cell_type": "code",
   "execution_count": 314,
   "metadata": {},
   "outputs": [],
   "source": [
    "oov3 = extract_oov2(tokens_clean)"
   ]
  },
  {
   "cell_type": "code",
   "execution_count": 318,
   "metadata": {},
   "outputs": [
    {
     "data": {
      "text/plain": [
       "47095723"
      ]
     },
     "execution_count": 318,
     "metadata": {},
     "output_type": "execute_result"
    }
   ],
   "source": [
    "len(tokens_clean)"
   ]
  },
  {
   "cell_type": "code",
   "execution_count": 319,
   "metadata": {},
   "outputs": [
    {
     "data": {
      "text/plain": [
       "62147318"
      ]
     },
     "execution_count": 319,
     "metadata": {},
     "output_type": "execute_result"
    }
   ],
   "source": [
    "len(tokens)"
   ]
  },
  {
   "cell_type": "code",
   "execution_count": 316,
   "metadata": {},
   "outputs": [
    {
     "data": {
      "text/plain": [
       "32912220"
      ]
     },
     "execution_count": 316,
     "metadata": {},
     "output_type": "execute_result"
    }
   ],
   "source": [
    "len(oov3)"
   ]
  },
  {
   "cell_type": "code",
   "execution_count": 317,
   "metadata": {},
   "outputs": [
    {
     "data": {
      "text/plain": [
       "32912220"
      ]
     },
     "execution_count": 317,
     "metadata": {},
     "output_type": "execute_result"
    }
   ],
   "source": [
    "len(oov2)"
   ]
  },
  {
   "cell_type": "code",
   "execution_count": 367,
   "metadata": {},
   "outputs": [
    {
     "data": {
      "text/plain": [
       "0.3011632924713779"
      ]
     },
     "execution_count": 367,
     "metadata": {},
     "output_type": "execute_result"
    }
   ],
   "source": [
    "float(len(oov3))/float(len(tokens_clean))"
   ]
  },
  {
   "cell_type": "code",
   "execution_count": 12,
   "metadata": {},
   "outputs": [],
   "source": [
    "import gensim, logging\n",
    "model = gensim.models.KeyedVectors.load_word2vec_format('../pretrained/googlenews_negative_300d_100B.bin', binary=True)"
   ]
  },
  {
   "cell_type": "code",
   "execution_count": 13,
   "metadata": {},
   "outputs": [],
   "source": [
    "from nltk.corpus import gutenberg"
   ]
  },
  {
   "cell_type": "code",
   "execution_count": 14,
   "metadata": {},
   "outputs": [],
   "source": [
    "gutenberg_emojis = extract_emojis(gutenberg.words())\n",
    "gutenberg_hashtags = extract_hashtags(gutenberg.words()) "
   ]
  },
  {
   "cell_type": "code",
   "execution_count": 15,
   "metadata": {},
   "outputs": [
    {
     "data": {
      "text/plain": [
       "0"
      ]
     },
     "execution_count": 15,
     "metadata": {},
     "output_type": "execute_result"
    }
   ],
   "source": [
    "len(gutenberg_emojis)"
   ]
  },
  {
   "cell_type": "code",
   "execution_count": 16,
   "metadata": {},
   "outputs": [
    {
     "data": {
      "text/plain": [
       "0"
      ]
     },
     "execution_count": 16,
     "metadata": {},
     "output_type": "execute_result"
    }
   ],
   "source": [
    "len(gutenberg_hashtags)"
   ]
  },
  {
   "cell_type": "code",
   "execution_count": 17,
   "metadata": {},
   "outputs": [],
   "source": [
    "def extract_oov(tokens):\n",
    "    return [x for x in tokens if x not in model.wv.vocab]"
   ]
  },
  {
   "cell_type": "code",
   "execution_count": 18,
   "metadata": {},
   "outputs": [],
   "source": [
    "oov = extract_oov(tokens)"
   ]
  },
  {
   "cell_type": "code",
   "execution_count": 19,
   "metadata": {},
   "outputs": [
    {
     "data": {
      "text/plain": [
       "28575515"
      ]
     },
     "execution_count": 19,
     "metadata": {},
     "output_type": "execute_result"
    }
   ],
   "source": [
    "len(oov)"
   ]
  },
  {
   "cell_type": "code",
   "execution_count": 20,
   "metadata": {},
   "outputs": [],
   "source": [
    "gutenberg_oov = extract_oov(gutenberg.words())"
   ]
  },
  {
   "cell_type": "code",
   "execution_count": 21,
   "metadata": {},
   "outputs": [
    {
     "data": {
      "text/plain": [
       "0.2763584861686298"
      ]
     },
     "execution_count": 21,
     "metadata": {},
     "output_type": "execute_result"
    }
   ],
   "source": [
    "float(len(gutenberg_oov))/len(gutenberg.words())"
   ]
  },
  {
   "cell_type": "code",
   "execution_count": 22,
   "metadata": {},
   "outputs": [],
   "source": [
    "def extract_userhandles(tokens):\n",
    "    return [x for x in tokens if x.startswith(\"@\")]"
   ]
  },
  {
   "cell_type": "code",
   "execution_count": 23,
   "metadata": {},
   "outputs": [],
   "source": [
    "userhandles = extract_userhandles(tokens)"
   ]
  },
  {
   "cell_type": "code",
   "execution_count": 24,
   "metadata": {},
   "outputs": [
    {
     "data": {
      "text/plain": [
       "3668624"
      ]
     },
     "execution_count": 24,
     "metadata": {},
     "output_type": "execute_result"
    }
   ],
   "source": [
    "len(userhandles)"
   ]
  },
  {
   "cell_type": "code",
   "execution_count": 25,
   "metadata": {},
   "outputs": [],
   "source": [
    "gutenberg_userhandles = extract_userhandles(gutenberg.words())"
   ]
  },
  {
   "cell_type": "code",
   "execution_count": 26,
   "metadata": {},
   "outputs": [
    {
     "data": {
      "text/plain": [
       "3"
      ]
     },
     "execution_count": 26,
     "metadata": {},
     "output_type": "execute_result"
    }
   ],
   "source": [
    "len(gutenberg_userhandles)"
   ]
  },
  {
   "cell_type": "code",
   "execution_count": 220,
   "metadata": {},
   "outputs": [
    {
     "data": {
      "image/png": "[encoded data removed]",
      "text/plain": [
       "<matplotlib.figure.Figure at 0x7fd67bcc8fd0>"
      ]
     },
     "metadata": {},
     "output_type": "display_data"
    }
   ],
   "source": [
    "N = 4\n",
    "ind = np.arange(N)  # the x locations for the groups\n",
    "width = 0.27       # the width of the bars\n",
    "\n",
    "fig = plt.figure()\n",
    "ax = fig.add_subplot(111)\n",
    "\n",
    "yvals = [float(len(emojis))/len(tokens), float(len(hashtags))/len(tokens), float(len(userhandles))/len(tokens), float(len(oov))/len(tokens)]\n",
    "rects1 = ax.bar(ind, yvals, width, color='r')\n",
    "zvals = [float(len(gutenberg_emojis))/len(gutenberg.words()),float(len(gutenberg_hashtags))/float(len(gutenberg.words())),float(len(gutenberg_userhandles))/len(gutenberg.words()), float(len(gutenberg_oov))/len(gutenberg.words())]\n",
    "rects2 = ax.bar(ind+width, zvals, width, color='black')\n",
    "\n",
    "ax.set_ylabel('Fraction')\n",
    "ax.set_xticks(ind+width)\n",
    "labels = [\"emojis\", \"hashtags\", \"userhandles\", \"OOV\"]\n",
    "ax.set_xticklabels(labels, rotation='vertical')\n",
    "ax.legend( (rects1[0], rects2[0]), ('Instagram Corpus', \"Gutenberg Corpus\") )\n",
    "#plt.ylim((0,1))\n",
    "plt.title(\"Noise characteristics of social media compared to literature\")\n",
    "plt.savefig('noise.eps', format='eps', dpi=1000)\n",
    "plt.show()"
   ]
  },
  {
   "cell_type": "code",
   "execution_count": 221,
   "metadata": {},
   "outputs": [
    {
     "data": {
      "text/plain": [
       "[0.15419049941946006,\n",
       " 0.02897059853813804,\n",
       " 0.05903109125320581,\n",
       " 0.45980286711648605]"
      ]
     },
     "execution_count": 221,
     "metadata": {},
     "output_type": "execute_result"
    }
   ],
   "source": [
    "yvals"
   ]
  },
  {
   "cell_type": "code",
   "execution_count": 27,
   "metadata": {},
   "outputs": [],
   "source": [
    "from collections import Counter"
   ]
  },
  {
   "cell_type": "code",
   "execution_count": 28,
   "metadata": {},
   "outputs": [
    {
     "ename": "UnicodeEncodeError",
     "evalue": "'ascii' codec can't encode character u'\\U0001f495' in position 228: ordinal not in range(128)",
     "output_type": "error",
     "traceback": [
      "\u001b[0;31m---------------------------------------------------------------------------\u001b[0m",
      "\u001b[0;31mUnicodeEncodeError\u001b[0m                        Traceback (most recent call last)",
      "\u001b[0;32m/home/kim/anaconda3/envs/snorkel/lib/python2.7/site-packages/IPython/core/formatters.pyc\u001b[0m in \u001b[0;36m__call__\u001b[0;34m(self, obj)\u001b[0m\n\u001b[1;32m    332\u001b[0m                 \u001b[0;32mpass\u001b[0m\u001b[0;34m\u001b[0m\u001b[0m\n\u001b[1;32m    333\u001b[0m             \u001b[0;32melse\u001b[0m\u001b[0;34m:\u001b[0m\u001b[0;34m\u001b[0m\u001b[0m\n\u001b[0;32m--> 334\u001b[0;31m                 \u001b[0;32mreturn\u001b[0m \u001b[0mprinter\u001b[0m\u001b[0;34m(\u001b[0m\u001b[0mobj\u001b[0m\u001b[0;34m)\u001b[0m\u001b[0;34m\u001b[0m\u001b[0m\n\u001b[0m\u001b[1;32m    335\u001b[0m             \u001b[0;31m# Finally look for special method names\u001b[0m\u001b[0;34m\u001b[0m\u001b[0;34m\u001b[0m\u001b[0m\n\u001b[1;32m    336\u001b[0m             \u001b[0mmethod\u001b[0m \u001b[0;34m=\u001b[0m \u001b[0mget_real_method\u001b[0m\u001b[0;34m(\u001b[0m\u001b[0mobj\u001b[0m\u001b[0;34m,\u001b[0m \u001b[0mself\u001b[0m\u001b[0;34m.\u001b[0m\u001b[0mprint_method\u001b[0m\u001b[0;34m)\u001b[0m\u001b[0;34m\u001b[0m\u001b[0m\n",
      "\u001b[0;32m/home/kim/anaconda3/envs/snorkel/lib/python2.7/site-packages/IPython/core/pylabtools.pyc\u001b[0m in \u001b[0;36m<lambda>\u001b[0;34m(fig)\u001b[0m\n\u001b[1;32m    239\u001b[0m \u001b[0;34m\u001b[0m\u001b[0m\n\u001b[1;32m    240\u001b[0m     \u001b[0;32mif\u001b[0m \u001b[0;34m'png'\u001b[0m \u001b[0;32min\u001b[0m \u001b[0mformats\u001b[0m\u001b[0;34m:\u001b[0m\u001b[0;34m\u001b[0m\u001b[0m\n\u001b[0;32m--> 241\u001b[0;31m         \u001b[0mpng_formatter\u001b[0m\u001b[0;34m.\u001b[0m\u001b[0mfor_type\u001b[0m\u001b[0;34m(\u001b[0m\u001b[0mFigure\u001b[0m\u001b[0;34m,\u001b[0m \u001b[0;32mlambda\u001b[0m \u001b[0mfig\u001b[0m\u001b[0;34m:\u001b[0m \u001b[0mprint_figure\u001b[0m\u001b[0;34m(\u001b[0m\u001b[0mfig\u001b[0m\u001b[0;34m,\u001b[0m \u001b[0;34m'png'\u001b[0m\u001b[0;34m,\u001b[0m \u001b[0;34m**\u001b[0m\u001b[0mkwargs\u001b[0m\u001b[0;34m)\u001b[0m\u001b[0;34m)\u001b[0m\u001b[0;34m\u001b[0m\u001b[0m\n\u001b[0m\u001b[1;32m    242\u001b[0m     \u001b[0;32mif\u001b[0m \u001b[0;34m'retina'\u001b[0m \u001b[0;32min\u001b[0m \u001b[0mformats\u001b[0m \u001b[0;32mor\u001b[0m \u001b[0;34m'png2x'\u001b[0m \u001b[0;32min\u001b[0m \u001b[0mformats\u001b[0m\u001b[0;34m:\u001b[0m\u001b[0;34m\u001b[0m\u001b[0m\n\u001b[1;32m    243\u001b[0m         \u001b[0mpng_formatter\u001b[0m\u001b[0;34m.\u001b[0m\u001b[0mfor_type\u001b[0m\u001b[0;34m(\u001b[0m\u001b[0mFigure\u001b[0m\u001b[0;34m,\u001b[0m \u001b[0;32mlambda\u001b[0m \u001b[0mfig\u001b[0m\u001b[0;34m:\u001b[0m \u001b[0mretina_figure\u001b[0m\u001b[0;34m(\u001b[0m\u001b[0mfig\u001b[0m\u001b[0;34m,\u001b[0m \u001b[0;34m**\u001b[0m\u001b[0mkwargs\u001b[0m\u001b[0;34m)\u001b[0m\u001b[0;34m)\u001b[0m\u001b[0;34m\u001b[0m\u001b[0m\n",
      "\u001b[0;32m/home/kim/anaconda3/envs/snorkel/lib/python2.7/site-packages/IPython/core/pylabtools.pyc\u001b[0m in \u001b[0;36mprint_figure\u001b[0;34m(fig, fmt, bbox_inches, **kwargs)\u001b[0m\n\u001b[1;32m    123\u001b[0m \u001b[0;34m\u001b[0m\u001b[0m\n\u001b[1;32m    124\u001b[0m     \u001b[0mbytes_io\u001b[0m \u001b[0;34m=\u001b[0m \u001b[0mBytesIO\u001b[0m\u001b[0;34m(\u001b[0m\u001b[0;34m)\u001b[0m\u001b[0;34m\u001b[0m\u001b[0m\n\u001b[0;32m--> 125\u001b[0;31m     \u001b[0mfig\u001b[0m\u001b[0;34m.\u001b[0m\u001b[0mcanvas\u001b[0m\u001b[0;34m.\u001b[0m\u001b[0mprint_figure\u001b[0m\u001b[0;34m(\u001b[0m\u001b[0mbytes_io\u001b[0m\u001b[0;34m,\u001b[0m \u001b[0;34m**\u001b[0m\u001b[0mkw\u001b[0m\u001b[0;34m)\u001b[0m\u001b[0;34m\u001b[0m\u001b[0m\n\u001b[0m\u001b[1;32m    126\u001b[0m     \u001b[0mdata\u001b[0m \u001b[0;34m=\u001b[0m \u001b[0mbytes_io\u001b[0m\u001b[0;34m.\u001b[0m\u001b[0mgetvalue\u001b[0m\u001b[0;34m(\u001b[0m\u001b[0;34m)\u001b[0m\u001b[0;34m\u001b[0m\u001b[0m\n\u001b[1;32m    127\u001b[0m     \u001b[0;32mif\u001b[0m \u001b[0mfmt\u001b[0m \u001b[0;34m==\u001b[0m \u001b[0;34m'svg'\u001b[0m\u001b[0;34m:\u001b[0m\u001b[0;34m\u001b[0m\u001b[0m\n",
      "\u001b[0;32m/home/kim/anaconda3/envs/snorkel/lib/python2.7/site-packages/matplotlib/backend_bases.pyc\u001b[0m in \u001b[0;36mprint_figure\u001b[0;34m(self, filename, dpi, facecolor, edgecolor, orientation, format, **kwargs)\u001b[0m\n\u001b[1;32m   2214\u001b[0m                     \u001b[0morientation\u001b[0m\u001b[0;34m=\u001b[0m\u001b[0morientation\u001b[0m\u001b[0;34m,\u001b[0m\u001b[0;34m\u001b[0m\u001b[0m\n\u001b[1;32m   2215\u001b[0m                     \u001b[0mdryrun\u001b[0m\u001b[0;34m=\u001b[0m\u001b[0mTrue\u001b[0m\u001b[0;34m,\u001b[0m\u001b[0;34m\u001b[0m\u001b[0m\n\u001b[0;32m-> 2216\u001b[0;31m                     **kwargs)\n\u001b[0m\u001b[1;32m   2217\u001b[0m                 \u001b[0mrenderer\u001b[0m \u001b[0;34m=\u001b[0m \u001b[0mself\u001b[0m\u001b[0;34m.\u001b[0m\u001b[0mfigure\u001b[0m\u001b[0;34m.\u001b[0m\u001b[0m_cachedRenderer\u001b[0m\u001b[0;34m\u001b[0m\u001b[0m\n\u001b[1;32m   2218\u001b[0m                 \u001b[0mbbox_inches\u001b[0m \u001b[0;34m=\u001b[0m \u001b[0mself\u001b[0m\u001b[0;34m.\u001b[0m\u001b[0mfigure\u001b[0m\u001b[0;34m.\u001b[0m\u001b[0mget_tightbbox\u001b[0m\u001b[0;34m(\u001b[0m\u001b[0mrenderer\u001b[0m\u001b[0;34m)\u001b[0m\u001b[0;34m\u001b[0m\u001b[0m\n",
      "\u001b[0;32m/home/kim/anaconda3/envs/snorkel/lib/python2.7/site-packages/matplotlib/backends/backend_agg.pyc\u001b[0m in \u001b[0;36mprint_png\u001b[0;34m(self, filename_or_obj, *args, **kwargs)\u001b[0m\n\u001b[1;32m    505\u001b[0m \u001b[0;34m\u001b[0m\u001b[0m\n\u001b[1;32m    506\u001b[0m     \u001b[0;32mdef\u001b[0m \u001b[0mprint_png\u001b[0m\u001b[0;34m(\u001b[0m\u001b[0mself\u001b[0m\u001b[0;34m,\u001b[0m \u001b[0mfilename_or_obj\u001b[0m\u001b[0;34m,\u001b[0m \u001b[0;34m*\u001b[0m\u001b[0margs\u001b[0m\u001b[0;34m,\u001b[0m \u001b[0;34m**\u001b[0m\u001b[0mkwargs\u001b[0m\u001b[0;34m)\u001b[0m\u001b[0;34m:\u001b[0m\u001b[0;34m\u001b[0m\u001b[0m\n\u001b[0;32m--> 507\u001b[0;31m         \u001b[0mFigureCanvasAgg\u001b[0m\u001b[0;34m.\u001b[0m\u001b[0mdraw\u001b[0m\u001b[0;34m(\u001b[0m\u001b[0mself\u001b[0m\u001b[0;34m)\u001b[0m\u001b[0;34m\u001b[0m\u001b[0m\n\u001b[0m\u001b[1;32m    508\u001b[0m         \u001b[0mrenderer\u001b[0m \u001b[0;34m=\u001b[0m \u001b[0mself\u001b[0m\u001b[0;34m.\u001b[0m\u001b[0mget_renderer\u001b[0m\u001b[0;34m(\u001b[0m\u001b[0;34m)\u001b[0m\u001b[0;34m\u001b[0m\u001b[0m\n\u001b[1;32m    509\u001b[0m         \u001b[0moriginal_dpi\u001b[0m \u001b[0;34m=\u001b[0m \u001b[0mrenderer\u001b[0m\u001b[0;34m.\u001b[0m\u001b[0mdpi\u001b[0m\u001b[0;34m\u001b[0m\u001b[0m\n",
      "\u001b[0;32m/home/kim/anaconda3/envs/snorkel/lib/python2.7/site-packages/matplotlib/backends/backend_agg.pyc\u001b[0m in \u001b[0;36mdraw\u001b[0;34m(self)\u001b[0m\n\u001b[1;32m    428\u001b[0m             \u001b[0;31m# if toolbar:\u001b[0m\u001b[0;34m\u001b[0m\u001b[0;34m\u001b[0m\u001b[0m\n\u001b[1;32m    429\u001b[0m             \u001b[0;31m#     toolbar.set_cursor(cursors.WAIT)\u001b[0m\u001b[0;34m\u001b[0m\u001b[0;34m\u001b[0m\u001b[0m\n\u001b[0;32m--> 430\u001b[0;31m             \u001b[0mself\u001b[0m\u001b[0;34m.\u001b[0m\u001b[0mfigure\u001b[0m\u001b[0;34m.\u001b[0m\u001b[0mdraw\u001b[0m\u001b[0;34m(\u001b[0m\u001b[0mself\u001b[0m\u001b[0;34m.\u001b[0m\u001b[0mrenderer\u001b[0m\u001b[0;34m)\u001b[0m\u001b[0;34m\u001b[0m\u001b[0m\n\u001b[0m\u001b[1;32m    431\u001b[0m         \u001b[0;32mfinally\u001b[0m\u001b[0;34m:\u001b[0m\u001b[0;34m\u001b[0m\u001b[0m\n\u001b[1;32m    432\u001b[0m             \u001b[0;31m# if toolbar:\u001b[0m\u001b[0;34m\u001b[0m\u001b[0;34m\u001b[0m\u001b[0m\n",
      "\u001b[0;32m/home/kim/anaconda3/envs/snorkel/lib/python2.7/site-packages/matplotlib/artist.pyc\u001b[0m in \u001b[0;36mdraw_wrapper\u001b[0;34m(artist, renderer, *args, **kwargs)\u001b[0m\n\u001b[1;32m     53\u001b[0m                 \u001b[0mrenderer\u001b[0m\u001b[0;34m.\u001b[0m\u001b[0mstart_filter\u001b[0m\u001b[0;34m(\u001b[0m\u001b[0;34m)\u001b[0m\u001b[0;34m\u001b[0m\u001b[0m\n\u001b[1;32m     54\u001b[0m \u001b[0;34m\u001b[0m\u001b[0m\n\u001b[0;32m---> 55\u001b[0;31m             \u001b[0;32mreturn\u001b[0m \u001b[0mdraw\u001b[0m\u001b[0;34m(\u001b[0m\u001b[0martist\u001b[0m\u001b[0;34m,\u001b[0m \u001b[0mrenderer\u001b[0m\u001b[0;34m,\u001b[0m \u001b[0;34m*\u001b[0m\u001b[0margs\u001b[0m\u001b[0;34m,\u001b[0m \u001b[0;34m**\u001b[0m\u001b[0mkwargs\u001b[0m\u001b[0;34m)\u001b[0m\u001b[0;34m\u001b[0m\u001b[0m\n\u001b[0m\u001b[1;32m     56\u001b[0m         \u001b[0;32mfinally\u001b[0m\u001b[0;34m:\u001b[0m\u001b[0;34m\u001b[0m\u001b[0m\n\u001b[1;32m     57\u001b[0m             \u001b[0;32mif\u001b[0m \u001b[0martist\u001b[0m\u001b[0;34m.\u001b[0m\u001b[0mget_agg_filter\u001b[0m\u001b[0;34m(\u001b[0m\u001b[0;34m)\u001b[0m \u001b[0;32mis\u001b[0m \u001b[0;32mnot\u001b[0m \u001b[0mNone\u001b[0m\u001b[0;34m:\u001b[0m\u001b[0;34m\u001b[0m\u001b[0m\n",
      "\u001b[0;32m/home/kim/anaconda3/envs/snorkel/lib/python2.7/site-packages/matplotlib/figure.pyc\u001b[0m in \u001b[0;36mdraw\u001b[0;34m(self, renderer)\u001b[0m\n\u001b[1;32m   1297\u001b[0m \u001b[0;34m\u001b[0m\u001b[0m\n\u001b[1;32m   1298\u001b[0m             mimage._draw_list_compositing_images(\n\u001b[0;32m-> 1299\u001b[0;31m                 renderer, self, artists, self.suppressComposite)\n\u001b[0m\u001b[1;32m   1300\u001b[0m \u001b[0;34m\u001b[0m\u001b[0m\n\u001b[1;32m   1301\u001b[0m             \u001b[0mrenderer\u001b[0m\u001b[0;34m.\u001b[0m\u001b[0mclose_group\u001b[0m\u001b[0;34m(\u001b[0m\u001b[0;34m'figure'\u001b[0m\u001b[0;34m)\u001b[0m\u001b[0;34m\u001b[0m\u001b[0m\n",
      "\u001b[0;32m/home/kim/anaconda3/envs/snorkel/lib/python2.7/site-packages/matplotlib/image.pyc\u001b[0m in \u001b[0;36m_draw_list_compositing_images\u001b[0;34m(renderer, parent, artists, suppress_composite)\u001b[0m\n\u001b[1;32m    136\u001b[0m     \u001b[0;32mif\u001b[0m \u001b[0mnot_composite\u001b[0m \u001b[0;32mor\u001b[0m \u001b[0;32mnot\u001b[0m \u001b[0mhas_images\u001b[0m\u001b[0;34m:\u001b[0m\u001b[0;34m\u001b[0m\u001b[0m\n\u001b[1;32m    137\u001b[0m         \u001b[0;32mfor\u001b[0m \u001b[0ma\u001b[0m \u001b[0;32min\u001b[0m \u001b[0martists\u001b[0m\u001b[0;34m:\u001b[0m\u001b[0;34m\u001b[0m\u001b[0m\n\u001b[0;32m--> 138\u001b[0;31m             \u001b[0ma\u001b[0m\u001b[0;34m.\u001b[0m\u001b[0mdraw\u001b[0m\u001b[0;34m(\u001b[0m\u001b[0mrenderer\u001b[0m\u001b[0;34m)\u001b[0m\u001b[0;34m\u001b[0m\u001b[0m\n\u001b[0m\u001b[1;32m    139\u001b[0m     \u001b[0;32melse\u001b[0m\u001b[0;34m:\u001b[0m\u001b[0;34m\u001b[0m\u001b[0m\n\u001b[1;32m    140\u001b[0m         \u001b[0;31m# Composite any adjacent images together\u001b[0m\u001b[0;34m\u001b[0m\u001b[0;34m\u001b[0m\u001b[0m\n",
      "\u001b[0;32m/home/kim/anaconda3/envs/snorkel/lib/python2.7/site-packages/matplotlib/artist.pyc\u001b[0m in \u001b[0;36mdraw_wrapper\u001b[0;34m(artist, renderer, *args, **kwargs)\u001b[0m\n\u001b[1;32m     53\u001b[0m                 \u001b[0mrenderer\u001b[0m\u001b[0;34m.\u001b[0m\u001b[0mstart_filter\u001b[0m\u001b[0;34m(\u001b[0m\u001b[0;34m)\u001b[0m\u001b[0;34m\u001b[0m\u001b[0m\n\u001b[1;32m     54\u001b[0m \u001b[0;34m\u001b[0m\u001b[0m\n\u001b[0;32m---> 55\u001b[0;31m             \u001b[0;32mreturn\u001b[0m \u001b[0mdraw\u001b[0m\u001b[0;34m(\u001b[0m\u001b[0martist\u001b[0m\u001b[0;34m,\u001b[0m \u001b[0mrenderer\u001b[0m\u001b[0;34m,\u001b[0m \u001b[0;34m*\u001b[0m\u001b[0margs\u001b[0m\u001b[0;34m,\u001b[0m \u001b[0;34m**\u001b[0m\u001b[0mkwargs\u001b[0m\u001b[0;34m)\u001b[0m\u001b[0;34m\u001b[0m\u001b[0m\n\u001b[0m\u001b[1;32m     56\u001b[0m         \u001b[0;32mfinally\u001b[0m\u001b[0;34m:\u001b[0m\u001b[0;34m\u001b[0m\u001b[0m\n\u001b[1;32m     57\u001b[0m             \u001b[0;32mif\u001b[0m \u001b[0martist\u001b[0m\u001b[0;34m.\u001b[0m\u001b[0mget_agg_filter\u001b[0m\u001b[0;34m(\u001b[0m\u001b[0;34m)\u001b[0m \u001b[0;32mis\u001b[0m \u001b[0;32mnot\u001b[0m \u001b[0mNone\u001b[0m\u001b[0;34m:\u001b[0m\u001b[0;34m\u001b[0m\u001b[0m\n",
      "\u001b[0;32m/home/kim/anaconda3/envs/snorkel/lib/python2.7/site-packages/matplotlib/axes/_base.pyc\u001b[0m in \u001b[0;36mdraw\u001b[0;34m(self, renderer, inframe)\u001b[0m\n\u001b[1;32m   2435\u001b[0m             \u001b[0mrenderer\u001b[0m\u001b[0;34m.\u001b[0m\u001b[0mstop_rasterizing\u001b[0m\u001b[0;34m(\u001b[0m\u001b[0;34m)\u001b[0m\u001b[0;34m\u001b[0m\u001b[0m\n\u001b[1;32m   2436\u001b[0m \u001b[0;34m\u001b[0m\u001b[0m\n\u001b[0;32m-> 2437\u001b[0;31m         \u001b[0mmimage\u001b[0m\u001b[0;34m.\u001b[0m\u001b[0m_draw_list_compositing_images\u001b[0m\u001b[0;34m(\u001b[0m\u001b[0mrenderer\u001b[0m\u001b[0;34m,\u001b[0m \u001b[0mself\u001b[0m\u001b[0;34m,\u001b[0m \u001b[0martists\u001b[0m\u001b[0;34m)\u001b[0m\u001b[0;34m\u001b[0m\u001b[0m\n\u001b[0m\u001b[1;32m   2438\u001b[0m \u001b[0;34m\u001b[0m\u001b[0m\n\u001b[1;32m   2439\u001b[0m         \u001b[0mrenderer\u001b[0m\u001b[0;34m.\u001b[0m\u001b[0mclose_group\u001b[0m\u001b[0;34m(\u001b[0m\u001b[0;34m'axes'\u001b[0m\u001b[0;34m)\u001b[0m\u001b[0;34m\u001b[0m\u001b[0m\n",
      "\u001b[0;32m/home/kim/anaconda3/envs/snorkel/lib/python2.7/site-packages/matplotlib/image.pyc\u001b[0m in \u001b[0;36m_draw_list_compositing_images\u001b[0;34m(renderer, parent, artists, suppress_composite)\u001b[0m\n\u001b[1;32m    136\u001b[0m     \u001b[0;32mif\u001b[0m \u001b[0mnot_composite\u001b[0m \u001b[0;32mor\u001b[0m \u001b[0;32mnot\u001b[0m \u001b[0mhas_images\u001b[0m\u001b[0;34m:\u001b[0m\u001b[0;34m\u001b[0m\u001b[0m\n\u001b[1;32m    137\u001b[0m         \u001b[0;32mfor\u001b[0m \u001b[0ma\u001b[0m \u001b[0;32min\u001b[0m \u001b[0martists\u001b[0m\u001b[0;34m:\u001b[0m\u001b[0;34m\u001b[0m\u001b[0m\n\u001b[0;32m--> 138\u001b[0;31m             \u001b[0ma\u001b[0m\u001b[0;34m.\u001b[0m\u001b[0mdraw\u001b[0m\u001b[0;34m(\u001b[0m\u001b[0mrenderer\u001b[0m\u001b[0;34m)\u001b[0m\u001b[0;34m\u001b[0m\u001b[0m\n\u001b[0m\u001b[1;32m    139\u001b[0m     \u001b[0;32melse\u001b[0m\u001b[0;34m:\u001b[0m\u001b[0;34m\u001b[0m\u001b[0m\n\u001b[1;32m    140\u001b[0m         \u001b[0;31m# Composite any adjacent images together\u001b[0m\u001b[0;34m\u001b[0m\u001b[0;34m\u001b[0m\u001b[0m\n",
      "\u001b[0;32m/home/kim/anaconda3/envs/snorkel/lib/python2.7/site-packages/matplotlib/artist.pyc\u001b[0m in \u001b[0;36mdraw_wrapper\u001b[0;34m(artist, renderer, *args, **kwargs)\u001b[0m\n\u001b[1;32m     53\u001b[0m                 \u001b[0mrenderer\u001b[0m\u001b[0;34m.\u001b[0m\u001b[0mstart_filter\u001b[0m\u001b[0;34m(\u001b[0m\u001b[0;34m)\u001b[0m\u001b[0;34m\u001b[0m\u001b[0m\n\u001b[1;32m     54\u001b[0m \u001b[0;34m\u001b[0m\u001b[0m\n\u001b[0;32m---> 55\u001b[0;31m             \u001b[0;32mreturn\u001b[0m \u001b[0mdraw\u001b[0m\u001b[0;34m(\u001b[0m\u001b[0martist\u001b[0m\u001b[0;34m,\u001b[0m \u001b[0mrenderer\u001b[0m\u001b[0;34m,\u001b[0m \u001b[0;34m*\u001b[0m\u001b[0margs\u001b[0m\u001b[0;34m,\u001b[0m \u001b[0;34m**\u001b[0m\u001b[0mkwargs\u001b[0m\u001b[0;34m)\u001b[0m\u001b[0;34m\u001b[0m\u001b[0m\n\u001b[0m\u001b[1;32m     56\u001b[0m         \u001b[0;32mfinally\u001b[0m\u001b[0;34m:\u001b[0m\u001b[0;34m\u001b[0m\u001b[0m\n\u001b[1;32m     57\u001b[0m             \u001b[0;32mif\u001b[0m \u001b[0martist\u001b[0m\u001b[0;34m.\u001b[0m\u001b[0mget_agg_filter\u001b[0m\u001b[0;34m(\u001b[0m\u001b[0;34m)\u001b[0m \u001b[0;32mis\u001b[0m \u001b[0;32mnot\u001b[0m \u001b[0mNone\u001b[0m\u001b[0;34m:\u001b[0m\u001b[0;34m\u001b[0m\u001b[0m\n",
      "\u001b[0;32m/home/kim/anaconda3/envs/snorkel/lib/python2.7/site-packages/matplotlib/axis.pyc\u001b[0m in \u001b[0;36mdraw\u001b[0;34m(self, renderer, *args, **kwargs)\u001b[0m\n\u001b[1;32m   1133\u001b[0m         \u001b[0mticks_to_draw\u001b[0m \u001b[0;34m=\u001b[0m \u001b[0mself\u001b[0m\u001b[0;34m.\u001b[0m\u001b[0m_update_ticks\u001b[0m\u001b[0;34m(\u001b[0m\u001b[0mrenderer\u001b[0m\u001b[0;34m)\u001b[0m\u001b[0;34m\u001b[0m\u001b[0m\n\u001b[1;32m   1134\u001b[0m         ticklabelBoxes, ticklabelBoxes2 = self._get_tick_bboxes(ticks_to_draw,\n\u001b[0;32m-> 1135\u001b[0;31m                                                                 renderer)\n\u001b[0m\u001b[1;32m   1136\u001b[0m \u001b[0;34m\u001b[0m\u001b[0m\n\u001b[1;32m   1137\u001b[0m         \u001b[0;32mfor\u001b[0m \u001b[0mtick\u001b[0m \u001b[0;32min\u001b[0m \u001b[0mticks_to_draw\u001b[0m\u001b[0;34m:\u001b[0m\u001b[0;34m\u001b[0m\u001b[0m\n",
      "\u001b[0;32m/home/kim/anaconda3/envs/snorkel/lib/python2.7/site-packages/matplotlib/axis.pyc\u001b[0m in \u001b[0;36m_get_tick_bboxes\u001b[0;34m(self, ticks, renderer)\u001b[0m\n\u001b[1;32m   1073\u001b[0m         \u001b[0;32mfor\u001b[0m \u001b[0mtick\u001b[0m \u001b[0;32min\u001b[0m \u001b[0mticks\u001b[0m\u001b[0;34m:\u001b[0m\u001b[0;34m\u001b[0m\u001b[0m\n\u001b[1;32m   1074\u001b[0m             \u001b[0;32mif\u001b[0m \u001b[0mtick\u001b[0m\u001b[0;34m.\u001b[0m\u001b[0mlabel1On\u001b[0m \u001b[0;32mand\u001b[0m \u001b[0mtick\u001b[0m\u001b[0;34m.\u001b[0m\u001b[0mlabel1\u001b[0m\u001b[0;34m.\u001b[0m\u001b[0mget_visible\u001b[0m\u001b[0;34m(\u001b[0m\u001b[0;34m)\u001b[0m\u001b[0;34m:\u001b[0m\u001b[0;34m\u001b[0m\u001b[0m\n\u001b[0;32m-> 1075\u001b[0;31m                 \u001b[0mextent\u001b[0m \u001b[0;34m=\u001b[0m \u001b[0mtick\u001b[0m\u001b[0;34m.\u001b[0m\u001b[0mlabel1\u001b[0m\u001b[0;34m.\u001b[0m\u001b[0mget_window_extent\u001b[0m\u001b[0;34m(\u001b[0m\u001b[0mrenderer\u001b[0m\u001b[0;34m)\u001b[0m\u001b[0;34m\u001b[0m\u001b[0m\n\u001b[0m\u001b[1;32m   1076\u001b[0m                 \u001b[0mticklabelBoxes\u001b[0m\u001b[0;34m.\u001b[0m\u001b[0mappend\u001b[0m\u001b[0;34m(\u001b[0m\u001b[0mextent\u001b[0m\u001b[0;34m)\u001b[0m\u001b[0;34m\u001b[0m\u001b[0m\n\u001b[1;32m   1077\u001b[0m             \u001b[0;32mif\u001b[0m \u001b[0mtick\u001b[0m\u001b[0;34m.\u001b[0m\u001b[0mlabel2On\u001b[0m \u001b[0;32mand\u001b[0m \u001b[0mtick\u001b[0m\u001b[0;34m.\u001b[0m\u001b[0mlabel2\u001b[0m\u001b[0;34m.\u001b[0m\u001b[0mget_visible\u001b[0m\u001b[0;34m(\u001b[0m\u001b[0;34m)\u001b[0m\u001b[0;34m:\u001b[0m\u001b[0;34m\u001b[0m\u001b[0m\n",
      "\u001b[0;32m/home/kim/anaconda3/envs/snorkel/lib/python2.7/site-packages/matplotlib/text.pyc\u001b[0m in \u001b[0;36mget_window_extent\u001b[0;34m(self, renderer, dpi)\u001b[0m\n\u001b[1;32m    931\u001b[0m             \u001b[0;32mraise\u001b[0m \u001b[0mRuntimeError\u001b[0m\u001b[0;34m(\u001b[0m\u001b[0;34m'Cannot get window extent w/o renderer'\u001b[0m\u001b[0;34m)\u001b[0m\u001b[0;34m\u001b[0m\u001b[0m\n\u001b[1;32m    932\u001b[0m \u001b[0;34m\u001b[0m\u001b[0m\n\u001b[0;32m--> 933\u001b[0;31m         \u001b[0mbbox\u001b[0m\u001b[0;34m,\u001b[0m \u001b[0minfo\u001b[0m\u001b[0;34m,\u001b[0m \u001b[0mdescent\u001b[0m \u001b[0;34m=\u001b[0m \u001b[0mself\u001b[0m\u001b[0;34m.\u001b[0m\u001b[0m_get_layout\u001b[0m\u001b[0;34m(\u001b[0m\u001b[0mself\u001b[0m\u001b[0;34m.\u001b[0m\u001b[0m_renderer\u001b[0m\u001b[0;34m)\u001b[0m\u001b[0;34m\u001b[0m\u001b[0m\n\u001b[0m\u001b[1;32m    934\u001b[0m         \u001b[0mx\u001b[0m\u001b[0;34m,\u001b[0m \u001b[0my\u001b[0m \u001b[0;34m=\u001b[0m \u001b[0mself\u001b[0m\u001b[0;34m.\u001b[0m\u001b[0mget_unitless_position\u001b[0m\u001b[0;34m(\u001b[0m\u001b[0;34m)\u001b[0m\u001b[0;34m\u001b[0m\u001b[0m\n\u001b[1;32m    935\u001b[0m         \u001b[0mx\u001b[0m\u001b[0;34m,\u001b[0m \u001b[0my\u001b[0m \u001b[0;34m=\u001b[0m \u001b[0mself\u001b[0m\u001b[0;34m.\u001b[0m\u001b[0mget_transform\u001b[0m\u001b[0;34m(\u001b[0m\u001b[0;34m)\u001b[0m\u001b[0;34m.\u001b[0m\u001b[0mtransform_point\u001b[0m\u001b[0;34m(\u001b[0m\u001b[0;34m(\u001b[0m\u001b[0mx\u001b[0m\u001b[0;34m,\u001b[0m \u001b[0my\u001b[0m\u001b[0;34m)\u001b[0m\u001b[0;34m)\u001b[0m\u001b[0;34m\u001b[0m\u001b[0m\n",
      "\u001b[0;32m/home/kim/anaconda3/envs/snorkel/lib/python2.7/site-packages/matplotlib/text.pyc\u001b[0m in \u001b[0;36m_get_layout\u001b[0;34m(self, renderer)\u001b[0m\n\u001b[1;32m    315\u001b[0m                 w, h, d = renderer.get_text_width_height_descent(clean_line,\n\u001b[1;32m    316\u001b[0m                                                         \u001b[0mself\u001b[0m\u001b[0;34m.\u001b[0m\u001b[0m_fontproperties\u001b[0m\u001b[0;34m,\u001b[0m\u001b[0;34m\u001b[0m\u001b[0m\n\u001b[0;32m--> 317\u001b[0;31m                                                         ismath=ismath)\n\u001b[0m\u001b[1;32m    318\u001b[0m             \u001b[0;32melse\u001b[0m\u001b[0;34m:\u001b[0m\u001b[0;34m\u001b[0m\u001b[0m\n\u001b[1;32m    319\u001b[0m                 \u001b[0mw\u001b[0m\u001b[0;34m,\u001b[0m \u001b[0mh\u001b[0m\u001b[0;34m,\u001b[0m \u001b[0md\u001b[0m \u001b[0;34m=\u001b[0m \u001b[0;36m0\u001b[0m\u001b[0;34m,\u001b[0m \u001b[0;36m0\u001b[0m\u001b[0;34m,\u001b[0m \u001b[0;36m0\u001b[0m\u001b[0;34m\u001b[0m\u001b[0m\n",
      "\u001b[0;32m/home/kim/anaconda3/envs/snorkel/lib/python2.7/site-packages/matplotlib/backends/backend_agg.pyc\u001b[0m in \u001b[0;36mget_text_width_height_descent\u001b[0;34m(self, s, prop, ismath)\u001b[0m\n\u001b[1;32m    224\u001b[0m             \u001b[0mfontsize\u001b[0m \u001b[0;34m=\u001b[0m \u001b[0mprop\u001b[0m\u001b[0;34m.\u001b[0m\u001b[0mget_size_in_points\u001b[0m\u001b[0;34m(\u001b[0m\u001b[0;34m)\u001b[0m\u001b[0;34m\u001b[0m\u001b[0m\n\u001b[1;32m    225\u001b[0m             w, h, d = texmanager.get_text_width_height_descent(\n\u001b[0;32m--> 226\u001b[0;31m                 s, fontsize, renderer=self)\n\u001b[0m\u001b[1;32m    227\u001b[0m             \u001b[0;32mreturn\u001b[0m \u001b[0mw\u001b[0m\u001b[0;34m,\u001b[0m \u001b[0mh\u001b[0m\u001b[0;34m,\u001b[0m \u001b[0md\u001b[0m\u001b[0;34m\u001b[0m\u001b[0m\n\u001b[1;32m    228\u001b[0m \u001b[0;34m\u001b[0m\u001b[0m\n",
      "\u001b[0;32m/home/kim/anaconda3/envs/snorkel/lib/python2.7/site-packages/matplotlib/texmanager.pyc\u001b[0m in \u001b[0;36mget_text_width_height_descent\u001b[0;34m(self, tex, fontsize, renderer)\u001b[0m\n\u001b[1;32m    600\u001b[0m         \u001b[0;32melse\u001b[0m\u001b[0;34m:\u001b[0m\u001b[0;34m\u001b[0m\u001b[0m\n\u001b[1;32m    601\u001b[0m             \u001b[0;31m# use dviread. It sometimes returns a wrong descent.\u001b[0m\u001b[0;34m\u001b[0m\u001b[0;34m\u001b[0m\u001b[0m\n\u001b[0;32m--> 602\u001b[0;31m             \u001b[0mdvifile\u001b[0m \u001b[0;34m=\u001b[0m \u001b[0mself\u001b[0m\u001b[0;34m.\u001b[0m\u001b[0mmake_dvi\u001b[0m\u001b[0;34m(\u001b[0m\u001b[0mtex\u001b[0m\u001b[0;34m,\u001b[0m \u001b[0mfontsize\u001b[0m\u001b[0;34m)\u001b[0m\u001b[0;34m\u001b[0m\u001b[0m\n\u001b[0m\u001b[1;32m    603\u001b[0m             \u001b[0;32mwith\u001b[0m \u001b[0mdviread\u001b[0m\u001b[0;34m.\u001b[0m\u001b[0mDvi\u001b[0m\u001b[0;34m(\u001b[0m\u001b[0mdvifile\u001b[0m\u001b[0;34m,\u001b[0m \u001b[0;36m72\u001b[0m \u001b[0;34m*\u001b[0m \u001b[0mdpi_fraction\u001b[0m\u001b[0;34m)\u001b[0m \u001b[0;32mas\u001b[0m \u001b[0mdvi\u001b[0m\u001b[0;34m:\u001b[0m\u001b[0;34m\u001b[0m\u001b[0m\n\u001b[1;32m    604\u001b[0m                 \u001b[0mpage\u001b[0m \u001b[0;34m=\u001b[0m \u001b[0mnext\u001b[0m\u001b[0;34m(\u001b[0m\u001b[0miter\u001b[0m\u001b[0;34m(\u001b[0m\u001b[0mdvi\u001b[0m\u001b[0;34m)\u001b[0m\u001b[0;34m)\u001b[0m\u001b[0;34m\u001b[0m\u001b[0m\n",
      "\u001b[0;32m/home/kim/anaconda3/envs/snorkel/lib/python2.7/site-packages/matplotlib/texmanager.pyc\u001b[0m in \u001b[0;36mmake_dvi\u001b[0;34m(self, tex, fontsize)\u001b[0m\n\u001b[1;32m    383\u001b[0m \u001b[0;34m\u001b[0m\u001b[0m\n\u001b[1;32m    384\u001b[0m         \u001b[0;32mif\u001b[0m \u001b[0mDEBUG\u001b[0m \u001b[0;32mor\u001b[0m \u001b[0;32mnot\u001b[0m \u001b[0mos\u001b[0m\u001b[0;34m.\u001b[0m\u001b[0mpath\u001b[0m\u001b[0;34m.\u001b[0m\u001b[0mexists\u001b[0m\u001b[0;34m(\u001b[0m\u001b[0mdvifile\u001b[0m\u001b[0;34m)\u001b[0m\u001b[0;34m:\u001b[0m\u001b[0;34m\u001b[0m\u001b[0m\n\u001b[0;32m--> 385\u001b[0;31m             \u001b[0mtexfile\u001b[0m \u001b[0;34m=\u001b[0m \u001b[0mself\u001b[0m\u001b[0;34m.\u001b[0m\u001b[0mmake_tex\u001b[0m\u001b[0;34m(\u001b[0m\u001b[0mtex\u001b[0m\u001b[0;34m,\u001b[0m \u001b[0mfontsize\u001b[0m\u001b[0;34m)\u001b[0m\u001b[0;34m\u001b[0m\u001b[0m\n\u001b[0m\u001b[1;32m    386\u001b[0m             command = [str(\"latex\"), \"-interaction=nonstopmode\",\n\u001b[1;32m    387\u001b[0m                        os.path.basename(texfile)]\n",
      "\u001b[0;32m/home/kim/anaconda3/envs/snorkel/lib/python2.7/site-packages/matplotlib/texmanager.pyc\u001b[0m in \u001b[0;36mmake_tex\u001b[0;34m(self, tex, fontsize)\u001b[0m\n\u001b[1;32m    298\u001b[0m             \u001b[0;32melse\u001b[0m\u001b[0;34m:\u001b[0m\u001b[0;34m\u001b[0m\u001b[0m\n\u001b[1;32m    299\u001b[0m                 \u001b[0;32mtry\u001b[0m\u001b[0;34m:\u001b[0m\u001b[0;34m\u001b[0m\u001b[0m\n\u001b[0;32m--> 300\u001b[0;31m                     \u001b[0mfh\u001b[0m\u001b[0;34m.\u001b[0m\u001b[0mwrite\u001b[0m\u001b[0;34m(\u001b[0m\u001b[0ms\u001b[0m\u001b[0;34m.\u001b[0m\u001b[0mencode\u001b[0m\u001b[0;34m(\u001b[0m\u001b[0;34m'ascii'\u001b[0m\u001b[0;34m)\u001b[0m\u001b[0;34m)\u001b[0m\u001b[0;34m\u001b[0m\u001b[0m\n\u001b[0m\u001b[1;32m    301\u001b[0m                 \u001b[0;32mexcept\u001b[0m \u001b[0mUnicodeEncodeError\u001b[0m \u001b[0;32mas\u001b[0m \u001b[0merr\u001b[0m\u001b[0;34m:\u001b[0m\u001b[0;34m\u001b[0m\u001b[0m\n\u001b[1;32m    302\u001b[0m                     mpl.verbose.report(\"You are using unicode and latex, but \"\n",
      "\u001b[0;31mUnicodeEncodeError\u001b[0m: 'ascii' codec can't encode character u'\\U0001f495' in position 228: ordinal not in range(128)"
     ]
    },
    {
     "data": {
      "text/plain": [
       "<matplotlib.figure.Figure at 0x7f945fae1a50>"
      ]
     },
     "metadata": {},
     "output_type": "display_data"
    }
   ],
   "source": [
    "labels, values = zip(*Counter(emojis[0:10]).items())\n",
    "#indexes = np.arange(len(labels))\n",
    "width = 1\n",
    "plt.bar(labels, values, width)\n",
    "plt.ylabel('Number of posts')\n",
    "plt.xlabel('Number of candidate items')\n",
    "plt.title(r'Histogram over number of candidate items in text for different posts')\n",
    "#plt.savefig('figures/candidate_items_hist.pdf', format='pdf', dpi=1000)\n",
    "plt.show()"
   ]
  },
  {
   "cell_type": "code",
   "execution_count": 29,
   "metadata": {},
   "outputs": [
    {
     "name": "stdout",
     "output_type": "stream",
     "text": [
      "💙\n"
     ]
    }
   ],
   "source": [
    "print(labels[0].encode(\"utf-8\"))"
   ]
  },
  {
   "cell_type": "code",
   "execution_count": 30,
   "metadata": {},
   "outputs": [],
   "source": [
    "plt.rcParams.update(plt.rcParamsDefault)"
   ]
  },
  {
   "cell_type": "code",
   "execution_count": 32,
   "metadata": {},
   "outputs": [],
   "source": [
    "#emojis[0:10]\n",
    "#emojis2 = map(lambda x: x.encode(\"utf-8\"), emojis)\n",
    "#print(type(emojis2[0]))\n",
    "#print(type(emojis[0]))"
   ]
  },
  {
   "cell_type": "code",
   "execution_count": 39,
   "metadata": {},
   "outputs": [],
   "source": [
    "emojis = filter(lambda x: not x == not1 and not x == not2, emojis)"
   ]
  },
  {
   "cell_type": "code",
   "execution_count": 40,
   "metadata": {},
   "outputs": [
    {
     "data": {
      "image/png": "[encoded data removed]",
      "text/plain": [
       "<matplotlib.figure.Figure at 0x7f9408ce5e50>"
      ]
     },
     "metadata": {},
     "output_type": "display_data"
    }
   ],
   "source": [
    "labels, values = zip(*Counter(emojis).most_common(10))\n",
    "ax = plt.subplot(111)\n",
    "ax.bar(range(0,10), values[0:10])\n",
    "for label, x, y in zip(labels[0:10], range(0,10), values[0:10]):\n",
    "    plt.annotate(\n",
    "        label, \n",
    "        xy=(x, y), xytext=(10,10),\n",
    "        textcoords='offset points', ha='right', va='bottom',\n",
    "        bbox=dict(boxstyle='round,pad=0.5', alpha=0),\n",
    "        fontname=\"Symbola\",\n",
    "        #fontname='Segoe UI Emoji',\n",
    "        fontsize=15)\n",
    "\n",
    "ax.spines['right'].set_visible(False)\n",
    "ax.spines['top'].set_visible(False)\n",
    "ax.set_ylabel('Occurrences')\n",
    "ax.set_xticks([])\n",
    "plt.tight_layout()\n",
    "plt.savefig('emojis.eps', format='eps', dpi=1000)\n",
    "plt.show()"
   ]
  },
  {
   "cell_type": "code",
   "execution_count": 41,
   "metadata": {},
   "outputs": [
    {
     "data": {
      "text/plain": [
       "[(u'!', 5214505),\n",
       " (u'\\U0001f60d', 1978899),\n",
       " (u'love', 1182469),\n",
       " (u'\\ufe0f', 1026162),\n",
       " (u'\\u2764', 1008489),\n",
       " (u'the', 945839),\n",
       " (u'.', 907156),\n",
       " (u'this', 885230),\n",
       " (u'you', 872063),\n",
       " (u'i', 869848)]"
      ]
     },
     "execution_count": 41,
     "metadata": {},
     "output_type": "execute_result"
    }
   ],
   "source": [
    "Counter(tokens).most_common(10)"
   ]
  },
  {
   "cell_type": "code",
   "execution_count": 42,
   "metadata": {},
   "outputs": [
    {
     "data": {
      "image/png": "[encoded data removed]",
      "text/plain": [
       "<matplotlib.figure.Figure at 0x7f93231849d0>"
      ]
     },
     "metadata": {},
     "output_type": "display_data"
    }
   ],
   "source": [
    "labels, values = zip(*Counter(tokens).most_common(10))\n",
    "ax = plt.subplot(111)\n",
    "ax.bar(range(0,10), values[0:10])\n",
    "for label, x, y in zip(labels[0:10], range(0,10), values[0:10]):\n",
    "    plt.annotate(\n",
    "        label, \n",
    "        xy=(x, y), xytext=(10,10),\n",
    "        textcoords='offset points', ha='right', va='bottom',\n",
    "        bbox=dict(boxstyle='round,pad=0.5', alpha=0),\n",
    "        fontname=\"Symbola\",\n",
    "        #fontname='Segoe UI Emoji',\n",
    "        fontsize=15)\n",
    "\n",
    "ax.spines['right'].set_visible(False)\n",
    "ax.spines['top'].set_visible(False)\n",
    "ax.set_ylabel('Occurrences')\n",
    "ax.set_xticks([])\n",
    "plt.tight_layout()\n",
    "#plt.savefig('emojis.eps', format='eps', dpi=1000)\n",
    "plt.show()"
   ]
  },
  {
   "cell_type": "code",
   "execution_count": 43,
   "metadata": {},
   "outputs": [],
   "source": [
    "not1 = labels[5]\n",
    "not2 = labels[6]"
   ]
  },
  {
   "cell_type": "code",
   "execution_count": 44,
   "metadata": {},
   "outputs": [
    {
     "data": {
      "image/png": "[encoded data removed]",
      "text/plain": [
       "<matplotlib.figure.Figure at 0x7f93235949d0>"
      ]
     },
     "metadata": {},
     "output_type": "display_data"
    }
   ],
   "source": [
    "labels, values = zip(*Counter(hashtags).most_common(10))\n",
    "ax = plt.subplot(111)\n",
    "ax.bar(range(1,11), values[0:10])\n",
    "for label, x, y in zip(labels[0:10], range(1,11), values[0:10]):\n",
    "    if label == u\"#fashionblogger\":\n",
    "        plt.annotate(\n",
    "        label, \n",
    "        xy=(x, y), xytext=(60,5),\n",
    "        textcoords='offset points', ha='right', va='bottom',\n",
    "        bbox=dict(boxstyle='round,pad=0.5', alpha=0),\n",
    "        fontname=\"Symbola\",\n",
    "        #fontname='Segoe UI Emoji',\n",
    "        fontsize=10)\n",
    "    if label in [u\"#liketkit\", u\"#ootd\"]:\n",
    "        plt.annotate(\n",
    "            label, \n",
    "            xy=(x, y), xytext=(20,5),\n",
    "            textcoords='offset points', ha='right', va='bottom',\n",
    "            bbox=dict(boxstyle='round,pad=0.5', alpha=0),\n",
    "            fontname=\"Symbola\",\n",
    "            #fontname='Segoe UI Emoji',\n",
    "            fontsize=10)\n",
    "    if label in [u\"#blogger\"]:\n",
    "        plt.annotate(\n",
    "            label, \n",
    "            xy=(x, y), xytext=(40,5),\n",
    "            textcoords='offset points', ha='right', va='bottom',\n",
    "            bbox=dict(boxstyle='round,pad=0.5', alpha=0),\n",
    "            fontname=\"Symbola\",\n",
    "            #fontname='Segoe UI Emoji',\n",
    "            fontsize=10)\n",
    "    if label in [u\"#streetstyle\"]:\n",
    "        plt.annotate(\n",
    "            label, \n",
    "            xy=(x, y), xytext=(40,10),\n",
    "            textcoords='offset points', ha='right', va='bottom',\n",
    "            bbox=dict(boxstyle='round,pad=0.5', alpha=0),\n",
    "            fontname=\"Symbola\",\n",
    "            #fontname='Segoe UI Emoji',\n",
    "            fontsize=10)\n",
    "    if label in [u\"#whatiwore\"]:\n",
    "        plt.annotate(\n",
    "            label, \n",
    "            xy=(x, y), xytext=(40,10),\n",
    "            textcoords='offset points', ha='right', va='bottom',\n",
    "            bbox=dict(boxstyle='round,pad=0.5', alpha=0),\n",
    "            fontname=\"Symbola\",\n",
    "            #fontname='Segoe UI Emoji',\n",
    "            fontsize=10)\n",
    "    if label in [u\"#styleblogger\"]:\n",
    "        plt.annotate(\n",
    "            label, \n",
    "            xy=(x, y), xytext=(40,20),\n",
    "            textcoords='offset points', ha='right', va='bottom',\n",
    "            bbox=dict(boxstyle='round,pad=0.5', alpha=0),\n",
    "            fontname=\"Symbola\",\n",
    "            #fontname='Segoe UI Emoji',\n",
    "            fontsize=10)\n",
    "    if label in [u\"#wiw\", u\"#style\"]:\n",
    "        plt.annotate(\n",
    "            label, \n",
    "            xy=(x, y), xytext=(20,5),\n",
    "            textcoords='offset points', ha='right', va='bottom',\n",
    "            bbox=dict(boxstyle='round,pad=0.5', alpha=0),\n",
    "            fontname=\"Symbola\",\n",
    "            #fontname='Segoe UI Emoji',\n",
    "            fontsize=10)\n",
    "    if label in [u\"#fashion\"]:\n",
    "        plt.annotate(\n",
    "            label, \n",
    "            xy=(x, y), xytext=(20,5),\n",
    "            textcoords='offset points', ha='right', va='bottom',\n",
    "            bbox=dict(boxstyle='round,pad=0.5', alpha=0),\n",
    "            fontname=\"Symbola\",\n",
    "            #fontname='Segoe UI Emoji',\n",
    "            fontsize=10)\n",
    "    if label not in [u\"#liketkit\", u\"#ootd\", u\"#fashionblogger\", u\"#blogger\", u\"#streetstyle\", u\"#fashion\",u\"#whatiwore\", u\"#styleblogger\", u\"#style\", u\"#wiw\"]:\n",
    "        plt.annotate(\n",
    "            label, \n",
    "            xy=(x, y), xytext=(8,10),\n",
    "            textcoords='offset points', ha='right', va='bottom',\n",
    "            bbox=dict(boxstyle='round,pad=0.5', alpha=0),\n",
    "            fontname=\"Symbola\",\n",
    "            #fontname='Segoe UI Emoji',\n",
    "            fontsize=10)\n",
    "\n",
    "ax.spines['right'].set_visible(False)\n",
    "ax.spines['top'].set_visible(False)\n",
    "ax.set_ylabel('Occurrences')\n",
    "ax.set_xticks([])\n",
    "plt.tight_layout()\n",
    "plt.savefig('hashtags.eps', format='eps', dpi=1000)\n",
    "plt.show()"
   ]
  },
  {
   "cell_type": "code",
   "execution_count": 45,
   "metadata": {},
   "outputs": [
    {
     "data": {
      "text/plain": [
       "(60013, 45194, 33181, 23427, 21429, 20733, 20351, 20306, 18122, 17487)"
      ]
     },
     "execution_count": 45,
     "metadata": {},
     "output_type": "execute_result"
    }
   ],
   "source": [
    "values"
   ]
  },
  {
   "cell_type": "code",
   "execution_count": 46,
   "metadata": {},
   "outputs": [
    {
     "data": {
      "text/plain": [
       "u'\\U0001f495\\U0001f496\\U0001f499\\U0001f499\\U0001f499'"
      ]
     },
     "execution_count": 46,
     "metadata": {},
     "output_type": "execute_result"
    }
   ],
   "source": [
    "emojis[0:5]"
   ]
  },
  {
   "cell_type": "code",
   "execution_count": 47,
   "metadata": {},
   "outputs": [],
   "source": [
    "labels, values = zip(*Counter(emojis[0:5]).items())"
   ]
  },
  {
   "cell_type": "code",
   "execution_count": 48,
   "metadata": {},
   "outputs": [
    {
     "data": {
      "text/plain": [
       "(u'\\U0001f499', u'\\U0001f495', u'\\U0001f496')"
      ]
     },
     "execution_count": 48,
     "metadata": {},
     "output_type": "execute_result"
    }
   ],
   "source": [
    "labels"
   ]
  },
  {
   "cell_type": "code",
   "execution_count": 96,
   "metadata": {},
   "outputs": [],
   "source": [
    "from wordcloud import WordCloud\n"
   ]
  },
  {
   "cell_type": "code",
   "execution_count": 162,
   "metadata": {},
   "outputs": [],
   "source": [
    "labels, values = zip(*Counter(tokens).most_common(300))"
   ]
  },
  {
   "cell_type": "code",
   "execution_count": 163,
   "metadata": {},
   "outputs": [],
   "source": [
    "wordcloud = WordCloud(max_font_size=40).generate(\" \".join(labels))"
   ]
  },
  {
   "cell_type": "code",
   "execution_count": 164,
   "metadata": {},
   "outputs": [
    {
     "data": {
      "image/png": "[encoded data removed]",
      "text/plain": [
       "<matplotlib.figure.Figure at 0x7fd6cb9fd8d0>"
      ]
     },
     "metadata": {},
     "output_type": "display_data"
    },
    {
     "data": {
      "image/png": "[encoded data removed]",
      "text/plain": [
       "<matplotlib.figure.Figure at 0x7fd6cb9fdfd0>"
      ]
     },
     "metadata": {},
     "output_type": "display_data"
    }
   ],
   "source": [
    "plt.imshow(wordcloud, interpolation='bilinear')\n",
    "plt.axis(\"off\")\n",
    "\n",
    "#lower max_font_size\n",
    "#wordcloud = WordCloud(max_font_size=40).generate(text)\n",
    "plt.figure()\n",
    "plt.imshow(wordcloud, interpolation=\"bilinear\")\n",
    "plt.axis(\"off\")\n",
    "plt.savefig('wordcloud.eps', format='eps', dpi=1000)\n",
    "plt.show()"
   ]
  },
  {
   "cell_type": "code",
   "execution_count": 49,
   "metadata": {},
   "outputs": [],
   "source": [
    "with open('./ig.csv', \"r+\") as file:\n",
    "        text = file.read()\n",
    "        text = text.replace(\"\\r\", \"\")\n",
    "        file.seek(0)\n",
    "        file.write(text)\n",
    "        file.truncate()"
   ]
  },
  {
   "cell_type": "code",
   "execution_count": 234,
   "metadata": {},
   "outputs": [
    {
     "data": {
      "text/html": [
       "<div>\n",
       "<style scoped>\n",
       "    .dataframe tbody tr th:only-of-type {\n",
       "        vertical-align: middle;\n",
       "    }\n",
       "\n",
       "    .dataframe tbody tr th {\n",
       "        vertical-align: top;\n",
       "    }\n",
       "\n",
       "    .dataframe thead th {\n",
       "        text-align: right;\n",
       "    }\n",
       "</style>\n",
       "<table border=\"1\" class=\"dataframe\">\n",
       "  <thead>\n",
       "    <tr style=\"text-align: right;\">\n",
       "      <th></th>\n",
       "      <th>doc</th>\n",
       "      <th>text</th>\n",
       "    </tr>\n",
       "  </thead>\n",
       "  <tbody>\n",
       "    <tr>\n",
       "      <th>0</th>\n",
       "      <td>https://scontent-arn2-1.cdninstagram.com/t51.2...</td>\n",
       "      <td>love the sky blue! @kiki_dkpearla me too! than...</td>\n",
       "    </tr>\n",
       "    <tr>\n",
       "      <th>1</th>\n",
       "      <td>a gorgeous bag bag😍😍😍😍 💙💙💙 you always have the...</td>\n",
       "      <td>NaN</td>\n",
       "    </tr>\n",
       "    <tr>\n",
       "      <th>2</th>\n",
       "      <td>https://scontent-arn2-1.cdninstagram.com/t51.2...</td>\n",
       "      <td>😍 beautiful dress @ajaytheartist_ thank you so...</td>\n",
       "    </tr>\n",
       "    <tr>\n",
       "      <th>3</th>\n",
       "      <td>https://scontent-arn2-1.cdninstagram.com/t51.2...</td>\n",
       "      <td>so cute! i can't believe how grown up he looks...</td>\n",
       "    </tr>\n",
       "    <tr>\n",
       "      <th>4</th>\n",
       "      <td>https://scontent-arn2-1.cdninstagram.com/t51.2...</td>\n",
       "      <td>😍 she stay kute. stays on point @awedbymoni lo...</td>\n",
       "    </tr>\n",
       "  </tbody>\n",
       "</table>\n",
       "</div>"
      ],
      "text/plain": [
       "                                                 doc  \\\n",
       "0  https://scontent-arn2-1.cdninstagram.com/t51.2...   \n",
       "1  a gorgeous bag bag😍😍😍😍 💙💙💙 you always have the...   \n",
       "2  https://scontent-arn2-1.cdninstagram.com/t51.2...   \n",
       "3  https://scontent-arn2-1.cdninstagram.com/t51.2...   \n",
       "4  https://scontent-arn2-1.cdninstagram.com/t51.2...   \n",
       "\n",
       "                                                text  \n",
       "0  love the sky blue! @kiki_dkpearla me too! than...  \n",
       "1                                                NaN  \n",
       "2  😍 beautiful dress @ajaytheartist_ thank you so...  \n",
       "3  so cute! i can't believe how grown up he looks...  \n",
       "4  😍 she stay kute. stays on point @awedbymoni lo...  "
      ]
     },
     "execution_count": 234,
     "metadata": {},
     "output_type": "execute_result"
    }
   ],
   "source": [
    "import pandas as pd\n",
    "df = pd.read_csv(\"./ig.csv\", error_bad_lines=False, sep = \",\", encoding = 'utf8', header=None, names=[\"doc\", \"text\"])\n",
    "#, sep=',', encoding = 'utf8', header=None\n",
    "#names=[\"doc\", \"text\"]\n",
    "df.head()"
   ]
  },
  {
   "cell_type": "code",
   "execution_count": 235,
   "metadata": {},
   "outputs": [
    {
     "data": {
      "text/plain": [
       "394094"
      ]
     },
     "execution_count": 235,
     "metadata": {},
     "output_type": "execute_result"
    }
   ],
   "source": [
    "df.size"
   ]
  },
  {
   "cell_type": "code",
   "execution_count": 236,
   "metadata": {},
   "outputs": [],
   "source": [
    "text = df[\"text\"]"
   ]
  },
  {
   "cell_type": "code",
   "execution_count": 237,
   "metadata": {},
   "outputs": [],
   "source": [
    "totalPosts = text.size"
   ]
  },
  {
   "cell_type": "code",
   "execution_count": 84,
   "metadata": {},
   "outputs": [],
   "source": [
    "plt.rc('text', usetex=True)\n",
    "plt.rc('font', family='serif')"
   ]
  },
  {
   "cell_type": "code",
   "execution_count": 85,
   "metadata": {},
   "outputs": [],
   "source": [
    "def countWords(row):\n",
    "    tokens = tknzr.tokenize(row[\"text\"])\n",
    "    return len(tokens)\n",
    "\n",
    "df = df.apply(countWords, axis=1)"
   ]
  },
  {
   "cell_type": "code",
   "execution_count": 86,
   "metadata": {},
   "outputs": [
    {
     "data": {
      "image/png": "[encoded data removed]",
      "text/plain": [
       "<matplotlib.figure.Figure at 0x7f9103c10ed0>"
      ]
     },
     "metadata": {},
     "output_type": "display_data"
    }
   ],
   "source": [
    "labels, values = zip(*Counter(df.values).items())\n",
    "values = map(lambda x: float(x), values)\n",
    "indexes = np.arange(len(labels))\n",
    "width = 1\n",
    "plt.bar(indexes, values, width)\n",
    "plt.ylabel('Fraction of posts')\n",
    "plt.xlabel('Number of words')\n",
    "plt.title(r'Histogram over number of words to fraction of posts')\n",
    "plt.savefig('words_posts_hist.eps', format='eps', dpi=1000)\n",
    "plt.show()"
   ]
  },
  {
   "cell_type": "code",
   "execution_count": 87,
   "metadata": {},
   "outputs": [
    {
     "data": {
      "image/png": "[encoded data removed]",
      "text/plain": [
       "<matplotlib.figure.Figure at 0x7f9103c10210>"
      ]
     },
     "metadata": {},
     "output_type": "display_data"
    }
   ],
   "source": [
    "plt.loglog(indexes, values)\n",
    "plt.ylabel('Log fraction of posts')\n",
    "plt.xlabel('Log number of words')\n",
    "plt.title(r'Log-Log plot over number of words to fraction of posts')\n",
    "plt.savefig('words_posts_loglog.eps', format='eps', dpi=1000)\n",
    "plt.show()"
   ]
  },
  {
   "cell_type": "code",
   "execution_count": 88,
   "metadata": {},
   "outputs": [
    {
     "data": {
      "image/png": "[encoded data removed]",
      "text/plain": [
       "<matplotlib.figure.Figure at 0x7f9450a3c6d0>"
      ]
     },
     "metadata": {},
     "output_type": "display_data"
    }
   ],
   "source": [
    "fig = plt.figure()\n",
    "ax = plt.gca()\n",
    "ax.plot(labels, values, 'o', c='blue', alpha=0.2, markeredgecolor='none')\n",
    "ax.set_yscale('log')\n",
    "ax.set_xscale('log')\n",
    "plt.ylabel('Log frequency')\n",
    "plt.xlabel('Log number of words')\n",
    "plt.title(r'Log-Log plot over the frequency of number of words per post')\n",
    "plt.savefig('words_posts_loglog2.eps', format='eps', dpi=1000)"
   ]
  },
  {
   "cell_type": "code",
   "execution_count": 89,
   "metadata": {},
   "outputs": [
    {
     "data": {
      "image/png": "[encoded data removed]",
      "text/plain": [
       "<matplotlib.figure.Figure at 0x7f94528768d0>"
      ]
     },
     "metadata": {},
     "output_type": "display_data"
    }
   ],
   "source": [
    "fig = plt.figure()\n",
    "ax = plt.gca()\n",
    "ax.plot(indexes, values, 'o', c='blue', alpha=0.2, markeredgecolor='none')\n",
    "ax.set_yscale('log')\n",
    "ax.set_xscale('log')\n",
    "plt.ylabel('Log fraction of posts')\n",
    "plt.xlabel('Log number of words')\n",
    "plt.title(r'Log-Log plot over number of words to fraction of posts')\n",
    "plt.savefig('words_posts_loglog3.eps', format='eps', dpi=1000)"
   ]
  },
  {
   "cell_type": "code",
   "execution_count": 60,
   "metadata": {},
   "outputs": [
    {
     "data": {
      "text/plain": [
       "197046"
      ]
     },
     "execution_count": 60,
     "metadata": {},
     "output_type": "execute_result"
    }
   ],
   "source": [
    "totalPosts"
   ]
  },
  {
   "cell_type": "code",
   "execution_count": 243,
   "metadata": {},
   "outputs": [],
   "source": [
    "def tokenize(row):\n",
    "    tokens = tknzr.tokenize(row[\"text\"])\n",
    "    return tokens\n",
    "\n",
    "def count_emojis(tokens):\n",
    "    emojis = extract_emojis(tokens)\n",
    "    return len(emojis)\n",
    "\n",
    "def count_hashtags(tokens):\n",
    "    hashtags = extract_hashtags(tokens)\n",
    "    return len(hashtags)\n",
    "\n",
    "def count_userhandles(tokens):\n",
    "    userhandles = extract_userhandles(tokens)\n",
    "    return len(userhandles)\n",
    "\n",
    "def count_oov(tokens):\n",
    "    oov = extract_oov2(tokens)\n",
    "    return len(oov)"
   ]
  },
  {
   "cell_type": "code",
   "execution_count": 241,
   "metadata": {},
   "outputs": [],
   "source": [
    "df = pd.read_csv(\"./ig.csv\", error_bad_lines=False, sep = \",\", encoding = 'utf8', header=None, names=[\"doc\", \"text\"])"
   ]
  },
  {
   "cell_type": "code",
   "execution_count": 244,
   "metadata": {},
   "outputs": [
    {
     "name": "stdout",
     "output_type": "stream",
     "text": [
      "<type 'unicode'>\n",
      "<type 'float'>\n",
      "<type 'unicode'>\n",
      "<type 'float'>\n"
     ]
    },
    {
     "ename": "TypeError",
     "evalue": "('expected string or buffer', u'occurred at index 1')",
     "output_type": "error",
     "traceback": [
      "\u001b[0;31m---------------------------------------------------------------------------\u001b[0m",
      "\u001b[0;31mTypeError\u001b[0m                                 Traceback (most recent call last)",
      "\u001b[0;32m<ipython-input-244-f7862ec8bc69>\u001b[0m in \u001b[0;36m<module>\u001b[0;34m()\u001b[0m\n\u001b[0;32m----> 1\u001b[0;31m \u001b[0mdf\u001b[0m\u001b[0;34m[\u001b[0m\u001b[0;34m\"text\"\u001b[0m\u001b[0;34m]\u001b[0m \u001b[0;34m=\u001b[0m \u001b[0mdf\u001b[0m\u001b[0;34m.\u001b[0m\u001b[0mapply\u001b[0m\u001b[0;34m(\u001b[0m\u001b[0mtokenize\u001b[0m\u001b[0;34m,\u001b[0m \u001b[0maxis\u001b[0m\u001b[0;34m=\u001b[0m\u001b[0;36m1\u001b[0m\u001b[0;34m)\u001b[0m\u001b[0;34m\u001b[0m\u001b[0m\n\u001b[0m",
      "\u001b[0;32m/home/kim/anaconda3/envs/snorkel/lib/python2.7/site-packages/pandas/core/frame.pyc\u001b[0m in \u001b[0;36mapply\u001b[0;34m(self, func, axis, broadcast, raw, reduce, args, **kwds)\u001b[0m\n\u001b[1;32m   4875\u001b[0m                         \u001b[0mf\u001b[0m\u001b[0;34m,\u001b[0m \u001b[0maxis\u001b[0m\u001b[0;34m,\u001b[0m\u001b[0;34m\u001b[0m\u001b[0m\n\u001b[1;32m   4876\u001b[0m                         \u001b[0mreduce\u001b[0m\u001b[0;34m=\u001b[0m\u001b[0mreduce\u001b[0m\u001b[0;34m,\u001b[0m\u001b[0;34m\u001b[0m\u001b[0m\n\u001b[0;32m-> 4877\u001b[0;31m                         ignore_failures=ignore_failures)\n\u001b[0m\u001b[1;32m   4878\u001b[0m             \u001b[0;32melse\u001b[0m\u001b[0;34m:\u001b[0m\u001b[0;34m\u001b[0m\u001b[0m\n\u001b[1;32m   4879\u001b[0m                 \u001b[0;32mreturn\u001b[0m \u001b[0mself\u001b[0m\u001b[0;34m.\u001b[0m\u001b[0m_apply_broadcast\u001b[0m\u001b[0;34m(\u001b[0m\u001b[0mf\u001b[0m\u001b[0;34m,\u001b[0m \u001b[0maxis\u001b[0m\u001b[0;34m)\u001b[0m\u001b[0;34m\u001b[0m\u001b[0m\n",
      "\u001b[0;32m/home/kim/anaconda3/envs/snorkel/lib/python2.7/site-packages/pandas/core/frame.pyc\u001b[0m in \u001b[0;36m_apply_standard\u001b[0;34m(self, func, axis, ignore_failures, reduce)\u001b[0m\n\u001b[1;32m   4971\u001b[0m             \u001b[0;32mtry\u001b[0m\u001b[0;34m:\u001b[0m\u001b[0;34m\u001b[0m\u001b[0m\n\u001b[1;32m   4972\u001b[0m                 \u001b[0;32mfor\u001b[0m \u001b[0mi\u001b[0m\u001b[0;34m,\u001b[0m \u001b[0mv\u001b[0m \u001b[0;32min\u001b[0m \u001b[0menumerate\u001b[0m\u001b[0;34m(\u001b[0m\u001b[0mseries_gen\u001b[0m\u001b[0;34m)\u001b[0m\u001b[0;34m:\u001b[0m\u001b[0;34m\u001b[0m\u001b[0m\n\u001b[0;32m-> 4973\u001b[0;31m                     \u001b[0mresults\u001b[0m\u001b[0;34m[\u001b[0m\u001b[0mi\u001b[0m\u001b[0;34m]\u001b[0m \u001b[0;34m=\u001b[0m \u001b[0mfunc\u001b[0m\u001b[0;34m(\u001b[0m\u001b[0mv\u001b[0m\u001b[0;34m)\u001b[0m\u001b[0;34m\u001b[0m\u001b[0m\n\u001b[0m\u001b[1;32m   4974\u001b[0m                     \u001b[0mkeys\u001b[0m\u001b[0;34m.\u001b[0m\u001b[0mappend\u001b[0m\u001b[0;34m(\u001b[0m\u001b[0mv\u001b[0m\u001b[0;34m.\u001b[0m\u001b[0mname\u001b[0m\u001b[0;34m)\u001b[0m\u001b[0;34m\u001b[0m\u001b[0m\n\u001b[1;32m   4975\u001b[0m             \u001b[0;32mexcept\u001b[0m \u001b[0mException\u001b[0m \u001b[0;32mas\u001b[0m \u001b[0me\u001b[0m\u001b[0;34m:\u001b[0m\u001b[0;34m\u001b[0m\u001b[0m\n",
      "\u001b[0;32m<ipython-input-243-e3b55b285697>\u001b[0m in \u001b[0;36mtokenize\u001b[0;34m(row)\u001b[0m\n\u001b[1;32m      1\u001b[0m \u001b[0;32mdef\u001b[0m \u001b[0mtokenize\u001b[0m\u001b[0;34m(\u001b[0m\u001b[0mrow\u001b[0m\u001b[0;34m)\u001b[0m\u001b[0;34m:\u001b[0m\u001b[0;34m\u001b[0m\u001b[0m\n\u001b[1;32m      2\u001b[0m     \u001b[0;32mprint\u001b[0m\u001b[0;34m(\u001b[0m\u001b[0mtype\u001b[0m\u001b[0;34m(\u001b[0m\u001b[0mrow\u001b[0m\u001b[0;34m[\u001b[0m\u001b[0;34m\"text\"\u001b[0m\u001b[0;34m]\u001b[0m\u001b[0;34m)\u001b[0m\u001b[0;34m)\u001b[0m\u001b[0;34m\u001b[0m\u001b[0m\n\u001b[0;32m----> 3\u001b[0;31m     \u001b[0mtokens\u001b[0m \u001b[0;34m=\u001b[0m \u001b[0mtknzr\u001b[0m\u001b[0;34m.\u001b[0m\u001b[0mtokenize\u001b[0m\u001b[0;34m(\u001b[0m\u001b[0mrow\u001b[0m\u001b[0;34m[\u001b[0m\u001b[0;34m\"text\"\u001b[0m\u001b[0;34m]\u001b[0m\u001b[0;34m)\u001b[0m\u001b[0;34m\u001b[0m\u001b[0m\n\u001b[0m\u001b[1;32m      4\u001b[0m     \u001b[0;32mreturn\u001b[0m \u001b[0mtokens\u001b[0m\u001b[0;34m\u001b[0m\u001b[0m\n\u001b[1;32m      5\u001b[0m \u001b[0;34m\u001b[0m\u001b[0m\n",
      "\u001b[0;32m/home/kim/anaconda3/envs/snorkel/lib/python2.7/site-packages/nltk/tokenize/casual.pyc\u001b[0m in \u001b[0;36mtokenize\u001b[0;34m(self, text)\u001b[0m\n\u001b[1;32m    293\u001b[0m         \"\"\"\n\u001b[1;32m    294\u001b[0m         \u001b[0;31m# Fix HTML character entities:\u001b[0m\u001b[0;34m\u001b[0m\u001b[0;34m\u001b[0m\u001b[0m\n\u001b[0;32m--> 295\u001b[0;31m         \u001b[0mtext\u001b[0m \u001b[0;34m=\u001b[0m \u001b[0m_replace_html_entities\u001b[0m\u001b[0;34m(\u001b[0m\u001b[0mtext\u001b[0m\u001b[0;34m)\u001b[0m\u001b[0;34m\u001b[0m\u001b[0m\n\u001b[0m\u001b[1;32m    296\u001b[0m         \u001b[0;31m# Remove username handles\u001b[0m\u001b[0;34m\u001b[0m\u001b[0;34m\u001b[0m\u001b[0m\n\u001b[1;32m    297\u001b[0m         \u001b[0;32mif\u001b[0m \u001b[0mself\u001b[0m\u001b[0;34m.\u001b[0m\u001b[0mstrip_handles\u001b[0m\u001b[0;34m:\u001b[0m\u001b[0;34m\u001b[0m\u001b[0m\n",
      "\u001b[0;32m/home/kim/anaconda3/envs/snorkel/lib/python2.7/site-packages/nltk/tokenize/casual.pyc\u001b[0m in \u001b[0;36m_replace_html_entities\u001b[0;34m(text, keep, remove_illegal, encoding)\u001b[0m\n\u001b[1;32m    257\u001b[0m         \u001b[0;32mreturn\u001b[0m \u001b[0;34m\"\"\u001b[0m \u001b[0;32mif\u001b[0m \u001b[0mremove_illegal\u001b[0m \u001b[0;32melse\u001b[0m \u001b[0mmatch\u001b[0m\u001b[0;34m.\u001b[0m\u001b[0mgroup\u001b[0m\u001b[0;34m(\u001b[0m\u001b[0;36m0\u001b[0m\u001b[0;34m)\u001b[0m\u001b[0;34m\u001b[0m\u001b[0m\n\u001b[1;32m    258\u001b[0m \u001b[0;34m\u001b[0m\u001b[0m\n\u001b[0;32m--> 259\u001b[0;31m     \u001b[0;32mreturn\u001b[0m \u001b[0mENT_RE\u001b[0m\u001b[0;34m.\u001b[0m\u001b[0msub\u001b[0m\u001b[0;34m(\u001b[0m\u001b[0m_convert_entity\u001b[0m\u001b[0;34m,\u001b[0m \u001b[0m_str_to_unicode\u001b[0m\u001b[0;34m(\u001b[0m\u001b[0mtext\u001b[0m\u001b[0;34m,\u001b[0m \u001b[0mencoding\u001b[0m\u001b[0;34m)\u001b[0m\u001b[0;34m)\u001b[0m\u001b[0;34m\u001b[0m\u001b[0m\n\u001b[0m\u001b[1;32m    260\u001b[0m \u001b[0;34m\u001b[0m\u001b[0m\n\u001b[1;32m    261\u001b[0m \u001b[0;34m\u001b[0m\u001b[0m\n",
      "\u001b[0;31mTypeError\u001b[0m: ('expected string or buffer', u'occurred at index 1')"
     ]
    }
   ],
   "source": [
    "df[\"text\"] = df.apply(tokenize, axis=1)"
   ]
  },
  {
   "cell_type": "code",
   "execution_count": 64,
   "metadata": {},
   "outputs": [
    {
     "ename": "TypeError",
     "evalue": "unhashable type: 'list'",
     "output_type": "error",
     "traceback": [
      "\u001b[0;31m---------------------------------------------------------------------------\u001b[0m",
      "\u001b[0;31mTypeError\u001b[0m                                 Traceback (most recent call last)",
      "\u001b[0;32m<ipython-input-64-c382eafe0f44>\u001b[0m in \u001b[0;36m<module>\u001b[0;34m()\u001b[0m\n\u001b[0;32m----> 1\u001b[0;31m \u001b[0memojis\u001b[0m \u001b[0;34m=\u001b[0m \u001b[0mmap\u001b[0m\u001b[0;34m(\u001b[0m\u001b[0;32mlambda\u001b[0m \u001b[0mx\u001b[0m\u001b[0;34m:\u001b[0m \u001b[0mcount_emojis\u001b[0m\u001b[0;34m(\u001b[0m\u001b[0mx\u001b[0m\u001b[0;34m)\u001b[0m\u001b[0;34m,\u001b[0m \u001b[0mdf\u001b[0m\u001b[0;34m.\u001b[0m\u001b[0mvalues\u001b[0m\u001b[0;34m)\u001b[0m\u001b[0;34m\u001b[0m\u001b[0m\n\u001b[0m\u001b[1;32m      2\u001b[0m \u001b[0mhashtags\u001b[0m \u001b[0;34m=\u001b[0m \u001b[0mmap\u001b[0m\u001b[0;34m(\u001b[0m\u001b[0;32mlambda\u001b[0m \u001b[0mx\u001b[0m\u001b[0;34m:\u001b[0m \u001b[0mcount_hashtags\u001b[0m\u001b[0;34m(\u001b[0m\u001b[0mx\u001b[0m\u001b[0;34m)\u001b[0m\u001b[0;34m,\u001b[0m \u001b[0mdf\u001b[0m\u001b[0;34m.\u001b[0m\u001b[0mvalues\u001b[0m\u001b[0;34m)\u001b[0m\u001b[0;34m\u001b[0m\u001b[0m\n\u001b[1;32m      3\u001b[0m \u001b[0muserhandles\u001b[0m \u001b[0;34m=\u001b[0m \u001b[0mmap\u001b[0m\u001b[0;34m(\u001b[0m\u001b[0;32mlambda\u001b[0m \u001b[0mx\u001b[0m\u001b[0;34m:\u001b[0m \u001b[0mcount_userhandles\u001b[0m\u001b[0;34m(\u001b[0m\u001b[0mx\u001b[0m\u001b[0;34m)\u001b[0m\u001b[0;34m,\u001b[0m \u001b[0mdf\u001b[0m\u001b[0;34m.\u001b[0m\u001b[0mvalues\u001b[0m\u001b[0;34m)\u001b[0m\u001b[0;34m\u001b[0m\u001b[0m\n\u001b[1;32m      4\u001b[0m \u001b[0moov\u001b[0m \u001b[0;34m=\u001b[0m \u001b[0mmap\u001b[0m\u001b[0;34m(\u001b[0m\u001b[0;32mlambda\u001b[0m \u001b[0mx\u001b[0m\u001b[0;34m:\u001b[0m \u001b[0mcount_oov\u001b[0m\u001b[0;34m(\u001b[0m\u001b[0mx\u001b[0m\u001b[0;34m)\u001b[0m\u001b[0;34m,\u001b[0m \u001b[0mdf\u001b[0m\u001b[0;34m.\u001b[0m\u001b[0mvalues\u001b[0m\u001b[0;34m)\u001b[0m\u001b[0;34m\u001b[0m\u001b[0m\n",
      "\u001b[0;32m<ipython-input-64-c382eafe0f44>\u001b[0m in \u001b[0;36m<lambda>\u001b[0;34m(x)\u001b[0m\n\u001b[0;32m----> 1\u001b[0;31m \u001b[0memojis\u001b[0m \u001b[0;34m=\u001b[0m \u001b[0mmap\u001b[0m\u001b[0;34m(\u001b[0m\u001b[0;32mlambda\u001b[0m \u001b[0mx\u001b[0m\u001b[0;34m:\u001b[0m \u001b[0mcount_emojis\u001b[0m\u001b[0;34m(\u001b[0m\u001b[0mx\u001b[0m\u001b[0;34m)\u001b[0m\u001b[0;34m,\u001b[0m \u001b[0mdf\u001b[0m\u001b[0;34m.\u001b[0m\u001b[0mvalues\u001b[0m\u001b[0;34m)\u001b[0m\u001b[0;34m\u001b[0m\u001b[0m\n\u001b[0m\u001b[1;32m      2\u001b[0m \u001b[0mhashtags\u001b[0m \u001b[0;34m=\u001b[0m \u001b[0mmap\u001b[0m\u001b[0;34m(\u001b[0m\u001b[0;32mlambda\u001b[0m \u001b[0mx\u001b[0m\u001b[0;34m:\u001b[0m \u001b[0mcount_hashtags\u001b[0m\u001b[0;34m(\u001b[0m\u001b[0mx\u001b[0m\u001b[0;34m)\u001b[0m\u001b[0;34m,\u001b[0m \u001b[0mdf\u001b[0m\u001b[0;34m.\u001b[0m\u001b[0mvalues\u001b[0m\u001b[0;34m)\u001b[0m\u001b[0;34m\u001b[0m\u001b[0m\n\u001b[1;32m      3\u001b[0m \u001b[0muserhandles\u001b[0m \u001b[0;34m=\u001b[0m \u001b[0mmap\u001b[0m\u001b[0;34m(\u001b[0m\u001b[0;32mlambda\u001b[0m \u001b[0mx\u001b[0m\u001b[0;34m:\u001b[0m \u001b[0mcount_userhandles\u001b[0m\u001b[0;34m(\u001b[0m\u001b[0mx\u001b[0m\u001b[0;34m)\u001b[0m\u001b[0;34m,\u001b[0m \u001b[0mdf\u001b[0m\u001b[0;34m.\u001b[0m\u001b[0mvalues\u001b[0m\u001b[0;34m)\u001b[0m\u001b[0;34m\u001b[0m\u001b[0m\n\u001b[1;32m      4\u001b[0m \u001b[0moov\u001b[0m \u001b[0;34m=\u001b[0m \u001b[0mmap\u001b[0m\u001b[0;34m(\u001b[0m\u001b[0;32mlambda\u001b[0m \u001b[0mx\u001b[0m\u001b[0;34m:\u001b[0m \u001b[0mcount_oov\u001b[0m\u001b[0;34m(\u001b[0m\u001b[0mx\u001b[0m\u001b[0;34m)\u001b[0m\u001b[0;34m,\u001b[0m \u001b[0mdf\u001b[0m\u001b[0;34m.\u001b[0m\u001b[0mvalues\u001b[0m\u001b[0;34m)\u001b[0m\u001b[0;34m\u001b[0m\u001b[0m\n",
      "\u001b[0;32m<ipython-input-61-720a2251fb74>\u001b[0m in \u001b[0;36mcount_emojis\u001b[0;34m(tokens)\u001b[0m\n\u001b[1;32m      4\u001b[0m \u001b[0;34m\u001b[0m\u001b[0m\n\u001b[1;32m      5\u001b[0m \u001b[0;32mdef\u001b[0m \u001b[0mcount_emojis\u001b[0m\u001b[0;34m(\u001b[0m\u001b[0mtokens\u001b[0m\u001b[0;34m)\u001b[0m\u001b[0;34m:\u001b[0m\u001b[0;34m\u001b[0m\u001b[0m\n\u001b[0;32m----> 6\u001b[0;31m     \u001b[0memojis\u001b[0m \u001b[0;34m=\u001b[0m \u001b[0mextract_emojis\u001b[0m\u001b[0;34m(\u001b[0m\u001b[0mtokens\u001b[0m\u001b[0;34m)\u001b[0m\u001b[0;34m\u001b[0m\u001b[0m\n\u001b[0m\u001b[1;32m      7\u001b[0m     \u001b[0;32mreturn\u001b[0m \u001b[0mlen\u001b[0m\u001b[0;34m(\u001b[0m\u001b[0memojis\u001b[0m\u001b[0;34m)\u001b[0m\u001b[0;34m\u001b[0m\u001b[0m\n\u001b[1;32m      8\u001b[0m \u001b[0;34m\u001b[0m\u001b[0m\n",
      "\u001b[0;32m<ipython-input-6-13f107d0a532>\u001b[0m in \u001b[0;36mextract_emojis\u001b[0;34m(words)\u001b[0m\n\u001b[1;32m      1\u001b[0m \u001b[0;32mdef\u001b[0m \u001b[0mextract_emojis\u001b[0m\u001b[0;34m(\u001b[0m\u001b[0mwords\u001b[0m\u001b[0;34m)\u001b[0m\u001b[0;34m:\u001b[0m\u001b[0;34m\u001b[0m\u001b[0m\n\u001b[0;32m----> 2\u001b[0;31m     \u001b[0;32mreturn\u001b[0m \u001b[0;34m''\u001b[0m\u001b[0;34m.\u001b[0m\u001b[0mjoin\u001b[0m\u001b[0;34m(\u001b[0m\u001b[0mc\u001b[0m \u001b[0;32mfor\u001b[0m \u001b[0mc\u001b[0m \u001b[0;32min\u001b[0m \u001b[0mwords\u001b[0m \u001b[0;32mif\u001b[0m \u001b[0mc\u001b[0m \u001b[0;32min\u001b[0m \u001b[0memoji\u001b[0m\u001b[0;34m.\u001b[0m\u001b[0mUNICODE_EMOJI\u001b[0m\u001b[0;34m)\u001b[0m\u001b[0;34m\u001b[0m\u001b[0m\n\u001b[0m",
      "\u001b[0;32m<ipython-input-6-13f107d0a532>\u001b[0m in \u001b[0;36m<genexpr>\u001b[0;34m((c,))\u001b[0m\n\u001b[1;32m      1\u001b[0m \u001b[0;32mdef\u001b[0m \u001b[0mextract_emojis\u001b[0m\u001b[0;34m(\u001b[0m\u001b[0mwords\u001b[0m\u001b[0;34m)\u001b[0m\u001b[0;34m:\u001b[0m\u001b[0;34m\u001b[0m\u001b[0m\n\u001b[0;32m----> 2\u001b[0;31m     \u001b[0;32mreturn\u001b[0m \u001b[0;34m''\u001b[0m\u001b[0;34m.\u001b[0m\u001b[0mjoin\u001b[0m\u001b[0;34m(\u001b[0m\u001b[0mc\u001b[0m \u001b[0;32mfor\u001b[0m \u001b[0mc\u001b[0m \u001b[0;32min\u001b[0m \u001b[0mwords\u001b[0m \u001b[0;32mif\u001b[0m \u001b[0mc\u001b[0m \u001b[0;32min\u001b[0m \u001b[0memoji\u001b[0m\u001b[0;34m.\u001b[0m\u001b[0mUNICODE_EMOJI\u001b[0m\u001b[0;34m)\u001b[0m\u001b[0;34m\u001b[0m\u001b[0m\n\u001b[0m",
      "\u001b[0;31mTypeError\u001b[0m: unhashable type: 'list'"
     ]
    }
   ],
   "source": [
    "emojis = map(lambda x: count_emojis(x), df.values)\n",
    "hashtags = map(lambda x: count_hashtags(x), df.values)\n",
    "userhandles = map(lambda x: count_userhandles(x), df.values)\n",
    "oov = map(lambda x: count_oov(x), df.values)"
   ]
  },
  {
   "cell_type": "code",
   "execution_count": null,
   "metadata": {},
   "outputs": [],
   "source": [
    "np.mean(emojis)"
   ]
  },
  {
   "cell_type": "code",
   "execution_count": null,
   "metadata": {},
   "outputs": [],
   "source": [
    "np.mean(hashtags)"
   ]
  },
  {
   "cell_type": "code",
   "execution_count": null,
   "metadata": {},
   "outputs": [],
   "source": [
    "np.mean(userhandles)"
   ]
  },
  {
   "cell_type": "code",
   "execution_count": null,
   "metadata": {},
   "outputs": [],
   "source": [
    "np.mean(oov)"
   ]
  },
  {
   "cell_type": "code",
   "execution_count": null,
   "metadata": {},
   "outputs": [],
   "source": [
    "np.std(emojis)"
   ]
  },
  {
   "cell_type": "code",
   "execution_count": null,
   "metadata": {},
   "outputs": [],
   "source": [
    "np.std(hashtags)"
   ]
  },
  {
   "cell_type": "code",
   "execution_count": null,
   "metadata": {},
   "outputs": [],
   "source": [
    "np.std(userhandles)"
   ]
  },
  {
   "cell_type": "code",
   "execution_count": null,
   "metadata": {},
   "outputs": [],
   "source": [
    "np.std(oov)"
   ]
  },
  {
   "cell_type": "code",
   "execution_count": null,
   "metadata": {},
   "outputs": [],
   "source": [
    "np.min(emojis)"
   ]
  },
  {
   "cell_type": "code",
   "execution_count": null,
   "metadata": {},
   "outputs": [],
   "source": [
    "np.min(hashtags)"
   ]
  },
  {
   "cell_type": "code",
   "execution_count": null,
   "metadata": {},
   "outputs": [],
   "source": [
    "np.min(oov)"
   ]
  },
  {
   "cell_type": "code",
   "execution_count": null,
   "metadata": {},
   "outputs": [],
   "source": [
    "np.min(userhandles)"
   ]
  },
  {
   "cell_type": "code",
   "execution_count": null,
   "metadata": {},
   "outputs": [],
   "source": [
    "np.max(emojis)"
   ]
  },
  {
   "cell_type": "code",
   "execution_count": null,
   "metadata": {},
   "outputs": [],
   "source": [
    "np.max(hashtags)"
   ]
  },
  {
   "cell_type": "code",
   "execution_count": null,
   "metadata": {},
   "outputs": [],
   "source": [
    "np.max(oov)"
   ]
  },
  {
   "cell_type": "code",
   "execution_count": null,
   "metadata": {},
   "outputs": [],
   "source": [
    "np.max(userhandles)"
   ]
  },
  {
   "cell_type": "code",
   "execution_count": 505,
   "metadata": {},
   "outputs": [],
   "source": [
    "df1 = pd.read_csv(\"./ig_comments.csv\", error_bad_lines=False, sep=\"-z-x-x-x-x-y-\", encoding = 'utf8', header=None, names=[\"comments\"], engine=\"python\")"
   ]
  },
  {
   "cell_type": "code",
   "execution_count": 502,
   "metadata": {},
   "outputs": [],
   "source": [
    "def count_comments(row):\n",
    "    comments = row[\"comments\"].split(\",\")\n",
    "    return len(comments)"
   ]
  },
  {
   "cell_type": "code",
   "execution_count": 503,
   "metadata": {},
   "outputs": [],
   "source": [
    "df1[\"comments\"] = df1.apply(count_comments, axis=1)"
   ]
  },
  {
   "cell_type": "code",
   "execution_count": 504,
   "metadata": {},
   "outputs": [
    {
     "data": {
      "text/html": [
       "<div>\n",
       "<style scoped>\n",
       "    .dataframe tbody tr th:only-of-type {\n",
       "        vertical-align: middle;\n",
       "    }\n",
       "\n",
       "    .dataframe tbody tr th {\n",
       "        vertical-align: top;\n",
       "    }\n",
       "\n",
       "    .dataframe thead th {\n",
       "        text-align: right;\n",
       "    }\n",
       "</style>\n",
       "<table border=\"1\" class=\"dataframe\">\n",
       "  <thead>\n",
       "    <tr style=\"text-align: right;\">\n",
       "      <th></th>\n",
       "      <th>comments</th>\n",
       "    </tr>\n",
       "  </thead>\n",
       "  <tbody>\n",
       "    <tr>\n",
       "      <th>0</th>\n",
       "      <td>35</td>\n",
       "    </tr>\n",
       "    <tr>\n",
       "      <th>1</th>\n",
       "      <td>83</td>\n",
       "    </tr>\n",
       "    <tr>\n",
       "      <th>2</th>\n",
       "      <td>177</td>\n",
       "    </tr>\n",
       "    <tr>\n",
       "      <th>3</th>\n",
       "      <td>48</td>\n",
       "    </tr>\n",
       "    <tr>\n",
       "      <th>4</th>\n",
       "      <td>35</td>\n",
       "    </tr>\n",
       "  </tbody>\n",
       "</table>\n",
       "</div>"
      ],
      "text/plain": [
       "   comments\n",
       "0        35\n",
       "1        83\n",
       "2       177\n",
       "3        48\n",
       "4        35"
      ]
     },
     "execution_count": 504,
     "metadata": {},
     "output_type": "execute_result"
    }
   ],
   "source": [
    "df1.head()"
   ]
  },
  {
   "cell_type": "code",
   "execution_count": 506,
   "metadata": {},
   "outputs": [],
   "source": [
    "def comment_list(row):\n",
    "    comments = row[\"comments\"].split(\",\")\n",
    "    #noComments = len(comments)\n",
    "    #commentsStr\" \".join(comments)\n",
    "    #tokens = tknzr.tokenize(commenrsStr)\n",
    "    #average = float(len(tokens))/float(len(noComments))\n",
    "    return comments"
   ]
  },
  {
   "cell_type": "code",
   "execution_count": 507,
   "metadata": {},
   "outputs": [],
   "source": [
    "df1[\"comments\"] = df1.apply(comment_list, axis=1)"
   ]
  },
  {
   "cell_type": "code",
   "execution_count": 508,
   "metadata": {},
   "outputs": [
    {
     "data": {
      "text/plain": [
       "array([ list([u'love the sky blue!', u'@kiki_dkpearla me too! thanks love  happy monday', u'love the bag!! \\U0001f495\\U0001f496', u'@jessicalundy_ isn\\u2019t it fun. thanks love.', u'that bag is so pretty!!', u'@cherrypickedstyle thank you tomeka i hope you are having an awesome monday', u'beautiful bag! \\U0001f499\\U0001f499', u'love this bag \\U0001f499\\U0001f499\\U0001f499', u'omg love it \\U0001f60d\\U0001f60d', u'great stuff!', u'love the bag \\U0001f60d\\U0001f60d\\U0001f60d', u'details \\U0001f60d love this bag babe \\U0001f499\\U0001f499', u'that\\u2019s a great bag!', u'\\U0001f44b\\U0001f44c', u'love this fun pop of color', u'love this', u\"love @henribendel's latest collection!\", u'i just love this pop of bright blue color. \\U0001f499\\U0001f499', u'\\U0001f44d\\U0001f3fc\\U0001f64c\\U0001f3fd\\U0001f525', u'such a gorgeous bag', u'bag\\U0001f60d\\U0001f60d\\U0001f60d\\U0001f60d', u'\\U0001f499\\U0001f499\\U0001f499', u'you always have the best handbags \\U0001f60d', u'pretty \\U0001f499\\U0001f499', u'fabulousity... #aaa', u\"that's is beautiful\", u'bag is life\\U0001f60d\\U0001f60d\\U0001f60d', u'love this bag! so pretty', u'what a fun bag!', u'ooh such a fun print!', u'love the pattern on this bag!', u'super pretty bag monica \\U0001f4af\\U0001f495', u'perf little bag!', u'i know it\\u2019s about the bag  but i\\u2019m heading to @liketoknow.it app for the boots!', u'obsessed with these details!!'])], dtype=object)"
      ]
     },
     "execution_count": 508,
     "metadata": {},
     "output_type": "execute_result"
    }
   ],
   "source": [
    "df1.values[0]"
   ]
  },
  {
   "cell_type": "code",
   "execution_count": 509,
   "metadata": {},
   "outputs": [
    {
     "data": {
      "text/plain": [
       "188960"
      ]
     },
     "execution_count": 509,
     "metadata": {},
     "output_type": "execute_result"
    }
   ],
   "source": [
    "len(df1.values)"
   ]
  },
  {
   "cell_type": "code",
   "execution_count": 510,
   "metadata": {},
   "outputs": [],
   "source": [
    "comments = df1.values.flatten()"
   ]
  },
  {
   "cell_type": "code",
   "execution_count": 511,
   "metadata": {},
   "outputs": [
    {
     "data": {
      "text/plain": [
       "188960"
      ]
     },
     "execution_count": 511,
     "metadata": {},
     "output_type": "execute_result"
    }
   ],
   "source": [
    "len(comments)"
   ]
  },
  {
   "cell_type": "code",
   "execution_count": 512,
   "metadata": {},
   "outputs": [],
   "source": [
    "comments = comments.flatten()"
   ]
  },
  {
   "cell_type": "code",
   "execution_count": 513,
   "metadata": {},
   "outputs": [
    {
     "data": {
      "text/plain": [
       "188960"
      ]
     },
     "execution_count": 513,
     "metadata": {},
     "output_type": "execute_result"
    }
   ],
   "source": [
    "len(comments)"
   ]
  },
  {
   "cell_type": "code",
   "execution_count": null,
   "metadata": {},
   "outputs": [],
   "source": []
  },
  {
   "cell_type": "code",
   "execution_count": 514,
   "metadata": {},
   "outputs": [],
   "source": [
    "comms = []\n",
    "for l in comments:\n",
    "    for c in l:\n",
    "        comms.append(c)"
   ]
  },
  {
   "cell_type": "code",
   "execution_count": 515,
   "metadata": {},
   "outputs": [
    {
     "data": {
      "text/plain": [
       "9204734"
      ]
     },
     "execution_count": 515,
     "metadata": {},
     "output_type": "execute_result"
    }
   ],
   "source": [
    "len(comms)"
   ]
  },
  {
   "cell_type": "code",
   "execution_count": 516,
   "metadata": {},
   "outputs": [],
   "source": [
    "import langid"
   ]
  },
  {
   "cell_type": "code",
   "execution_count": 524,
   "metadata": {},
   "outputs": [
    {
     "data": {
      "text/plain": [
       "('en', -202.32552576065063)"
      ]
     },
     "execution_count": 524,
     "metadata": {},
     "output_type": "execute_result"
    }
   ],
   "source": [
    "langid.classify(u\"Mitt namn är Kim Hello dude what is your name? Nice\")"
   ]
  },
  {
   "cell_type": "code",
   "execution_count": 519,
   "metadata": {},
   "outputs": [
    {
     "data": {
      "text/plain": [
       "u'love the sky blue!'"
      ]
     },
     "execution_count": 519,
     "metadata": {},
     "output_type": "execute_result"
    }
   ],
   "source": [
    "comms[0]"
   ]
  },
  {
   "cell_type": "code",
   "execution_count": 525,
   "metadata": {},
   "outputs": [],
   "source": [
    "langs = map(lambda x: langid.classify(x), comms)"
   ]
  },
  {
   "cell_type": "code",
   "execution_count": 540,
   "metadata": {},
   "outputs": [
    {
     "data": {
      "text/plain": [
       "[('en', -35.79053783416748),\n",
       " ('en', -6.015987157821655),\n",
       " ('en', -57.62565755844116),\n",
       " ('en', -50.125434160232544),\n",
       " ('en', -75.57722091674805),\n",
       " ('en', -102.35072255134583),\n",
       " ('ms', -36.77182102203369),\n",
       " ('en', -64.88403725624084),\n",
       " ('ml', -12.387055397033691),\n",
       " ('de', 3.030979633331299),\n",
       " ('en', -63.9928297996521),\n",
       " ('en', -80.82462239265442),\n",
       " ('en', -34.30848217010498),\n",
       " ('ja', -7.941030025482178),\n",
       " ('en', -65.5941002368927),\n",
       " ('en', -6.402380704879761),\n",
       " ('da', -26.85988712310791),\n",
       " ('en', -75.04624819755554),\n",
       " ('zh', -28.13015103340149),\n",
       " ('en', -17.75536346435547),\n",
       " ('am', -18.601236581802368),\n",
       " ('km', -3.9800548553466797),\n",
       " ('en', -77.28040504455566),\n",
       " ('km', -34.43167972564697),\n",
       " ('en', 9.061840057373047),\n",
       " ('en', -39.36013317108154),\n",
       " ('hr', -50.703375577926636),\n",
       " ('en', -54.36186909675598),\n",
       " ('ms', -53.59250783920288),\n",
       " ('cy', -37.24344301223755),\n",
       " ('en', -65.19735074043274),\n",
       " ('la', -108.89070224761963),\n",
       " ('en', -7.400597095489502),\n",
       " ('en', -169.81775426864624),\n",
       " ('en', -96.43033504486084),\n",
       " ('ja', 2.662698745727539),\n",
       " ('en', -17.243998050689697),\n",
       " ('en', -6.015987157821655),\n",
       " ('en', -103.45598435401917),\n",
       " ('en', -1.002140998840332),\n",
       " ('en', -77.93884634971619),\n",
       " ('en', -54.194693088531494),\n",
       " ('en', -79.11999130249023),\n",
       " ('en', -34.50865697860718),\n",
       " ('en', -103.38803791999817),\n",
       " ('en', -133.10657358169556),\n",
       " ('zh', -7.139782905578613),\n",
       " ('km', -13.190595626831055),\n",
       " ('en', -253.1515908241272),\n",
       " ('en', 9.061840057373047),\n",
       " ('en', -2.2985310554504395),\n",
       " ('en', -68.25687623023987),\n",
       " ('en', -18.71764588356018),\n",
       " ('en', -67.84481930732727),\n",
       " ('en', -125.85391497612),\n",
       " ('en', -185.96763157844543),\n",
       " ('en', -34.53905367851257),\n",
       " ('en', -16.886969804763794),\n",
       " ('en', -17.764137506484985),\n",
       " ('fi', -10.890659809112549),\n",
       " ('en', -62.169034481048584),\n",
       " ('en', -15.874862670898438),\n",
       " ('en', -79.68852877616882),\n",
       " ('en', -81.58657932281494),\n",
       " ('en', 9.061840057373047),\n",
       " ('en', -96.75865387916565),\n",
       " ('en', -163.92043089866638),\n",
       " ('en', -18.19079828262329),\n",
       " ('en', 9.061840057373047),\n",
       " ('en', -186.48832726478577),\n",
       " ('en', 9.061840057373047),\n",
       " ('sv', -12.473719120025635),\n",
       " ('en', -17.243998050689697),\n",
       " ('en', -159.93282008171082),\n",
       " ('zh', -43.76013922691345),\n",
       " ('ro', -18.58085823059082),\n",
       " ('en', -17.791893005371094),\n",
       " ('en', -60.79121518135071),\n",
       " ('en', -34.521971464157104),\n",
       " ('en', -34.98433756828308),\n",
       " ('en', -84.93145108222961),\n",
       " ('en', -51.481847524642944),\n",
       " ('en', -23.484447240829468),\n",
       " ('en', -21.640773057937622),\n",
       " ('en', -11.973466634750366),\n",
       " ('en', -46.22686457633972),\n",
       " ('en', -15.327842473983765),\n",
       " ('en', -16.112069845199585),\n",
       " ('en', -51.39005637168884),\n",
       " ('en', -27.841591119766235),\n",
       " ('en', -27.841591119766235),\n",
       " ('en', -43.71766448020935),\n",
       " ('en', -57.43761134147644),\n",
       " ('en', 9.061840057373047),\n",
       " ('ja', -12.718288898468018),\n",
       " ('en', -58.084381341934204),\n",
       " ('en', -96.68197464942932),\n",
       " ('en', -51.79818296432495),\n",
       " ('ja', -7.100305080413818),\n",
       " ('en', -35.92490100860596),\n",
       " ('en', -41.83883213996887),\n",
       " ('en', -60.327423095703125),\n",
       " ('en', -91.38973999023438),\n",
       " ('en', -84.96490859985352),\n",
       " ('fi', 4.119882583618164),\n",
       " ('en', -33.27608895301819),\n",
       " ('en', -33.27608895301819),\n",
       " ('ja', 2.872192859649658),\n",
       " ('ja', 2.662698745727539),\n",
       " ('en', -22.36395239830017),\n",
       " ('ro', -18.58085823059082),\n",
       " ('en', -182.24740386009216),\n",
       " ('ro', -55.812822341918945),\n",
       " ('en', -31.262253284454346),\n",
       " ('en', -17.938447952270508),\n",
       " ('en', -75.14304494857788),\n",
       " ('en', -51.79818296432495),\n",
       " ('en', -48.62563943862915),\n",
       " ('en', -75.26140546798706),\n",
       " ('cs', 0.5972342491149902),\n",
       " ('en', -5.657718181610107),\n",
       " ('en', -77.09439539909363),\n",
       " ('ja', 2.662698745727539),\n",
       " ('en', -25.95231866836548),\n",
       " ('en', 9.061840057373047),\n",
       " ('ja', 2.872192859649658),\n",
       " ('en', 2.0162367820739746),\n",
       " ('ro', -41.6752724647522),\n",
       " ('en', -19.548812866210938),\n",
       " ('en', -16.758251667022705),\n",
       " ('en', -11.643166065216064),\n",
       " ('en', 9.061840057373047),\n",
       " ('en', -42.03601408004761),\n",
       " ('en', -113.9027771949768),\n",
       " ('en', -67.88772869110107),\n",
       " ('en', -74.13760900497437),\n",
       " ('en', 9.061840057373047),\n",
       " ('en', -5.657718181610107),\n",
       " ('en', -6.400187969207764),\n",
       " ('en', -207.81113958358765),\n",
       " ('en', -25.045385360717773),\n",
       " ('en', -10.32582712173462),\n",
       " ('es', 0.8214035034179688),\n",
       " ('en', -16.758251667022705),\n",
       " ('en', -172.03052067756653),\n",
       " ('en', -17.99859094619751),\n",
       " ('en', -110.66593623161316),\n",
       " ('en', -21.55110788345337),\n",
       " ('en', -34.168503284454346),\n",
       " ('en', -57.203927993774414),\n",
       " ('en', -103.29494667053223),\n",
       " ('en', -63.324889183044434),\n",
       " ('zh', -195.72160649299622),\n",
       " ('lv', -21.37092113494873),\n",
       " ('en', -36.28832983970642),\n",
       " ('en', -33.61337161064148),\n",
       " ('en', -25.498780012130737),\n",
       " ('en', -6.015987157821655),\n",
       " ('en', -65.83068251609802),\n",
       " ('en', -91.80287456512451),\n",
       " ('en', -160.99307799339294),\n",
       " ('en', -93.95693612098694),\n",
       " ('en', -26.238313913345337),\n",
       " ('en', -92.17749094963074),\n",
       " ('en', -116.65498638153076),\n",
       " ('en', -32.36387801170349),\n",
       " ('en', -92.62008213996887),\n",
       " ('en', -11.973466634750366),\n",
       " ('en', -30.80661702156067),\n",
       " ('en', -115.66694331169128),\n",
       " ('en', -93.91690135002136),\n",
       " ('en', -94.61743998527527),\n",
       " ('en', -27.772639989852905),\n",
       " ('en', -275.8609154224396),\n",
       " ('en', -62.69999861717224),\n",
       " ('en', -40.31276297569275),\n",
       " ('en', -33.748154401779175),\n",
       " ('en', -21.76939845085144),\n",
       " ('en', -28.9683997631073),\n",
       " ('en', -6.015987157821655),\n",
       " ('la', -88.52146339416504),\n",
       " ('en', -78.15752148628235),\n",
       " ('en', -21.660327672958374),\n",
       " ('en', -37.49841094017029),\n",
       " ('en', -42.97632098197937),\n",
       " ('en', -155.81254744529724),\n",
       " ('en', -20.993808031082153),\n",
       " ('en', -22.38879156112671),\n",
       " ('en', -26.30469012260437),\n",
       " ('en', -11.973466634750366),\n",
       " ('en', -13.131827116012573),\n",
       " ('en', -53.373194456100464),\n",
       " ('en', -6.015987157821655),\n",
       " ('en', -152.26655268669128),\n",
       " ('en', -37.72615313529968),\n",
       " ('en', -74.86846470832825),\n",
       " ('en', -17.99859094619751),\n",
       " ('en', -253.0818862915039),\n",
       " ('en', -116.6347873210907),\n",
       " ('en', -25.25525188446045),\n",
       " ('en', -101.45380187034607),\n",
       " ('en', -38.36617708206177),\n",
       " ('en', -68.59998989105225),\n",
       " ('en', -32.51553964614868),\n",
       " ('en', -39.3305287361145),\n",
       " ('en', -69.40601658821106),\n",
       " ('en', -33.58013105392456),\n",
       " ('en', -142.07716035842896),\n",
       " ('en', -81.52029800415039),\n",
       " ('en', -33.007513999938965),\n",
       " ('en', -43.45484185218811),\n",
       " ('en', -70.23585605621338),\n",
       " ('en', 9.061840057373047),\n",
       " ('en', -117.94265127182007),\n",
       " ('en', -130.4193274974823),\n",
       " ('zh', -44.76343488693237),\n",
       " ('en', -55.515546798706055),\n",
       " ('en', -142.85047817230225),\n",
       " ('en', 9.061840057373047),\n",
       " ('en', -14.850207090377808),\n",
       " ('en', -90.62428712844849),\n",
       " ('en', -141.17902326583862),\n",
       " ('en', 9.061840057373047),\n",
       " ('en', -20.981775999069214),\n",
       " ('en', -80.16557765007019),\n",
       " ('en', -34.91643023490906),\n",
       " ('en', -110.49081945419312),\n",
       " ('zh', -98.55064845085144),\n",
       " ('en', -43.84488654136658),\n",
       " ('en', -29.984086275100708),\n",
       " ('he', -42.71845531463623),\n",
       " ('en', -119.68928480148315),\n",
       " ('en', -22.19059729576111),\n",
       " ('am', -45.837807416915894),\n",
       " ('en', -140.58124041557312),\n",
       " ('zh', -57.73578333854675),\n",
       " ('zh', -51.155799865722656),\n",
       " ('en', -36.14878535270691),\n",
       " ('en', -61.64379858970642),\n",
       " ('en', -25.236696004867554),\n",
       " ('ja', -12.718288898468018),\n",
       " ('en', -132.45133996009827),\n",
       " ('ko', -39.74030113220215),\n",
       " ('en', -29.248384475708008),\n",
       " ('km', -16.844010591506958),\n",
       " ('en', -201.91598868370056),\n",
       " ('sl', -40.485918045043945),\n",
       " ('la', -99.01184558868408),\n",
       " ('am', -33.684701681137085),\n",
       " ('la', -54.416321754455566),\n",
       " ('en', -100.1577320098877),\n",
       " ('en', -248.28388786315918),\n",
       " ('en', -84.19371604919434),\n",
       " ('en', -5.657718181610107),\n",
       " ('en', -28.62292766571045),\n",
       " ('la', -74.04543256759644),\n",
       " ('en', -24.455650806427002),\n",
       " ('la', -115.9659252166748),\n",
       " ('en', 9.061840057373047),\n",
       " ('en', -79.50732135772705),\n",
       " ('en', -25.045385360717773),\n",
       " ('zh', -6.7269446849823),\n",
       " ('hr', -41.35482215881348),\n",
       " ('en', -5.657718181610107),\n",
       " ('en', -56.053646087646484),\n",
       " ('en', -103.73509454727173),\n",
       " ('en', -94.33924579620361),\n",
       " ('en', -5.657718181610107),\n",
       " ('nl', -4.081735610961914),\n",
       " ('en', -50.66768980026245),\n",
       " ('en', -5.657718181610107),\n",
       " ('en', -51.717036724090576),\n",
       " ('en', -22.77151846885681),\n",
       " ('en', -107.37240815162659),\n",
       " ('en', -22.187641382217407),\n",
       " ('en', -98.28722548484802),\n",
       " ('en', -17.379353761672974),\n",
       " ('en', -85.04629683494568),\n",
       " ('en', -25.61163878440857),\n",
       " ('en', -6.015987157821655),\n",
       " ('lb', -83.55806064605713),\n",
       " ('en', -59.13007616996765),\n",
       " ('en', -21.139976739883423),\n",
       " ('en', 9.061840057373047),\n",
       " ('en', -95.34936189651489),\n",
       " ('tl', -20.069443464279175),\n",
       " ('ja', 3.4924278259277344),\n",
       " ('en', -17.99859094619751),\n",
       " ('sk', -46.0289831161499),\n",
       " ('en', -95.18948268890381),\n",
       " ('en', -77.30125713348389),\n",
       " ('es', -4.8332600593566895),\n",
       " ('en', -5.657718181610107),\n",
       " ('ja', 2.662698745727539),\n",
       " ('en', -33.23783588409424),\n",
       " ('ja', 2.662698745727539),\n",
       " ('en', -0.9087052345275879),\n",
       " ('en', -27.011096000671387),\n",
       " ('en', -29.43574833869934),\n",
       " ('en', -79.04400658607483),\n",
       " ('en', -38.297975063323975),\n",
       " ('en', -61.923630237579346),\n",
       " ('en', 1.8948240280151367),\n",
       " ('en', 9.061840057373047),\n",
       " ('zh', -48.719491958618164),\n",
       " ('en', -74.26208853721619),\n",
       " ('et', 0.35557985305786133),\n",
       " ('zh', -50.40718364715576),\n",
       " ('en', -46.1299262046814),\n",
       " ('en', 9.061840057373047),\n",
       " ('en', -26.083207368850708),\n",
       " ('fi', 4.119882583618164),\n",
       " ('fi', 4.119882583618164),\n",
       " ('ml', -9.312214851379395),\n",
       " ('ja', -1.8932671546936035),\n",
       " ('en', 9.061840057373047),\n",
       " ('en', 9.061840057373047),\n",
       " ('en', 9.061840057373047),\n",
       " ('ja', -1.8932671546936035),\n",
       " ('en', -135.10328769683838),\n",
       " ('en', 9.061840057373047),\n",
       " ('en', 0.013318061828613281),\n",
       " ('he', -1.8148729801177979),\n",
       " ('en', -14.356112241744995),\n",
       " ('en', -46.89320111274719),\n",
       " ('da', -13.624818325042725),\n",
       " ('en', -8.15511417388916),\n",
       " ('en', -27.213905334472656),\n",
       " ('en', -79.14255905151367),\n",
       " ('en', -134.09802889823914),\n",
       " ('en', -98.64822793006897),\n",
       " ('zh', -9.598533391952515),\n",
       " ('en', -16.886969804763794),\n",
       " ('en', -26.011836290359497),\n",
       " ('en', -56.43284368515015),\n",
       " ('en', -43.43569087982178),\n",
       " ('ja', -17.56647491455078),\n",
       " ('en', -53.974228382110596),\n",
       " ('en', -71.54729986190796),\n",
       " ('en', -55.78051686286926),\n",
       " ('en', -45.79863214492798),\n",
       " ('en', -33.990339517593384),\n",
       " ('en', -75.7233681678772),\n",
       " ('en', -284.6126911640167),\n",
       " ('en', -58.773574113845825),\n",
       " ('en', -197.28504371643066),\n",
       " ('en', -39.858755350112915),\n",
       " ('en', -18.017667770385742),\n",
       " ('en', -97.96088552474976),\n",
       " ('sk', -54.14583158493042),\n",
       " ('en', -98.62734031677246),\n",
       " ('en', -17.029980659484863),\n",
       " ('en', -100.90967178344727),\n",
       " ('en', -32.85933542251587),\n",
       " ('en', -41.30326843261719),\n",
       " ('ml', -9.312214851379395),\n",
       " ('en', -49.85025119781494),\n",
       " ('en', -91.86691403388977),\n",
       " ('en', -8.429184913635254),\n",
       " ('en', -43.127387046813965),\n",
       " ('ja', 2.7778635025024414),\n",
       " ('ru', -10.583370685577393),\n",
       " ('en', -35.047407388687134),\n",
       " ('sv', -29.271426677703857),\n",
       " ('da', -15.8791184425354),\n",
       " ('en', -105.51584029197693),\n",
       " ('en', -44.74933576583862),\n",
       " ('en', -36.566423416137695),\n",
       " ('en', -71.56173634529114),\n",
       " ('en', -112.27989506721497),\n",
       " ('en', -32.107577323913574),\n",
       " ('en', -48.40702533721924),\n",
       " ('sl', -42.24282503128052),\n",
       " ('en', -64.50591897964478),\n",
       " ('en', -44.1790885925293),\n",
       " ('en', -22.882704257965088),\n",
       " ('en', -20.34632420539856),\n",
       " ('en', -52.239253997802734),\n",
       " ('en', -51.00493884086609),\n",
       " ('en', -34.23908591270447),\n",
       " ('en', -113.61044979095459),\n",
       " ('en', -51.74543499946594),\n",
       " ('en', -82.31235361099243),\n",
       " ('en', -54.194693088531494),\n",
       " ('en', -104.64375829696655),\n",
       " ('sl', -25.040809154510498),\n",
       " ('en', -89.23580622673035),\n",
       " ('en', -76.36159372329712),\n",
       " ('en', -87.87625241279602),\n",
       " ('en', -59.1468460559845),\n",
       " ('am', -88.16161131858826),\n",
       " ('en', -112.63738775253296),\n",
       " ('id', -20.646491050720215),\n",
       " ('en', -71.86317276954651),\n",
       " ('en', -124.53429770469666),\n",
       " ('en', -71.62657284736633),\n",
       " ('en', -43.761143922805786),\n",
       " ('es', 1.8798999786376953),\n",
       " ('en', -19.438222646713257),\n",
       " ('en', -126.34406328201294),\n",
       " ('en', -122.37284708023071),\n",
       " ('en', -86.90896391868591),\n",
       " ('en', -167.83730006217957),\n",
       " ('en', -191.0131287574768),\n",
       " ('en', -161.9707338809967),\n",
       " ('en', -44.70092153549194),\n",
       " ('en', -116.67403984069824),\n",
       " ('en', -123.3852858543396),\n",
       " ('en', -42.88138747215271),\n",
       " ('en', -136.44482016563416),\n",
       " ('en', -254.7364318370819),\n",
       " ('en', -99.96719288825989),\n",
       " ('en', -36.21702265739441),\n",
       " ('en', -93.97756671905518),\n",
       " ('en', -146.34150195121765),\n",
       " ('sl', -0.8009128570556641),\n",
       " ('en', -334.3153643608093),\n",
       " ('en', 0.013318061828613281),\n",
       " ('ja', 2.662698745727539),\n",
       " ('en', -89.12427520751953),\n",
       " ('en', -268.2889521121979),\n",
       " ('en', -74.0003752708435),\n",
       " ('en', -82.92074370384216),\n",
       " ('en', -27.478721618652344),\n",
       " ('en', -165.6188259124756),\n",
       " ('en', -131.54395389556885),\n",
       " ('en', -52.15904402732849),\n",
       " ('en', -54.290817975997925),\n",
       " ('en', -36.97524619102478),\n",
       " ('en', -111.38165736198425),\n",
       " ('en', -103.28081250190735),\n",
       " ('en', -75.52713561058044),\n",
       " ('en', -49.29797911643982),\n",
       " ('en', -27.043731451034546),\n",
       " ('en', -91.63882422447205),\n",
       " ('en', -74.46432137489319),\n",
       " ('en', -28.460757732391357),\n",
       " ('en', -11.669920682907104),\n",
       " ('en', -68.98756313323975),\n",
       " ('en', -19.752866506576538),\n",
       " ('en', -89.60389399528503),\n",
       " ('or', -15.590785264968872),\n",
       " ('en', -43.613730907440186),\n",
       " ('en', -89.72408628463745),\n",
       " ('en', -124.34965205192566),\n",
       " ('de', -14.429680824279785),\n",
       " ('en', -38.50248599052429),\n",
       " ('en', -154.28926944732666),\n",
       " ('en', -51.75167894363403),\n",
       " ('en', -36.51301717758179),\n",
       " ('en', -172.49492359161377),\n",
       " ('en', -70.33005905151367),\n",
       " ('de', -22.66765594482422),\n",
       " ('en', -128.6321725845337),\n",
       " ('en', -125.3794846534729),\n",
       " ('en', -106.18276119232178),\n",
       " ('en', -17.617194175720215),\n",
       " ('en', -153.0606484413147),\n",
       " ('dz', -19.186031818389893),\n",
       " ('hi', -10.174302458763123),\n",
       " ('en', -92.24597811698914),\n",
       " ('zh', -44.454458236694336),\n",
       " ('sl', -21.849875450134277),\n",
       " ('bs', -88.6949291229248),\n",
       " ('en', -42.09317183494568),\n",
       " ('en', -84.73493361473083),\n",
       " ('en', -18.975735425949097),\n",
       " ('en', -69.46139097213745),\n",
       " ('en', -87.23116779327393),\n",
       " ('no', -73.71253681182861),\n",
       " ('en', -94.87149429321289),\n",
       " ('en', -58.552897453308105),\n",
       " ('en', -22.669206380844116),\n",
       " ('en', -28.879422903060913),\n",
       " ('en', -49.27108025550842),\n",
       " ('en', -40.28667378425598),\n",
       " ('en', -123.27414035797119),\n",
       " ('en', -41.62602400779724),\n",
       " ('en', -84.91201949119568),\n",
       " ('en', -191.35219955444336),\n",
       " ('en', -49.1733033657074),\n",
       " ('en', -106.62399077415466),\n",
       " ('en', 9.061840057373047),\n",
       " ('zh', -120.77269291877747),\n",
       " ('en', -92.35743236541748),\n",
       " ('en', -96.7749035358429),\n",
       " ('en', -68.25906324386597),\n",
       " ('en', -11.973466634750366),\n",
       " ('en', -63.38732147216797),\n",
       " ('en', -65.68572187423706),\n",
       " ('en', -147.62380933761597),\n",
       " ('ro', -6.993497848510742),\n",
       " ('en', -81.74856948852539),\n",
       " ('en', -53.52810597419739),\n",
       " ('en', -98.9032518863678),\n",
       " ('en', -70.81750273704529),\n",
       " ('en', -70.81750273704529),\n",
       " ('en', -47.48595643043518),\n",
       " ('en', -19.000068426132202),\n",
       " ('en', -27.841591119766235),\n",
       " ('en', -19.170740842819214),\n",
       " ('en', -103.84888696670532),\n",
       " ('en', -71.42423009872437),\n",
       " ('he', -27.596704959869385),\n",
       " ('en', -126.70583367347717),\n",
       " ('en', -82.75757336616516),\n",
       " ('en', -34.14788031578064),\n",
       " ('en', -26.11590838432312),\n",
       " ('zh', -30.009809732437134),\n",
       " ('la', -118.51306009292603),\n",
       " ('en', -37.440850496292114),\n",
       " ('en', -47.071857929229736),\n",
       " ('en', -42.88138747215271),\n",
       " ('en', -30.362730741500854),\n",
       " ('en', -29.984086275100708),\n",
       " ('ka', -29.72247815132141),\n",
       " ('en', -64.21668314933777),\n",
       " ('en', -99.01815867424011),\n",
       " ('en', -169.08471179008484),\n",
       " ('en', -45.42395353317261),\n",
       " ('en', -39.932528257369995),\n",
       " ('en', -47.15121507644653),\n",
       " ('en', -86.52741432189941),\n",
       " ('en', -39.59796714782715),\n",
       " ('en', -20.06240940093994),\n",
       " ('en', -55.29909563064575),\n",
       " ('en', -18.930850505828857),\n",
       " ('en', -57.669575929641724),\n",
       " ('en', -26.11590838432312),\n",
       " ('en', -2.9485063552856445),\n",
       " ('en', -125.72373938560486),\n",
       " ('zh', -37.48643517494202),\n",
       " ('en', -98.79440140724182),\n",
       " ('en', -17.627400159835815),\n",
       " ('en', -20.993808031082153),\n",
       " ('en', -110.52703046798706),\n",
       " ('en', -114.64160633087158),\n",
       " ('en', -41.4585816860199),\n",
       " ('en', -31.63896918296814),\n",
       " ('en', -50.55790972709656),\n",
       " ('en', -102.9408061504364),\n",
       " ('en', -118.02687120437622),\n",
       " ('en', -74.72686696052551),\n",
       " ('en', -19.702617168426514),\n",
       " ('en', 9.061840057373047),\n",
       " ('en', -58.17830562591553),\n",
       " ('en', 9.061840057373047),\n",
       " ('en', -19.66492795944214),\n",
       " ('fi', -22.428068161010742),\n",
       " ('it', -2.5871224403381348),\n",
       " ('en', -66.69986295700073),\n",
       " ('en', -81.35872530937195),\n",
       " ('en', -5.89164400100708),\n",
       " ('en', -5.89164400100708),\n",
       " ('en', -5.89164400100708),\n",
       " ('en', -72.33286571502686),\n",
       " ('fr', -25.892601013183594),\n",
       " ('en', -77.98434019088745),\n",
       " ('br', -36.972248554229736),\n",
       " ('en', 9.061840057373047),\n",
       " ('en', -104.8867244720459),\n",
       " ('en', -49.91369843482971),\n",
       " ('ne', -16.063668727874756),\n",
       " ('en', -81.4405620098114),\n",
       " ('en', -111.85965013504028),\n",
       " ('en', -88.37557005882263),\n",
       " ('en', -204.9931411743164),\n",
       " ('en', 9.061840057373047),\n",
       " ('en', -54.88469862937927),\n",
       " ('en', 1.8948240280151367),\n",
       " ('en', -43.91209030151367),\n",
       " ('fr', -5.061020851135254),\n",
       " ('it', -14.135857105255127),\n",
       " ('en', -159.6643831729889),\n",
       " ('en', -259.40924644470215),\n",
       " ('en', -61.859055519104004),\n",
       " ('it', -23.96530055999756),\n",
       " ('en', 9.061840057373047),\n",
       " ('en', -27.142534255981445),\n",
       " ('en', -86.01084280014038),\n",
       " ('en', -103.35634660720825),\n",
       " ('en', -56.1296489238739),\n",
       " ('en', -75.74811220169067),\n",
       " ('en', -69.41027975082397),\n",
       " ('en', -56.15952444076538),\n",
       " ('en', -155.3857297897339),\n",
       " ('en', -164.02677154541016),\n",
       " ('en', -208.50531482696533),\n",
       " ('en', -108.29938244819641),\n",
       " ('en', -99.07576322555542),\n",
       " ('en', -32.78223252296448),\n",
       " ('en', -138.09924983978271),\n",
       " ('en', -211.56950497627258),\n",
       " ('en', -66.46958422660828),\n",
       " ('hr', -41.185399532318115),\n",
       " ('en', -22.038241863250732),\n",
       " ('en', 9.061840057373047),\n",
       " ('zh', -39.56424832344055),\n",
       " ('en', -205.00965476036072),\n",
       " ('en', 9.061840057373047),\n",
       " ('en', 9.061840057373047),\n",
       " ('en', -33.27608895301819),\n",
       " ('en', 9.061840057373047),\n",
       " ('en', -78.6636266708374),\n",
       " ('en', -39.493831157684326),\n",
       " ('zh', -17.21969437599182),\n",
       " ('pt', -24.638535499572754),\n",
       " ('en', -6.402380704879761),\n",
       " ('no', -31.678686141967773),\n",
       " ('zh', -31.8395574092865),\n",
       " ('oc', -25.859336376190186),\n",
       " ('en', -5.987781524658203),\n",
       " ('en', -56.67330622673035),\n",
       " ('ca', -33.1872239112854),\n",
       " ('ml', -3.8197927474975586),\n",
       " ('zh', -38.40063548088074),\n",
       " ('sl', -0.8009128570556641),\n",
       " ('vi', -11.621099472045898),\n",
       " ('en', -129.52221035957336),\n",
       " ('en', -125.47090148925781),\n",
       " ('fi', -6.410347938537598),\n",
       " ('am', -34.15522503852844),\n",
       " ('en', -40.0745530128479),\n",
       " ('en', -89.08306312561035),\n",
       " ('hi', 1.189557671546936),\n",
       " ('en', -12.73246955871582),\n",
       " ('en', 9.061840057373047),\n",
       " ('en', -48.35599613189697),\n",
       " ('en', -11.653253555297852),\n",
       " ('ca', -14.11134672164917),\n",
       " ('en', 9.061840057373047),\n",
       " ('vi', -8.737055778503418),\n",
       " ('en', -74.71696162223816),\n",
       " ('en', -68.49474596977234),\n",
       " ('en', -6.015987157821655),\n",
       " ('en', -12.094929933547974),\n",
       " ('en', -26.213573694229126),\n",
       " ('en', -33.0813148021698),\n",
       " ('en', -27.841591119766235),\n",
       " ('en', -46.16232657432556),\n",
       " ('en', -47.68643498420715),\n",
       " ('en', -31.890204191207886),\n",
       " ('en', -67.28532576560974),\n",
       " ('en', -35.11868405342102),\n",
       " ('en', -31.112191915512085),\n",
       " ('en', -57.850626707077026),\n",
       " ('en', -13.895789384841919),\n",
       " ('en', -34.31457304954529),\n",
       " ('en', -11.973466634750366),\n",
       " ('en', -23.507361888885498),\n",
       " ('en', -26.527026891708374),\n",
       " ('en', -45.68342185020447),\n",
       " ('en', -74.6438205242157),\n",
       " ('en', -21.76939845085144),\n",
       " ('en', -19.29955220222473),\n",
       " ('en', -66.96573138237),\n",
       " ('en', -52.22733283042908),\n",
       " ('en', -51.64220213890076),\n",
       " ('en', -12.094929933547974),\n",
       " ('en', -12.110203981399536),\n",
       " ('en', -54.89968943595886),\n",
       " ('en', -21.064700841903687),\n",
       " ('en', -19.494946718215942),\n",
       " ('en', -39.858755350112915),\n",
       " ('en', -57.26437067985535),\n",
       " ('en', -50.3837730884552),\n",
       " ('en', -24.183400869369507),\n",
       " ('en', -29.131914854049683),\n",
       " ('jv', -49.624520778656006),\n",
       " ('ko', -1.4316258430480957),\n",
       " ('en', -268.06585717201233),\n",
       " ('zh', -29.93578290939331),\n",
       " ('en', -21.97637367248535),\n",
       " ('sl', -34.34721231460571),\n",
       " ('en', 9.061840057373047),\n",
       " ('zh', -45.136722564697266),\n",
       " ('ja', 2.662698745727539),\n",
       " ('en', 9.061840057373047),\n",
       " ('ja', -15.886091709136963),\n",
       " ('en', -198.0853190422058),\n",
       " ('en', -49.9255473613739),\n",
       " ('sl', -0.8009128570556641),\n",
       " ('en', -44.368754625320435),\n",
       " ('en', -66.78528666496277),\n",
       " ('en', -68.7836811542511),\n",
       " ('en', -37.458171129226685),\n",
       " ('zh', -33.40832495689392),\n",
       " ('zh', -33.40832495689392),\n",
       " ('en', -105.35263657569885),\n",
       " ('en', -150.1680464744568),\n",
       " ('en', -33.46808695793152),\n",
       " ('en', -107.578777551651),\n",
       " ('ar', -38.45825910568237),\n",
       " ('en', -72.79111099243164),\n",
       " ('lt', -7.262699842453003),\n",
       " ('zh', -5.457463502883911),\n",
       " ('en', -46.1282799243927),\n",
       " ('en', -65.56315588951111),\n",
       " ('en', -120.00278663635254),\n",
       " ('en', -47.917322874069214),\n",
       " ('en', -6.119414806365967),\n",
       " ('en', 9.061840057373047),\n",
       " ('he', -30.08345913887024),\n",
       " ('en', 9.061840057373047),\n",
       " ('en', -33.851356983184814),\n",
       " ('en', 9.061840057373047),\n",
       " ('et', -19.937851190567017),\n",
       " ('zh', -65.46500539779663),\n",
       " ('en', -21.530030012130737),\n",
       " ('en', 9.061840057373047),\n",
       " ('zh', -29.5078444480896),\n",
       " ('ja', 2.662698745727539),\n",
       " ('la', -59.94590950012207),\n",
       " ('en', -17.12675714492798),\n",
       " ('en', -128.0573024749756),\n",
       " ('en', 9.061840057373047),\n",
       " ('en', -8.338529586791992),\n",
       " ('en', 0.013318061828613281),\n",
       " ('en', -13.449657917022705),\n",
       " ('en', -16.886969804763794),\n",
       " ('en', -27.33062767982483),\n",
       " ('da', -34.56859493255615),\n",
       " ('en', -59.448389768600464),\n",
       " ('ka', -30.73343801498413),\n",
       " ('en', -147.71812343597412),\n",
       " ('ja', -12.46089220046997),\n",
       " ('zh', -39.669249296188354),\n",
       " ('en', -153.4099907875061),\n",
       " ('ml', -9.312214851379395),\n",
       " ('ml', -9.312214851379395),\n",
       " ('nl', -1.0458073616027832),\n",
       " ('en', -11.411117553710938),\n",
       " ('en', 9.061840057373047),\n",
       " ('ne', -5.2030017375946045),\n",
       " ('en', -34.709086894989014),\n",
       " ('en', -69.2756199836731),\n",
       " ('en', -29.87199091911316),\n",
       " ('en', -6.015987157821655),\n",
       " ('en', -42.06530404090881),\n",
       " ('en', -42.78827691078186),\n",
       " ('en', -79.04258990287781),\n",
       " ('en', -40.20036721229553),\n",
       " ('en', -6.015987157821655),\n",
       " ('en', -40.55508542060852),\n",
       " ('en', -16.282665967941284),\n",
       " ('en', -68.89559817314148),\n",
       " ('en', -51.929909467697144),\n",
       " ('en', -31.112191915512085),\n",
       " ('en', -107.95731902122498),\n",
       " ('en', -6.015987157821655),\n",
       " ('en', -12.110203981399536),\n",
       " ('zh', -90.08404302597046),\n",
       " ('en', -121.05378937721252),\n",
       " ('en', -61.930304765701294),\n",
       " ('en', -29.77362561225891),\n",
       " ('en', -89.2034056186676),\n",
       " ('en', -25.87254786491394),\n",
       " ('en', -35.48531937599182),\n",
       " ('en', -80.20371317863464),\n",
       " ('en', -34.91643023490906),\n",
       " ('en', -15.384999990463257),\n",
       " ('en', -76.51373028755188),\n",
       " ('en', -66.22375416755676),\n",
       " ('en', -64.01862359046936),\n",
       " ('la', -121.90098905563354),\n",
       " ('en', 9.061840057373047),\n",
       " ('ro', -18.58085823059082),\n",
       " ('en', -69.34590005874634),\n",
       " ('en', -108.74488687515259),\n",
       " ('zh', -31.782185792922974),\n",
       " ('zh', -21.39493751525879),\n",
       " ('en', -16.886969804763794),\n",
       " ('lb', -82.90827894210815),\n",
       " ('en', -96.73849487304688),\n",
       " ('en', -101.72378206253052),\n",
       " ('en', -22.187657594680786),\n",
       " ('en', -15.104469060897827),\n",
       " ('en', -49.457929849624634),\n",
       " ('en', -31.413411855697632),\n",
       " ('en', -60.9367311000824),\n",
       " ('en', -22.933898210525513),\n",
       " ('en', -32.90339684486389),\n",
       " ('en', -28.634415864944458),\n",
       " ('en', -122.87861967086792),\n",
       " ('en', -30.507973432540894),\n",
       " ('en', -60.376137018203735),\n",
       " ('en', -141.33710289001465),\n",
       " ('en', -16.45638418197632),\n",
       " ('en', -59.89355254173279),\n",
       " ('en', -111.64178037643433),\n",
       " ('en', -12.321393489837646),\n",
       " ('en', 0.013318061828613281),\n",
       " ('zh', -41.35146713256836),\n",
       " ('en', -33.27608895301819),\n",
       " ('en', -140.25987219810486),\n",
       " ('en', -90.58611536026001),\n",
       " ('en', -284.43881011009216),\n",
       " ('ro', -13.903182029724121),\n",
       " ('zh', -94.6229681968689),\n",
       " ('sl', -0.8009128570556641),\n",
       " ('en', -140.2537293434143),\n",
       " ('en', -120.28730273246765),\n",
       " ('an', -57.95605683326721),\n",
       " ('en', -44.44856333732605),\n",
       " ('en', -91.6368772983551),\n",
       " ('es', -42.17708492279053),\n",
       " ('en', 9.061840057373047),\n",
       " ('ml', -3.8197927474975586),\n",
       " ('en', -41.85923933982849),\n",
       " ('en', -40.036200523376465),\n",
       " ('zh', -22.36532473564148),\n",
       " ('en', -52.118231534957886),\n",
       " ('en', -43.306725025177),\n",
       " ('en', 9.061840057373047),\n",
       " ('en', -25.023847103118896),\n",
       " ('en', -27.19465661048889),\n",
       " ('en', 9.061840057373047),\n",
       " ('ro', -18.58085823059082),\n",
       " ('en', -109.37782955169678),\n",
       " ('en', -6.183254718780518),\n",
       " ('it', 2.2209625244140625),\n",
       " ('hi', -2.8157689571380615),\n",
       " ('ja', -2.860909938812256),\n",
       " ('zh', -16.42330241203308),\n",
       " ('en', -57.649231910705566),\n",
       " ('zh', -27.540228128433228),\n",
       " ('zh', -6.879476070404053),\n",
       " ('en', -13.352358341217041),\n",
       " ('en', -96.386873960495),\n",
       " ('lb', -117.68637466430664),\n",
       " ('zh', -18.68388319015503),\n",
       " ('en', -26.541212558746338),\n",
       " ('en', -42.38724422454834),\n",
       " ('hr', -67.5136284828186),\n",
       " ('es', -4.464839935302734),\n",
       " ('en', 3.6121368408203125),\n",
       " ('en', -29.73043704032898),\n",
       " ('en', -82.0004951953888),\n",
       " ('en', -69.0688796043396),\n",
       " ('en', -68.10993075370789),\n",
       " ('en', -66.2760534286499),\n",
       " ('en', -167.83645844459534),\n",
       " ('en', -29.829499006271362),\n",
       " ('en', -88.45694851875305),\n",
       " ('en', -6.015987157821655),\n",
       " ('en', -34.640767335891724),\n",
       " ('en', -37.48851037025452),\n",
       " ('la', -152.1350703239441),\n",
       " ('en', -104.26418709754944),\n",
       " ('hy', -17.094654202461243),\n",
       " ('en', -31.45465874671936),\n",
       " ('it', -9.267398834228516),\n",
       " ('la', -202.47601795196533),\n",
       " ('en', -79.53415322303772),\n",
       " ('en', -60.35100173950195),\n",
       " ('hr', -20.97512149810791),\n",
       " ('en', -25.558239459991455),\n",
       " ('en', -32.59565329551697),\n",
       " ('en', -60.14561581611633),\n",
       " ('en', -67.82659554481506),\n",
       " ('en', -36.459441900253296),\n",
       " ('en', -27.33291220664978),\n",
       " ('en', -54.56444811820984),\n",
       " ('en', -67.09575629234314),\n",
       " ('ja', -23.019156455993652),\n",
       " ('en', -42.40095543861389),\n",
       " ('it', -27.238985061645508),\n",
       " ('en', -48.851181745529175),\n",
       " ('en', -27.179194927215576),\n",
       " ('zh', -43.91401648521423),\n",
       " ('zh', -31.910302877426147),\n",
       " ('zh', -56.898953437805176),\n",
       " ('zh', -113.53727722167969),\n",
       " ('en', -29.984086275100708),\n",
       " ('en', -43.998069047927856),\n",
       " ('zh', -58.363142251968384),\n",
       " ('en', -66.20459389686584),\n",
       " ('en', -31.60119652748108),\n",
       " ('en', -93.54285788536072),\n",
       " ('en', -47.81161141395569),\n",
       " ('en', -115.31781029701233),\n",
       " ('en', -46.42898678779602),\n",
       " ('en', -20.528958082199097),\n",
       " ('en', -71.16117644309998),\n",
       " ('en', -100.73470211029053),\n",
       " ('en', -68.62234663963318),\n",
       " ('en', -62.11334276199341),\n",
       " ('en', -258.70105719566345),\n",
       " ('en', -57.47039222717285),\n",
       " ('en', -243.28222918510437),\n",
       " ('zh', -5.457463502883911),\n",
       " ('it', -9.267398834228516),\n",
       " ('en', -16.70578670501709),\n",
       " ('en', -42.66820001602173),\n",
       " ('en', -30.435768842697144),\n",
       " ('la', -133.61045789718628),\n",
       " ('en', -18.20933699607849),\n",
       " ('ja', 2.662698745727539),\n",
       " ('en', -62.7801148891449),\n",
       " ('en', -18.199684858322144),\n",
       " ('pl', -45.23790979385376),\n",
       " ('en', -56.05488991737366),\n",
       " ('en', -67.01384162902832),\n",
       " ('en', -15.327842473983765),\n",
       " ('en', -65.63521265983582),\n",
       " ('en', -60.9367311000824),\n",
       " ('en', -17.83051371574402),\n",
       " ('en', -108.54991269111633),\n",
       " ('en', -17.81186819076538),\n",
       " ('th', -26.05714702606201),\n",
       " ('zh', -5.801800966262817),\n",
       " ('en', -135.18312621116638),\n",
       " ('no', -104.64257383346558),\n",
       " ('en', -12.321393489837646),\n",
       " ('qu', -40.48511743545532),\n",
       " ('en', -20.514758586883545),\n",
       " ('en', -84.81765699386597),\n",
       " ('en', -6.402380704879761),\n",
       " ('en', -79.39481663703918),\n",
       " ('ro', -54.79236316680908),\n",
       " ('en', -102.94366073608398),\n",
       " ('en', -5.657718181610107),\n",
       " ('en', -52.95589828491211),\n",
       " ('en', -118.73023295402527),\n",
       " ('en', -68.18534755706787),\n",
       " ('zh', -123.618093252182),\n",
       " ('he', -11.738928079605103),\n",
       " ('en', -36.721720933914185),\n",
       " ('en', 0.013318061828613281),\n",
       " ('en', -92.0522871017456),\n",
       " ('en', -58.94738435745239),\n",
       " ('en', -31.77601456642151),\n",
       " ('en', -257.7340214252472),\n",
       " ('en', -257.7340214252472),\n",
       " ('en', -59.99201798439026),\n",
       " ('en', -12.110203981399536),\n",
       " ('en', -62.33826231956482),\n",
       " ('en', -62.33826231956482),\n",
       " ('zh', -28.513519763946533),\n",
       " ('zh', -0.6307957172393799),\n",
       " ('en', -55.50593543052673),\n",
       " ('en', -159.3942368030548),\n",
       " ('en', -204.83397936820984),\n",
       " ('ko', -21.948830127716064),\n",
       " ('en', -20.394577503204346),\n",
       " ('la', -61.39654350280762),\n",
       " ('fr', 0.044544219970703125),\n",
       " ('en', 9.061840057373047),\n",
       " ('zh', -163.17416524887085),\n",
       " ('en', 9.061840057373047),\n",
       " ('la', -84.46056938171387),\n",
       " ('ar', -8.877908706665039),\n",
       " ('ja', 2.662698745727539),\n",
       " ('en', -64.06420302391052),\n",
       " ('en', 0.013318061828613281),\n",
       " ('en', -62.91128158569336),\n",
       " ('ja', 2.872192859649658),\n",
       " ('ja', -18.752826690673828),\n",
       " ('en', -120.29429125785828),\n",
       " ('en', -102.62569999694824),\n",
       " ('en', -7.407862186431885),\n",
       " ('zh', -28.43000602722168),\n",
       " ('ml', -3.8197927474975586),\n",
       " ('en', -40.210694313049316),\n",
       " ('sl', -0.8009128570556641),\n",
       " ('en', -23.941071271896362),\n",
       " ('en', -54.189841508865356),\n",
       " ('en', -44.69472789764404),\n",
       " ('en', -31.147788763046265),\n",
       " ('en', -43.384806871414185),\n",
       " ('en', -28.498958349227905),\n",
       " ('en', -11.973466634750366),\n",
       " ('en', -30.439239740371704),\n",
       " ('en', -92.2453887462616),\n",
       " ('en', -32.28882908821106),\n",
       " ('en', -29.464491605758667),\n",
       " ('en', -113.91142725944519),\n",
       " ('en', -112.80019640922546),\n",
       " ('en', -48.66607451438904),\n",
       " ('en', -47.917322874069214),\n",
       " ('en', -66.39239859580994),\n",
       " ('en', -57.98115944862366),\n",
       " ('en', -11.669920682907104),\n",
       " ('en', -6.015987157821655),\n",
       " ('en', -28.699089765548706),\n",
       " ('en', -15.327842473983765),\n",
       " ('en', -40.83820462226868),\n",
       " ('en', -18.287137746810913),\n",
       " ('en', -28.963963508605957),\n",
       " ('en', -29.53403663635254),\n",
       " ('he', -23.261279344558716),\n",
       " ('en', -14.12142276763916),\n",
       " ('he', -8.882019519805908),\n",
       " ('en', 0.013318061828613281),\n",
       " ('en', -55.051292419433594),\n",
       " ('en', -27.475273609161377),\n",
       " ('en', -65.9970633983612),\n",
       " ('de', -5.435093879699707),\n",
       " ('en', -1.4227490425109863),\n",
       " ('en', -22.986774444580078),\n",
       " ...]"
      ]
     },
     "execution_count": 540,
     "metadata": {},
     "output_type": "execute_result"
    }
   ],
   "source": [
    "langs"
   ]
  },
  {
   "cell_type": "code",
   "execution_count": 528,
   "metadata": {},
   "outputs": [],
   "source": [
    "langsdist = map(lambda x: x[0], langs)"
   ]
  },
  {
   "cell_type": "code",
   "execution_count": 549,
   "metadata": {},
   "outputs": [
    {
     "data": {
      "text/plain": [
       "[('gu', 5.508035321824618e-05),\n",
       " ('ga', 0.000724192573082503),\n",
       " ('gl', 0.0004419465027452178),\n",
       " ('lb', 0.0020331929200778642),\n",
       " ('la', 0.012293674102912697),\n",
       " ('lo', 0.0004776889804746123),\n",
       " ('tr', 0.001967139952115944),\n",
       " ('lv', 0.0013873296067002045),\n",
       " ('tl', 0.001215026963299537),\n",
       " ('th', 0.0012836872852599543),\n",
       " ('te', 0.0001498142151636321),\n",
       " ('ta', 0.0016823951675300991),\n",
       " ('de', 0.03185643387413477),\n",
       " ('ko', 0.004057260101160989),\n",
       " ('da', 0.005215794394493095),\n",
       " ('dz', 0.0007001831883463444),\n",
       " ('qu', 0.0010786840771281386),\n",
       " ('kn', 0.00026214771659887183),\n",
       " ('el', 0.00031668487106743115),\n",
       " ('eo', 0.001007307761419287),\n",
       " ('en', 0.5260032500667591),\n",
       " ('zh', 0.06794601560457912),\n",
       " ('eu', 0.002061113335811768),\n",
       " ('zu', 0.0003159243928178696),\n",
       " ('es', 0.020936074850180352),\n",
       " ('ru', 0.0007922010565432961),\n",
       " ('rw', 0.0007664534358081396),\n",
       " ('ro', 0.003901796619000614),\n",
       " ('bn', 0.00024335303985970698),\n",
       " ('be', 9.429930294563646e-05),\n",
       " ('bg', 6.637888721173257e-05),\n",
       " ('ms', 0.0012447942547823762),\n",
       " ('wa', 0.00023357546236534374),\n",
       " ('jv', 0.000803065031537033),\n",
       " ('br', 0.0012089431373030442),\n",
       " ('bs', 0.0030541892899892597),\n",
       " ('ja', 0.05395473676914509),\n",
       " ('oc', 0.0012555495900261756),\n",
       " ('or', 0.000513214178704132),\n",
       " ('xh', 0.0007027905423448412),\n",
       " ('ca', 0.0012879242355075117),\n",
       " ('cy', 0.0017611589862346919),\n",
       " ('cs', 0.003468541296250386),\n",
       " ('ps', 0.00014883645741419578),\n",
       " ('pt', 0.004230649142061031),\n",
       " ('lt', 0.007361646735256011),\n",
       " ('pa', 7.517870695665948e-05),\n",
       " ('pl', 0.00872279416222131),\n",
       " ('hy', 0.0002623649960987466),\n",
       " ('hr', 0.01036749133652314),\n",
       " ('ht', 0.0004672595644806249),\n",
       " ('hu', 0.001879250394416612),\n",
       " ('hi', 0.004855762263200653),\n",
       " ('an', 0.0006309796676362402),\n",
       " ('he', 0.017138898310369424),\n",
       " ('mg', 0.0013246444709863424),\n",
       " ('ml', 0.01575406741791778),\n",
       " ('mn', 4.541141547382032e-05),\n",
       " ('mk', 6.529248971235888e-05),\n",
       " ('ur', 0.0007215852190840061),\n",
       " ('mt', 0.0032392027841325996),\n",
       " ('uk', 6.235921646404991e-05),\n",
       " ('mr', 0.001254789111776614),\n",
       " ('ug', 5.073476322075141e-05),\n",
       " ('af', 0.0008192523542777011),\n",
       " ('vi', 0.004008806772688923),\n",
       " ('is', 0.000733318312077242),\n",
       " ('am', 0.00855505438831801),\n",
       " ('it', 0.020157671041879103),\n",
       " ('vo', 0.00042260862725636614),\n",
       " ('as', 0.00016024363115761954),\n",
       " ('ar', 0.002223529761968135),\n",
       " ('et', 0.005525960880564284),\n",
       " ('az', 0.000542655550937159),\n",
       " ('id', 0.003853777849528297),\n",
       " ('nl', 0.009942927193767902),\n",
       " ('nn', 0.001179719044569892),\n",
       " ('no', 0.006582917007704948),\n",
       " ('nb', 0.000501155166461084),\n",
       " ('ne', 0.0016552352300457569),\n",
       " ('fr', 0.014760013705990851),\n",
       " ('fa', 0.0018605643574273847),\n",
       " ('fi', 0.016579838157191724),\n",
       " ('fo', 0.00014112303516864257),\n",
       " ('ka', 0.004970594478884452),\n",
       " ('kk', 3.7697993228267104e-05),\n",
       " ('sr', 0.00014677230216538577),\n",
       " ('sq', 0.00039403637302283805),\n",
       " ('sw', 0.0021923501537361102),\n",
       " ('sv', 0.010669727120848902),\n",
       " ('km', 0.017898290162431635),\n",
       " ('sk', 0.002798451318636693),\n",
       " ('si', 0.0010471785496463015),\n",
       " ('ku', 0.00015839675540868427),\n",
       " ('sl', 0.01957503606296499),\n",
       " ('ky', 2.281434748684753e-05),\n",
       " ('se', 0.00040207571451820334)]"
      ]
     },
     "execution_count": 549,
     "metadata": {},
     "output_type": "execute_result"
    }
   ],
   "source": [
    "co = Counter(langsdist).items()\n",
    "#print co[0]\n",
    "co = map(lambda x: (x[0], float(x[1])/float(len(comms))), co)\n",
    "co"
   ]
  },
  {
   "cell_type": "code",
   "execution_count": 550,
   "metadata": {},
   "outputs": [
    {
     "data": {
      "text/plain": [
       "97"
      ]
     },
     "execution_count": 550,
     "metadata": {},
     "output_type": "execute_result"
    }
   ],
   "source": [
    "len(co)"
   ]
  },
  {
   "cell_type": "code",
   "execution_count": 531,
   "metadata": {},
   "outputs": [],
   "source": [
    "langScores = Counter(langsdist).most_common(10)"
   ]
  },
  {
   "cell_type": "code",
   "execution_count": 532,
   "metadata": {},
   "outputs": [
    {
     "data": {
      "text/plain": [
       "[('en', 4841720),\n",
       " ('zh', 625425),\n",
       " ('ja', 496639),\n",
       " ('de', 293230),\n",
       " ('es', 192711),\n",
       " ('it', 185546),\n",
       " ('sl', 180183),\n",
       " ('km', 164749),\n",
       " ('he', 157759),\n",
       " ('fi', 152613)]"
      ]
     },
     "execution_count": 532,
     "metadata": {},
     "output_type": "execute_result"
    }
   ],
   "source": [
    "langScores"
   ]
  },
  {
   "cell_type": "code",
   "execution_count": 536,
   "metadata": {},
   "outputs": [],
   "source": [
    "labels, values = zip(*Counter(langsdist).most_common(10))"
   ]
  },
  {
   "cell_type": "code",
   "execution_count": 537,
   "metadata": {},
   "outputs": [],
   "source": [
    "colors = ['gold', 'yellowgreen', 'lightcoral', 'lightskyblue', \"red\", \"aqua\", \"chocolate\", \"beige\", \"indigo\", \"magenta\"]"
   ]
  },
  {
   "cell_type": "code",
   "execution_count": 539,
   "metadata": {},
   "outputs": [
    {
     "data": {
      "image/png": "[encoded data removed]",
      "text/plain": [
       "<matplotlib.figure.Figure at 0x7f9322304890>"
      ]
     },
     "metadata": {},
     "output_type": "display_data"
    }
   ],
   "source": [
    "plt.pie(values, labels=labels, colors=colors,\n",
    "        autopct='%1.1f%%', shadow=True, startangle=140)\n",
    " \n",
    "plt.axis('equal')\n",
    "#plt.savefig('figures/brand_inference.pdf', format='pdf', dpi=1000)\n",
    "plt.show()"
   ]
  },
  {
   "cell_type": "code",
   "execution_count": null,
   "metadata": {},
   "outputs": [],
   "source": [
    "commlens = map(lambda x: len())"
   ]
  },
  {
   "cell_type": "code",
   "execution_count": 210,
   "metadata": {},
   "outputs": [],
   "source": [
    "commentLengths = map(lambda x: len(tknzr.tokenize(x)), comms)"
   ]
  },
  {
   "cell_type": "code",
   "execution_count": 211,
   "metadata": {},
   "outputs": [
    {
     "data": {
      "text/plain": [
       "9204734"
      ]
     },
     "execution_count": 211,
     "metadata": {},
     "output_type": "execute_result"
    }
   ],
   "source": [
    "len(commentLengths)"
   ]
  },
  {
   "cell_type": "code",
   "execution_count": 213,
   "metadata": {},
   "outputs": [
    {
     "data": {
      "text/plain": [
       "6.0553960603315637"
      ]
     },
     "execution_count": 213,
     "metadata": {},
     "output_type": "execute_result"
    }
   ],
   "source": [
    "np.array(commentLengths).mean()"
   ]
  },
  {
   "cell_type": "code",
   "execution_count": 214,
   "metadata": {},
   "outputs": [
    {
     "data": {
      "text/plain": [
       "1303"
      ]
     },
     "execution_count": 214,
     "metadata": {},
     "output_type": "execute_result"
    }
   ],
   "source": [
    "np.array(commentLengths).max()"
   ]
  },
  {
   "cell_type": "code",
   "execution_count": 215,
   "metadata": {},
   "outputs": [
    {
     "data": {
      "text/plain": [
       "0"
      ]
     },
     "execution_count": 215,
     "metadata": {},
     "output_type": "execute_result"
    }
   ],
   "source": [
    "np.array(commentLengths).min()"
   ]
  },
  {
   "cell_type": "code",
   "execution_count": 69,
   "metadata": {},
   "outputs": [],
   "source": [
    "totalPosts2 = df1.size"
   ]
  },
  {
   "cell_type": "code",
   "execution_count": 70,
   "metadata": {},
   "outputs": [
    {
     "data": {
      "text/plain": [
       "188960"
      ]
     },
     "execution_count": 70,
     "metadata": {},
     "output_type": "execute_result"
    }
   ],
   "source": [
    "totalPosts2"
   ]
  },
  {
   "cell_type": "code",
   "execution_count": 71,
   "metadata": {},
   "outputs": [
    {
     "data": {
      "text/plain": [
       "array([ 35,  83, 177, ...,   1,   1,   3])"
      ]
     },
     "execution_count": 71,
     "metadata": {},
     "output_type": "execute_result"
    }
   ],
   "source": [
    "df1[\"comments\"].values"
   ]
  },
  {
   "cell_type": "code",
   "execution_count": 74,
   "metadata": {},
   "outputs": [],
   "source": [
    "labels3, values3 = zip(*Counter(df1[\"comments\"].values).items())\n",
    "#values = map(lambda x: float(x), values)\n",
    "indexes3 = np.arange(len(labels))"
   ]
  },
  {
   "cell_type": "code",
   "execution_count": null,
   "metadata": {},
   "outputs": [],
   "source": []
  },
  {
   "cell_type": "code",
   "execution_count": 176,
   "metadata": {},
   "outputs": [
    {
     "data": {
      "image/png": "[encoded data removed]",
      "text/plain": [
       "<matplotlib.figure.Figure at 0x7f9450707b10>"
      ]
     },
     "metadata": {},
     "output_type": "display_data"
    }
   ],
   "source": [
    "fig = plt.figure()\n",
    "ax = plt.gca()\n",
    "ax.plot(labels3, values3, 'o', c='blue', alpha=0.2, markeredgecolor='none', label=\"Comments\")\n",
    "ax.plot(labels, values, 'o', c='red', alpha=0.2, markeredgecolor='none', label=\"Words\")\n",
    "ax.set_yscale('log')\n",
    "ax.set_xscale('log')\n",
    "ax.arrow(1, math.pow(10,3.5), 0, math.pow(10,math.log(values3[0],10))-5000, head_width=0.2, head_length=700.5, linewidth=0.85,fc='k', ec='k', fill=False)\n",
    "ax.annotate(\"Posts with \\n0 comments\", xy=(1.1, math.pow(10,3.4)), fontsize=7)\n",
    "ax.arrow(1, math.pow(10,2), 0, math.pow(10,math.log(values[0],10))-950, head_width=0.2, head_length=20, linewidth=0.85,fc='k', ec='k', fill=False)\n",
    "ax.annotate(\"Posts with \\n0 words\\n(comments+caption+tags)\", xy=(1.15, math.pow(10,1.85)), fontsize=7)\n",
    "plt.ylabel('Log frequency')\n",
    "plt.xlabel('Log count')\n",
    "plt.title(r'Log-Log plot over the frequency of text per post')\n",
    "#plt.title(r'Log-Log plot over the frequency of number of comments per post')\n",
    "plt.legend()\n",
    "plt.savefig('comments_words_posts_loglog2.eps', format='eps', dpi=1000)"
   ]
  },
  {
   "cell_type": "code",
   "execution_count": 110,
   "metadata": {},
   "outputs": [],
   "source": [
    "import math"
   ]
  },
  {
   "cell_type": "code",
   "execution_count": 111,
   "metadata": {},
   "outputs": [
    {
     "data": {
      "text/plain": [
       "1"
      ]
     },
     "execution_count": 111,
     "metadata": {},
     "output_type": "execute_result"
    }
   ],
   "source": [
    "labels3[0]"
   ]
  },
  {
   "cell_type": "code",
   "execution_count": 112,
   "metadata": {},
   "outputs": [
    {
     "data": {
      "text/plain": [
       "7075"
      ]
     },
     "execution_count": 112,
     "metadata": {},
     "output_type": "execute_result"
    }
   ],
   "source": [
    "values3[0]"
   ]
  },
  {
   "cell_type": "code",
   "execution_count": 117,
   "metadata": {},
   "outputs": [
    {
     "data": {
      "text/plain": [
       "3.8497264441963277"
      ]
     },
     "execution_count": 117,
     "metadata": {},
     "output_type": "execute_result"
    }
   ],
   "source": [
    "math.log(values3[0], 10)"
   ]
  },
  {
   "cell_type": "code",
   "execution_count": 118,
   "metadata": {},
   "outputs": [
    {
     "data": {
      "text/plain": [
       "0.0"
      ]
     },
     "execution_count": 118,
     "metadata": {},
     "output_type": "execute_result"
    }
   ],
   "source": [
    "math.log(labels3[0], 10)"
   ]
  },
  {
   "cell_type": "code",
   "execution_count": 106,
   "metadata": {},
   "outputs": [
    {
     "data": {
      "text/plain": [
       "0"
      ]
     },
     "execution_count": 106,
     "metadata": {},
     "output_type": "execute_result"
    }
   ],
   "source": [
    "labels[0]"
   ]
  },
  {
   "cell_type": "code",
   "execution_count": 107,
   "metadata": {},
   "outputs": [
    {
     "data": {
      "text/plain": [
       "1030.0"
      ]
     },
     "execution_count": 107,
     "metadata": {},
     "output_type": "execute_result"
    }
   ],
   "source": [
    "values[0]"
   ]
  },
  {
   "cell_type": "code",
   "execution_count": null,
   "metadata": {},
   "outputs": [],
   "source": []
  }
 ],
 "metadata": {
  "kernelspec": {
   "display_name": "Python 2",
   "language": "python",
   "name": "python2"
  },
  "language_info": {
   "codemirror_mode": {
    "name": "ipython",
    "version": 2
   },
   "file_extension": ".py",
   "mimetype": "text/x-python",
   "name": "python",
   "nbconvert_exporter": "python",
   "pygments_lexer": "ipython2",
   "version": "2.7.14"
  }
 },
 "nbformat": 4,
 "nbformat_minor": 2
}
