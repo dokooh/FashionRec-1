{
 "cells": [
  {
   "cell_type": "code",
   "execution_count": 11,
   "metadata": {},
   "outputs": [],
   "source": [
    "\"\"\"Example of Python client calling Knowledge Graph Search API.\"\"\"\n",
    "import json\n",
    "import urllib"
   ]
  },
  {
   "cell_type": "code",
   "execution_count": 20,
   "metadata": {},
   "outputs": [
    {
     "name": "stdout",
     "output_type": "stream",
     "text": [
      "Bebe Stores (58.559681)\n",
      "JoJo Maman Bébé (21.109171)\n",
      "Bebe Sport (9.268701)\n",
      "bebe management inc (7.776005)\n",
      "Bebe Nanaki University College Mithra (7.682637)\n"
     ]
    },
    {
     "ename": "KeyError",
     "evalue": "'name'",
     "output_type": "error",
     "traceback": [
      "\u001b[0;31m---------------------------------------------------------------------------\u001b[0m",
      "\u001b[0;31mKeyError\u001b[0m                                  Traceback (most recent call last)",
      "\u001b[0;32m<ipython-input-20-e9f6f8b4dc05>\u001b[0m in \u001b[0;36m<module>\u001b[0;34m()\u001b[0m\n\u001b[1;32m     13\u001b[0m \u001b[0;31m#print response\u001b[0m\u001b[0;34m\u001b[0m\u001b[0;34m\u001b[0m\u001b[0m\n\u001b[1;32m     14\u001b[0m \u001b[0;32mfor\u001b[0m \u001b[0melement\u001b[0m \u001b[0;32min\u001b[0m \u001b[0mresponse\u001b[0m\u001b[0;34m[\u001b[0m\u001b[0;34m'itemListElement'\u001b[0m\u001b[0;34m]\u001b[0m\u001b[0;34m:\u001b[0m\u001b[0;34m\u001b[0m\u001b[0m\n\u001b[0;32m---> 15\u001b[0;31m   \u001b[0;32mprint\u001b[0m \u001b[0melement\u001b[0m\u001b[0;34m[\u001b[0m\u001b[0;34m'result'\u001b[0m\u001b[0;34m]\u001b[0m\u001b[0;34m[\u001b[0m\u001b[0;34m'name'\u001b[0m\u001b[0;34m]\u001b[0m \u001b[0;34m+\u001b[0m \u001b[0;34m' ('\u001b[0m \u001b[0;34m+\u001b[0m \u001b[0mstr\u001b[0m\u001b[0;34m(\u001b[0m\u001b[0melement\u001b[0m\u001b[0;34m[\u001b[0m\u001b[0;34m'resultScore'\u001b[0m\u001b[0;34m]\u001b[0m\u001b[0;34m)\u001b[0m \u001b[0;34m+\u001b[0m \u001b[0;34m')'\u001b[0m\u001b[0;34m\u001b[0m\u001b[0m\n\u001b[0m",
      "\u001b[0;31mKeyError\u001b[0m: 'name'"
     ]
    }
   ],
   "source": [
    "api_key = open('.api_key').read()\n",
    "query = 'bebe'\n",
    "service_url = 'https://kgsearch.googleapis.com/v1/entities:search'\n",
    "params = {\n",
    "    'query': query,\n",
    "    'limit': 10,\n",
    "    'indent': True,\n",
    "    'key': api_key,\n",
    "    'types': \"Organization\"\n",
    "}\n",
    "url = service_url + '?' + urllib.urlencode(params)\n",
    "response = json.loads(urllib.urlopen(url).read())\n",
    "#print response\n",
    "for element in response['itemListElement']:\n",
    "  print element['result']['name'] + ' (' + str(element['resultScore']) + ')'"
   ]
  },
  {
   "cell_type": "code",
   "execution_count": 13,
   "metadata": {},
   "outputs": [
    {
     "data": {
      "text/plain": [
       "{u'@context': {u'@vocab': u'http://schema.org/',\n",
       "  u'EntitySearchResult': u'goog:EntitySearchResult',\n",
       "  u'detailedDescription': u'goog:detailedDescription',\n",
       "  u'goog': u'http://schema.googleapis.com/',\n",
       "  u'kg': u'http://g.co/kg',\n",
       "  u'resultScore': u'goog:resultScore'},\n",
       " u'@type': u'ItemList',\n",
       " u'itemListElement': [{u'@type': u'EntitySearchResult',\n",
       "   u'result': {u'@id': u'kg:/m/0b2fjv',\n",
       "    u'@type': [u'Corporation', u'Thing', u'Organization'],\n",
       "    u'description': u'Retail company',\n",
       "    u'detailedDescription': {u'articleBody': u\"Bebe Stores, Inc., is a women's retail brand that was established in 1976. The brand develops and produces a line of women's apparel, accessories, and perfume fragrances, which it markets under the Bebe, BebeSport, and Bebe Outlet names.\\n\",\n",
       "     u'license': u'https://en.wikipedia.org/wiki/Wikipedia:Text_of_Creative_Commons_Attribution-ShareAlike_3.0_Unported_License',\n",
       "     u'url': u'https://en.wikipedia.org/wiki/Bebe_Stores'},\n",
       "    u'name': u'Bebe Stores',\n",
       "    u'url': u'http://www.bebe.com'},\n",
       "   u'resultScore': 58.559681},\n",
       "  {u'@type': u'EntitySearchResult',\n",
       "   u'result': {u'@id': u'kg:/m/01mxqyk',\n",
       "    u'@type': [u'Person', u'Thing'],\n",
       "    u'description': u'American gospel singer',\n",
       "    u'detailedDescription': {u'articleBody': u'Benjamin \"BeBe\" Winans is an American gospel and R&amp;B singer. He is a member of the noted Winans family, most members of which are also gospel artists.',\n",
       "     u'license': u'https://en.wikipedia.org/wiki/Wikipedia:Text_of_Creative_Commons_Attribution-ShareAlike_3.0_Unported_License',\n",
       "     u'url': u'https://en.wikipedia.org/wiki/BeBe_Winans'},\n",
       "    u'image': {u'contentUrl': u'http://t2.gstatic.com/images?q=tbn:ANd9GcSNcc-cqrYlw6NIQ8Wuhfi4Gs8IeJTYI1rGWlyX0qykYtwcOoJD',\n",
       "     u'url': u'https://en.wikipedia.org/wiki/BeBe_Winans'},\n",
       "    u'name': u'BeBe Winans',\n",
       "    u'url': u'http://www.bebewinans.net/'},\n",
       "   u'resultScore': 41.861866},\n",
       "  {u'@type': u'EntitySearchResult',\n",
       "   u'result': {u'@id': u'kg:/m/08_zhd',\n",
       "    u'@type': [u'Person', u'Thing'],\n",
       "    u'description': u'Spanish singer',\n",
       "    u'detailedDescription': {u'articleBody': u'Mar\\xeda Nieves Rebolledo Vila, better known by her stage name Bebe is a Spanish singer, songwriter, and actress who rose to international fame with the singles \"Malo\" and \"Ella\".',\n",
       "     u'license': u'https://en.wikipedia.org/wiki/Wikipedia:Text_of_Creative_Commons_Attribution-ShareAlike_3.0_Unported_License',\n",
       "     u'url': u'https://en.wikipedia.org/wiki/Bebe_(singer)'},\n",
       "    u'image': {u'contentUrl': u'http://t3.gstatic.com/images?q=tbn:ANd9GcThi8ye-lvjCajyj0GGL41Np1J8oYWVGXRRAlyyvhm1yjBEd70z',\n",
       "     u'url': u'https://commons.wikimedia.org/wiki/File:Bebe_Again_(31822698)_extr.jpg'},\n",
       "    u'name': u'Bebe',\n",
       "    u'url': u'http://www.labebebellota.com/'},\n",
       "   u'resultScore': 41.711445},\n",
       "  {u'@type': u'EntitySearchResult',\n",
       "   u'result': {u'@id': u'kg:/m/0sm2k7n',\n",
       "    u'@type': [u'Person', u'Thing'],\n",
       "    u'description': u'American singer',\n",
       "    u'detailedDescription': {u'articleBody': u'Bleta \"Bebe\" Rexha is an American singer, songwriter and record producer. She is best known for her collaborations with other artists, such as G-Eazy\\'s \"Me, Myself &amp; I\", David Guetta\\'s \"Hey Mama\", Martin Garrix\\'s \"In the Name of Love\" and featuring on songs by Cash Cash, and Louis Tomlinson.\\n',\n",
       "     u'license': u'https://en.wikipedia.org/wiki/Wikipedia:Text_of_Creative_Commons_Attribution-ShareAlike_3.0_Unported_License',\n",
       "     u'url': u'https://en.wikipedia.org/wiki/Bebe_Rexha'},\n",
       "    u'image': {u'contentUrl': u'http://t3.gstatic.com/images?q=tbn:ANd9GcTduB_-933T1dzJA00Q9oSimTJ8NAU8x2QjxBa2DxD3ipwRIV9v',\n",
       "     u'url': u'https://commons.wikimedia.org/wiki/File:Bebe_Rexha_(cropped).jpg'},\n",
       "    u'name': u'Bebe Rexha',\n",
       "    u'url': u'http://www.beberexha.com/'},\n",
       "   u'resultScore': 39.247532},\n",
       "  {u'@type': u'EntitySearchResult',\n",
       "   u'result': {u'@id': u'kg:/m/0cnx348',\n",
       "    u'@type': [u'Person', u'Thing'],\n",
       "    u'description': u'Soccer player',\n",
       "    u'detailedDescription': {u'articleBody': u'Tiago Manuel Dias Correia, better known by his nickname Beb\\xe9, is a Portuguese professional footballer who plays as a forward for Spanish club Eibar.\\nAbandoned by his parents at a young age, Beb\\xe9 grew up in a homeless shelter near Lisbon. He began his football career as an amateur with Loures, before joining Estrela in 2009. ',\n",
       "     u'license': u'https://en.wikipedia.org/wiki/Wikipedia:Text_of_Creative_Commons_Attribution-ShareAlike_3.0_Unported_License',\n",
       "     u'url': u'https://en.wikipedia.org/wiki/Beb%C3%A9'},\n",
       "    u'image': {u'contentUrl': u'http://t1.gstatic.com/images?q=tbn:ANd9GcTP4vwLD72fVC_ERB-p7rq9QMwyvfR2HOMEBaW7U-PbmEiN3yaZ',\n",
       "     u'url': u'https://commons.wikimedia.org/wiki/File:B%C3%A9b%C3%A9.jpg'},\n",
       "    u'name': u'Beb\\xe9'},\n",
       "   u'resultScore': 36.323658},\n",
       "  {u'@type': u'EntitySearchResult',\n",
       "   u'result': {u'@id': u'kg:/m/01sxq9',\n",
       "    u'@type': [u'Person', u'Thing'],\n",
       "    u'description': u'American actress',\n",
       "    u'detailedDescription': {u'articleBody': u'Beatrice \"Bebe\" Neuwirth is an American actress, singer, and dancer. On television, she played Dr. Lilith Sternin, Dr. Frasier Crane\\'s ex wife, on both the TV sitcom Cheers and its spin-off Frasier. The role won her two Emmy Awards. ',\n",
       "     u'license': u'https://en.wikipedia.org/wiki/Wikipedia:Text_of_Creative_Commons_Attribution-ShareAlike_3.0_Unported_License',\n",
       "     u'url': u'https://en.wikipedia.org/wiki/Bebe_Neuwirth'},\n",
       "    u'image': {u'contentUrl': u'http://t0.gstatic.com/images?q=tbn:ANd9GcSoYeI2yDPBSHUxLC7gcpQAR_ePHKTGdj04MsV6fJ1r9AhkqL0_',\n",
       "     u'url': u'https://commons.wikimedia.org/wiki/File:Bebe_Neuwirth_at_BCEFA_-_close.jpg'},\n",
       "    u'name': u'Bebe Neuwirth'},\n",
       "   u'resultScore': 33.710197},\n",
       "  {u'@type': u'EntitySearchResult',\n",
       "   u'result': {u'@id': u'kg:/m/03n4yt',\n",
       "    u'@type': [u'Person', u'Thing'],\n",
       "    u'description': u'American singer',\n",
       "    u'detailedDescription': {u'articleBody': u'Beverle Lorence \"Bebe\" Buell is an American singer and former fashion model, and Playboy magazine\\'s November 1974 Playmate of the Month. ',\n",
       "     u'license': u'https://en.wikipedia.org/wiki/Wikipedia:Text_of_Creative_Commons_Attribution-ShareAlike_3.0_Unported_License',\n",
       "     u'url': u'https://en.wikipedia.org/wiki/Bebe_Buell'},\n",
       "    u'image': {u'contentUrl': u'http://t3.gstatic.com/images?q=tbn:ANd9GcR_-fTeE6MbvWgc8kNDOl8Uso5KB6_Wj3VrADX0P3OwzCuVy6zB',\n",
       "     u'url': u'https://commons.wikimedia.org/wiki/File:Bebe_Buell_at_the_2009_Tribeca_Film_Festival.jpg'},\n",
       "    u'name': u'Bebe Buell',\n",
       "    u'url': u'http://www.bebebuell.org/'},\n",
       "   u'resultScore': 30.250174},\n",
       "  {u'@type': u'EntitySearchResult',\n",
       "   u'result': {u'@id': u'kg:/m/01p13h2',\n",
       "    u'@type': [u'Thing', u'MusicGroup'],\n",
       "    u'description': u'Musical duo',\n",
       "    u'detailedDescription': {u'articleBody': u'BeBe &amp; CeCe Winans are an American gospel music brother and sister duo. BeBe and CeCe Winans are the seventh and eighth of \"Mom\" and \"Pop\" Winans\\' ten children, most of whom have had gospel music careers. ',\n",
       "     u'license': u'https://en.wikipedia.org/wiki/Wikipedia:Text_of_Creative_Commons_Attribution-ShareAlike_3.0_Unported_License',\n",
       "     u'url': u'https://en.wikipedia.org/wiki/BeBe_%26_CeCe_Winans'},\n",
       "    u'name': u'BeBe &amp; CeCe Winans'},\n",
       "   u'resultScore': 28.322144},\n",
       "  {u'@type': u'EntitySearchResult',\n",
       "   u'result': {u'@id': u'kg:/m/027d399',\n",
       "    u'@type': [u'Thing', u'Person'],\n",
       "    u'description': u'Musician',\n",
       "    u'detailedDescription': {u'articleBody': u'Bebe Cool is a top African reggae and ragga musician from Uganda. He started his career around 1997 in Nairobi, Kenya, but a few years later he moved back to his native country. ',\n",
       "     u'license': u'https://en.wikipedia.org/wiki/Wikipedia:Text_of_Creative_Commons_Attribution-ShareAlike_3.0_Unported_License',\n",
       "     u'url': u'https://en.wikipedia.org/wiki/Bebe_Cool'},\n",
       "    u'image': {u'contentUrl': u'http://t3.gstatic.com/images?q=tbn:ANd9GcSEmp97u7FgAm3oOw9QoQ2EG1hdwuj5X3Rj1AhtkPYxlCZ1y602',\n",
       "     u'url': u'https://commons.wikimedia.org/wiki/File:Bebe_Cool_at_HiPipo_Music_Awards_2014_Artist_of_The_Year.png'},\n",
       "    u'name': u'Bebe Cool'},\n",
       "   u'resultScore': 27.239948},\n",
       "  {u'@type': u'EntitySearchResult',\n",
       "   u'result': {u'@id': u'kg:/m/01zfs_',\n",
       "    u'@type': [u'Person', u'Thing'],\n",
       "    u'description': u'American actress',\n",
       "    u'detailedDescription': {u'articleBody': u'Phyllis Virginia Daniels, known professionally as Bebe Daniels, was an American actress, singer, dancer, writer and producer.\\nShe began her career in Hollywood during the silent film era as a child actress, became a star in musicals such as 42nd Street, and later gained further fame on radio and television in Britain. ',\n",
       "     u'license': u'https://en.wikipedia.org/wiki/Wikipedia:Text_of_Creative_Commons_Attribution-ShareAlike_3.0_Unported_License',\n",
       "     u'url': u'https://en.wikipedia.org/wiki/Bebe_Daniels'},\n",
       "    u'image': {u'contentUrl': u'http://t0.gstatic.com/images?q=tbn:ANd9GcQ7TcMvjBI5xhVq4xMOGd-Ln19j7UJJjCPSTemTX6WA463N1vnI',\n",
       "     u'url': u'https://commons.wikimedia.org/wiki/File:Actress_Bebe_Daniels.jpg'},\n",
       "    u'name': u'Bebe Daniels'},\n",
       "   u'resultScore': 26.960045}]}"
      ]
     },
     "execution_count": 13,
     "metadata": {},
     "output_type": "execute_result"
    }
   ],
   "source": [
    "response"
   ]
  },
  {
   "cell_type": "code",
   "execution_count": null,
   "metadata": {},
   "outputs": [],
   "source": []
  }
 ],
 "metadata": {
  "kernelspec": {
   "display_name": "Python 3",
   "language": "python",
   "name": "python3"
  },
  "language_info": {
   "codemirror_mode": {
    "name": "ipython",
    "version": 2
   },
   "file_extension": ".py",
   "mimetype": "text/x-python",
   "name": "python",
   "nbconvert_exporter": "python",
   "pygments_lexer": "ipython2",
   "version": "2.7.14"
  }
 },
 "nbformat": 4,
 "nbformat_minor": 2
}
