{
 "cells": [
  {
   "cell_type": "code",
   "execution_count": 104,
   "metadata": {},
   "outputs": [],
   "source": [
    "import spacy\n",
    "import numpy as np\n",
    "import matplotlib.pyplot as plt\n",
    "import pandas as pd\n",
    "%matplotlib inline\n",
    "plt.rc('text', usetex=True)\n",
    "plt.rc('font', family='serif')\n",
    "from spacy.lang.en.stop_words import STOP_WORDS\n",
    "import re"
   ]
  },
  {
   "cell_type": "code",
   "execution_count": 97,
   "metadata": {},
   "outputs": [
    {
     "data": {
      "text/html": [
       "<div>\n",
       "<style scoped>\n",
       "    .dataframe tbody tr th:only-of-type {\n",
       "        vertical-align: middle;\n",
       "    }\n",
       "\n",
       "    .dataframe tbody tr th {\n",
       "        vertical-align: top;\n",
       "    }\n",
       "\n",
       "    .dataframe thead th {\n",
       "        text-align: right;\n",
       "    }\n",
       "</style>\n",
       "<table border=\"1\" class=\"dataframe\">\n",
       "  <thead>\n",
       "    <tr style=\"text-align: right;\">\n",
       "      <th></th>\n",
       "      <th>doc</th>\n",
       "      <th>text</th>\n",
       "    </tr>\n",
       "  </thead>\n",
       "  <tbody>\n",
       "    <tr>\n",
       "      <th>0</th>\n",
       "      <td>https://scontent-arn2-1.cdninstagram.com/t51.2...</td>\n",
       "      <td>Love this Hairstyle 😍😍 Gorgeous A gift guide f...</td>\n",
       "    </tr>\n",
       "    <tr>\n",
       "      <th>1</th>\n",
       "      <td>https://scontent-arn2-1.cdninstagram.com/t51.2...</td>\n",
       "      <td>Cutest bffs ever 🧡🧡 Cuties! Love this! 💕 This ...</td>\n",
       "    </tr>\n",
       "    <tr>\n",
       "      <th>2</th>\n",
       "      <td>https://scontent-arn2-1.cdninstagram.com/t51.2...</td>\n",
       "      <td>this is precious !!! The perfect couple Casual...</td>\n",
       "    </tr>\n",
       "    <tr>\n",
       "      <th>3</th>\n",
       "      <td>https://scontent-arn2-1.cdninstagram.com/t51.2...</td>\n",
       "      <td>LOVE ❤️!! Gorgeous in red! Obsessed ❤️❤️ Prett...</td>\n",
       "    </tr>\n",
       "    <tr>\n",
       "      <th>4</th>\n",
       "      <td>https://scontent-arn2-1.cdninstagram.com/t51.2...</td>\n",
       "      <td>Love love love this pic! 🙌🏼❤️✨✨✨ U and ur girl...</td>\n",
       "    </tr>\n",
       "  </tbody>\n",
       "</table>\n",
       "</div>"
      ],
      "text/plain": [
       "                                                 doc  \\\n",
       "0  https://scontent-arn2-1.cdninstagram.com/t51.2...   \n",
       "1  https://scontent-arn2-1.cdninstagram.com/t51.2...   \n",
       "2  https://scontent-arn2-1.cdninstagram.com/t51.2...   \n",
       "3  https://scontent-arn2-1.cdninstagram.com/t51.2...   \n",
       "4  https://scontent-arn2-1.cdninstagram.com/t51.2...   \n",
       "\n",
       "                                                text  \n",
       "0  Love this Hairstyle 😍😍 Gorgeous A gift guide f...  \n",
       "1  Cutest bffs ever 🧡🧡 Cuties! Love this! 💕 This ...  \n",
       "2  this is precious !!! The perfect couple Casual...  \n",
       "3  LOVE ❤️!! Gorgeous in red! Obsessed ❤️❤️ Prett...  \n",
       "4  Love love love this pic! 🙌🏼❤️✨✨✨ U and ur girl...  "
      ]
     },
     "execution_count": 97,
     "metadata": {},
     "output_type": "execute_result"
    }
   ],
   "source": [
    "df = pd.read_csv(\"./hellofashionblog.csv\", sep=',', \n",
    "                 encoding = 'utf8', header=None, \n",
    "                 names=[\"doc\", \"text\"])\n",
    "df.head()"
   ]
  },
  {
   "cell_type": "code",
   "execution_count": 98,
   "metadata": {},
   "outputs": [],
   "source": [
    "# Drop NANs to avoid SpaCy errors\n",
    "df = df.dropna(subset=['doc', 'text'])"
   ]
  },
  {
   "cell_type": "code",
   "execution_count": 99,
   "metadata": {},
   "outputs": [],
   "source": [
    "# Parse with Spacy\n",
    "nlp = spacy.load(\"en_vectors_web_lg\")\n",
    "docs = []\n",
    "for index, row in df.iterrows():\n",
    "    docs.append((row[\"doc\"], nlp(row[\"text\"])))"
   ]
  },
  {
   "cell_type": "code",
   "execution_count": 100,
   "metadata": {},
   "outputs": [],
   "source": [
    "# Load domain knowledge\n",
    "fashion_df = pd.read_csv(\"./domain_data/items.csv\", sep=',', \n",
    "                 encoding = 'utf8', header=None, \n",
    "                 names=[\"word\"])\n",
    "companies_df = pd.read_csv(\"./domain_data/companies.csv\", sep=',', \n",
    "                 encoding = 'utf8', header=None, \n",
    "                 names=[\"word\"])\n",
    "style_df = pd.read_csv(\"./domain_data/general_style.csv\", sep=',', \n",
    "                 encoding = 'utf8', header=None, \n",
    "                 names=[\"word\"])\n",
    "material_df = pd.read_csv(\"./domain_data/material.csv\", sep=',', \n",
    "                 encoding = 'utf8', header=None, \n",
    "                 names=[\"word\"])"
   ]
  },
  {
   "cell_type": "code",
   "execution_count": 101,
   "metadata": {},
   "outputs": [],
   "source": [
    "def getUniqueLemmas(tokens):\n",
    "    fashionLemmas = []\n",
    "    for token in tokens:\n",
    "        for lemmaToken in nlp(token.lemma_):\n",
    "            fashionLemmas.append(lemmaToken)\n",
    "    lemmasText = set()\n",
    "    temp = []\n",
    "    for token in fashionLemmas:\n",
    "        if token.text not in lemmasText:\n",
    "            temp.append(token)\n",
    "        lemmasText.add(token.text)\n",
    "    fashionLemmas = temp\n",
    "    return fashionLemmas"
   ]
  },
  {
   "cell_type": "code",
   "execution_count": 102,
   "metadata": {},
   "outputs": [],
   "source": [
    "item_docs = []\n",
    "for index, row in fashion_df.iterrows():\n",
    "    item_docs.append(nlp(row[\"word\"]))\n",
    "itemTokens = allTokens(item_docs)\n",
    "itemLemmas = getUniqueLemmas(itemTokens)\n",
    "\n",
    "companiesWords = set(companies_df[\"word\"])\n",
    "\n",
    "style_docs = []\n",
    "for index, row in style_df.iterrows():\n",
    "    style_docs.append(nlp(row[\"word\"]))\n",
    "styleTokens = allTokens(style_docs)\n",
    "styleLemmas = getUniqueLemmas(styleTokens)\n",
    "\n",
    "material_docs = []\n",
    "for index, row in material_df.iterrows():\n",
    "    material_docs.append(nlp(row[\"word\"]))\n",
    "materialTokens = allTokens(material_docs)\n",
    "materialLemmas = getUniqueLemmas(materialTokens)"
   ]
  },
  {
   "cell_type": "code",
   "execution_count": 103,
   "metadata": {},
   "outputs": [
    {
     "data": {
      "text/plain": [
       "1363"
      ]
     },
     "execution_count": 103,
     "metadata": {},
     "output_type": "execute_result"
    }
   ],
   "source": [
    "companiesWords\n",
    "len(companiesWords)"
   ]
  },
  {
   "cell_type": "code",
   "execution_count": 206,
   "metadata": {},
   "outputs": [],
   "source": [
    "def allTokens(docs):\n",
    "    tokens = []\n",
    "    for doc in docs:\n",
    "        for token in doc:\n",
    "            tokens.append(token)\n",
    "    return tokens\n",
    "\n",
    "def similar(word, lemmas, t):\n",
    "    matchCount = 0\n",
    "    for lemma in lemmas:\n",
    "        if word.similarity(lemma) > t:\n",
    "            matchCount += 1\n",
    "    return matchCount\n",
    "\n",
    "def findMatches(doc, t):\n",
    "    liketoknowitMatch = 0\n",
    "    itemMatch = 0\n",
    "    companiesMatch = 0\n",
    "    styleMatch = 0\n",
    "    materialMatch = 0\n",
    "    match = re.search(\"http://liketk.it/([^\\s]+)\", doc.text)\n",
    "    if match is not None:\n",
    "        liketoknowitMatch += 1\n",
    "    for token in doc:\n",
    "        if token not in STOP_WORDS:\n",
    "            itemMatch += similar(token, itemLemmas, t)\n",
    "            styleMatch += similar(token, styleLemmas, t)\n",
    "            materialMatch += similar(token, materialLemmas, t)\n",
    "        if token.text in companiesWords:\n",
    "            companiesMatch += 1\n",
    "            \n",
    "    return itemMatch, companiesMatch, styleMatch, materialMatch, liketoknowitMatch"
   ]
  },
  {
   "cell_type": "code",
   "execution_count": 123,
   "metadata": {},
   "outputs": [
    {
     "name": "stdout",
     "output_type": "stream",
     "text": [
      "analyzed 0 documents out of 3152\n",
      "analyzed 10 documents out of 3152\n",
      "analyzed 20 documents out of 3152\n",
      "analyzed 30 documents out of 3152\n",
      "analyzed 40 documents out of 3152\n",
      "analyzed 50 documents out of 3152\n",
      "analyzed 60 documents out of 3152\n",
      "analyzed 70 documents out of 3152\n",
      "analyzed 80 documents out of 3152\n",
      "analyzed 90 documents out of 3152\n",
      "analyzed 100 documents out of 3152\n",
      "analyzed 110 documents out of 3152\n",
      "analyzed 120 documents out of 3152\n",
      "analyzed 130 documents out of 3152\n",
      "analyzed 140 documents out of 3152\n",
      "analyzed 150 documents out of 3152\n",
      "analyzed 160 documents out of 3152\n",
      "analyzed 170 documents out of 3152\n",
      "analyzed 180 documents out of 3152\n",
      "analyzed 190 documents out of 3152\n",
      "analyzed 200 documents out of 3152\n",
      "analyzed 210 documents out of 3152\n",
      "analyzed 220 documents out of 3152\n",
      "analyzed 230 documents out of 3152\n",
      "analyzed 240 documents out of 3152\n",
      "analyzed 250 documents out of 3152\n",
      "analyzed 260 documents out of 3152\n",
      "analyzed 270 documents out of 3152\n",
      "analyzed 280 documents out of 3152\n",
      "analyzed 290 documents out of 3152\n",
      "analyzed 300 documents out of 3152\n",
      "analyzed 310 documents out of 3152\n",
      "analyzed 320 documents out of 3152\n",
      "analyzed 330 documents out of 3152\n",
      "analyzed 340 documents out of 3152\n",
      "analyzed 350 documents out of 3152\n",
      "analyzed 360 documents out of 3152\n",
      "analyzed 370 documents out of 3152\n",
      "analyzed 380 documents out of 3152\n",
      "analyzed 390 documents out of 3152\n",
      "analyzed 400 documents out of 3152\n",
      "analyzed 410 documents out of 3152\n",
      "analyzed 420 documents out of 3152\n",
      "analyzed 430 documents out of 3152\n",
      "analyzed 440 documents out of 3152\n",
      "analyzed 450 documents out of 3152\n",
      "analyzed 460 documents out of 3152\n",
      "analyzed 470 documents out of 3152\n",
      "analyzed 480 documents out of 3152\n",
      "analyzed 490 documents out of 3152\n",
      "analyzed 500 documents out of 3152\n",
      "analyzed 510 documents out of 3152\n",
      "analyzed 520 documents out of 3152\n",
      "analyzed 530 documents out of 3152\n",
      "analyzed 540 documents out of 3152\n",
      "analyzed 550 documents out of 3152\n",
      "analyzed 560 documents out of 3152\n",
      "analyzed 570 documents out of 3152\n",
      "analyzed 580 documents out of 3152\n",
      "analyzed 590 documents out of 3152\n",
      "analyzed 600 documents out of 3152\n",
      "analyzed 610 documents out of 3152\n",
      "analyzed 620 documents out of 3152\n",
      "analyzed 630 documents out of 3152\n",
      "analyzed 640 documents out of 3152\n",
      "analyzed 650 documents out of 3152\n",
      "analyzed 660 documents out of 3152\n",
      "analyzed 670 documents out of 3152\n",
      "analyzed 680 documents out of 3152\n",
      "analyzed 690 documents out of 3152\n",
      "analyzed 700 documents out of 3152\n",
      "analyzed 710 documents out of 3152\n",
      "analyzed 720 documents out of 3152\n",
      "analyzed 730 documents out of 3152\n",
      "analyzed 740 documents out of 3152\n",
      "analyzed 750 documents out of 3152\n",
      "analyzed 760 documents out of 3152\n",
      "analyzed 770 documents out of 3152\n",
      "analyzed 780 documents out of 3152\n",
      "analyzed 790 documents out of 3152\n",
      "analyzed 800 documents out of 3152\n",
      "analyzed 810 documents out of 3152\n",
      "analyzed 820 documents out of 3152\n",
      "analyzed 830 documents out of 3152\n",
      "analyzed 840 documents out of 3152\n",
      "analyzed 850 documents out of 3152\n",
      "analyzed 860 documents out of 3152\n",
      "analyzed 870 documents out of 3152\n",
      "analyzed 880 documents out of 3152\n",
      "analyzed 890 documents out of 3152\n",
      "analyzed 900 documents out of 3152\n",
      "analyzed 910 documents out of 3152\n",
      "analyzed 920 documents out of 3152\n",
      "analyzed 930 documents out of 3152\n",
      "analyzed 940 documents out of 3152\n",
      "analyzed 950 documents out of 3152\n",
      "analyzed 960 documents out of 3152\n",
      "analyzed 970 documents out of 3152\n",
      "analyzed 980 documents out of 3152\n",
      "analyzed 990 documents out of 3152\n",
      "analyzed 1000 documents out of 3152\n",
      "analyzed 1010 documents out of 3152\n",
      "analyzed 1020 documents out of 3152\n",
      "analyzed 1030 documents out of 3152\n",
      "analyzed 1040 documents out of 3152\n",
      "analyzed 1050 documents out of 3152\n",
      "analyzed 1060 documents out of 3152\n",
      "analyzed 1070 documents out of 3152\n",
      "analyzed 1080 documents out of 3152\n",
      "analyzed 1090 documents out of 3152\n",
      "analyzed 1100 documents out of 3152\n",
      "analyzed 1110 documents out of 3152\n",
      "analyzed 1120 documents out of 3152\n",
      "analyzed 1130 documents out of 3152\n",
      "analyzed 1140 documents out of 3152\n",
      "analyzed 1150 documents out of 3152\n",
      "analyzed 1160 documents out of 3152\n",
      "analyzed 1170 documents out of 3152\n",
      "analyzed 1180 documents out of 3152\n",
      "analyzed 1190 documents out of 3152\n",
      "analyzed 1200 documents out of 3152\n",
      "analyzed 1210 documents out of 3152\n",
      "analyzed 1220 documents out of 3152\n",
      "analyzed 1230 documents out of 3152\n",
      "analyzed 1240 documents out of 3152\n",
      "analyzed 1250 documents out of 3152\n",
      "analyzed 1260 documents out of 3152\n",
      "analyzed 1270 documents out of 3152\n",
      "analyzed 1280 documents out of 3152\n",
      "analyzed 1290 documents out of 3152\n",
      "analyzed 1300 documents out of 3152\n",
      "analyzed 1310 documents out of 3152\n",
      "analyzed 1320 documents out of 3152\n",
      "analyzed 1330 documents out of 3152\n",
      "analyzed 1340 documents out of 3152\n",
      "analyzed 1350 documents out of 3152\n",
      "analyzed 1360 documents out of 3152\n",
      "analyzed 1370 documents out of 3152\n",
      "analyzed 1380 documents out of 3152\n",
      "analyzed 1390 documents out of 3152\n",
      "analyzed 1400 documents out of 3152\n",
      "analyzed 1410 documents out of 3152\n",
      "analyzed 1420 documents out of 3152\n",
      "analyzed 1430 documents out of 3152\n",
      "analyzed 1440 documents out of 3152\n",
      "analyzed 1450 documents out of 3152\n",
      "analyzed 1460 documents out of 3152\n",
      "analyzed 1470 documents out of 3152\n",
      "analyzed 1480 documents out of 3152\n",
      "analyzed 1490 documents out of 3152\n",
      "analyzed 1500 documents out of 3152\n",
      "analyzed 1510 documents out of 3152\n",
      "analyzed 1520 documents out of 3152\n",
      "analyzed 1530 documents out of 3152\n",
      "analyzed 1540 documents out of 3152\n",
      "analyzed 1550 documents out of 3152\n",
      "analyzed 1560 documents out of 3152\n",
      "analyzed 1570 documents out of 3152\n",
      "analyzed 1580 documents out of 3152\n",
      "analyzed 1590 documents out of 3152\n",
      "analyzed 1600 documents out of 3152\n",
      "analyzed 1610 documents out of 3152\n",
      "analyzed 1620 documents out of 3152\n",
      "analyzed 1630 documents out of 3152\n",
      "analyzed 1640 documents out of 3152\n",
      "analyzed 1650 documents out of 3152\n",
      "analyzed 1660 documents out of 3152\n",
      "analyzed 1670 documents out of 3152\n",
      "analyzed 1680 documents out of 3152\n",
      "analyzed 1690 documents out of 3152\n",
      "analyzed 1700 documents out of 3152\n",
      "analyzed 1710 documents out of 3152\n",
      "analyzed 1720 documents out of 3152\n",
      "analyzed 1730 documents out of 3152\n",
      "analyzed 1740 documents out of 3152\n",
      "analyzed 1750 documents out of 3152\n",
      "analyzed 1760 documents out of 3152\n",
      "analyzed 1770 documents out of 3152\n",
      "analyzed 1780 documents out of 3152\n",
      "analyzed 1790 documents out of 3152\n",
      "analyzed 1800 documents out of 3152\n",
      "analyzed 1810 documents out of 3152\n",
      "analyzed 1820 documents out of 3152\n",
      "analyzed 1830 documents out of 3152\n",
      "analyzed 1840 documents out of 3152\n",
      "analyzed 1850 documents out of 3152\n",
      "analyzed 1860 documents out of 3152\n",
      "analyzed 1870 documents out of 3152\n",
      "analyzed 1880 documents out of 3152\n",
      "analyzed 1890 documents out of 3152\n",
      "analyzed 1900 documents out of 3152\n",
      "analyzed 1910 documents out of 3152\n",
      "analyzed 1920 documents out of 3152\n",
      "analyzed 1930 documents out of 3152\n",
      "analyzed 1940 documents out of 3152\n",
      "analyzed 1950 documents out of 3152\n",
      "analyzed 1960 documents out of 3152\n",
      "analyzed 1970 documents out of 3152\n",
      "analyzed 1980 documents out of 3152\n",
      "analyzed 1990 documents out of 3152\n",
      "analyzed 2000 documents out of 3152\n",
      "analyzed 2010 documents out of 3152\n",
      "analyzed 2020 documents out of 3152\n",
      "analyzed 2030 documents out of 3152\n",
      "analyzed 2040 documents out of 3152\n",
      "analyzed 2050 documents out of 3152\n",
      "analyzed 2060 documents out of 3152\n",
      "analyzed 2070 documents out of 3152\n",
      "analyzed 2080 documents out of 3152\n",
      "analyzed 2090 documents out of 3152\n",
      "analyzed 2100 documents out of 3152\n",
      "analyzed 2110 documents out of 3152\n",
      "analyzed 2120 documents out of 3152\n",
      "analyzed 2130 documents out of 3152\n",
      "analyzed 2140 documents out of 3152\n",
      "analyzed 2150 documents out of 3152\n",
      "analyzed 2160 documents out of 3152\n",
      "analyzed 2170 documents out of 3152\n",
      "analyzed 2180 documents out of 3152\n",
      "analyzed 2190 documents out of 3152\n",
      "analyzed 2200 documents out of 3152\n",
      "analyzed 2210 documents out of 3152\n",
      "analyzed 2220 documents out of 3152\n",
      "analyzed 2230 documents out of 3152\n",
      "analyzed 2240 documents out of 3152\n",
      "analyzed 2250 documents out of 3152\n",
      "analyzed 2260 documents out of 3152\n",
      "analyzed 2270 documents out of 3152\n",
      "analyzed 2280 documents out of 3152\n",
      "analyzed 2290 documents out of 3152\n",
      "analyzed 2300 documents out of 3152\n"
     ]
    },
    {
     "name": "stdout",
     "output_type": "stream",
     "text": [
      "analyzed 2310 documents out of 3152\n",
      "analyzed 2320 documents out of 3152\n",
      "analyzed 2330 documents out of 3152\n",
      "analyzed 2340 documents out of 3152\n",
      "analyzed 2350 documents out of 3152\n",
      "analyzed 2360 documents out of 3152\n",
      "analyzed 2370 documents out of 3152\n",
      "analyzed 2380 documents out of 3152\n",
      "analyzed 2390 documents out of 3152\n",
      "analyzed 2400 documents out of 3152\n",
      "analyzed 2410 documents out of 3152\n",
      "analyzed 2420 documents out of 3152\n",
      "analyzed 2430 documents out of 3152\n",
      "analyzed 2440 documents out of 3152\n",
      "analyzed 2450 documents out of 3152\n",
      "analyzed 2460 documents out of 3152\n",
      "analyzed 2470 documents out of 3152\n",
      "analyzed 2480 documents out of 3152\n",
      "analyzed 2490 documents out of 3152\n",
      "analyzed 2500 documents out of 3152\n",
      "analyzed 2510 documents out of 3152\n",
      "analyzed 2520 documents out of 3152\n",
      "analyzed 2530 documents out of 3152\n",
      "analyzed 2540 documents out of 3152\n",
      "analyzed 2550 documents out of 3152\n",
      "analyzed 2560 documents out of 3152\n",
      "analyzed 2570 documents out of 3152\n",
      "analyzed 2580 documents out of 3152\n",
      "analyzed 2590 documents out of 3152\n",
      "analyzed 2600 documents out of 3152\n",
      "analyzed 2610 documents out of 3152\n",
      "analyzed 2620 documents out of 3152\n",
      "analyzed 2630 documents out of 3152\n",
      "analyzed 2640 documents out of 3152\n",
      "analyzed 2650 documents out of 3152\n",
      "analyzed 2660 documents out of 3152\n",
      "analyzed 2670 documents out of 3152\n",
      "analyzed 2680 documents out of 3152\n",
      "analyzed 2690 documents out of 3152\n",
      "analyzed 2700 documents out of 3152\n",
      "analyzed 2710 documents out of 3152\n",
      "analyzed 2720 documents out of 3152\n",
      "analyzed 2730 documents out of 3152\n",
      "analyzed 2740 documents out of 3152\n",
      "analyzed 2750 documents out of 3152\n",
      "analyzed 2760 documents out of 3152\n",
      "analyzed 2770 documents out of 3152\n",
      "analyzed 2780 documents out of 3152\n",
      "analyzed 2790 documents out of 3152\n",
      "analyzed 2800 documents out of 3152\n",
      "analyzed 2810 documents out of 3152\n",
      "analyzed 2820 documents out of 3152\n",
      "analyzed 2830 documents out of 3152\n",
      "analyzed 2840 documents out of 3152\n",
      "analyzed 2850 documents out of 3152\n",
      "analyzed 2860 documents out of 3152\n",
      "analyzed 2870 documents out of 3152\n",
      "analyzed 2880 documents out of 3152\n",
      "analyzed 2890 documents out of 3152\n",
      "analyzed 2900 documents out of 3152\n",
      "analyzed 2910 documents out of 3152\n",
      "analyzed 2920 documents out of 3152\n",
      "analyzed 2930 documents out of 3152\n",
      "analyzed 2940 documents out of 3152\n",
      "analyzed 2950 documents out of 3152\n",
      "analyzed 2960 documents out of 3152\n",
      "analyzed 2970 documents out of 3152\n",
      "analyzed 2980 documents out of 3152\n",
      "analyzed 2990 documents out of 3152\n",
      "analyzed 3000 documents out of 3152\n",
      "analyzed 3010 documents out of 3152\n",
      "analyzed 3020 documents out of 3152\n",
      "analyzed 3030 documents out of 3152\n",
      "analyzed 3040 documents out of 3152\n",
      "analyzed 3050 documents out of 3152\n",
      "analyzed 3060 documents out of 3152\n",
      "analyzed 3070 documents out of 3152\n",
      "analyzed 3080 documents out of 3152\n",
      "analyzed 3090 documents out of 3152\n",
      "analyzed 3100 documents out of 3152\n",
      "analyzed 3110 documents out of 3152\n",
      "analyzed 3120 documents out of 3152\n",
      "analyzed 3130 documents out of 3152\n",
      "analyzed 3140 documents out of 3152\n",
      "analyzed 3150 documents out of 3152\n",
      "CPU times: user 10h 9min 6s, sys: 3min 42s, total: 10h 12min 49s\n",
      "Wall time: 10h 6min 43s\n"
     ]
    }
   ],
   "source": [
    "%%time\n",
    "itemMatches = []\n",
    "companyMatches = []\n",
    "styleMatches = []\n",
    "materialMatches = []\n",
    "liketoknowitMatches = []\n",
    "docNames = []\n",
    "for i, doc in enumerate(docs):\n",
    "    if i % 10 == 0:\n",
    "        print \"analyzed {0} documents out of {1}\".format(i, len(docs))\n",
    "    items, companies, styles, materials, liketoknowitLinks = findMatches(doc[1], 0.7)\n",
    "    itemMatches.append(items)\n",
    "    companyMatches.append(companies)\n",
    "    styleMatches.append(styles)\n",
    "    materialMatches.append(materials)\n",
    "    liketoknowitMatches.append(liketoknowitLinks)\n",
    "    docNames.append(doc[0])"
   ]
  },
  {
   "cell_type": "code",
   "execution_count": 197,
   "metadata": {},
   "outputs": [],
   "source": [
    "#Save results from the long computation\n",
    "np.savetxt('results/item_matches.txt', np.asarray(itemMatches), delimiter=',')\n",
    "np.savetxt('results/company_matches.txt', np.asarray(companyMatches), delimiter=',')\n",
    "np.savetxt('results/style_matches.txt', np.asarray(styleMatches), delimiter=',')\n",
    "np.savetxt('results/material_matches.txt', np.asarray(materialMatches), delimiter=',')\n",
    "np.savetxt('results/liketoknowit_matches.txt', np.asarray(liketoknowitMatches), delimiter=',')\n",
    "np.savetxt('results/docNames.txt', np.asarray(docNames), delimiter=',', fmt=\"%s\")"
   ]
  },
  {
   "cell_type": "code",
   "execution_count": 131,
   "metadata": {},
   "outputs": [],
   "source": [
    "from collections import Counter"
   ]
  },
  {
   "cell_type": "code",
   "execution_count": 207,
   "metadata": {},
   "outputs": [
    {
     "data": {
      "image/png": "[encoded data removed]",
      "text/plain": [
       "<matplotlib.figure.Figure at 0x7f464db3e650>"
      ]
     },
     "metadata": {},
     "output_type": "display_data"
    }
   ],
   "source": [
    "labels, values = zip(*Counter(itemMatches).items())\n",
    "indexes = np.arange(len(labels))\n",
    "width = 1\n",
    "plt.bar(indexes, values, width)\n",
    "plt.ylabel('Number of posts')\n",
    "plt.xlabel('Number of candidate items')\n",
    "plt.title(r'Histogram over number of candidate items in text for different posts')\n",
    "plt.savefig('figures/candidate_items_hist.pdf', format='pdf', dpi=1000)\n",
    "plt.show()"
   ]
  },
  {
   "cell_type": "code",
   "execution_count": 208,
   "metadata": {},
   "outputs": [
    {
     "data": {
      "image/png": "[encoded data removed]",
      "text/plain": [
       "<matplotlib.figure.Figure at 0x7f464d5ee990>"
      ]
     },
     "metadata": {},
     "output_type": "display_data"
    }
   ],
   "source": [
    "plt.loglog(indexes, values)\n",
    "plt.ylabel('Number of posts')\n",
    "plt.xlabel('Number of candidate items')\n",
    "plt.title(r'Log-Log plot over number of candidate items in text for different posts')\n",
    "plt.savefig('figures/candidate_items_loglog.pdf', format='pdf', dpi=1000)\n",
    "plt.show()"
   ]
  },
  {
   "cell_type": "code",
   "execution_count": 209,
   "metadata": {},
   "outputs": [
    {
     "data": {
      "image/png": "[encoded data removed]",
      "text/plain": [
       "<matplotlib.figure.Figure at 0x7f45dcc4b4d0>"
      ]
     },
     "metadata": {},
     "output_type": "display_data"
    }
   ],
   "source": [
    "labels, values = zip(*Counter(companyMatches).items())\n",
    "indexes = np.arange(len(labels))\n",
    "width = 1\n",
    "plt.bar(indexes, values, width)\n",
    "plt.ylabel('Number of posts')\n",
    "plt.xlabel('Number of candidate brands')\n",
    "plt.title(r'Histogram over number of candidate brands in text for different posts')\n",
    "plt.savefig('figures/candidate_brands_hist.pdf', format='pdf', dpi=1000)\n",
    "plt.show()"
   ]
  },
  {
   "cell_type": "code",
   "execution_count": 210,
   "metadata": {},
   "outputs": [
    {
     "data": {
      "image/png": "[encoded data removed]",
      "text/plain": [
       "<matplotlib.figure.Figure at 0x7f45dcc54390>"
      ]
     },
     "metadata": {},
     "output_type": "display_data"
    }
   ],
   "source": [
    "plt.loglog(indexes, values)\n",
    "plt.ylabel('Number of posts')\n",
    "plt.xlabel('Number of candidate brands')\n",
    "plt.title(r'Log-Log plot over number of candidate brands in text for different posts')\n",
    "plt.savefig('figures/candidate_brands_loglog.pdf', format='pdf', dpi=1000)\n",
    "plt.show()"
   ]
  },
  {
   "cell_type": "code",
   "execution_count": 211,
   "metadata": {},
   "outputs": [
    {
     "data": {
      "image/png": "[encoded data removed]",
      "text/plain": [
       "<matplotlib.figure.Figure at 0x7f45db18f6d0>"
      ]
     },
     "metadata": {},
     "output_type": "display_data"
    }
   ],
   "source": [
    "labels, values = zip(*Counter(styleMatches).items())\n",
    "indexes = np.arange(len(labels))\n",
    "width = 1\n",
    "plt.bar(indexes, values, width)\n",
    "plt.ylabel('Number of posts')\n",
    "plt.xlabel('Number of candidate styles')\n",
    "plt.title(r'Histogram over number of candidate styles in text for different posts')\n",
    "plt.savefig('figures/candidate_styles_hist.pdf', format='pdf', dpi=1000)\n",
    "plt.show()"
   ]
  },
  {
   "cell_type": "code",
   "execution_count": 212,
   "metadata": {},
   "outputs": [
    {
     "data": {
      "image/png": "[encoded data removed]",
      "text/plain": [
       "<matplotlib.figure.Figure at 0x7f45db119550>"
      ]
     },
     "metadata": {},
     "output_type": "display_data"
    }
   ],
   "source": [
    "plt.loglog(indexes, values)\n",
    "plt.ylabel('Number of posts')\n",
    "plt.xlabel('Number of candidate styles')\n",
    "plt.title(r'Log-Log plot over number of candidate styles in text for different posts')\n",
    "plt.savefig('figures/candidate_styles_loglog.pdf', format='pdf', dpi=1000)\n",
    "plt.show()"
   ]
  },
  {
   "cell_type": "code",
   "execution_count": 213,
   "metadata": {},
   "outputs": [
    {
     "data": {
      "image/png": "[encoded data removed]",
      "text/plain": [
       "<matplotlib.figure.Figure at 0x7f45d94b3d90>"
      ]
     },
     "metadata": {},
     "output_type": "display_data"
    }
   ],
   "source": [
    "labels, values = zip(*Counter(materialMatches).items())\n",
    "indexes = np.arange(len(labels))\n",
    "width = 1\n",
    "plt.bar(indexes, values, width)\n",
    "plt.ylabel('Number of posts')\n",
    "plt.xlabel('Number of candidate materials')\n",
    "plt.title(r'Histogram over number of candidate materials in text for different posts')\n",
    "plt.savefig('figures/candidate_material_hist.pdf', format='pdf', dpi=1000)\n",
    "plt.show()"
   ]
  },
  {
   "cell_type": "code",
   "execution_count": 214,
   "metadata": {},
   "outputs": [
    {
     "data": {
      "image/png": "[encoded data removed]",
      "text/plain": [
       "<matplotlib.figure.Figure at 0x7f45d94be4d0>"
      ]
     },
     "metadata": {},
     "output_type": "display_data"
    }
   ],
   "source": [
    "plt.loglog(indexes, values)\n",
    "plt.ylabel('Number of posts')\n",
    "plt.xlabel('Number of candidate materials')\n",
    "plt.title(r'Log-Log over number of candidate materials in text for different posts')\n",
    "plt.savefig('figures/candidate_material_loglog.pdf', format='pdf', dpi=1000)\n",
    "plt.show()"
   ]
  },
  {
   "cell_type": "code",
   "execution_count": 250,
   "metadata": {},
   "outputs": [],
   "source": [
    "\n",
    "def similar2(word, lemmas, t):\n",
    "    return list(filter(lambda w: word.similarity(w) > t, lemmas))\n",
    "\n",
    "def findMatches2(doc, t):\n",
    "    liketoknowitMatch = 0\n",
    "    itemMatch = []\n",
    "    companiesMatch = []\n",
    "    styleMatch = []\n",
    "    materialMatch = []\n",
    "    match = re.search(\"http://liketk.it/([^\\s]+)\", doc.text)\n",
    "    if match is not None:\n",
    "        liketoknowitMatch += 1\n",
    "    for token in doc:\n",
    "        if token not in STOP_WORDS:\n",
    "            itemMatch = itemMatch + similar2(token, itemLemmas, t)\n",
    "            styleMatch = styleMatch + similar2(token, styleLemmas, t)\n",
    "            materialMatch = materialMatch + similar2(token, materialLemmas, t)\n",
    "        if token.text in companiesWords:\n",
    "            companiesMatch.append(token.text)\n",
    "            \n",
    "    return itemMatch, companiesMatch, styleMatch, materialMatch, liketoknowitMatch"
   ]
  },
  {
   "cell_type": "code",
   "execution_count": 251,
   "metadata": {},
   "outputs": [
    {
     "name": "stdout",
     "output_type": "stream",
     "text": [
      "analyzed 0 documents out of 3152\n",
      "analyzed 10 documents out of 3152\n",
      "analyzed 20 documents out of 3152\n",
      "analyzed 30 documents out of 3152\n",
      "analyzed 40 documents out of 3152\n",
      "analyzed 50 documents out of 3152\n",
      "analyzed 60 documents out of 3152\n",
      "analyzed 70 documents out of 3152\n",
      "analyzed 80 documents out of 3152\n",
      "analyzed 90 documents out of 3152\n",
      "analyzed 100 documents out of 3152\n",
      "analyzed 110 documents out of 3152\n",
      "analyzed 120 documents out of 3152\n",
      "analyzed 130 documents out of 3152\n",
      "analyzed 140 documents out of 3152\n",
      "analyzed 150 documents out of 3152\n",
      "analyzed 160 documents out of 3152\n",
      "analyzed 170 documents out of 3152\n",
      "analyzed 180 documents out of 3152\n",
      "analyzed 190 documents out of 3152\n",
      "analyzed 200 documents out of 3152\n",
      "analyzed 210 documents out of 3152\n",
      "analyzed 220 documents out of 3152\n",
      "analyzed 230 documents out of 3152\n",
      "analyzed 240 documents out of 3152\n",
      "analyzed 250 documents out of 3152\n",
      "analyzed 260 documents out of 3152\n",
      "analyzed 270 documents out of 3152\n",
      "analyzed 280 documents out of 3152\n",
      "analyzed 290 documents out of 3152\n",
      "analyzed 300 documents out of 3152\n",
      "analyzed 310 documents out of 3152\n",
      "analyzed 320 documents out of 3152\n",
      "analyzed 330 documents out of 3152\n",
      "analyzed 340 documents out of 3152\n",
      "analyzed 350 documents out of 3152\n",
      "analyzed 360 documents out of 3152\n",
      "analyzed 370 documents out of 3152\n",
      "analyzed 380 documents out of 3152\n",
      "analyzed 390 documents out of 3152\n",
      "analyzed 400 documents out of 3152\n",
      "analyzed 410 documents out of 3152\n",
      "analyzed 420 documents out of 3152\n",
      "analyzed 430 documents out of 3152\n",
      "analyzed 440 documents out of 3152\n",
      "analyzed 450 documents out of 3152\n",
      "analyzed 460 documents out of 3152\n",
      "analyzed 470 documents out of 3152\n",
      "analyzed 480 documents out of 3152\n",
      "analyzed 490 documents out of 3152\n",
      "analyzed 500 documents out of 3152\n",
      "analyzed 510 documents out of 3152\n",
      "analyzed 520 documents out of 3152\n",
      "analyzed 530 documents out of 3152\n",
      "analyzed 540 documents out of 3152\n",
      "analyzed 550 documents out of 3152\n",
      "analyzed 560 documents out of 3152\n",
      "analyzed 570 documents out of 3152\n",
      "analyzed 580 documents out of 3152\n",
      "analyzed 590 documents out of 3152\n",
      "analyzed 600 documents out of 3152\n",
      "analyzed 610 documents out of 3152\n",
      "analyzed 620 documents out of 3152\n",
      "analyzed 630 documents out of 3152\n",
      "analyzed 640 documents out of 3152\n",
      "analyzed 650 documents out of 3152\n",
      "analyzed 660 documents out of 3152\n",
      "analyzed 670 documents out of 3152\n",
      "analyzed 680 documents out of 3152\n",
      "analyzed 690 documents out of 3152\n",
      "analyzed 700 documents out of 3152\n",
      "analyzed 710 documents out of 3152\n",
      "analyzed 720 documents out of 3152\n",
      "analyzed 730 documents out of 3152\n",
      "analyzed 740 documents out of 3152\n",
      "analyzed 750 documents out of 3152\n",
      "analyzed 760 documents out of 3152\n",
      "analyzed 770 documents out of 3152\n",
      "analyzed 780 documents out of 3152\n",
      "analyzed 790 documents out of 3152\n",
      "analyzed 800 documents out of 3152\n",
      "analyzed 810 documents out of 3152\n",
      "analyzed 820 documents out of 3152\n",
      "analyzed 830 documents out of 3152\n",
      "analyzed 840 documents out of 3152\n",
      "analyzed 850 documents out of 3152\n",
      "analyzed 860 documents out of 3152\n",
      "analyzed 870 documents out of 3152\n",
      "analyzed 880 documents out of 3152\n",
      "analyzed 890 documents out of 3152\n",
      "analyzed 900 documents out of 3152\n",
      "analyzed 910 documents out of 3152\n",
      "analyzed 920 documents out of 3152\n",
      "analyzed 930 documents out of 3152\n",
      "analyzed 940 documents out of 3152\n",
      "analyzed 950 documents out of 3152\n",
      "analyzed 960 documents out of 3152\n",
      "analyzed 970 documents out of 3152\n",
      "analyzed 980 documents out of 3152\n",
      "analyzed 990 documents out of 3152\n",
      "analyzed 1000 documents out of 3152\n",
      "analyzed 1010 documents out of 3152\n",
      "analyzed 1020 documents out of 3152\n",
      "analyzed 1030 documents out of 3152\n",
      "analyzed 1040 documents out of 3152\n",
      "analyzed 1050 documents out of 3152\n",
      "analyzed 1060 documents out of 3152\n",
      "analyzed 1070 documents out of 3152\n",
      "analyzed 1080 documents out of 3152\n",
      "analyzed 1090 documents out of 3152\n",
      "analyzed 1100 documents out of 3152\n",
      "analyzed 1110 documents out of 3152\n",
      "analyzed 1120 documents out of 3152\n",
      "analyzed 1130 documents out of 3152\n",
      "analyzed 1140 documents out of 3152\n",
      "analyzed 1150 documents out of 3152\n",
      "analyzed 1160 documents out of 3152\n",
      "analyzed 1170 documents out of 3152\n",
      "analyzed 1180 documents out of 3152\n",
      "analyzed 1190 documents out of 3152\n",
      "analyzed 1200 documents out of 3152\n",
      "analyzed 1210 documents out of 3152\n",
      "analyzed 1220 documents out of 3152\n",
      "analyzed 1230 documents out of 3152\n",
      "analyzed 1240 documents out of 3152\n",
      "analyzed 1250 documents out of 3152\n",
      "analyzed 1260 documents out of 3152\n",
      "analyzed 1270 documents out of 3152\n",
      "analyzed 1280 documents out of 3152\n",
      "analyzed 1290 documents out of 3152\n",
      "analyzed 1300 documents out of 3152\n",
      "analyzed 1310 documents out of 3152\n",
      "analyzed 1320 documents out of 3152\n",
      "analyzed 1330 documents out of 3152\n",
      "analyzed 1340 documents out of 3152\n",
      "analyzed 1350 documents out of 3152\n",
      "analyzed 1360 documents out of 3152\n",
      "analyzed 1370 documents out of 3152\n",
      "analyzed 1380 documents out of 3152\n",
      "analyzed 1390 documents out of 3152\n",
      "analyzed 1400 documents out of 3152\n",
      "analyzed 1410 documents out of 3152\n",
      "analyzed 1420 documents out of 3152\n",
      "analyzed 1430 documents out of 3152\n",
      "analyzed 1440 documents out of 3152\n",
      "analyzed 1450 documents out of 3152\n",
      "analyzed 1460 documents out of 3152\n",
      "analyzed 1470 documents out of 3152\n",
      "analyzed 1480 documents out of 3152\n",
      "analyzed 1490 documents out of 3152\n",
      "analyzed 1500 documents out of 3152\n",
      "analyzed 1510 documents out of 3152\n",
      "analyzed 1520 documents out of 3152\n",
      "analyzed 1530 documents out of 3152\n",
      "analyzed 1540 documents out of 3152\n",
      "analyzed 1550 documents out of 3152\n",
      "analyzed 1560 documents out of 3152\n",
      "analyzed 1570 documents out of 3152\n",
      "analyzed 1580 documents out of 3152\n",
      "analyzed 1590 documents out of 3152\n",
      "analyzed 1600 documents out of 3152\n",
      "analyzed 1610 documents out of 3152\n",
      "analyzed 1620 documents out of 3152\n",
      "analyzed 1630 documents out of 3152\n",
      "analyzed 1640 documents out of 3152\n",
      "analyzed 1650 documents out of 3152\n",
      "analyzed 1660 documents out of 3152\n",
      "analyzed 1670 documents out of 3152\n",
      "analyzed 1680 documents out of 3152\n",
      "analyzed 1690 documents out of 3152\n",
      "analyzed 1700 documents out of 3152\n",
      "analyzed 1710 documents out of 3152\n",
      "analyzed 1720 documents out of 3152\n",
      "analyzed 1730 documents out of 3152\n",
      "analyzed 1740 documents out of 3152\n",
      "analyzed 1750 documents out of 3152\n",
      "analyzed 1760 documents out of 3152\n",
      "analyzed 1770 documents out of 3152\n",
      "analyzed 1780 documents out of 3152\n",
      "analyzed 1790 documents out of 3152\n",
      "analyzed 1800 documents out of 3152\n",
      "analyzed 1810 documents out of 3152\n",
      "analyzed 1820 documents out of 3152\n",
      "analyzed 1830 documents out of 3152\n",
      "analyzed 1840 documents out of 3152\n",
      "analyzed 1850 documents out of 3152\n",
      "analyzed 1860 documents out of 3152\n",
      "analyzed 1870 documents out of 3152\n",
      "analyzed 1880 documents out of 3152\n",
      "analyzed 1890 documents out of 3152\n",
      "analyzed 1900 documents out of 3152\n",
      "analyzed 1910 documents out of 3152\n",
      "analyzed 1920 documents out of 3152\n",
      "analyzed 1930 documents out of 3152\n",
      "analyzed 1940 documents out of 3152\n",
      "analyzed 1950 documents out of 3152\n",
      "analyzed 1960 documents out of 3152\n",
      "analyzed 1970 documents out of 3152\n",
      "analyzed 1980 documents out of 3152\n",
      "analyzed 1990 documents out of 3152\n",
      "analyzed 2000 documents out of 3152\n",
      "analyzed 2010 documents out of 3152\n",
      "analyzed 2020 documents out of 3152\n",
      "analyzed 2030 documents out of 3152\n",
      "analyzed 2040 documents out of 3152\n",
      "analyzed 2050 documents out of 3152\n",
      "analyzed 2060 documents out of 3152\n",
      "analyzed 2070 documents out of 3152\n",
      "analyzed 2080 documents out of 3152\n",
      "analyzed 2090 documents out of 3152\n",
      "analyzed 2100 documents out of 3152\n",
      "analyzed 2110 documents out of 3152\n",
      "analyzed 2120 documents out of 3152\n",
      "analyzed 2130 documents out of 3152\n",
      "analyzed 2140 documents out of 3152\n",
      "analyzed 2150 documents out of 3152\n",
      "analyzed 2160 documents out of 3152\n",
      "analyzed 2170 documents out of 3152\n",
      "analyzed 2180 documents out of 3152\n",
      "analyzed 2190 documents out of 3152\n",
      "analyzed 2200 documents out of 3152\n",
      "analyzed 2210 documents out of 3152\n",
      "analyzed 2220 documents out of 3152\n",
      "analyzed 2230 documents out of 3152\n",
      "analyzed 2240 documents out of 3152\n",
      "analyzed 2250 documents out of 3152\n",
      "analyzed 2260 documents out of 3152\n",
      "analyzed 2270 documents out of 3152\n",
      "analyzed 2280 documents out of 3152\n",
      "analyzed 2290 documents out of 3152\n",
      "analyzed 2300 documents out of 3152\n"
     ]
    },
    {
     "name": "stdout",
     "output_type": "stream",
     "text": [
      "analyzed 2310 documents out of 3152\n",
      "analyzed 2320 documents out of 3152\n",
      "analyzed 2330 documents out of 3152\n",
      "analyzed 2340 documents out of 3152\n",
      "analyzed 2350 documents out of 3152\n",
      "analyzed 2360 documents out of 3152\n",
      "analyzed 2370 documents out of 3152\n",
      "analyzed 2380 documents out of 3152\n",
      "analyzed 2390 documents out of 3152\n",
      "analyzed 2400 documents out of 3152\n",
      "analyzed 2410 documents out of 3152\n",
      "analyzed 2420 documents out of 3152\n",
      "analyzed 2430 documents out of 3152\n",
      "analyzed 2440 documents out of 3152\n",
      "analyzed 2450 documents out of 3152\n",
      "analyzed 2460 documents out of 3152\n",
      "analyzed 2470 documents out of 3152\n",
      "analyzed 2480 documents out of 3152\n",
      "analyzed 2490 documents out of 3152\n",
      "analyzed 2500 documents out of 3152\n",
      "analyzed 2510 documents out of 3152\n",
      "analyzed 2520 documents out of 3152\n",
      "analyzed 2530 documents out of 3152\n",
      "analyzed 2540 documents out of 3152\n",
      "analyzed 2550 documents out of 3152\n",
      "analyzed 2560 documents out of 3152\n",
      "analyzed 2570 documents out of 3152\n",
      "analyzed 2580 documents out of 3152\n",
      "analyzed 2590 documents out of 3152\n",
      "analyzed 2600 documents out of 3152\n",
      "analyzed 2610 documents out of 3152\n",
      "analyzed 2620 documents out of 3152\n",
      "analyzed 2630 documents out of 3152\n",
      "analyzed 2640 documents out of 3152\n",
      "analyzed 2650 documents out of 3152\n",
      "analyzed 2660 documents out of 3152\n",
      "analyzed 2670 documents out of 3152\n",
      "analyzed 2680 documents out of 3152\n",
      "analyzed 2690 documents out of 3152\n",
      "analyzed 2700 documents out of 3152\n",
      "analyzed 2710 documents out of 3152\n",
      "analyzed 2720 documents out of 3152\n",
      "analyzed 2730 documents out of 3152\n",
      "analyzed 2740 documents out of 3152\n",
      "analyzed 2750 documents out of 3152\n",
      "analyzed 2760 documents out of 3152\n",
      "analyzed 2770 documents out of 3152\n",
      "analyzed 2780 documents out of 3152\n",
      "analyzed 2790 documents out of 3152\n",
      "analyzed 2800 documents out of 3152\n",
      "analyzed 2810 documents out of 3152\n",
      "analyzed 2820 documents out of 3152\n",
      "analyzed 2830 documents out of 3152\n",
      "analyzed 2840 documents out of 3152\n",
      "analyzed 2850 documents out of 3152\n",
      "analyzed 2860 documents out of 3152\n",
      "analyzed 2870 documents out of 3152\n",
      "analyzed 2880 documents out of 3152\n",
      "analyzed 2890 documents out of 3152\n",
      "analyzed 2900 documents out of 3152\n",
      "analyzed 2910 documents out of 3152\n",
      "analyzed 2920 documents out of 3152\n",
      "analyzed 2930 documents out of 3152\n",
      "analyzed 2940 documents out of 3152\n",
      "analyzed 2950 documents out of 3152\n",
      "analyzed 2960 documents out of 3152\n",
      "analyzed 2970 documents out of 3152\n",
      "analyzed 2980 documents out of 3152\n",
      "analyzed 2990 documents out of 3152\n",
      "analyzed 3000 documents out of 3152\n",
      "analyzed 3010 documents out of 3152\n",
      "analyzed 3020 documents out of 3152\n",
      "analyzed 3030 documents out of 3152\n",
      "analyzed 3040 documents out of 3152\n",
      "analyzed 3050 documents out of 3152\n",
      "analyzed 3060 documents out of 3152\n",
      "analyzed 3070 documents out of 3152\n",
      "analyzed 3080 documents out of 3152\n",
      "analyzed 3090 documents out of 3152\n",
      "analyzed 3100 documents out of 3152\n",
      "analyzed 3110 documents out of 3152\n",
      "analyzed 3120 documents out of 3152\n",
      "analyzed 3130 documents out of 3152\n",
      "analyzed 3140 documents out of 3152\n",
      "analyzed 3150 documents out of 3152\n",
      "CPU times: user 10h 23min 6s, sys: 3min 10s, total: 10h 26min 16s\n",
      "Wall time: 10h 19min 30s\n"
     ]
    }
   ],
   "source": [
    "%%time\n",
    "itemMatches2 = []\n",
    "companyMatches2 = []\n",
    "styleMatches2 = []\n",
    "materialMatches2 = []\n",
    "liketoknowitMatches2 = []\n",
    "docNames2 = []\n",
    "for i, doc in enumerate(docs):\n",
    "    if i % 10 == 0:\n",
    "        print \"analyzed {0} documents out of {1}\".format(i, len(docs))\n",
    "    items, companies, styles, materials, liketoknowitLinks = findMatches2(doc[1], 0.7)\n",
    "    itemMatches2 = itemMatches2 + items\n",
    "    companyMatches2 = companyMatches2 + companies\n",
    "    styleMatches2 = styleMatches2 + styles\n",
    "    materialMatches2 = materialMatches2 + materials\n",
    "    liketoknowitMatches2.append(liketoknowitLinks)\n",
    "    docNames2.append(doc[0])"
   ]
  },
  {
   "cell_type": "code",
   "execution_count": 252,
   "metadata": {},
   "outputs": [],
   "source": [
    "#Save results from the long computation\n",
    "np.savetxt('results/item_matches2.txt', np.asarray(itemMatches2), delimiter=',', fmt=\"%s\")\n",
    "np.savetxt('results/company_matches2.txt', np.asarray(companyMatches2), delimiter=',', fmt=\"%s\")\n",
    "np.savetxt('results/style_matches2.txt', np.asarray(styleMatches2), delimiter=',', fmt=\"%s\")\n",
    "np.savetxt('results/material_matches2.txt', np.asarray(materialMatches2), delimiter=',', fmt=\"%s\")\n",
    "np.savetxt('results/liketoknowit_matches2.txt', np.asarray(liketoknowitMatches2), delimiter=',', fmt=\"%s\")\n",
    "np.savetxt('results/docNames2.txt', np.asarray(docNames2), delimiter=',', fmt=\"%s\")"
   ]
  },
  {
   "cell_type": "code",
   "execution_count": 308,
   "metadata": {},
   "outputs": [
    {
     "data": {
      "image/png": "[encoded data removed]",
      "text/plain": [
       "<matplotlib.figure.Figure at 0x7f46488cf950>"
      ]
     },
     "metadata": {},
     "output_type": "display_data"
    }
   ],
   "source": [
    "counter = Counter(itemMatches2)\n",
    "labels = []\n",
    "counts = []\n",
    "for label, count in counter.most_common(10):\n",
    "    labels.append(label)\n",
    "    counts.append(count)\n",
    "#labels = [\"contains no liketoknowit link\",\"contains liketoknowit link\"]\n",
    "colors = ['gold', 'yellowgreen', 'lightcoral', 'lightskyblue', \"red\", \"aqua\", \"chocolate\", \"beige\", \"indigo\", \"magenta\"]\n",
    "plt.pie(counts, labels=labels, colors=colors,\n",
    "        autopct='%1.1f%%', shadow=True, startangle=140)\n",
    " \n",
    "plt.axis('equal')\n",
    "plt.savefig('figures/style_itempie.pdf', format='pdf', dpi=1000)\n",
    "plt.show()"
   ]
  },
  {
   "cell_type": "code",
   "execution_count": 309,
   "metadata": {},
   "outputs": [
    {
     "data": {
      "image/png": "[encoded data removed]",
      "text/plain": [
       "<matplotlib.figure.Figure at 0x7f45e089bcd0>"
      ]
     },
     "metadata": {},
     "output_type": "display_data"
    }
   ],
   "source": [
    "counter = Counter(styleMatches2)\n",
    "labels = []\n",
    "counts = []\n",
    "for label, count in counter.most_common(10):\n",
    "    labels.append(label)\n",
    "    counts.append(count)\n",
    "#labels = [\"contains no liketoknowit link\",\"contains liketoknowit link\"]\n",
    "colors = ['gold', 'yellowgreen', 'lightcoral', 'lightskyblue', \"red\", \"aqua\", \"chocolate\", \"beige\", \"indigo\", \"magenta\"]\n",
    "plt.pie(counts, labels=labels, colors=colors,\n",
    "        autopct='%1.1f%%', shadow=True, startangle=140)\n",
    " \n",
    "plt.axis('equal')\n",
    "plt.savefig('figures/style_stylepie.pdf', format='pdf', dpi=1000)\n",
    "plt.show()"
   ]
  },
  {
   "cell_type": "code",
   "execution_count": 310,
   "metadata": {},
   "outputs": [
    {
     "data": {
      "image/png": "[encoded data removed]",
      "text/plain": [
       "<matplotlib.figure.Figure at 0x7f45d98f3e10>"
      ]
     },
     "metadata": {},
     "output_type": "display_data"
    }
   ],
   "source": [
    "counter = Counter(materialMatches2)\n",
    "labels = []\n",
    "counts = []\n",
    "for label, count in counter.most_common(10):\n",
    "    labels.append(label)\n",
    "    counts.append(count)\n",
    "#labels = [\"contains no liketoknowit link\",\"contains liketoknowit link\"]\n",
    "colors = ['gold', 'yellowgreen', 'lightcoral', 'lightskyblue', \"red\", \"aqua\", \"chocolate\", \"beige\", \"indigo\", \"magenta\"]\n",
    "plt.pie(counts, labels=labels, colors=colors,\n",
    "        autopct='%1.1f%%', shadow=True, startangle=140)\n",
    " \n",
    "plt.axis('equal')\n",
    "plt.savefig('figures/style_materialpie.pdf', format='pdf', dpi=1000)\n",
    "plt.show()"
   ]
  },
  {
   "cell_type": "code",
   "execution_count": 311,
   "metadata": {},
   "outputs": [
    {
     "data": {
      "image/png": "[encoded data removed]",
      "text/plain": [
       "<matplotlib.figure.Figure at 0x7f45d4b3acd0>"
      ]
     },
     "metadata": {},
     "output_type": "display_data"
    }
   ],
   "source": [
    "counter = Counter(companyMatches2)\n",
    "labels = []\n",
    "counts = []\n",
    "for label, count in counter.most_common(10):\n",
    "    labels.append(label)\n",
    "    counts.append(count)\n",
    "#labels = [\"contains no liketoknowit link\",\"contains liketoknowit link\"]\n",
    "colors = ['gold', 'yellowgreen', 'lightcoral', 'lightskyblue', \"red\", \"aqua\", \"chocolate\", \"beige\", \"indigo\", \"magenta\"]\n",
    "plt.pie(counts, labels=labels, colors=colors,\n",
    "        autopct='%1.1f%%', shadow=True, startangle=140)\n",
    " \n",
    "plt.axis('equal')\n",
    "plt.savefig('figures/style_companypie.pdf', format='pdf', dpi=1000)\n",
    "plt.show()"
   ]
  },
  {
   "cell_type": "code",
   "execution_count": 236,
   "metadata": {},
   "outputs": [
    {
     "data": {
      "image/png": "[encoded data removed]",
      "text/plain": [
       "<matplotlib.figure.Figure at 0x7f45d86fcd50>"
      ]
     },
     "metadata": {},
     "output_type": "display_data"
    }
   ],
   "source": [
    "labels, values = zip(*Counter(liketoknowitMatches2).items())\n",
    "labels = [\"contains no liketoknowit link\",\"contains liketoknowit link\"]\n",
    "colors = ['gold', 'yellowgreen', 'lightcoral', 'lightskyblue', \"red\"]\n",
    "plt.pie(values, labels=labels, colors=colors,\n",
    "        autopct='%1.1f%%', shadow=True, startangle=140)\n",
    " \n",
    "plt.axis('equal')\n",
    "plt.savefig('figures/liketoknowit_fraction.pdf', format='pdf', dpi=1000)\n",
    "plt.show()"
   ]
  },
  {
   "cell_type": "code",
   "execution_count": 313,
   "metadata": {},
   "outputs": [],
   "source": [
    "counter = Counter(itemMatches2)\n",
    "commonItems = []\n",
    "for label, count in counter.most_common(40):\n",
    "    commonItems.append(label)\n",
    "    \n",
    "items = []\n",
    "itemVecs = []\n",
    "for item in commonItems:\n",
    "    if item.text not in items:\n",
    "        items.append(item.text)\n",
    "        itemVecs.append(item.vector)"
   ]
  },
  {
   "cell_type": "code",
   "execution_count": 314,
   "metadata": {},
   "outputs": [
    {
     "data": {
      "text/plain": [
       "40"
      ]
     },
     "execution_count": 314,
     "metadata": {},
     "output_type": "execute_result"
    }
   ],
   "source": [
    "len(itemVecs)"
   ]
  },
  {
   "cell_type": "code",
   "execution_count": 315,
   "metadata": {},
   "outputs": [
    {
     "data": {
      "image/png": "[encoded data removed]",
      "text/plain": [
       "<matplotlib.figure.Figure at 0x7f4648a5f910>"
      ]
     },
     "metadata": {},
     "output_type": "display_data"
    }
   ],
   "source": [
    "from sklearn.manifold import TSNE\n",
    "tsne = TSNE(n_components=2)\n",
    "X_tsne = tsne.fit_transform(itemVecs)\n",
    "df = pd.DataFrame(X_tsne, index=items, columns=['x', 'y'])\n",
    "fig = plt.figure()\n",
    "ax = fig.add_subplot(1, 1, 1)\n",
    "ax.scatter(df['x'], df['y'])\n",
    "for word, pos in df.iterrows():\n",
    "    ax.annotate(word, pos)\n",
    "plt.savefig('figures/style_itemscatter.pdf', format='pdf', dpi=1000)\n",
    "plt.show()"
   ]
  },
  {
   "cell_type": "code",
   "execution_count": 316,
   "metadata": {},
   "outputs": [],
   "source": [
    "counter = Counter(companyMatches2)\n",
    "commonCompanies = []\n",
    "for label, count in counter.most_common(40):\n",
    "    commonCompanies.append(label)\n",
    "items = []\n",
    "itemVecs = []\n",
    "for item in commonCompanies:\n",
    "    if item not in items:\n",
    "        d = nlp(item)\n",
    "        items.append(item)\n",
    "        itemVecs.append(d[0].vector)"
   ]
  },
  {
   "cell_type": "code",
   "execution_count": 317,
   "metadata": {},
   "outputs": [
    {
     "data": {
      "image/png": "[encoded data removed]",
      "text/plain": [
       "<matplotlib.figure.Figure at 0x7f46488cf310>"
      ]
     },
     "metadata": {},
     "output_type": "display_data"
    }
   ],
   "source": [
    "tsne = TSNE(n_components=2)\n",
    "X_tsne = tsne.fit_transform(itemVecs)\n",
    "df = pd.DataFrame(X_tsne, index=items, columns=['x', 'y'])\n",
    "fig = plt.figure()\n",
    "ax = fig.add_subplot(1, 1, 1)\n",
    "ax.scatter(df['x'], df['y'])\n",
    "for word, pos in df.iterrows():\n",
    "    ax.annotate(word, pos)\n",
    "plt.savefig('figures/style_brandscatter.pdf', format='pdf', dpi=1000)\n",
    "plt.show()"
   ]
  },
  {
   "cell_type": "code",
   "execution_count": 318,
   "metadata": {},
   "outputs": [
    {
     "data": {
      "image/png": "[encoded data removed]",
      "text/plain": [
       "<matplotlib.figure.Figure at 0x7f4648fd7290>"
      ]
     },
     "metadata": {},
     "output_type": "display_data"
    }
   ],
   "source": [
    "counter = Counter(styleMatches2)\n",
    "commonStyles = []\n",
    "for label, count in counter.most_common(40):\n",
    "    commonStyles.append(label)\n",
    "items = []\n",
    "itemVecs = []\n",
    "for item in commonStyles:\n",
    "    if item.text not in items:\n",
    "        items.append(item.text)\n",
    "        itemVecs.append(item.vector)\n",
    "        \n",
    "tsne = TSNE(n_components=2)\n",
    "X_tsne = tsne.fit_transform(itemVecs)\n",
    "df = pd.DataFrame(X_tsne, index=items, columns=['x', 'y'])\n",
    "fig = plt.figure()\n",
    "ax = fig.add_subplot(1, 1, 1)\n",
    "ax.scatter(df['x'], df['y'])\n",
    "for word, pos in df.iterrows():\n",
    "    ax.annotate(word, pos)\n",
    "plt.savefig('figures/style_stylescatter.pdf', format='pdf', dpi=1000)\n",
    "plt.show()"
   ]
  },
  {
   "cell_type": "code",
   "execution_count": 319,
   "metadata": {},
   "outputs": [
    {
     "data": {
      "image/png": "[encoded data removed]",
      "text/plain": [
       "<matplotlib.figure.Figure at 0x7f4649398a10>"
      ]
     },
     "metadata": {},
     "output_type": "display_data"
    }
   ],
   "source": [
    "counter = Counter(materialMatches2)\n",
    "commonStyles = []\n",
    "for label, count in counter.most_common(40):\n",
    "    commonStyles.append(label)\n",
    "items = []\n",
    "itemVecs = []\n",
    "for item in commonStyles:\n",
    "    if item.text not in items:\n",
    "        items.append(item.text)\n",
    "        itemVecs.append(item.vector)\n",
    "        \n",
    "tsne = TSNE(n_components=2)\n",
    "X_tsne = tsne.fit_transform(itemVecs)\n",
    "df = pd.DataFrame(X_tsne, index=items, columns=['x', 'y'])\n",
    "fig = plt.figure()\n",
    "ax = fig.add_subplot(1, 1, 1)\n",
    "ax.scatter(df['x'], df['y'])\n",
    "for word, pos in df.iterrows():\n",
    "    ax.annotate(word, pos)\n",
    "plt.savefig('figures/style_materialscatter.pdf', format='pdf', dpi=1000)\n",
    "plt.show()"
   ]
  },
  {
   "cell_type": "code",
   "execution_count": 307,
   "metadata": {},
   "outputs": [
    {
     "data": {
      "text/plain": [
       "20"
      ]
     },
     "execution_count": 307,
     "metadata": {},
     "output_type": "execute_result"
    }
   ],
   "source": [
    "len(commonStyles)"
   ]
  },
  {
   "cell_type": "code",
   "execution_count": 231,
   "metadata": {},
   "outputs": [],
   "source": [
    "labels, values = zip(*Counter(liketoknowitMatches2).items())"
   ]
  },
  {
   "cell_type": "code",
   "execution_count": 232,
   "metadata": {},
   "outputs": [
    {
     "data": {
      "text/plain": [
       "(0, 1)"
      ]
     },
     "execution_count": 232,
     "metadata": {},
     "output_type": "execute_result"
    }
   ],
   "source": [
    "labels"
   ]
  },
  {
   "cell_type": "code",
   "execution_count": 240,
   "metadata": {},
   "outputs": [
    {
     "data": {
      "text/plain": [
       "[Blouses,\n",
       " Tunics,\n",
       " Coats,\n",
       " Dresses,\n",
       " Jackets,\n",
       " Jeans,\n",
       " Jumpers,\n",
       " Cardiagans,\n",
       " Skirts,\n",
       " Tights,\n",
       " Socks,\n",
       " Tops,\n",
       " TShirts,\n",
       " Trousers,\n",
       " Shorts,\n",
       " Shoes,\n",
       " Bags,\n",
       " Collar,\n",
       " Athletic,\n",
       " Lightweight,\n",
       " Blazers,\n",
       " Gilets,\n",
       " WaistCoats,\n",
       " Capes,\n",
       " Cocktail,\n",
       " Jersey,\n",
       " Shirt,\n",
       " Trench,\n",
       " ClutchBag,\n",
       " Handbags,\n",
       " Tote,\n",
       " ShoulderBag,\n",
       " Rucksacks,\n",
       " Sport&Travel,\n",
       " LaptopBag,\n",
       " Leggings,\n",
       " Thigh,\n",
       " Ankle,\n",
       " Ballet,\n",
       " Pumps,\n",
       " Boots,\n",
       " Flats,\n",
       " FlipFlops,\n",
       " Beachshoes,\n",
       " Heels,\n",
       " Mules,\n",
       " Clogs,\n",
       " Sandals,\n",
       " Shoe,\n",
       " Care,\n",
       " Slippers,\n",
       " Sportsshoes,\n",
       " Trainers,\n",
       " Ankleboots,\n",
       " Classic,\n",
       " Cowboy,\n",
       " Biker,\n",
       " Heeled,\n",
       " Balletpumps,\n",
       " Snow,\n",
       " Wellies,\n",
       " Brogues,\n",
       " Espadrilles,\n",
       " Loafers,\n",
       " Moccasins,\n",
       " Fitness,\n",
       " Watersports,\n",
       " Hiking,\n",
       " HillWalking,\n",
       " Cycling,\n",
       " Thong,\n",
       " Belts,\n",
       " Gloves,\n",
       " Hats,\n",
       " Caps,\n",
       " Jewellery,\n",
       " Watches,\n",
       " Purses,\n",
       " Scarves,\n",
       " Shawls,\n",
       " Sunglasses,\n",
       " Polo,\n",
       " Neck,\n",
       " Parkas,\n",
       " Hoodie,\n",
       " Sweatshirt,\n",
       " Cardigan,\n",
       " Sleeve,\n",
       " Vest,\n",
       " Chinos,\n",
       " Joggers,\n",
       " Sweats,\n",
       " Playsuits,\n",
       " Jumpsuits,\n",
       " heeledankleboots,\n",
       " classicankleboots,\n",
       " cowboyboots,\n",
       " bikerankleboots,\n",
       " bikerboots,\n",
       " Sports,\n",
       " Runningshoes,\n",
       " Footballboots,\n",
       " Basketballshoes,\n",
       " Tennisshoes,\n",
       " Golfshoes,\n",
       " Fitnessshoes,\n",
       " Watersportsshoes,\n",
       " Hikingshoes,\n",
       " HillWalkingshoes,\n",
       " Cyclingshoes,\n",
       " AnkleCuffsandals,\n",
       " Thongsandals,\n",
       " Heeledsandals,\n",
       " Platformsandals,\n",
       " Strappysandals,\n",
       " Wedgesandals]"
      ]
     },
     "execution_count": 240,
     "metadata": {},
     "output_type": "execute_result"
    }
   ],
   "source": [
    "itemLemmas"
   ]
  },
  {
   "cell_type": "code",
   "execution_count": null,
   "metadata": {},
   "outputs": [],
   "source": []
  }
 ],
 "metadata": {
  "kernelspec": {
   "display_name": "Python 3",
   "language": "python",
   "name": "python3"
  },
  "language_info": {
   "codemirror_mode": {
    "name": "ipython",
    "version": 2
   },
   "file_extension": ".py",
   "mimetype": "text/x-python",
   "name": "python",
   "nbconvert_exporter": "python",
   "pygments_lexer": "ipython2",
   "version": "2.7.14"
  }
 },
 "nbformat": 4,
 "nbformat_minor": 2
}
