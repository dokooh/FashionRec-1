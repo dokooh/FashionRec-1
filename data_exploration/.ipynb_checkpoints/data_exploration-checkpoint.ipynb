{
 "cells": [
  {
   "cell_type": "code",
   "execution_count": 24,
   "metadata": {},
   "outputs": [],
   "source": [
    "import spacy\n",
    "from scattertext import SampleCorpora, whitespace_nlp_with_sentences\n",
    "from scattertext import produce_scattertext_explorer\n",
    "from scattertext.CorpusFromPandas import CorpusFromPandas\n",
    "from collections import Counter\n",
    "import numpy as np\n",
    "import matplotlib.pyplot as plt\n",
    "import pandas as pd\n",
    "import unicodedata\n",
    "import nltk\n",
    "from wordcloud import WordCloud, STOPWORDS\n",
    "from os import path\n",
    "from scipy.misc import imread\n",
    "%matplotlib inline\n",
    "plt.rc('text', usetex=True)\n",
    "plt.rc('font', family='serif')"
   ]
  },
  {
   "cell_type": "markdown",
   "metadata": {},
   "source": [
    "## Import CSV"
   ]
  },
  {
   "cell_type": "code",
   "execution_count": 25,
   "metadata": {
    "scrolled": false
   },
   "outputs": [
    {
     "data": {
      "text/html": [
       "<div>\n",
       "<style scoped>\n",
       "    .dataframe tbody tr th:only-of-type {\n",
       "        vertical-align: middle;\n",
       "    }\n",
       "\n",
       "    .dataframe tbody tr th {\n",
       "        vertical-align: top;\n",
       "    }\n",
       "\n",
       "    .dataframe thead th {\n",
       "        text-align: right;\n",
       "    }\n",
       "</style>\n",
       "<table border=\"1\" class=\"dataframe\">\n",
       "  <thead>\n",
       "    <tr style=\"text-align: right;\">\n",
       "      <th></th>\n",
       "      <th>caption</th>\n",
       "      <th>comments</th>\n",
       "      <th>tags</th>\n",
       "    </tr>\n",
       "  </thead>\n",
       "  <tbody>\n",
       "    <tr>\n",
       "      <th>0</th>\n",
       "      <td>Stort grattis till Andrea Norrman som fyller 2...</td>\n",
       "      <td>👏👏👏 😍😍 Do You Love Tropical Music? Ge Lina Dol...</td>\n",
       "      <td>birthday inspo birthdaygirl lifestylepublishin...</td>\n",
       "    </tr>\n",
       "    <tr>\n",
       "      <th>1</th>\n",
       "      <td>Hej Paris! 🗼 Följ Stefanis drömmiga resa på bl...</td>\n",
       "      <td>😍😘</td>\n",
       "      <td>inspo resa glädje travel lifestylepublishing b...</td>\n",
       "    </tr>\n",
       "    <tr>\n",
       "      <th>2</th>\n",
       "      <td>Här har vi @amandafranzeen som bloggar på Fine...</td>\n",
       "      <td>Jag har en blogg hos er :) @finestse</td>\n",
       "      <td>inspo fotboll lifestylepublishing vscocam tumb...</td>\n",
       "    </tr>\n",
       "    <tr>\n",
       "      <th>3</th>\n",
       "      <td>Söndagar 😍👌 Tagga någon du vill äta pannkakor ...</td>\n",
       "      <td>@feliciabellonius 😍😍😍 😌 @strandlinnea 👌👌👏</td>\n",
       "      <td>inspo lifestylepublishing pannkakor vscocam su...</td>\n",
       "    </tr>\n",
       "    <tr>\n",
       "      <th>4</th>\n",
       "      <td>Se alla bilder från Formex Afterwork med Lifes...</td>\n",
       "      <td>Sweet (: 👍👍👍</td>\n",
       "      <td>inspo blog vimmel lifestylepublishing finestse...</td>\n",
       "    </tr>\n",
       "  </tbody>\n",
       "</table>\n",
       "</div>"
      ],
      "text/plain": [
       "                                             caption  \\\n",
       "0  Stort grattis till Andrea Norrman som fyller 2...   \n",
       "1  Hej Paris! 🗼 Följ Stefanis drömmiga resa på bl...   \n",
       "2  Här har vi @amandafranzeen som bloggar på Fine...   \n",
       "3  Söndagar 😍👌 Tagga någon du vill äta pannkakor ...   \n",
       "4  Se alla bilder från Formex Afterwork med Lifes...   \n",
       "\n",
       "                                            comments  \\\n",
       "0  👏👏👏 😍😍 Do You Love Tropical Music? Ge Lina Dol...   \n",
       "1                                                 😍😘   \n",
       "2               Jag har en blogg hos er :) @finestse   \n",
       "3          @feliciabellonius 😍😍😍 😌 @strandlinnea 👌👌👏   \n",
       "4                                       Sweet (: 👍👍👍   \n",
       "\n",
       "                                                tags  \n",
       "0  birthday inspo birthdaygirl lifestylepublishin...  \n",
       "1  inspo resa glädje travel lifestylepublishing b...  \n",
       "2  inspo fotboll lifestylepublishing vscocam tumb...  \n",
       "3  inspo lifestylepublishing pannkakor vscocam su...  \n",
       "4  inspo blog vimmel lifestylepublishing finestse...  "
      ]
     },
     "execution_count": 25,
     "metadata": {},
     "output_type": "execute_result"
    }
   ],
   "source": [
    "df = pd.read_csv(\"./finestse.csv\", sep=',', \n",
    "                 encoding = 'utf8', header=None, \n",
    "                 names=[\"caption\", \"comments\",\"tags\"])\n",
    "df.head()"
   ]
  },
  {
   "cell_type": "code",
   "execution_count": 26,
   "metadata": {},
   "outputs": [
    {
     "data": {
      "text/html": [
       "<div>\n",
       "<style scoped>\n",
       "    .dataframe tbody tr th:only-of-type {\n",
       "        vertical-align: middle;\n",
       "    }\n",
       "\n",
       "    .dataframe tbody tr th {\n",
       "        vertical-align: top;\n",
       "    }\n",
       "\n",
       "    .dataframe thead th {\n",
       "        text-align: right;\n",
       "    }\n",
       "</style>\n",
       "<table border=\"1\" class=\"dataframe\">\n",
       "  <thead>\n",
       "    <tr style=\"text-align: right;\">\n",
       "      <th></th>\n",
       "      <th>caption</th>\n",
       "      <th>comments</th>\n",
       "      <th>tags</th>\n",
       "    </tr>\n",
       "  </thead>\n",
       "  <tbody>\n",
       "    <tr>\n",
       "      <th>count</th>\n",
       "      <td>140</td>\n",
       "      <td>104</td>\n",
       "      <td>139</td>\n",
       "    </tr>\n",
       "    <tr>\n",
       "      <th>unique</th>\n",
       "      <td>140</td>\n",
       "      <td>102</td>\n",
       "      <td>139</td>\n",
       "    </tr>\n",
       "    <tr>\n",
       "      <th>top</th>\n",
       "      <td>Idag hade vi besök av fina @isabellajedler på ...</td>\n",
       "      <td>nice</td>\n",
       "      <td>jagärfinest lifestyle horselove ryttare world ...</td>\n",
       "    </tr>\n",
       "    <tr>\n",
       "      <th>freq</th>\n",
       "      <td>1</td>\n",
       "      <td>2</td>\n",
       "      <td>1</td>\n",
       "    </tr>\n",
       "  </tbody>\n",
       "</table>\n",
       "</div>"
      ],
      "text/plain": [
       "                                                  caption comments  \\\n",
       "count                                                 140      104   \n",
       "unique                                                140      102   \n",
       "top     Idag hade vi besök av fina @isabellajedler på ...     nice   \n",
       "freq                                                    1        2   \n",
       "\n",
       "                                                     tags  \n",
       "count                                                 139  \n",
       "unique                                                139  \n",
       "top     jagärfinest lifestyle horselove ryttare world ...  \n",
       "freq                                                    1  "
      ]
     },
     "execution_count": 26,
     "metadata": {},
     "output_type": "execute_result"
    }
   ],
   "source": [
    "df.describe()"
   ]
  },
  {
   "cell_type": "markdown",
   "metadata": {},
   "source": [
    "## Count the tag frequency and plot the 5 most common tags (user tags in post)"
   ]
  },
  {
   "cell_type": "code",
   "execution_count": 27,
   "metadata": {},
   "outputs": [
    {
     "data": {
      "image/png": "[encoded data removed]",
      "text/plain": [
       "<matplotlib.figure.Figure at 0x7fe756acfc50>"
      ]
     },
     "metadata": {},
     "output_type": "display_data"
    }
   ],
   "source": [
    "tagsDF = df[\"tags\"]\n",
    "tags = []\n",
    "# Merge the DF into a single list with all the tags\n",
    "for index, row in df.iterrows():\n",
    "    if type(row[\"tags\"]) != float: #Remove emojis\n",
    "        tags = tags + map(lambda x: x.decode(\"utf-8\"), row[\"tags\"].encode(\"utf-8\").split(\" \"))\n",
    "# Count the tags\n",
    "counter = Counter(tags)\n",
    "top_tags = []\n",
    "top_counts = []\n",
    "for tag, count in counter.most_common(5):\n",
    "    top_tags.append(tag)\n",
    "    top_counts.append(count)\n",
    "# Plot the counts\n",
    "indexes = np.arange(len(top_tags))\n",
    "width = 0.7\n",
    "plt.bar(indexes, top_counts, width)\n",
    "plt.xticks(indexes + width * 0.5, top_tags)\n",
    "plt.ylabel('Tag Count')\n",
    "plt.title('Top 5 tag counts for user finestse')\n",
    "plt.show()"
   ]
  },
  {
   "cell_type": "code",
   "execution_count": 28,
   "metadata": {},
   "outputs": [
    {
     "data": {
      "text/plain": [
       "['finestse', 'inspo', 'tumblr', 'vscocam', 'sweden']"
      ]
     },
     "execution_count": 28,
     "metadata": {},
     "output_type": "execute_result"
    }
   ],
   "source": [
    "map(lambda x: x.encode(\"utf-8\"), top_tags)"
   ]
  },
  {
   "cell_type": "code",
   "execution_count": 36,
   "metadata": {},
   "outputs": [
    {
     "data": {
      "image/png": "[encoded data removed]",
      "text/plain": [
       "<matplotlib.figure.Figure at 0x7fe756cb9350>"
      ]
     },
     "metadata": {},
     "output_type": "display_data"
    }
   ],
   "source": [
    "def mapUnicode(x):\n",
    "    try:\n",
    "        return x.encode(\"ascii\")\n",
    "    except:\n",
    "          return \"non-ascii\"\n",
    "tagsStr = \" \".join(map(mapUnicode, tags))\n",
    "wordcloud = WordCloud(\n",
    "                      relative_scaling = 1.0\n",
    "                      ).generate(tagsStr)\n",
    "plt.imshow(wordcloud)\n",
    "plt.axis(\"off\")\n",
    "plt.show()"
   ]
  },
  {
   "cell_type": "markdown",
   "metadata": {},
   "source": [
    "## Count the word frequency in comments and plot the 5 most common words"
   ]
  },
  {
   "cell_type": "code",
   "execution_count": 30,
   "metadata": {},
   "outputs": [
    {
     "data": {
      "image/png": "[encoded data removed]",
      "text/plain": [
       "<matplotlib.figure.Figure at 0x7fe756b34f90>"
      ]
     },
     "metadata": {},
     "output_type": "display_data"
    }
   ],
   "source": [
    "commentsDF = df[\"comments\"]\n",
    "words = []\n",
    "# Merge the DF into a single list with all the comments\n",
    "for index, row in df.iterrows():\n",
    "    if type(row[\"comments\"]) == unicode: #remove emojis\n",
    "        words = words + map(lambda x: x.decode(\"utf-8\"), row[\"comments\"].encode(\"utf-8\").split(\" \"))\n",
    "# Count the words\n",
    "counter = Counter(words)\n",
    "top_words= []\n",
    "top_counts = []\n",
    "for word, count in counter.most_common(5):\n",
    "    top_words.append(word)\n",
    "    top_counts.append(count)\n",
    "\n",
    "def mapUnicode(x):\n",
    "    try:\n",
    "        return x.encode(\"ascii\")\n",
    "    except:\n",
    "          return \"non-ascii\"\n",
    "unicode_top_words = top_words\n",
    "top_words = map(mapUnicode, top_words)\n",
    "# Plot the counts\n",
    "indexes = np.arange(len(top_words))\n",
    "width = 0.7\n",
    "plt.bar(indexes, top_counts, width)\n",
    "plt.xticks(indexes + width * 0.5, top_words)\n",
    "plt.ylabel('Word Count')\n",
    "plt.title('Top 5 words in user comments on posts by user finestse')\n",
    "plt.show()"
   ]
  },
  {
   "cell_type": "code",
   "execution_count": 31,
   "metadata": {},
   "outputs": [
    {
     "name": "stdout",
     "output_type": "stream",
     "text": [
      "med\n",
      "se\n",
      "\n",
      "😍\n",
      "vill\n"
     ]
    }
   ],
   "source": [
    "for x in unicode_top_words:\n",
    "    print(x.encode(\"utf-8\"))"
   ]
  },
  {
   "cell_type": "markdown",
   "metadata": {},
   "source": [
    "The most common words are swedish stop words, the empty word \"\", and the emoji with heart-eyes. "
   ]
  },
  {
   "cell_type": "code",
   "execution_count": 37,
   "metadata": {},
   "outputs": [
    {
     "data": {
      "image/png": "[encoded data removed]",
      "text/plain": [
       "<matplotlib.figure.Figure at 0x7fe756c2fd10>"
      ]
     },
     "metadata": {},
     "output_type": "display_data"
    }
   ],
   "source": [
    "commentsStr = \" \".join(map(mapUnicode, words))\n",
    "wordcloud = WordCloud(\n",
    "                      relative_scaling = 1.0\n",
    "                      ).generate(commentsStr)\n",
    "plt.imshow(wordcloud)\n",
    "plt.axis(\"off\")\n",
    "plt.show()"
   ]
  },
  {
   "cell_type": "markdown",
   "metadata": {},
   "source": [
    "## Count the word frequency in captions and plot the 5 most common words"
   ]
  },
  {
   "cell_type": "code",
   "execution_count": 38,
   "metadata": {},
   "outputs": [
    {
     "data": {
      "image/png": "[encoded data removed]",
      "text/plain": [
       "<matplotlib.figure.Figure at 0x7fe7569ebdd0>"
      ]
     },
     "metadata": {},
     "output_type": "display_data"
    }
   ],
   "source": [
    "commentsDF = df[\"caption\"]\n",
    "words = []\n",
    "# Merge the DF into a single list with all the captions\n",
    "for index, row in df.iterrows():\n",
    "    if type(row[\"caption\"]) == unicode: #remove emojis\n",
    "        words = words + map(lambda x: x.decode(\"utf-8\"), row[\"caption\"].encode(\"utf-8\").split(\" \"))\n",
    "# Count the words\n",
    "counter = Counter(words)\n",
    "top_words= []\n",
    "top_counts = []\n",
    "for word, count in counter.most_common(5):\n",
    "    top_words.append(word)\n",
    "    top_counts.append(count)\n",
    "\n",
    "def mapUnicode(x):\n",
    "    try:\n",
    "        return x.encode(\"ascii\")\n",
    "    except:\n",
    "          return \"non-ascii\"\n",
    "unicode_top_words = top_words\n",
    "top_words = map(mapUnicode, top_words)\n",
    "top_words = map(lambda x: x.replace(\"#\",\"\\#\"), top_words)\n",
    "# Plot the counts\n",
    "indexes = np.arange(len(top_words))\n",
    "width = 0.7\n",
    "plt.bar(indexes, top_counts, width)\n",
    "plt.xticks(indexes + width * 0.5, top_words)\n",
    "plt.ylabel('Word Count')\n",
    "plt.title('Top 5 words in captions on posts by user finestse')\n",
    "plt.show()"
   ]
  },
  {
   "cell_type": "code",
   "execution_count": 39,
   "metadata": {},
   "outputs": [
    {
     "name": "stdout",
     "output_type": "stream",
     "text": [
      ".\n",
      "#finestse\n",
      "#inspo\n",
      "på\n",
      "#tumblr\n"
     ]
    }
   ],
   "source": [
    "for x in unicode_top_words:\n",
    "    print(x.encode(\"utf-8\"))"
   ]
  },
  {
   "cell_type": "markdown",
   "metadata": {},
   "source": [
    "Most common words are tags and swedish stopwords (\"på\")"
   ]
  },
  {
   "cell_type": "code",
   "execution_count": 40,
   "metadata": {},
   "outputs": [
    {
     "data": {
      "image/png": "[encoded data removed]",
      "text/plain": [
       "<matplotlib.figure.Figure at 0x7fe7569da090>"
      ]
     },
     "metadata": {},
     "output_type": "display_data"
    }
   ],
   "source": [
    "captionsStr = \" \".join(map(mapUnicode, words))\n",
    "wordcloud = WordCloud(\n",
    "                      relative_scaling = 1.0\n",
    "                      ).generate(captionsStr)\n",
    "plt.imshow(wordcloud)\n",
    "plt.axis(\"off\")\n",
    "plt.show()"
   ]
  }
 ],
 "metadata": {
  "kernelspec": {
   "display_name": "Python 2",
   "language": "python",
   "name": "python2"
  },
  "language_info": {
   "codemirror_mode": {
    "name": "ipython",
    "version": 2
   },
   "file_extension": ".py",
   "mimetype": "text/x-python",
   "name": "python",
   "nbconvert_exporter": "python",
   "pygments_lexer": "ipython2",
   "version": "2.7.14"
  }
 },
 "nbformat": 4,
 "nbformat_minor": 2
}
