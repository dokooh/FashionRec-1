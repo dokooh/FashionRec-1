{
 "cells": [
  {
   "cell_type": "markdown",
   "metadata": {},
   "source": [
    "## Data exploration on a single IG post"
   ]
  },
  {
   "cell_type": "code",
   "execution_count": 1,
   "metadata": {},
   "outputs": [],
   "source": [
    "import spacy\n",
    "from collections import Counter\n",
    "import numpy as np\n",
    "import matplotlib.pyplot as plt\n",
    "import pandas as pd\n",
    "import unicodedata\n",
    "import nltk\n",
    "from os import path\n",
    "%matplotlib inline\n",
    "plt.rc('text', usetex=True)\n",
    "plt.rc('font', family='serif')"
   ]
  },
  {
   "cell_type": "markdown",
   "metadata": {},
   "source": [
    "## Read in user data"
   ]
  },
  {
   "cell_type": "code",
   "execution_count": 2,
   "metadata": {},
   "outputs": [
    {
     "data": {
      "text/html": [
       "<div>\n",
       "<style scoped>\n",
       "    .dataframe tbody tr th:only-of-type {\n",
       "        vertical-align: middle;\n",
       "    }\n",
       "\n",
       "    .dataframe tbody tr th {\n",
       "        vertical-align: top;\n",
       "    }\n",
       "\n",
       "    .dataframe thead th {\n",
       "        text-align: right;\n",
       "    }\n",
       "</style>\n",
       "<table border=\"1\" class=\"dataframe\">\n",
       "  <thead>\n",
       "    <tr style=\"text-align: right;\">\n",
       "      <th></th>\n",
       "      <th>doc</th>\n",
       "      <th>text</th>\n",
       "    </tr>\n",
       "  </thead>\n",
       "  <tbody>\n",
       "    <tr>\n",
       "      <th>0</th>\n",
       "      <td>https://scontent-arn2-1.cdninstagram.com/t51.2...</td>\n",
       "      <td>Love this Hairstyle 😍😍 Gorgeous A gift guide f...</td>\n",
       "    </tr>\n",
       "    <tr>\n",
       "      <th>1</th>\n",
       "      <td>https://scontent-arn2-1.cdninstagram.com/t51.2...</td>\n",
       "      <td>Cutest bffs ever 🧡🧡 Cuties! Love this! 💕 This ...</td>\n",
       "    </tr>\n",
       "    <tr>\n",
       "      <th>2</th>\n",
       "      <td>https://scontent-arn2-1.cdninstagram.com/t51.2...</td>\n",
       "      <td>this is precious !!! The perfect couple Casual...</td>\n",
       "    </tr>\n",
       "    <tr>\n",
       "      <th>3</th>\n",
       "      <td>https://scontent-arn2-1.cdninstagram.com/t51.2...</td>\n",
       "      <td>LOVE ❤️!! Gorgeous in red! Obsessed ❤️❤️ Prett...</td>\n",
       "    </tr>\n",
       "    <tr>\n",
       "      <th>4</th>\n",
       "      <td>https://scontent-arn2-1.cdninstagram.com/t51.2...</td>\n",
       "      <td>Love love love this pic! 🙌🏼❤️✨✨✨ U and ur girl...</td>\n",
       "    </tr>\n",
       "  </tbody>\n",
       "</table>\n",
       "</div>"
      ],
      "text/plain": [
       "                                                 doc  \\\n",
       "0  https://scontent-arn2-1.cdninstagram.com/t51.2...   \n",
       "1  https://scontent-arn2-1.cdninstagram.com/t51.2...   \n",
       "2  https://scontent-arn2-1.cdninstagram.com/t51.2...   \n",
       "3  https://scontent-arn2-1.cdninstagram.com/t51.2...   \n",
       "4  https://scontent-arn2-1.cdninstagram.com/t51.2...   \n",
       "\n",
       "                                                text  \n",
       "0  Love this Hairstyle 😍😍 Gorgeous A gift guide f...  \n",
       "1  Cutest bffs ever 🧡🧡 Cuties! Love this! 💕 This ...  \n",
       "2  this is precious !!! The perfect couple Casual...  \n",
       "3  LOVE ❤️!! Gorgeous in red! Obsessed ❤️❤️ Prett...  \n",
       "4  Love love love this pic! 🙌🏼❤️✨✨✨ U and ur girl...  "
      ]
     },
     "execution_count": 2,
     "metadata": {},
     "output_type": "execute_result"
    }
   ],
   "source": [
    "# csv format: (doc, text), where text is a concatenation of caption, comments, and tags.\n",
    "df = pd.read_csv(\"./hellofashionblog.csv\", sep=',', \n",
    "                 encoding = 'utf8', header=None, \n",
    "                 names=[\"doc\", \"text\"])\n",
    "df.head()"
   ]
  },
  {
   "cell_type": "code",
   "execution_count": 3,
   "metadata": {},
   "outputs": [],
   "source": [
    "# Drop NANs to avoid SpaCy errors\n",
    "df = df.dropna(subset=['doc', 'text'])"
   ]
  },
  {
   "cell_type": "markdown",
   "metadata": {},
   "source": [
    "## Parse each post with SpaCy\n",
    "\n",
    "The call `nlp(text)` parses the text into a SpaCy document that is tokenized as english text (e.g more advanced tokenization than just split on \" \" as well as annotated with linguistic properties such as lemma, PoS, tag, shape, etc. SpaCy also analyzes the text of each document to find named entities."
   ]
  },
  {
   "cell_type": "code",
   "execution_count": 4,
   "metadata": {},
   "outputs": [],
   "source": [
    "import spacy\n",
    "nlp = spacy.load(\"en_vectors_web_lg\")\n",
    "docs = []\n",
    "for index, row in df.iterrows():\n",
    "    docs.append((row[\"doc\"], nlp(row[\"text\"])))"
   ]
  },
  {
   "cell_type": "code",
   "execution_count": 5,
   "metadata": {},
   "outputs": [
    {
     "name": "stdout",
     "output_type": "stream",
     "text": [
      "number of tokens in first document: 6872\n"
     ]
    }
   ],
   "source": [
    "print \"number of tokens in first document: {}\".format(len(docs[0][1]))"
   ]
  },
  {
   "cell_type": "code",
   "execution_count": 6,
   "metadata": {},
   "outputs": [
    {
     "name": "stdout",
     "output_type": "stream",
     "text": [
      "first token text: Love\n",
      "first token lemma: Love\n",
      "first token pos: \n",
      "first token tag: \n",
      "first token dep: \n",
      "first token shape: Xxxx\n",
      "first token is_alphabetic char: True\n",
      "first token is_stop: False\n"
     ]
    }
   ],
   "source": [
    "type(docs[0][1][0])\n",
    "print \"first token text: {}\".format(docs[0][1][0].text)\n",
    "print \"first token lemma: {}\".format(docs[0][1][0].lemma_)\n",
    "print \"first token pos: {}\".format(docs[0][1][0].pos_)\n",
    "print \"first token tag: {}\".format(docs[0][1][0].tag_)\n",
    "print \"first token dep: {}\".format(docs[0][1][0].dep_)\n",
    "print \"first token shape: {}\".format(docs[0][1][0].shape_)\n",
    "print \"first token is_alphabetic char: {}\".format(docs[0][1][0].is_alpha)\n",
    "print \"first token is_stop: {}\".format(docs[0][1][0].is_stop)"
   ]
  },
  {
   "cell_type": "code",
   "execution_count": 7,
   "metadata": {},
   "outputs": [
    {
     "name": "stdout",
     "output_type": "stream",
     "text": [
      "named entities in first document:\n"
     ]
    }
   ],
   "source": [
    "print \"named entities in first document:\"\n",
    "for ent in docs[0][1].ents:\n",
    "    print(ent.text, ent.start_char, ent.end_char, ent.label_)"
   ]
  },
  {
   "cell_type": "markdown",
   "metadata": {},
   "source": [
    "## SpaCy has build in word2vec vectors trained on a wikipedia corpus that can be used to inspect word similarities"
   ]
  },
  {
   "cell_type": "code",
   "execution_count": 8,
   "metadata": {},
   "outputs": [
    {
     "data": {
      "text/plain": [
       "0.71035314"
      ]
     },
     "execution_count": 8,
     "metadata": {},
     "output_type": "execute_result"
    }
   ],
   "source": [
    "nlp.vocab[u'jacket'].similarity(nlp.vocab[u'shirt'])"
   ]
  },
  {
   "cell_type": "code",
   "execution_count": 9,
   "metadata": {},
   "outputs": [
    {
     "data": {
      "text/plain": [
       "-0.028046083"
      ]
     },
     "execution_count": 9,
     "metadata": {},
     "output_type": "execute_result"
    }
   ],
   "source": [
    "nlp.vocab[u'jacket'].similarity(nlp.vocab[u'ontology'])"
   ]
  },
  {
   "cell_type": "code",
   "execution_count": 10,
   "metadata": {},
   "outputs": [
    {
     "data": {
      "text/plain": [
       "0.2631595"
      ]
     },
     "execution_count": 10,
     "metadata": {},
     "output_type": "execute_result"
    }
   ],
   "source": [
    "nlp.vocab[u'jacket'].similarity(nlp.vocab[u'love'])"
   ]
  },
  {
   "cell_type": "code",
   "execution_count": 11,
   "metadata": {},
   "outputs": [],
   "source": [
    "def most_similar_all(word, n):\n",
    "    queries = [w for w in word.vocab if w.is_lower == word.is_lower and w.prob >= -15]\n",
    "    by_similarity = sorted(queries, key=lambda w: word.similarity(w), reverse=True)\n",
    "    return by_similarity[:n]"
   ]
  },
  {
   "cell_type": "code",
   "execution_count": 12,
   "metadata": {},
   "outputs": [
    {
     "data": {
      "text/plain": [
       "[u'pants',\n",
       " u'shirt',\n",
       " u'coat',\n",
       " u'wear',\n",
       " u'dress',\n",
       " u'shirts',\n",
       " u'clothing',\n",
       " u'wearing',\n",
       " u'clothes',\n",
       " u'hat']"
      ]
     },
     "execution_count": 12,
     "metadata": {},
     "output_type": "execute_result"
    }
   ],
   "source": [
    "[w.lower_ for w in most_similar_all(nlp.vocab[u'jacket'], 10)]"
   ]
  },
  {
   "cell_type": "markdown",
   "metadata": {},
   "source": [
    "## Load in the Fashion Items, Materials, General Style, and Companies"
   ]
  },
  {
   "cell_type": "code",
   "execution_count": 13,
   "metadata": {},
   "outputs": [
    {
     "data": {
      "text/html": [
       "<div>\n",
       "<style scoped>\n",
       "    .dataframe tbody tr th:only-of-type {\n",
       "        vertical-align: middle;\n",
       "    }\n",
       "\n",
       "    .dataframe tbody tr th {\n",
       "        vertical-align: top;\n",
       "    }\n",
       "\n",
       "    .dataframe thead th {\n",
       "        text-align: right;\n",
       "    }\n",
       "</style>\n",
       "<table border=\"1\" class=\"dataframe\">\n",
       "  <thead>\n",
       "    <tr style=\"text-align: right;\">\n",
       "      <th></th>\n",
       "      <th>word</th>\n",
       "    </tr>\n",
       "  </thead>\n",
       "  <tbody>\n",
       "    <tr>\n",
       "      <th>0</th>\n",
       "      <td>Blouses</td>\n",
       "    </tr>\n",
       "    <tr>\n",
       "      <th>1</th>\n",
       "      <td>Tunics</td>\n",
       "    </tr>\n",
       "    <tr>\n",
       "      <th>2</th>\n",
       "      <td>Coats</td>\n",
       "    </tr>\n",
       "    <tr>\n",
       "      <th>3</th>\n",
       "      <td>Dresses</td>\n",
       "    </tr>\n",
       "    <tr>\n",
       "      <th>4</th>\n",
       "      <td>Jackets</td>\n",
       "    </tr>\n",
       "  </tbody>\n",
       "</table>\n",
       "</div>"
      ],
      "text/plain": [
       "      word\n",
       "0  Blouses\n",
       "1   Tunics\n",
       "2    Coats\n",
       "3  Dresses\n",
       "4  Jackets"
      ]
     },
     "execution_count": 13,
     "metadata": {},
     "output_type": "execute_result"
    }
   ],
   "source": [
    "fashion_df = pd.read_csv(\"./domain_data/items.csv\", sep=',', \n",
    "                 encoding = 'utf8', header=None, \n",
    "                 names=[\"word\"])\n",
    "fashion_df.head()"
   ]
  },
  {
   "cell_type": "code",
   "execution_count": 14,
   "metadata": {},
   "outputs": [
    {
     "data": {
      "text/html": [
       "<div>\n",
       "<style scoped>\n",
       "    .dataframe tbody tr th:only-of-type {\n",
       "        vertical-align: middle;\n",
       "    }\n",
       "\n",
       "    .dataframe tbody tr th {\n",
       "        vertical-align: top;\n",
       "    }\n",
       "\n",
       "    .dataframe thead th {\n",
       "        text-align: right;\n",
       "    }\n",
       "</style>\n",
       "<table border=\"1\" class=\"dataframe\">\n",
       "  <thead>\n",
       "    <tr style=\"text-align: right;\">\n",
       "      <th></th>\n",
       "      <th>word</th>\n",
       "    </tr>\n",
       "  </thead>\n",
       "  <tbody>\n",
       "    <tr>\n",
       "      <th>0</th>\n",
       "      <td>AS98</td>\n",
       "    </tr>\n",
       "    <tr>\n",
       "      <th>1</th>\n",
       "      <td>Aaiko</td>\n",
       "    </tr>\n",
       "    <tr>\n",
       "      <th>2</th>\n",
       "      <td>Abercrombie &amp; Fitch</td>\n",
       "    </tr>\n",
       "    <tr>\n",
       "      <th>3</th>\n",
       "      <td>Abro</td>\n",
       "    </tr>\n",
       "    <tr>\n",
       "      <th>4</th>\n",
       "      <td>ADIA</td>\n",
       "    </tr>\n",
       "  </tbody>\n",
       "</table>\n",
       "</div>"
      ],
      "text/plain": [
       "                  word\n",
       "0                 AS98\n",
       "1                Aaiko\n",
       "2  Abercrombie & Fitch\n",
       "3                 Abro\n",
       "4                 ADIA"
      ]
     },
     "execution_count": 14,
     "metadata": {},
     "output_type": "execute_result"
    }
   ],
   "source": [
    "companies_df = pd.read_csv(\"./domain_data/companies.csv\", sep=',', \n",
    "                 encoding = 'utf8', header=None, \n",
    "                 names=[\"word\"])\n",
    "companies_df.head()"
   ]
  },
  {
   "cell_type": "code",
   "execution_count": 15,
   "metadata": {},
   "outputs": [
    {
     "data": {
      "text/html": [
       "<div>\n",
       "<style scoped>\n",
       "    .dataframe tbody tr th:only-of-type {\n",
       "        vertical-align: middle;\n",
       "    }\n",
       "\n",
       "    .dataframe tbody tr th {\n",
       "        vertical-align: top;\n",
       "    }\n",
       "\n",
       "    .dataframe thead th {\n",
       "        text-align: right;\n",
       "    }\n",
       "</style>\n",
       "<table border=\"1\" class=\"dataframe\">\n",
       "  <thead>\n",
       "    <tr style=\"text-align: right;\">\n",
       "      <th></th>\n",
       "      <th>word</th>\n",
       "    </tr>\n",
       "  </thead>\n",
       "  <tbody>\n",
       "    <tr>\n",
       "      <th>0</th>\n",
       "      <td>2000s</td>\n",
       "    </tr>\n",
       "    <tr>\n",
       "      <th>1</th>\n",
       "      <td>50s</td>\n",
       "    </tr>\n",
       "    <tr>\n",
       "      <th>2</th>\n",
       "      <td>60s</td>\n",
       "    </tr>\n",
       "    <tr>\n",
       "      <th>3</th>\n",
       "      <td>70s</td>\n",
       "    </tr>\n",
       "    <tr>\n",
       "      <th>4</th>\n",
       "      <td>80s</td>\n",
       "    </tr>\n",
       "  </tbody>\n",
       "</table>\n",
       "</div>"
      ],
      "text/plain": [
       "    word\n",
       "0  2000s\n",
       "1    50s\n",
       "2    60s\n",
       "3    70s\n",
       "4    80s"
      ]
     },
     "execution_count": 15,
     "metadata": {},
     "output_type": "execute_result"
    }
   ],
   "source": [
    "style_df = pd.read_csv(\"./domain_data/general_style.csv\", sep=',', \n",
    "                 encoding = 'utf8', header=None, \n",
    "                 names=[\"word\"])\n",
    "style_df.head()"
   ]
  },
  {
   "cell_type": "code",
   "execution_count": 16,
   "metadata": {},
   "outputs": [
    {
     "data": {
      "text/html": [
       "<div>\n",
       "<style scoped>\n",
       "    .dataframe tbody tr th:only-of-type {\n",
       "        vertical-align: middle;\n",
       "    }\n",
       "\n",
       "    .dataframe tbody tr th {\n",
       "        vertical-align: top;\n",
       "    }\n",
       "\n",
       "    .dataframe thead th {\n",
       "        text-align: right;\n",
       "    }\n",
       "</style>\n",
       "<table border=\"1\" class=\"dataframe\">\n",
       "  <thead>\n",
       "    <tr style=\"text-align: right;\">\n",
       "      <th></th>\n",
       "      <th>word</th>\n",
       "    </tr>\n",
       "  </thead>\n",
       "  <tbody>\n",
       "    <tr>\n",
       "      <th>0</th>\n",
       "      <td>Cashmere</td>\n",
       "    </tr>\n",
       "    <tr>\n",
       "      <th>1</th>\n",
       "      <td>Cord</td>\n",
       "    </tr>\n",
       "    <tr>\n",
       "      <th>2</th>\n",
       "      <td>Cotton</td>\n",
       "    </tr>\n",
       "    <tr>\n",
       "      <th>3</th>\n",
       "      <td>Crocheted</td>\n",
       "    </tr>\n",
       "    <tr>\n",
       "      <th>4</th>\n",
       "      <td>Denim</td>\n",
       "    </tr>\n",
       "  </tbody>\n",
       "</table>\n",
       "</div>"
      ],
      "text/plain": [
       "        word\n",
       "0   Cashmere\n",
       "1       Cord\n",
       "2     Cotton\n",
       "3  Crocheted\n",
       "4      Denim"
      ]
     },
     "execution_count": 16,
     "metadata": {},
     "output_type": "execute_result"
    }
   ],
   "source": [
    "material_df = pd.read_csv(\"./domain_data/material.csv\", sep=',', \n",
    "                 encoding = 'utf8', header=None, \n",
    "                 names=[\"word\"])\n",
    "material_df.head()"
   ]
  },
  {
   "cell_type": "markdown",
   "metadata": {},
   "source": [
    "## Exact match in fashion keywords & Companies\n",
    "\n",
    "Note that \"jacket\" will not match in the dictionary because it contains only the word \"jackets\". \n",
    "Therefore we should rather use semantic matching on keywords. However, for companies we cannot use semantic matching because the word vectors will not make sense, e.g a company called \"love\" will be matched against loads of unrelated comments.. So likely we use exact-syntactic matching for companies/brands but semantic matching for keywords/clothing types."
   ]
  },
  {
   "cell_type": "code",
   "execution_count": 17,
   "metadata": {},
   "outputs": [
    {
     "data": {
      "text/plain": [
       "116"
      ]
     },
     "execution_count": 17,
     "metadata": {},
     "output_type": "execute_result"
    }
   ],
   "source": [
    "fashionWords = set(fashion_df[\"word\"])\n",
    "len(fashionWords)"
   ]
  },
  {
   "cell_type": "code",
   "execution_count": 18,
   "metadata": {},
   "outputs": [
    {
     "data": {
      "text/plain": [
       "[]"
      ]
     },
     "execution_count": 18,
     "metadata": {},
     "output_type": "execute_result"
    }
   ],
   "source": [
    "# Test with first document if there is a match with some fashion keyword\n",
    "match = []\n",
    "for token in docs[0][1]:\n",
    "    if token.text in fashionWords:\n",
    "        match.append(token.text)\n",
    "match"
   ]
  },
  {
   "cell_type": "code",
   "execution_count": 19,
   "metadata": {},
   "outputs": [
    {
     "data": {
      "text/plain": [
       "1363"
      ]
     },
     "execution_count": 19,
     "metadata": {},
     "output_type": "execute_result"
    }
   ],
   "source": [
    "companies = set(companies_df[\"word\"])\n",
    "len(companies)"
   ]
  },
  {
   "cell_type": "code",
   "execution_count": 20,
   "metadata": {},
   "outputs": [
    {
     "data": {
      "text/plain": [
       "[u'Hope', u'Hope', u'wave', u'Hope', u'Hope']"
      ]
     },
     "execution_count": 20,
     "metadata": {},
     "output_type": "execute_result"
    }
   ],
   "source": [
    "# Test with first document if there is a match to some company\n",
    "match = []\n",
    "for token in docs[0][1]:\n",
    "    if token.text in companies:\n",
    "        match.append(token.text)\n",
    "match # There is a company called \"Hope\""
   ]
  },
  {
   "cell_type": "markdown",
   "metadata": {},
   "source": [
    "## Lemma match in fashion dictionary"
   ]
  },
  {
   "cell_type": "code",
   "execution_count": 21,
   "metadata": {},
   "outputs": [
    {
     "data": {
      "text/plain": [
       "143"
      ]
     },
     "execution_count": 21,
     "metadata": {},
     "output_type": "execute_result"
    }
   ],
   "source": [
    "fashion_docs = []\n",
    "for index, row in fashion_df.iterrows():\n",
    "    fashion_docs.append(nlp(row[\"word\"]))\n",
    "len(fashion_docs)"
   ]
  },
  {
   "cell_type": "code",
   "execution_count": 22,
   "metadata": {},
   "outputs": [],
   "source": [
    "def allFashionTokens():\n",
    "    tokens = []\n",
    "    for doc in fashion_docs:\n",
    "        for token in doc:\n",
    "            tokens.append(token)\n",
    "    return tokens"
   ]
  },
  {
   "cell_type": "code",
   "execution_count": 23,
   "metadata": {},
   "outputs": [
    {
     "data": {
      "text/plain": [
       "144"
      ]
     },
     "execution_count": 23,
     "metadata": {},
     "output_type": "execute_result"
    }
   ],
   "source": [
    "fashionTokens = allFashionTokens()\n",
    "len(fashionTokens)"
   ]
  },
  {
   "cell_type": "code",
   "execution_count": 24,
   "metadata": {},
   "outputs": [
    {
     "data": {
      "text/plain": [
       "116"
      ]
     },
     "execution_count": 24,
     "metadata": {},
     "output_type": "execute_result"
    }
   ],
   "source": [
    "#Remove duplicate tokens with equal text \n",
    "texts = set()\n",
    "tokens2 = []\n",
    "for token in fashionTokens:\n",
    "    if not token.text in texts:\n",
    "        tokens2.append(token)\n",
    "    texts.add(token.text)\n",
    "fashionTokens = tokens2\n",
    "len(fashionTokens)"
   ]
  },
  {
   "cell_type": "code",
   "execution_count": 25,
   "metadata": {},
   "outputs": [
    {
     "data": {
      "text/plain": [
       "116"
      ]
     },
     "execution_count": 25,
     "metadata": {},
     "output_type": "execute_result"
    }
   ],
   "source": [
    "fashionLemmas = set()\n",
    "for token in fashionTokens:\n",
    "    fashionLemmas.add(token.lemma_)\n",
    "len(fashionLemmas)"
   ]
  },
  {
   "cell_type": "code",
   "execution_count": 26,
   "metadata": {},
   "outputs": [
    {
     "data": {
      "text/plain": [
       "0"
      ]
     },
     "execution_count": 26,
     "metadata": {},
     "output_type": "execute_result"
    }
   ],
   "source": [
    "# Test with first document if there is a match in fashion lemmas\n",
    "match = []\n",
    "for token in docs[0][1]:\n",
    "    if token.lemma_ in fashionLemmas:\n",
    "        match.append(token.text)\n",
    "len(match)"
   ]
  },
  {
   "cell_type": "code",
   "execution_count": 27,
   "metadata": {},
   "outputs": [
    {
     "data": {
      "text/plain": [
       "[]"
      ]
     },
     "execution_count": 27,
     "metadata": {},
     "output_type": "execute_result"
    }
   ],
   "source": [
    "match[:10] #First 10 matches"
   ]
  },
  {
   "cell_type": "markdown",
   "metadata": {},
   "source": [
    "## Semantic Match in Fashion Item Dictionary by using Semantic Word Vectors (word2vec)"
   ]
  },
  {
   "cell_type": "code",
   "execution_count": 28,
   "metadata": {},
   "outputs": [
    {
     "data": {
      "text/plain": [
       "116"
      ]
     },
     "execution_count": 28,
     "metadata": {},
     "output_type": "execute_result"
    }
   ],
   "source": [
    "# Convert tokens into token of lemmas to allow to use similarity() between lemmas\n",
    "fashionLemmas = []\n",
    "for token in fashionTokens:\n",
    "    for lemmaToken in nlp(token.lemma_):\n",
    "        fashionLemmas.append(lemmaToken)\n",
    "len(fashionLemmas)"
   ]
  },
  {
   "cell_type": "code",
   "execution_count": 29,
   "metadata": {},
   "outputs": [
    {
     "data": {
      "text/plain": [
       "116"
      ]
     },
     "execution_count": 29,
     "metadata": {},
     "output_type": "execute_result"
    }
   ],
   "source": [
    "# Filter out equal lemmas\n",
    "lemmasText = set()\n",
    "temp = []\n",
    "for token in fashionLemmas:\n",
    "    if token.text not in lemmasText:\n",
    "        temp.append(token)\n",
    "    lemmasText.add(token.text)\n",
    "fashionLemmas = temp\n",
    "len(fashionLemmas)"
   ]
  },
  {
   "cell_type": "code",
   "execution_count": 30,
   "metadata": {},
   "outputs": [],
   "source": [
    "def allFashionTokens():\n",
    "    tokens = []\n",
    "    for doc in fashion_docs:\n",
    "        for token in doc:\n",
    "            tokens.append(token)\n",
    "    return tokens\n",
    "\n",
    "def most_similar_fashion(word, fashionTokens, n):\n",
    "    by_similarity = sorted(fashionTokens, key=lambda w: word.similarity(w), reverse=True)\n",
    "    return by_similarity[:n]"
   ]
  },
  {
   "cell_type": "code",
   "execution_count": 31,
   "metadata": {},
   "outputs": [
    {
     "data": {
      "text/plain": [
       "[Jackets,\n",
       " Vest,\n",
       " Trousers,\n",
       " Shirt,\n",
       " Hoodie,\n",
       " Sweatshirt,\n",
       " Cardigan,\n",
       " Sleeve,\n",
       " Jeans,\n",
       " Shorts]"
      ]
     },
     "execution_count": 31,
     "metadata": {},
     "output_type": "execute_result"
    }
   ],
   "source": [
    "most_similar_fashion(nlp.vocab[u'jacket'], fashionLemmas, 10)"
   ]
  },
  {
   "cell_type": "code",
   "execution_count": 32,
   "metadata": {},
   "outputs": [],
   "source": [
    "def similar(word, lemmas):\n",
    "    return list(filter(lambda w: word.similarity(w) > 0.7, lemmas))\n",
    "\n",
    "# Test with a random document if there is a match with similarity > 0.7\n",
    "match = []\n",
    "for token in docs[3][1]:\n",
    "    match = match + similar(token, fashionLemmas)"
   ]
  },
  {
   "cell_type": "code",
   "execution_count": 33,
   "metadata": {},
   "outputs": [
    {
     "data": {
      "text/plain": [
       "[Dresses,\n",
       " Dresses,\n",
       " Dresses,\n",
       " Dresses,\n",
       " Dresses,\n",
       " Dresses,\n",
       " Dresses,\n",
       " Dresses,\n",
       " Jumpsuits,\n",
       " Dresses]"
      ]
     },
     "execution_count": 33,
     "metadata": {},
     "output_type": "execute_result"
    }
   ],
   "source": [
    "match[:10]"
   ]
  },
  {
   "cell_type": "code",
   "execution_count": 34,
   "metadata": {},
   "outputs": [
    {
     "data": {
      "text/plain": [
       "u'https://scontent-arn2-1.cdninstagram.com/t51.2885-15/e35/23667892_1566614923426154_8007339733044690944_n.jpg'"
      ]
     },
     "execution_count": 34,
     "metadata": {},
     "output_type": "execute_result"
    }
   ],
   "source": [
    "# Link to the image\n",
    "docs[3][0]"
   ]
  },
  {
   "cell_type": "markdown",
   "metadata": {},
   "source": [
    "## Fashion Item Inference\n",
    "\n",
    "From the Semantic Matching, lets try to infer the most important fashion item by looking at the occurencies of the different matches for this sample IG-Post:\n",
    "\n",
    "![example post](https://scontent-arn2-1.cdninstagram.com/t51.2885-15/e35/23667892_1566614923426154_8007339733044690944_n.jpg \"example post\")"
   ]
  },
  {
   "cell_type": "code",
   "execution_count": 35,
   "metadata": {},
   "outputs": [],
   "source": [
    "textsMatch = list(map(lambda token: token.text, match))\n",
    "counter = Counter(textsMatch)\n",
    "labels = []\n",
    "counts = []\n",
    "for label, count in counter.most_common(5):\n",
    "    labels.append(label)\n",
    "    counts.append(count)"
   ]
  },
  {
   "cell_type": "code",
   "execution_count": 36,
   "metadata": {},
   "outputs": [
    {
     "data": {
      "image/png": "[encoded data removed]",
      "text/plain": [
       "<matplotlib.figure.Figure at 0x7f02743f7c10>"
      ]
     },
     "metadata": {},
     "output_type": "display_data"
    }
   ],
   "source": [
    "import matplotlib.pyplot as plt\n",
    "\n",
    "colors = ['gold', 'yellowgreen', 'lightcoral', 'lightskyblue', \"red\"]\n",
    "plt.pie(counts, labels=labels, colors=colors,\n",
    "        autopct='%1.1f%%', shadow=True, startangle=140)\n",
    " \n",
    "plt.axis('equal')\n",
    "plt.savefig('figures/fashion_item_inference.pdf', format='pdf', dpi=1000)\n",
    "plt.show()"
   ]
  },
  {
   "cell_type": "markdown",
   "metadata": {},
   "source": [
    "## Brand Inference\n",
    "\n",
    "From the syntactic brand matching, lets try to infer the most relevant brand by looking at the occurencies of the different matches for this sample IG-Post."
   ]
  },
  {
   "cell_type": "code",
   "execution_count": 37,
   "metadata": {},
   "outputs": [
    {
     "data": {
      "text/plain": [
       "[u'Prada', u'Prada', u'Prada', u'Prada', u'Prada', u'Prada', u'Prada']"
      ]
     },
     "execution_count": 37,
     "metadata": {},
     "output_type": "execute_result"
    }
   ],
   "source": [
    "# Test with first document if there is a match to some company\n",
    "match = []\n",
    "for token in docs[5][1]:\n",
    "    if token.text in companies:\n",
    "        match.append(token.text)\n",
    "match # There is a company called \"Hope\""
   ]
  },
  {
   "cell_type": "code",
   "execution_count": 38,
   "metadata": {},
   "outputs": [
    {
     "data": {
      "image/png": "[encoded data removed]",
      "text/plain": [
       "<matplotlib.figure.Figure at 0x7f0271b84650>"
      ]
     },
     "metadata": {},
     "output_type": "display_data"
    }
   ],
   "source": [
    "counter = Counter(match)\n",
    "labels = []\n",
    "counts = []\n",
    "for label, count in counter.most_common(5):\n",
    "    labels.append(label)\n",
    "    counts.append(count)\n",
    "    \n",
    "plt.pie(counts, labels=labels, colors=colors,\n",
    "        autopct='%1.1f%%', shadow=True, startangle=140)\n",
    " \n",
    "plt.axis('equal')\n",
    "plt.savefig('figures/brand_inference.pdf', format='pdf', dpi=1000)\n",
    "plt.show()"
   ]
  },
  {
   "cell_type": "markdown",
   "metadata": {},
   "source": [
    "## General Style Inference (Semantic Match)"
   ]
  },
  {
   "cell_type": "code",
   "execution_count": 39,
   "metadata": {},
   "outputs": [
    {
     "name": "stdout",
     "output_type": "stream",
     "text": [
      "style items: 314\n",
      "fashion tokens: 315\n",
      "style lemmas: 314\n",
      "unique lemmas: 313\n"
     ]
    }
   ],
   "source": [
    "fashion_docs = []\n",
    "for index, row in style_df.iterrows():\n",
    "    fashion_docs.append(nlp(row[\"word\"]))\n",
    "print \"style items: {0}\".format(len(fashion_docs))\n",
    "fashionTokens = allFashionTokens()\n",
    "print \"fashion tokens: {0}\".format(len(fashionTokens))\n",
    "#Remove duplicate tokens with equal text \n",
    "texts = set()\n",
    "tokens2 = []\n",
    "for token in fashionTokens:\n",
    "    if not token.text in texts:\n",
    "        tokens2.append(token)\n",
    "    texts.add(token.text)\n",
    "fashionTokens = tokens2\n",
    "print \"style lemmas: {0}\".format(len(fashionTokens))\n",
    "\n",
    "fashionLemmas = set()\n",
    "for token in fashionTokens:\n",
    "    fashionLemmas.add(token.lemma_)\n",
    "print \"unique lemmas: {0}\".format(len(fashionLemmas))\n",
    "# Convert tokens into token of lemmas to allow to use similarity() between lemmas\n",
    "fashionLemmas = []\n",
    "for token in fashionTokens:\n",
    "    for lemmaToken in nlp(token.lemma_):\n",
    "        fashionLemmas.append(lemmaToken)\n",
    "# Filter out equal lemmas\n",
    "lemmasText = set()\n",
    "temp = []\n",
    "for token in fashionLemmas:\n",
    "    if token.text not in lemmasText:\n",
    "        temp.append(token)\n",
    "    lemmasText.add(token.text)\n",
    "fashionLemmas = temp"
   ]
  },
  {
   "cell_type": "code",
   "execution_count": 40,
   "metadata": {},
   "outputs": [],
   "source": [
    "# Test with a random document if there is a match with similarity > 0.7\n",
    "match = []\n",
    "for token in docs[3][1]:\n",
    "    match = match + similar(token, fashionLemmas)"
   ]
  },
  {
   "cell_type": "code",
   "execution_count": 41,
   "metadata": {},
   "outputs": [
    {
     "data": {
      "image/png": "[encoded data removed]",
      "text/plain": [
       "<matplotlib.figure.Figure at 0x7f0271b9d050>"
      ]
     },
     "metadata": {},
     "output_type": "display_data"
    }
   ],
   "source": [
    "textsMatch = list(map(lambda token: token.text, match))\n",
    "counter = Counter(textsMatch)\n",
    "labels = []\n",
    "counts = []\n",
    "for label, count in counter.most_common(5):\n",
    "    labels.append(label)\n",
    "    counts.append(count)\n",
    "\n",
    "colors = ['gold', 'yellowgreen', 'lightcoral', 'lightskyblue', \"red\"]\n",
    "plt.pie(counts, labels=labels, colors=colors,\n",
    "        autopct='%1.1f%%', shadow=True, startangle=140)\n",
    " \n",
    "plt.axis('equal')\n",
    "plt.savefig('figures/style_inference.pdf', format='pdf', dpi=1000)\n",
    "plt.show()"
   ]
  },
  {
   "cell_type": "markdown",
   "metadata": {},
   "source": [
    "## General Style Inference (Exact Syntacic Match)"
   ]
  },
  {
   "cell_type": "code",
   "execution_count": 42,
   "metadata": {},
   "outputs": [
    {
     "data": {
      "image/png": "[encoded data removed]",
      "text/plain": [
       "<matplotlib.figure.Figure at 0x7f0271b84910>"
      ]
     },
     "metadata": {},
     "output_type": "display_data"
    }
   ],
   "source": [
    "styles = set(style_df[\"word\"])\n",
    "match = []\n",
    "for token in docs[3][1]:\n",
    "    if token.text in styles:\n",
    "        match.append(token.text)\n",
    "\n",
    "counter = Counter(match)\n",
    "labels = []\n",
    "counts = []\n",
    "for label, count in counter.most_common(5):\n",
    "    labels.append(label)\n",
    "    counts.append(count)\n",
    "    \n",
    "plt.pie(counts, labels=labels, colors=colors,\n",
    "        autopct='%1.1f%%', shadow=True, startangle=140)\n",
    " \n",
    "plt.axis('equal')\n",
    "plt.savefig('figures/style_inference2.pdf', format='pdf', dpi=1000)\n",
    "plt.show()"
   ]
  },
  {
   "cell_type": "markdown",
   "metadata": {},
   "source": [
    "## Material Inference (Semantic Match)"
   ]
  },
  {
   "cell_type": "code",
   "execution_count": 43,
   "metadata": {},
   "outputs": [
    {
     "name": "stdout",
     "output_type": "stream",
     "text": [
      "material items: 24\n",
      "material tokens: 24\n",
      "material lemmas: 23\n",
      "unique lemmas: 23\n"
     ]
    }
   ],
   "source": [
    "fashion_docs = []\n",
    "for index, row in material_df.iterrows():\n",
    "    fashion_docs.append(nlp(row[\"word\"]))\n",
    "print \"material items: {0}\".format(len(fashion_docs))\n",
    "fashionTokens = allFashionTokens()\n",
    "print \"material tokens: {0}\".format(len(fashionTokens))\n",
    "#Remove duplicate tokens with equal text \n",
    "texts = set()\n",
    "tokens2 = []\n",
    "for token in fashionTokens:\n",
    "    if not token.text in texts:\n",
    "        tokens2.append(token)\n",
    "    texts.add(token.text)\n",
    "fashionTokens = tokens2\n",
    "print \"material lemmas: {0}\".format(len(fashionTokens))\n",
    "\n",
    "fashionLemmas = set()\n",
    "for token in fashionTokens:\n",
    "    fashionLemmas.add(token.lemma_)\n",
    "print \"unique lemmas: {0}\".format(len(fashionLemmas))\n",
    "# Convert tokens into token of lemmas to allow to use similarity() between lemmas\n",
    "fashionLemmas = []\n",
    "for token in fashionTokens:\n",
    "    for lemmaToken in nlp(token.lemma_):\n",
    "        fashionLemmas.append(lemmaToken)\n",
    "# Filter out equal lemmas\n",
    "lemmasText = set()\n",
    "temp = []\n",
    "for token in fashionLemmas:\n",
    "    if token.text not in lemmasText:\n",
    "        temp.append(token)\n",
    "    lemmasText.add(token.text)\n",
    "fashionLemmas = temp"
   ]
  },
  {
   "cell_type": "code",
   "execution_count": 44,
   "metadata": {},
   "outputs": [],
   "source": [
    "# Test with a random document if there is a match with similarity > 0.7\n",
    "match = []\n",
    "for token in docs[3][1]:\n",
    "    match = match + similar(token, fashionLemmas)"
   ]
  },
  {
   "cell_type": "code",
   "execution_count": 45,
   "metadata": {},
   "outputs": [
    {
     "data": {
      "image/png": "[encoded data removed]",
      "text/plain": [
       "<matplotlib.figure.Figure at 0x7f020c112b50>"
      ]
     },
     "metadata": {},
     "output_type": "display_data"
    }
   ],
   "source": [
    "textsMatch = list(map(lambda token: token.text, match))\n",
    "counter = Counter(textsMatch)\n",
    "labels = []\n",
    "counts = []\n",
    "for label, count in counter.most_common(5):\n",
    "    labels.append(label)\n",
    "    counts.append(count)\n",
    "\n",
    "colors = ['gold', 'yellowgreen', 'lightcoral', 'lightskyblue']\n",
    "plt.pie(counts, labels=labels, colors=colors,\n",
    "        autopct='%1.1f%%', shadow=True, startangle=140)\n",
    " \n",
    "plt.axis('equal')\n",
    "plt.savefig('figures/material_inference.pdf', format='pdf', dpi=1000)\n",
    "plt.show()"
   ]
  },
  {
   "cell_type": "markdown",
   "metadata": {},
   "source": [
    "## Check if User is has linked to like.to.know.it"
   ]
  },
  {
   "cell_type": "code",
   "execution_count": 46,
   "metadata": {},
   "outputs": [
    {
     "data": {
      "text/plain": [
       "u'http://liketk.it/2tt6M'"
      ]
     },
     "execution_count": 46,
     "metadata": {},
     "output_type": "execute_result"
    }
   ],
   "source": [
    "import re\n",
    "match = re.search(\"http://liketk.it/([^\\s]+)\", docs[7][1].text)\n",
    "if match is not None:\n",
    "    liketoKnowItURL = match.group(0)\n",
    "liketoKnowItURL #A match on document 7"
   ]
  },
  {
   "cell_type": "code",
   "execution_count": 48,
   "metadata": {
    "scrolled": true
   },
   "outputs": [
    {
     "ename": "FeatureNotFound",
     "evalue": "Couldn't find a tree builder with the features you requested: lxml. Do you need to install a parser library?",
     "output_type": "error",
     "traceback": [
      "\u001b[0;31m---------------------------------------------------------------------------\u001b[0m",
      "\u001b[0;31mFeatureNotFound\u001b[0m                           Traceback (most recent call last)",
      "\u001b[0;32m<ipython-input-48-dc86f6fdb7b8>\u001b[0m in \u001b[0;36m<module>\u001b[0;34m()\u001b[0m\n\u001b[1;32m      2\u001b[0m \u001b[0;32mimport\u001b[0m \u001b[0mrequests\u001b[0m\u001b[0;34m\u001b[0m\u001b[0m\n\u001b[1;32m      3\u001b[0m \u001b[0mpage\u001b[0m \u001b[0;34m=\u001b[0m \u001b[0mrequests\u001b[0m\u001b[0;34m.\u001b[0m\u001b[0mget\u001b[0m\u001b[0;34m(\u001b[0m\u001b[0mliketoKnowItURL\u001b[0m\u001b[0;34m)\u001b[0m\u001b[0;34m\u001b[0m\u001b[0m\n\u001b[0;32m----> 4\u001b[0;31m \u001b[0msoup\u001b[0m \u001b[0;34m=\u001b[0m \u001b[0mBeautifulSoup\u001b[0m\u001b[0;34m(\u001b[0m\u001b[0mpage\u001b[0m\u001b[0;34m.\u001b[0m\u001b[0mtext\u001b[0m\u001b[0;34m,\u001b[0m \u001b[0;34m\"lxml\"\u001b[0m\u001b[0;34m)\u001b[0m\u001b[0;34m\u001b[0m\u001b[0m\n\u001b[0m\u001b[1;32m      5\u001b[0m \u001b[0mmain\u001b[0m \u001b[0;34m=\u001b[0m \u001b[0msoup\u001b[0m\u001b[0;34m.\u001b[0m\u001b[0mfind_all\u001b[0m\u001b[0;34m(\u001b[0m\u001b[0;34m\"main\"\u001b[0m\u001b[0;34m)\u001b[0m\u001b[0;34m\u001b[0m\u001b[0m\n\u001b[1;32m      6\u001b[0m \u001b[0mmain\u001b[0m\u001b[0;34m[\u001b[0m\u001b[0;36m0\u001b[0m\u001b[0;34m]\u001b[0m\u001b[0;34m.\u001b[0m\u001b[0mtext\u001b[0m\u001b[0;34m\u001b[0m\u001b[0m\n",
      "\u001b[0;32m/home/limmen/anaconda2/envs/data_exp/lib/python2.7/site-packages/bs4/__init__.pyc\u001b[0m in \u001b[0;36m__init__\u001b[0;34m(self, markup, features, builder, parse_only, from_encoding, exclude_encodings, **kwargs)\u001b[0m\n\u001b[1;32m    163\u001b[0m                     \u001b[0;34m\"Couldn't find a tree builder with the features you \"\u001b[0m\u001b[0;34m\u001b[0m\u001b[0m\n\u001b[1;32m    164\u001b[0m                     \u001b[0;34m\"requested: %s. Do you need to install a parser library?\"\u001b[0m\u001b[0;34m\u001b[0m\u001b[0m\n\u001b[0;32m--> 165\u001b[0;31m                     % \",\".join(features))\n\u001b[0m\u001b[1;32m    166\u001b[0m             \u001b[0mbuilder\u001b[0m \u001b[0;34m=\u001b[0m \u001b[0mbuilder_class\u001b[0m\u001b[0;34m(\u001b[0m\u001b[0;34m)\u001b[0m\u001b[0;34m\u001b[0m\u001b[0m\n\u001b[1;32m    167\u001b[0m             if not (original_features == builder.NAME or\n",
      "\u001b[0;31mFeatureNotFound\u001b[0m: Couldn't find a tree builder with the features you requested: lxml. Do you need to install a parser library?"
     ]
    }
   ],
   "source": [
    "from bs4 import BeautifulSoup\n",
    "import requests\n",
    "page = requests.get(liketoKnowItURL)\n",
    "soup = BeautifulSoup(page.text, \"lxml\")\n",
    "main = soup.find_all(\"main\")\n",
    "main[0].text"
   ]
  },
  {
   "cell_type": "markdown",
   "metadata": {},
   "source": [
    "Cannot scrape because the site is JS-based :(, unless there is some open API? Otherwise the Amazon Turk labeler have to manually click link."
   ]
  },
  {
   "cell_type": "markdown",
   "metadata": {},
   "source": [
    "## Hashtags on a single post"
   ]
  },
  {
   "cell_type": "code",
   "execution_count": null,
   "metadata": {},
   "outputs": [],
   "source": [
    "text = docs[0][1].text\n",
    "for tag in re.findall(r\"#(\\w+)\", text):\n",
    "    print \"#{}\".format(tag)"
   ]
  },
  {
   "cell_type": "code",
   "execution_count": null,
   "metadata": {},
   "outputs": [],
   "source": []
  }
 ],
 "metadata": {
  "kernelspec": {
   "display_name": "Python 3",
   "language": "python",
   "name": "python3"
  },
  "language_info": {
   "codemirror_mode": {
    "name": "ipython",
    "version": 2
   },
   "file_extension": ".py",
   "mimetype": "text/x-python",
   "name": "python",
   "nbconvert_exporter": "python",
   "pygments_lexer": "ipython2",
   "version": "2.7.14"
  }
 },
 "nbformat": 4,
 "nbformat_minor": 2
}
