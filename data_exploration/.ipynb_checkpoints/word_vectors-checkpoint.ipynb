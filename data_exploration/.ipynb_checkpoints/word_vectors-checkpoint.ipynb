{
 "cells": [
  {
   "cell_type": "markdown",
   "metadata": {},
   "source": [
    "## Comparison of Word Vector Representations\n",
    "\n",
    "Compare word2vec, glove, fastttext, and vectors trained on a IG user. "
   ]
  },
  {
   "cell_type": "code",
   "execution_count": 349,
   "metadata": {},
   "outputs": [],
   "source": [
    "import spacy\n",
    "import pandas as pd\n",
    "%matplotlib notebook\n",
    "import numpy as np\n",
    "import matplotlib.pyplot as plt\n",
    "from sklearn.manifold import TSNE\n",
    "import en_core_web_sm\n",
    "plt.rcParams.update(plt.rcParamsDefault)"
   ]
  },
  {
   "cell_type": "markdown",
   "metadata": {},
   "source": [
    "## Import Data"
   ]
  },
  {
   "cell_type": "code",
   "execution_count": 350,
   "metadata": {},
   "outputs": [
    {
     "data": {
      "text/html": [
       "<div>\n",
       "<style scoped>\n",
       "    .dataframe tbody tr th:only-of-type {\n",
       "        vertical-align: middle;\n",
       "    }\n",
       "\n",
       "    .dataframe tbody tr th {\n",
       "        vertical-align: top;\n",
       "    }\n",
       "\n",
       "    .dataframe thead th {\n",
       "        text-align: right;\n",
       "    }\n",
       "</style>\n",
       "<table border=\"1\" class=\"dataframe\">\n",
       "  <thead>\n",
       "    <tr style=\"text-align: right;\">\n",
       "      <th></th>\n",
       "      <th>doc</th>\n",
       "      <th>text</th>\n",
       "    </tr>\n",
       "  </thead>\n",
       "  <tbody>\n",
       "    <tr>\n",
       "      <th>0</th>\n",
       "      <td>https://scontent-arn2-1.cdninstagram.com/t51.2...</td>\n",
       "      <td>Love this Hairstyle 😍😍 Gorgeous A gift guide f...</td>\n",
       "    </tr>\n",
       "    <tr>\n",
       "      <th>1</th>\n",
       "      <td>https://scontent-arn2-1.cdninstagram.com/t51.2...</td>\n",
       "      <td>Cutest bffs ever 🧡🧡 Cuties! Love this! 💕 This ...</td>\n",
       "    </tr>\n",
       "    <tr>\n",
       "      <th>2</th>\n",
       "      <td>https://scontent-arn2-1.cdninstagram.com/t51.2...</td>\n",
       "      <td>this is precious !!! The perfect couple Casual...</td>\n",
       "    </tr>\n",
       "    <tr>\n",
       "      <th>3</th>\n",
       "      <td>https://scontent-arn2-1.cdninstagram.com/t51.2...</td>\n",
       "      <td>LOVE ❤️!! Gorgeous in red! Obsessed ❤️❤️ Prett...</td>\n",
       "    </tr>\n",
       "    <tr>\n",
       "      <th>4</th>\n",
       "      <td>https://scontent-arn2-1.cdninstagram.com/t51.2...</td>\n",
       "      <td>Love love love this pic! 🙌🏼❤️✨✨✨ U and ur girl...</td>\n",
       "    </tr>\n",
       "  </tbody>\n",
       "</table>\n",
       "</div>"
      ],
      "text/plain": [
       "                                                 doc  \\\n",
       "0  https://scontent-arn2-1.cdninstagram.com/t51.2...   \n",
       "1  https://scontent-arn2-1.cdninstagram.com/t51.2...   \n",
       "2  https://scontent-arn2-1.cdninstagram.com/t51.2...   \n",
       "3  https://scontent-arn2-1.cdninstagram.com/t51.2...   \n",
       "4  https://scontent-arn2-1.cdninstagram.com/t51.2...   \n",
       "\n",
       "                                                text  \n",
       "0  Love this Hairstyle 😍😍 Gorgeous A gift guide f...  \n",
       "1  Cutest bffs ever 🧡🧡 Cuties! Love this! 💕 This ...  \n",
       "2  this is precious !!! The perfect couple Casual...  \n",
       "3  LOVE ❤️!! Gorgeous in red! Obsessed ❤️❤️ Prett...  \n",
       "4  Love love love this pic! 🙌🏼❤️✨✨✨ U and ur girl...  "
      ]
     },
     "execution_count": 350,
     "metadata": {},
     "output_type": "execute_result"
    }
   ],
   "source": [
    "# csv format: (doc, text), where text is a concatenation of caption, comments, and tags.\n",
    "df = pd.read_csv(\"./hellofashionblog.csv\", sep=',', \n",
    "                 encoding = 'utf8', header=None, \n",
    "                 names=[\"doc\", \"text\"])\n",
    "df.head()"
   ]
  },
  {
   "cell_type": "markdown",
   "metadata": {},
   "source": [
    "## Save all text to later train word vectors"
   ]
  },
  {
   "cell_type": "code",
   "execution_count": 351,
   "metadata": {},
   "outputs": [],
   "source": [
    "texts = df[\"text\"]\n",
    "texts.to_csv(\"./texts\", header=None, index=None, sep=' ', mode='w', encoding=\"utf8\")"
   ]
  },
  {
   "cell_type": "markdown",
   "metadata": {},
   "source": [
    "## Test with Spacy built-in word2vec trained on wikipedia"
   ]
  },
  {
   "cell_type": "code",
   "execution_count": 352,
   "metadata": {},
   "outputs": [],
   "source": [
    "nlp = spacy.load(\"en_vectors_web_lg\")"
   ]
  },
  {
   "cell_type": "markdown",
   "metadata": {},
   "source": [
    "A pro of these vectors are that they are very general and covers a large vocabulary. A con is that these vectors are not adapted for social media domain and does not include hashtags or emojis in the vocabulary. Additionally, the word vectors are not specialized for fashion although they cover the most general fashion items anyway. "
   ]
  },
  {
   "cell_type": "code",
   "execution_count": 353,
   "metadata": {},
   "outputs": [
    {
     "data": {
      "text/plain": [
       "1071394"
      ]
     },
     "execution_count": 353,
     "metadata": {},
     "output_type": "execute_result"
    }
   ],
   "source": [
    "len(nlp.vocab)"
   ]
  },
  {
   "cell_type": "code",
   "execution_count": 354,
   "metadata": {},
   "outputs": [
    {
     "data": {
      "text/plain": [
       "0.35347557"
      ]
     },
     "execution_count": 354,
     "metadata": {},
     "output_type": "execute_result"
    }
   ],
   "source": [
    "nlp.vocab[u'jacket'].similarity(nlp.vocab[u'top'])"
   ]
  },
  {
   "cell_type": "code",
   "execution_count": 355,
   "metadata": {},
   "outputs": [
    {
     "data": {
      "text/plain": [
       "0.30836126"
      ]
     },
     "execution_count": 355,
     "metadata": {},
     "output_type": "execute_result"
    }
   ],
   "source": [
    "nlp.vocab[u'blouse'].similarity(nlp.vocab[u'top'])"
   ]
  },
  {
   "cell_type": "code",
   "execution_count": 332,
   "metadata": {},
   "outputs": [
    {
     "data": {
      "text/plain": [
       "0.46558794"
      ]
     },
     "execution_count": 332,
     "metadata": {},
     "output_type": "execute_result"
    }
   ],
   "source": [
    "nlp.vocab[u'gucci'].similarity(nlp.vocab[u'fashion'])"
   ]
  },
  {
   "cell_type": "code",
   "execution_count": 333,
   "metadata": {},
   "outputs": [
    {
     "data": {
      "text/plain": [
       "0.0"
      ]
     },
     "execution_count": 333,
     "metadata": {},
     "output_type": "execute_result"
    }
   ],
   "source": [
    "nlp.vocab[u'#gucci'].similarity(nlp.vocab[u'gucci'])"
   ]
  },
  {
   "cell_type": "code",
   "execution_count": 334,
   "metadata": {},
   "outputs": [
    {
     "data": {
      "text/plain": [
       "0.0"
      ]
     },
     "execution_count": 334,
     "metadata": {},
     "output_type": "execute_result"
    }
   ],
   "source": [
    "nlp.vocab[u'👖'].similarity(nlp.vocab[u'jeans'])"
   ]
  },
  {
   "cell_type": "code",
   "execution_count": 335,
   "metadata": {},
   "outputs": [
    {
     "data": {
      "text/plain": [
       "0.82882327"
      ]
     },
     "execution_count": 335,
     "metadata": {},
     "output_type": "execute_result"
    }
   ],
   "source": [
    "nlp.vocab[u'gucci'].similarity(nlp.vocab[u'prada'])"
   ]
  },
  {
   "cell_type": "code",
   "execution_count": 336,
   "metadata": {},
   "outputs": [
    {
     "data": {
      "text/plain": [
       "0.7224971"
      ]
     },
     "execution_count": 336,
     "metadata": {},
     "output_type": "execute_result"
    }
   ],
   "source": [
    "nlp.vocab[u'sweater'].similarity(nlp.vocab[u'shirt'])"
   ]
  },
  {
   "cell_type": "code",
   "execution_count": 337,
   "metadata": {},
   "outputs": [
    {
     "data": {
      "text/plain": [
       "0.6599493"
      ]
     },
     "execution_count": 337,
     "metadata": {},
     "output_type": "execute_result"
    }
   ],
   "source": [
    "nlp.vocab[u'sandal'].similarity(nlp.vocab[u'shoe'])"
   ]
  },
  {
   "cell_type": "code",
   "execution_count": 338,
   "metadata": {},
   "outputs": [
    {
     "data": {
      "text/plain": [
       "0.30326694"
      ]
     },
     "execution_count": 338,
     "metadata": {},
     "output_type": "execute_result"
    }
   ],
   "source": [
    "nlp.vocab[u'nike'].similarity(nlp.vocab[u'brand'])"
   ]
  },
  {
   "cell_type": "code",
   "execution_count": 256,
   "metadata": {},
   "outputs": [
    {
     "data": {
      "text/plain": [
       "0.6819554"
      ]
     },
     "execution_count": 256,
     "metadata": {},
     "output_type": "execute_result"
    }
   ],
   "source": [
    "nlp.vocab[u'coat'].similarity(nlp.vocab[u'jacket'])"
   ]
  },
  {
   "cell_type": "code",
   "execution_count": 339,
   "metadata": {},
   "outputs": [
    {
     "data": {
      "text/plain": [
       "0.82882327"
      ]
     },
     "execution_count": 339,
     "metadata": {},
     "output_type": "execute_result"
    }
   ],
   "source": [
    "nlp.vocab[u'gucci'].similarity(nlp.vocab[u'prada'])"
   ]
  },
  {
   "cell_type": "markdown",
   "metadata": {},
   "source": [
    "## Training word vectors on the vocabulary of a single IG user\n",
    "\n",
    "These vectors cover smaller vocabulary but what is cool is that they learn good representations for the IG domain, for instance we can learn things based on emojis and hashtags. \n",
    "\n",
    "Specifically, the models learns that an emoji of a pair of shoes should have a similar word representation as the word \"shoes\", which is cool.\n",
    "\n",
    "The main limitation of these vectors are that they dont cover that large vocabulary, however if we combine all IG users we scraped this might give a quite good vocabulary. "
   ]
  },
  {
   "cell_type": "code",
   "execution_count": 340,
   "metadata": {},
   "outputs": [],
   "source": [
    "import gensim"
   ]
  },
  {
   "cell_type": "code",
   "execution_count": 341,
   "metadata": {},
   "outputs": [],
   "source": [
    "sentences = gensim.models.word2vec.LineSentence('./texts')"
   ]
  },
  {
   "cell_type": "code",
   "execution_count": 342,
   "metadata": {},
   "outputs": [],
   "source": [
    "model = gensim.models.Word2Vec(sentences, size=100, window=5, min_count=5, workers=4)"
   ]
  },
  {
   "cell_type": "code",
   "execution_count": 343,
   "metadata": {},
   "outputs": [
    {
     "data": {
      "text/plain": [
       "20363"
      ]
     },
     "execution_count": 343,
     "metadata": {},
     "output_type": "execute_result"
    }
   ],
   "source": [
    "len(model.wv.vocab)"
   ]
  },
  {
   "cell_type": "code",
   "execution_count": 347,
   "metadata": {},
   "outputs": [
    {
     "data": {
      "text/plain": [
       "0.14443075136960176"
      ]
     },
     "execution_count": 347,
     "metadata": {},
     "output_type": "execute_result"
    }
   ],
   "source": [
    "model.wv.similarity('gucci', 'fashion')"
   ]
  },
  {
   "cell_type": "code",
   "execution_count": 348,
   "metadata": {},
   "outputs": [
    {
     "data": {
      "text/plain": [
       "0.35603854553836534"
      ]
     },
     "execution_count": 348,
     "metadata": {},
     "output_type": "execute_result"
    }
   ],
   "source": [
    "model.wv.similarity('sandal', 'shoe')"
   ]
  },
  {
   "cell_type": "code",
   "execution_count": 344,
   "metadata": {},
   "outputs": [
    {
     "data": {
      "text/plain": [
       "0.6818765562457898"
      ]
     },
     "execution_count": 344,
     "metadata": {},
     "output_type": "execute_result"
    }
   ],
   "source": [
    "model.wv.similarity('gucci', 'prada')"
   ]
  },
  {
   "cell_type": "code",
   "execution_count": 345,
   "metadata": {},
   "outputs": [
    {
     "data": {
      "text/plain": [
       "0.8475196280096744"
      ]
     },
     "execution_count": 345,
     "metadata": {},
     "output_type": "execute_result"
    }
   ],
   "source": [
    "model.wv.similarity('#gucci', 'gucci')"
   ]
  },
  {
   "cell_type": "code",
   "execution_count": 346,
   "metadata": {},
   "outputs": [
    {
     "data": {
      "text/plain": [
       "0.1896735043296304"
      ]
     },
     "execution_count": 346,
     "metadata": {},
     "output_type": "execute_result"
    }
   ],
   "source": [
    "model.wv.similarity('brand', 'gucci')"
   ]
  },
  {
   "cell_type": "code",
   "execution_count": 264,
   "metadata": {},
   "outputs": [
    {
     "data": {
      "text/plain": [
       "0.9252516311862684"
      ]
     },
     "execution_count": 264,
     "metadata": {},
     "output_type": "execute_result"
    }
   ],
   "source": [
    "model.wv.similarity('jacket', 'top')"
   ]
  },
  {
   "cell_type": "code",
   "execution_count": 265,
   "metadata": {},
   "outputs": [
    {
     "data": {
      "text/plain": [
       "0.8962488866040967"
      ]
     },
     "execution_count": 265,
     "metadata": {},
     "output_type": "execute_result"
    }
   ],
   "source": [
    "model.wv.similarity('sweater', 'shirt')"
   ]
  },
  {
   "cell_type": "code",
   "execution_count": 266,
   "metadata": {},
   "outputs": [
    {
     "data": {
      "text/plain": [
       "0.9431839039023355"
      ]
     },
     "execution_count": 266,
     "metadata": {},
     "output_type": "execute_result"
    }
   ],
   "source": [
    "model.wv.similarity('jacket', 'coat')"
   ]
  },
  {
   "cell_type": "code",
   "execution_count": 267,
   "metadata": {},
   "outputs": [
    {
     "data": {
      "text/plain": [
       "0.8111634143985313"
      ]
     },
     "execution_count": 267,
     "metadata": {},
     "output_type": "execute_result"
    }
   ],
   "source": [
    "model.wv.similarity('blouse', 'top')"
   ]
  },
  {
   "cell_type": "code",
   "execution_count": 268,
   "metadata": {},
   "outputs": [
    {
     "data": {
      "text/plain": [
       "0.5985025430828631"
      ]
     },
     "execution_count": 268,
     "metadata": {},
     "output_type": "execute_result"
    }
   ],
   "source": [
    "model.wv.similarity('clothes', 'clothing')"
   ]
  },
  {
   "cell_type": "code",
   "execution_count": 269,
   "metadata": {},
   "outputs": [
    {
     "data": {
      "text/plain": [
       "0.7887610913819252"
      ]
     },
     "execution_count": 269,
     "metadata": {},
     "output_type": "execute_result"
    }
   ],
   "source": [
    "model.wv.similarity('gucci', 'prada')"
   ]
  },
  {
   "cell_type": "code",
   "execution_count": 270,
   "metadata": {},
   "outputs": [
    {
     "data": {
      "text/plain": [
       "0.19623643347371203"
      ]
     },
     "execution_count": 270,
     "metadata": {},
     "output_type": "execute_result"
    }
   ],
   "source": [
    "model.wv.similarity('brand', 'price')"
   ]
  },
  {
   "cell_type": "code",
   "execution_count": 271,
   "metadata": {},
   "outputs": [
    {
     "name": "stdout",
     "output_type": "stream",
     "text": [
      "word: boots, score: 0.941257238388\n",
      "word: jeans, score: 0.933989703655\n",
      "word: earrings, score: 0.919206023216\n",
      "word: sneakers, score: 0.904149651527\n",
      "word: booties, score: 0.902881622314\n",
      "word: heels, score: 0.881464719772\n",
      "word: sandals, score: 0.876460373402\n",
      "word: shorts, score: 0.852272987366\n",
      "word: trousers, score: 0.840392827988\n",
      "word: sunnies, score: 0.8390006423\n"
     ]
    }
   ],
   "source": [
    "for word, score in model.wv.most_similar(positive=[\"pants\"]):\n",
    "    print u\"word: {}, score: {}\".format(word, score)"
   ]
  },
  {
   "cell_type": "code",
   "execution_count": 272,
   "metadata": {},
   "outputs": [
    {
     "name": "stdout",
     "output_type": "stream",
     "text": [
      "word: boots, score: 0.8922265172\n",
      "word: shoes!, score: 0.865082323551\n",
      "word: jeans, score: 0.853918910027\n",
      "word: heels, score: 0.85136193037\n",
      "word: sandals, score: 0.839250683784\n",
      "word: sneakers, score: 0.831335425377\n",
      "word: shoes., score: 0.820267319679\n",
      "word: booties, score: 0.81722342968\n",
      "word: pants, score: 0.807848632336\n",
      "word: shoes!!, score: 0.803301930428\n"
     ]
    }
   ],
   "source": [
    "for word, score in model.wv.most_similar(positive=[\"shoes\"]):\n",
    "    print u\"word: {}, score: {}\".format(word, score)"
   ]
  },
  {
   "cell_type": "code",
   "execution_count": 273,
   "metadata": {},
   "outputs": [
    {
     "name": "stdout",
     "output_type": "stream",
     "text": [
      "word: @asmaa_sajid, score: 0.87296295166\n",
      "word: yaaaas, score: 0.872364580631\n",
      "word: @chelseaolson4, score: 0.870541155338\n",
      "word: 😍😍❤❤, score: 0.869446992874\n",
      "word: Super!, score: 0.869048476219\n",
      "word: 🌼, score: 0.867843449116\n",
      "word: 🙋🏼🙋🏼🙋🏼, score: 0.86744093895\n",
      "word: ❤️💕, score: 0.863507628441\n",
      "word: Nicee, score: 0.863362252712\n",
      "word: 💐💐, score: 0.862713694572\n"
     ]
    }
   ],
   "source": [
    "for word, score in model.wv.most_similar(positive=[\"#hairgoals\"]):\n",
    "    print u\"word: {}, score: {}\".format(word, score)"
   ]
  },
  {
   "cell_type": "code",
   "execution_count": 274,
   "metadata": {},
   "outputs": [
    {
     "data": {
      "text/plain": [
       "0.7554395738590671"
      ]
     },
     "execution_count": 274,
     "metadata": {},
     "output_type": "execute_result"
    }
   ],
   "source": [
    "model.wv.similarity('#hairgoals', '#hair')"
   ]
  },
  {
   "cell_type": "code",
   "execution_count": 275,
   "metadata": {},
   "outputs": [
    {
     "name": "stdout",
     "output_type": "stream",
     "text": [
      "word: heels, score: 0.823256134987\n",
      "word: colors, score: 0.801803767681\n",
      "word: sneakers, score: 0.794907689095\n",
      "word: white!, score: 0.771367192268\n",
      "word: Gucci, score: 0.753215134144\n",
      "word: 😍👍👍, score: 0.750167906284\n",
      "word: shoes!, score: 0.742682993412\n",
      "word: trousers, score: 0.737234830856\n",
      "word: heels!, score: 0.734555244446\n",
      "word: earrings, score: 0.734281599522\n"
     ]
    }
   ],
   "source": [
    "model.wv.most_similar(positive=['shoes', 'summer'])\n",
    "for word, score in model.wv.most_similar(positive=[\"shoes\", \"summer\"]):\n",
    "    print u\"word: {}, score: {}\".format(word, score)"
   ]
  },
  {
   "cell_type": "code",
   "execution_count": 276,
   "metadata": {},
   "outputs": [
    {
     "name": "stdout",
     "output_type": "stream",
     "text": [
      "word: brand?, score: 0.866734027863\n",
      "word: lipstick, score: 0.842297434807\n",
      "word: nail, score: 0.823313117027\n",
      "word: size, score: 0.810251951218\n",
      "word: color?, score: 0.800294399261\n",
      "word: polish, score: 0.781530380249\n",
      "word: color/brand, score: 0.769126057625\n",
      "word: wearing?, score: 0.762896418571\n",
      "word: boots?, score: 0.759150207043\n",
      "word: jeans?, score: 0.739863872528\n"
     ]
    }
   ],
   "source": [
    "for word, score in model.wv.most_similar(positive=[\"brand\"]):\n",
    "    print u\"word: {}, score: {}\".format(word, score)"
   ]
  },
  {
   "cell_type": "code",
   "execution_count": 277,
   "metadata": {},
   "outputs": [
    {
     "name": "stdout",
     "output_type": "stream",
     "text": [
      "word: 😍😍, score: 0.950025439262\n",
      "word: 😍😍😍, score: 0.935811936855\n",
      "word: 😍😍😍😍, score: 0.902009904385\n",
      "word: 😻, score: 0.846235215664\n",
      "word: 😍😍😍😍😍, score: 0.833479881287\n",
      "word: 💕💕💕, score: 0.801190376282\n",
      "word: !!!, score: 0.791263103485\n",
      "word: 😍❤️, score: 0.790177702904\n",
      "word: !!!!, score: 0.743277668953\n",
      "word: tho, score: 0.737681388855\n"
     ]
    }
   ],
   "source": [
    "for word, score in model.wv.most_similar(positive=[u'😍']):\n",
    "    print u\"word: {}, score: {}\".format(word, score)"
   ]
  },
  {
   "cell_type": "code",
   "execution_count": 278,
   "metadata": {},
   "outputs": [
    {
     "name": "stdout",
     "output_type": "stream",
     "text": [
      "word: Distressed, score: 0.92366206646\n",
      "word: NB, score: 0.911652326584\n",
      "word: Camo, score: 0.910668194294\n",
      "word: @aminahjillil, score: 0.907103657722\n",
      "word: @kellkolling, score: 0.906461238861\n",
      "word: @love_sf, score: 0.905635237694\n",
      "word: @evelena_skrip, score: 0.899766266346\n",
      "word: Black!, score: 0.899739742279\n",
      "word: @annamariesilerio, score: 0.897935271263\n",
      "word: dainty, score: 0.897850453854\n"
     ]
    }
   ],
   "source": [
    "for word, score in model.wv.most_similar(positive=[u'👟']):\n",
    "    print u\"word: {}, score: {}\".format(word, score)"
   ]
  },
  {
   "cell_type": "code",
   "execution_count": 279,
   "metadata": {},
   "outputs": [
    {
     "name": "stdout",
     "output_type": "stream",
     "text": [
      "word: @foreverhhy, score: 0.948263645172\n",
      "word: такую, score: 0.945111989975\n",
      "word: yasss, score: 0.945105433464\n",
      "word: 👏🏽👏🏽👏🏽, score: 0.942018985748\n",
      "word: @miaangeli, score: 0.94129139185\n",
      "word: PRETTY, score: 0.941198825836\n",
      "word: Achei, score: 0.9409314394\n",
      "word: 📸🌸, score: 0.940166473389\n",
      "word: @micalquinonesr, score: 0.938952624798\n",
      "word: @sandyalamode, score: 0.937922954559\n"
     ]
    }
   ],
   "source": [
    "for word, score in model.wv.most_similar(positive=[u'👜']):\n",
    "    print u\"word: {}, score: {}\".format(word, score)"
   ]
  },
  {
   "cell_type": "code",
   "execution_count": 280,
   "metadata": {},
   "outputs": [
    {
     "name": "stdout",
     "output_type": "stream",
     "text": [
      "👖\n"
     ]
    }
   ],
   "source": [
    "print \"\\xF0\\x9F\\x91\\x96\".decode(\"utf8\")"
   ]
  },
  {
   "cell_type": "code",
   "execution_count": 281,
   "metadata": {},
   "outputs": [
    {
     "data": {
      "text/plain": [
       "0.41542522960537565"
      ]
     },
     "execution_count": 281,
     "metadata": {},
     "output_type": "execute_result"
    }
   ],
   "source": [
    "model.wv.similarity(u'👖', 'jeans')"
   ]
  },
  {
   "cell_type": "code",
   "execution_count": 282,
   "metadata": {},
   "outputs": [
    {
     "data": {
      "text/plain": [
       "0.08684243275942807"
      ]
     },
     "execution_count": 282,
     "metadata": {},
     "output_type": "execute_result"
    }
   ],
   "source": [
    "model.wv.similarity(u'👖', 'dress')"
   ]
  },
  {
   "cell_type": "code",
   "execution_count": 283,
   "metadata": {},
   "outputs": [
    {
     "data": {
      "text/plain": [
       "0.31728460781396045"
      ]
     },
     "execution_count": 283,
     "metadata": {},
     "output_type": "execute_result"
    }
   ],
   "source": [
    "model.wv.similarity(u'👗', 'dress')"
   ]
  },
  {
   "cell_type": "code",
   "execution_count": 284,
   "metadata": {},
   "outputs": [
    {
     "data": {
      "text/plain": [
       "0.23042239657441727"
      ]
     },
     "execution_count": 284,
     "metadata": {},
     "output_type": "execute_result"
    }
   ],
   "source": [
    "model.wv.similarity(u'👗', 'shoe')"
   ]
  },
  {
   "cell_type": "code",
   "execution_count": 285,
   "metadata": {},
   "outputs": [
    {
     "data": {
      "text/plain": [
       "0.4509832137680093"
      ]
     },
     "execution_count": 285,
     "metadata": {},
     "output_type": "execute_result"
    }
   ],
   "source": [
    "model.wv.similarity(u'👒', 'hat')"
   ]
  },
  {
   "cell_type": "code",
   "execution_count": 286,
   "metadata": {},
   "outputs": [
    {
     "data": {
      "text/plain": [
       "0.43047554562420026"
      ]
     },
     "execution_count": 286,
     "metadata": {},
     "output_type": "execute_result"
    }
   ],
   "source": [
    "model.wv.similarity(u'👒', 'jeans')"
   ]
  },
  {
   "cell_type": "code",
   "execution_count": 287,
   "metadata": {},
   "outputs": [
    {
     "data": {
      "text/plain": [
       "0.6260851292036533"
      ]
     },
     "execution_count": 287,
     "metadata": {},
     "output_type": "execute_result"
    }
   ],
   "source": [
    "model.wv.similarity(u'👜', 'handbag')"
   ]
  },
  {
   "cell_type": "code",
   "execution_count": 288,
   "metadata": {},
   "outputs": [
    {
     "data": {
      "text/plain": [
       "0.11341344651998533"
      ]
     },
     "execution_count": 288,
     "metadata": {},
     "output_type": "execute_result"
    }
   ],
   "source": [
    "model.wv.similarity(u'👜', 'dress')"
   ]
  },
  {
   "cell_type": "code",
   "execution_count": 289,
   "metadata": {},
   "outputs": [
    {
     "data": {
      "text/plain": [
       "0.3402638059448267"
      ]
     },
     "execution_count": 289,
     "metadata": {},
     "output_type": "execute_result"
    }
   ],
   "source": [
    "model.wv.similarity(u'👛', 'purse')"
   ]
  },
  {
   "cell_type": "code",
   "execution_count": 290,
   "metadata": {},
   "outputs": [
    {
     "data": {
      "text/plain": [
       "0.1791288895600077"
      ]
     },
     "execution_count": 290,
     "metadata": {},
     "output_type": "execute_result"
    }
   ],
   "source": [
    "model.wv.similarity(u'👛', 'shirt')"
   ]
  },
  {
   "cell_type": "code",
   "execution_count": 291,
   "metadata": {},
   "outputs": [
    {
     "data": {
      "text/plain": [
       "0.6023650539534895"
      ]
     },
     "execution_count": 291,
     "metadata": {},
     "output_type": "execute_result"
    }
   ],
   "source": [
    "model.wv.similarity(u'👙', 'bikini')"
   ]
  },
  {
   "cell_type": "code",
   "execution_count": 292,
   "metadata": {},
   "outputs": [
    {
     "data": {
      "text/plain": [
       "0.35869383989106585"
      ]
     },
     "execution_count": 292,
     "metadata": {},
     "output_type": "execute_result"
    }
   ],
   "source": [
    "model.wv.similarity(u'👙', 'shoe')"
   ]
  },
  {
   "cell_type": "code",
   "execution_count": 293,
   "metadata": {},
   "outputs": [
    {
     "data": {
      "text/plain": [
       "0.23222487335231465"
      ]
     },
     "execution_count": 293,
     "metadata": {},
     "output_type": "execute_result"
    }
   ],
   "source": [
    "model.wv.similarity(u'👢', 'boots')"
   ]
  },
  {
   "cell_type": "code",
   "execution_count": 294,
   "metadata": {},
   "outputs": [
    {
     "data": {
      "text/plain": [
       "0.4850658582898505"
      ]
     },
     "execution_count": 294,
     "metadata": {},
     "output_type": "execute_result"
    }
   ],
   "source": [
    "model.wv.similarity(u'👠', 'heels')"
   ]
  },
  {
   "cell_type": "code",
   "execution_count": 295,
   "metadata": {},
   "outputs": [
    {
     "data": {
      "text/plain": [
       "0.574871672600717"
      ]
     },
     "execution_count": 295,
     "metadata": {},
     "output_type": "execute_result"
    }
   ],
   "source": [
    "model.wv.similarity(u'👠', 'shoe')"
   ]
  },
  {
   "cell_type": "code",
   "execution_count": 296,
   "metadata": {},
   "outputs": [
    {
     "data": {
      "text/plain": [
       "0.11804682700518791"
      ]
     },
     "execution_count": 296,
     "metadata": {},
     "output_type": "execute_result"
    }
   ],
   "source": [
    "model.wv.similarity(u'👠', 'shirt')"
   ]
  },
  {
   "cell_type": "code",
   "execution_count": 297,
   "metadata": {},
   "outputs": [
    {
     "data": {
      "text/plain": [
       "0.40280035992020613"
      ]
     },
     "execution_count": 297,
     "metadata": {},
     "output_type": "execute_result"
    }
   ],
   "source": [
    "model.wv.similarity(u'👟', 'shoe')"
   ]
  },
  {
   "cell_type": "code",
   "execution_count": 298,
   "metadata": {},
   "outputs": [
    {
     "data": {
      "text/plain": [
       "0.4837340109701229"
      ]
     },
     "execution_count": 298,
     "metadata": {},
     "output_type": "execute_result"
    }
   ],
   "source": [
    "model.wv.similarity(u'👟', 'trainer')"
   ]
  },
  {
   "cell_type": "code",
   "execution_count": 299,
   "metadata": {},
   "outputs": [
    {
     "data": {
      "text/plain": [
       "0.8329597381374767"
      ]
     },
     "execution_count": 299,
     "metadata": {},
     "output_type": "execute_result"
    }
   ],
   "source": [
    "model.wv.similarity(u'👟', 'sneaker')"
   ]
  },
  {
   "cell_type": "code",
   "execution_count": 300,
   "metadata": {},
   "outputs": [
    {
     "data": {
      "text/plain": [
       "0.38819570058919217"
      ]
     },
     "execution_count": 300,
     "metadata": {},
     "output_type": "execute_result"
    }
   ],
   "source": [
    "model.wv.similarity(u'😎', 'sunglasses')"
   ]
  },
  {
   "cell_type": "code",
   "execution_count": 301,
   "metadata": {},
   "outputs": [
    {
     "data": {
      "text/plain": [
       "0.449638624505211"
      ]
     },
     "execution_count": 301,
     "metadata": {},
     "output_type": "execute_result"
    }
   ],
   "source": [
    "model.wv.similarity(u'👓', 'sunglasses')"
   ]
  },
  {
   "cell_type": "code",
   "execution_count": 302,
   "metadata": {},
   "outputs": [
    {
     "data": {
      "text/plain": [
       "0.42253216827577567"
      ]
     },
     "execution_count": 302,
     "metadata": {},
     "output_type": "execute_result"
    }
   ],
   "source": [
    "model.wv.similarity(u'👓', 'glasses')"
   ]
  },
  {
   "cell_type": "code",
   "execution_count": 303,
   "metadata": {},
   "outputs": [
    {
     "data": {
      "text/plain": [
       "0.419217502146432"
      ]
     },
     "execution_count": 303,
     "metadata": {},
     "output_type": "execute_result"
    }
   ],
   "source": [
    "model.wv.similarity(u'👔', 'tie')"
   ]
  },
  {
   "cell_type": "code",
   "execution_count": 304,
   "metadata": {},
   "outputs": [],
   "source": [
    "#Save vectors\n",
    "model.wv.save_word2vec_format(\"./hellofashionblog/hellofashionblog.vec\")"
   ]
  },
  {
   "cell_type": "code",
   "execution_count": 305,
   "metadata": {},
   "outputs": [
    {
     "data": {
      "text/plain": [
       "20363"
      ]
     },
     "execution_count": 305,
     "metadata": {},
     "output_type": "execute_result"
    }
   ],
   "source": [
    "len(model.wv.vocab)"
   ]
  },
  {
   "cell_type": "markdown",
   "metadata": {
    "collapsed": true
   },
   "source": [
    "# Alternative way to import binary, a bit faster but more commands\n",
    "\n",
    "Run this in terminal:\n",
    "\n",
    "- `tail -n +2 hellofashionblog/hellofashionblog.txt > hellofashionblog/hellofashionblog.txt.new && mv -f hellofashionblog/hellofashionblog.txt.new hellofashionblog/hellofashionblog.txt`\n",
    "\n",
    "- `bzip2 hellofashionblog/hellofashionblog.txt`\n",
    "\n",
    "- import and write in spacy binary :\n",
    "\n",
    "`spacy.vocab.write_binary_vectors('hellofashionblog.txt.bz2','hellofashionblog.bin')`\n",
    "\n",
    "- import in spacy:\n",
    "\n",
    "`nlp.vocab.load_vectors_from_bin_loc('hellofashionblog.bin')`\n",
    "\n",
    "or in spacy 2.0:\n",
    "\n",
    "- `nlp.vocab.load_vectors(\"file.txt.bz2\")`"
   ]
  },
  {
   "cell_type": "code",
   "execution_count": 306,
   "metadata": {},
   "outputs": [],
   "source": [
    "def load_vecs(vectors_loc, nlp):\n",
    "    with open(vectors_loc, 'rb') as file_:\n",
    "            header = file_.readline()\n",
    "            nr_row, nr_dim = header.split()\n",
    "            nlp.vocab.reset_vectors(width=int(nr_dim))\n",
    "            i = 0\n",
    "            for i, line in enumerate(file_):\n",
    "                if i % 200 == 0:\n",
    "                    print \"loaded {0} % of the vectors\".format(float(i)/float(len(model.wv.vocab)))\n",
    "                line = line.rstrip().decode('utf8')\n",
    "                pieces = line.rsplit(' ', int(nr_dim))\n",
    "                word = pieces[0]\n",
    "                vector = np.asarray([float(v) for v in pieces[1:]], dtype='f')\n",
    "                nlp.vocab.set_vector(word, vector)  # add the vectors to the vocab"
   ]
  },
  {
   "cell_type": "code",
   "execution_count": 228,
   "metadata": {},
   "outputs": [
    {
     "name": "stdout",
     "output_type": "stream",
     "text": [
      "loaded 0.0982173550066 % of the vectors\n",
      "loaded 0.108039090507 % of the vectors\n",
      "loaded 0.117860826008 % of the vectors\n",
      "loaded 0.127682561509 % of the vectors\n",
      "loaded 0.137504297009 % of the vectors\n",
      "loaded 0.14732603251 % of the vectors\n",
      "loaded 0.157147768011 % of the vectors\n",
      "loaded 0.166969503511 % of the vectors\n",
      "loaded 0.176791239012 % of the vectors\n",
      "loaded 0.186612974513 % of the vectors\n",
      "loaded 0.196434710013 % of the vectors\n",
      "loaded 0.206256445514 % of the vectors\n",
      "loaded 0.216078181015 % of the vectors\n",
      "loaded 0.225899916515 % of the vectors\n",
      "loaded 0.235721652016 % of the vectors\n",
      "loaded 0.245543387517 % of the vectors\n",
      "loaded 0.255365123017 % of the vectors\n",
      "loaded 0.265186858518 % of the vectors\n",
      "loaded 0.275008594019 % of the vectors\n",
      "loaded 0.284830329519 % of the vectors\n",
      "loaded 0.29465206502 % of the vectors\n",
      "loaded 0.304473800521 % of the vectors\n",
      "loaded 0.314295536021 % of the vectors\n",
      "loaded 0.324117271522 % of the vectors\n",
      "loaded 0.333939007023 % of the vectors\n",
      "loaded 0.343760742523 % of the vectors\n",
      "loaded 0.353582478024 % of the vectors\n",
      "loaded 0.363404213525 % of the vectors\n",
      "loaded 0.373225949025 % of the vectors\n",
      "loaded 0.383047684526 % of the vectors\n",
      "loaded 0.392869420027 % of the vectors\n",
      "loaded 0.402691155527 % of the vectors\n",
      "loaded 0.412512891028 % of the vectors\n",
      "loaded 0.422334626529 % of the vectors\n",
      "loaded 0.432156362029 % of the vectors\n",
      "loaded 0.44197809753 % of the vectors\n",
      "loaded 0.45179983303 % of the vectors\n",
      "loaded 0.461621568531 % of the vectors\n",
      "loaded 0.471443304032 % of the vectors\n",
      "loaded 0.481265039532 % of the vectors\n",
      "loaded 0.491086775033 % of the vectors\n",
      "loaded 0.500908510534 % of the vectors\n",
      "loaded 0.510730246034 % of the vectors\n",
      "loaded 0.520551981535 % of the vectors\n",
      "loaded 0.530373717036 % of the vectors\n",
      "loaded 0.540195452536 % of the vectors\n",
      "loaded 0.550017188037 % of the vectors\n",
      "loaded 0.559838923538 % of the vectors\n",
      "loaded 0.569660659038 % of the vectors\n",
      "loaded 0.579482394539 % of the vectors\n",
      "loaded 0.58930413004 % of the vectors\n",
      "loaded 0.59912586554 % of the vectors\n",
      "loaded 0.608947601041 % of the vectors\n",
      "loaded 0.618769336542 % of the vectors\n",
      "loaded 0.628591072042 % of the vectors\n",
      "loaded 0.638412807543 % of the vectors\n",
      "loaded 0.648234543044 % of the vectors\n",
      "loaded 0.658056278544 % of the vectors\n",
      "loaded 0.667878014045 % of the vectors\n",
      "loaded 0.677699749546 % of the vectors\n",
      "loaded 0.687521485046 % of the vectors\n",
      "loaded 0.697343220547 % of the vectors\n",
      "loaded 0.707164956048 % of the vectors\n",
      "loaded 0.716986691548 % of the vectors\n",
      "loaded 0.726808427049 % of the vectors\n",
      "loaded 0.73663016255 % of the vectors\n",
      "loaded 0.74645189805 % of the vectors\n",
      "loaded 0.756273633551 % of the vectors\n",
      "loaded 0.766095369052 % of the vectors\n",
      "loaded 0.775917104552 % of the vectors\n",
      "loaded 0.785738840053 % of the vectors\n",
      "loaded 0.795560575554 % of the vectors\n",
      "loaded 0.805382311054 % of the vectors\n",
      "loaded 0.815204046555 % of the vectors\n",
      "loaded 0.825025782056 % of the vectors\n",
      "loaded 0.834847517556 % of the vectors\n",
      "loaded 0.844669253057 % of the vectors\n",
      "loaded 0.854490988558 % of the vectors\n",
      "loaded 0.864312724058 % of the vectors\n",
      "loaded 0.874134459559 % of the vectors\n",
      "loaded 0.88395619506 % of the vectors\n",
      "loaded 0.89377793056 % of the vectors\n",
      "loaded 0.903599666061 % of the vectors\n",
      "loaded 0.913421401562 % of the vectors\n",
      "loaded 0.923243137062 % of the vectors\n",
      "loaded 0.933064872563 % of the vectors\n",
      "loaded 0.942886608064 % of the vectors\n",
      "loaded 0.952708343564 % of the vectors\n",
      "loaded 0.962530079065 % of the vectors\n",
      "loaded 0.972351814566 % of the vectors\n",
      "loaded 0.982173550066 % of the vectors\n",
      "loaded 0.991995285567 % of the vectors\n"
     ]
    }
   ],
   "source": [
    "load_vecs(\"./hellofashionblog/hellofashionblog.vec\", nlp)"
   ]
  },
  {
   "cell_type": "code",
   "execution_count": 233,
   "metadata": {},
   "outputs": [
    {
     "data": {
      "text/plain": [
       "0.73298657"
      ]
     },
     "execution_count": 233,
     "metadata": {},
     "output_type": "execute_result"
    }
   ],
   "source": [
    "nlp.vocab[u'gucci'].similarity(nlp.vocab[u'prada'])"
   ]
  },
  {
   "cell_type": "code",
   "execution_count": 234,
   "metadata": {},
   "outputs": [
    {
     "data": {
      "text/plain": [
       "0.88542664"
      ]
     },
     "execution_count": 234,
     "metadata": {},
     "output_type": "execute_result"
    }
   ],
   "source": [
    "nlp.vocab[u'sweater'].similarity(nlp.vocab[u'shirt'])"
   ]
  },
  {
   "cell_type": "code",
   "execution_count": 235,
   "metadata": {},
   "outputs": [
    {
     "data": {
      "text/plain": [
       "0.62139213"
      ]
     },
     "execution_count": 235,
     "metadata": {},
     "output_type": "execute_result"
    }
   ],
   "source": [
    "nlp.vocab[u'👜'].similarity(nlp.vocab[u'handbag'])"
   ]
  },
  {
   "cell_type": "code",
   "execution_count": 236,
   "metadata": {},
   "outputs": [
    {
     "data": {
      "text/plain": [
       "0.8164138"
      ]
     },
     "execution_count": 236,
     "metadata": {},
     "output_type": "execute_result"
    }
   ],
   "source": [
    "nlp.vocab[u'👟'].similarity(nlp.vocab[u'sneaker'])"
   ]
  },
  {
   "cell_type": "markdown",
   "metadata": {},
   "source": [
    "## Compress vectors to 2D and Plot"
   ]
  },
  {
   "cell_type": "code",
   "execution_count": 310,
   "metadata": {},
   "outputs": [],
   "source": [
    "# Plot specific words in 2D space\n",
    "# Apply dim-reduction with T-SNE to matrix of the word vectors (dimension 100 so cant visualize) and plot\n",
    "def display_closestwords_tsnescatterplot(model, word):\n",
    "    \n",
    "    arr = np.empty((0,100), dtype='f')\n",
    "    word_labels = [word]\n",
    "\n",
    "    # get close words\n",
    "    close_words = model.similar_by_word(word)\n",
    "    \n",
    "    # add the vector for each of the closest words to the array\n",
    "    arr = np.append(arr, np.array([model[word]]), axis=0)\n",
    "    for wrd_score in close_words:\n",
    "        wrd_vector = model[wrd_score[0]]\n",
    "        word_labels.append(wrd_score[0])\n",
    "        arr = np.append(arr, np.array([wrd_vector]), axis=0)\n",
    "        \n",
    "    # find tsne coords for 2 dimensions\n",
    "    tsne = TSNE(n_components=2, random_state=0)\n",
    "    np.set_printoptions(suppress=True)\n",
    "    Y = tsne.fit_transform(arr)\n",
    "\n",
    "    x_coords = Y[:, 0]\n",
    "    y_coords = Y[:, 1]\n",
    "    # display scatter plot\n",
    "    plt.scatter(x_coords, y_coords)\n",
    "\n",
    "    for label, x, y in zip(word_labels, x_coords, y_coords):\n",
    "        plt.annotate(label, xy=(x, y), xytext=(0, 0), textcoords='offset points')\n",
    "    plt.xlim(x_coords.min()+0.00005, x_coords.max()+0.00005)\n",
    "    plt.ylim(y_coords.min()+0.00005, y_coords.max()+0.00005)\n",
    "    plt.savefig('figures/closest_words_scatter.pdf', format='pdf', dpi=1000)\n",
    "    plt.show()"
   ]
  },
  {
   "cell_type": "code",
   "execution_count": 311,
   "metadata": {},
   "outputs": [
    {
     "data": {
      "application/javascript": [
       "/* Put everything inside the global mpl namespace */\n",
       "window.mpl = {};\n",
       "\n",
       "\n",
       "mpl.get_websocket_type = function() {\n",
       "    if (typeof(WebSocket) !== 'undefined') {\n",
       "        return WebSocket;\n",
       "    } else if (typeof(MozWebSocket) !== 'undefined') {\n",
       "        return MozWebSocket;\n",
       "    } else {\n",
       "        alert('Your browser does not have WebSocket support.' +\n",
       "              'Please try Chrome, Safari or Firefox ≥ 6. ' +\n",
       "              'Firefox 4 and 5 are also supported but you ' +\n",
       "              'have to enable WebSockets in about:config.');\n",
       "    };\n",
       "}\n",
       "\n",
       "mpl.figure = function(figure_id, websocket, ondownload, parent_element) {\n",
       "    this.id = figure_id;\n",
       "\n",
       "    this.ws = websocket;\n",
       "\n",
       "    this.supports_binary = (this.ws.binaryType != undefined);\n",
       "\n",
       "    if (!this.supports_binary) {\n",
       "        var warnings = document.getElementById(\"mpl-warnings\");\n",
       "        if (warnings) {\n",
       "            warnings.style.display = 'block';\n",
       "            warnings.textContent = (\n",
       "                \"This browser does not support binary websocket messages. \" +\n",
       "                    \"Performance may be slow.\");\n",
       "        }\n",
       "    }\n",
       "\n",
       "    this.imageObj = new Image();\n",
       "\n",
       "    this.context = undefined;\n",
       "    this.message = undefined;\n",
       "    this.canvas = undefined;\n",
       "    this.rubberband_canvas = undefined;\n",
       "    this.rubberband_context = undefined;\n",
       "    this.format_dropdown = undefined;\n",
       "\n",
       "    this.image_mode = 'full';\n",
       "\n",
       "    this.root = $('<div/>');\n",
       "    this._root_extra_style(this.root)\n",
       "    this.root.attr('style', 'display: inline-block');\n",
       "\n",
       "    $(parent_element).append(this.root);\n",
       "\n",
       "    this._init_header(this);\n",
       "    this._init_canvas(this);\n",
       "    this._init_toolbar(this);\n",
       "\n",
       "    var fig = this;\n",
       "\n",
       "    this.waiting = false;\n",
       "\n",
       "    this.ws.onopen =  function () {\n",
       "            fig.send_message(\"supports_binary\", {value: fig.supports_binary});\n",
       "            fig.send_message(\"send_image_mode\", {});\n",
       "            if (mpl.ratio != 1) {\n",
       "                fig.send_message(\"set_dpi_ratio\", {'dpi_ratio': mpl.ratio});\n",
       "            }\n",
       "            fig.send_message(\"refresh\", {});\n",
       "        }\n",
       "\n",
       "    this.imageObj.onload = function() {\n",
       "            if (fig.image_mode == 'full') {\n",
       "                // Full images could contain transparency (where diff images\n",
       "                // almost always do), so we need to clear the canvas so that\n",
       "                // there is no ghosting.\n",
       "                fig.context.clearRect(0, 0, fig.canvas.width, fig.canvas.height);\n",
       "            }\n",
       "            fig.context.drawImage(fig.imageObj, 0, 0);\n",
       "        };\n",
       "\n",
       "    this.imageObj.onunload = function() {\n",
       "        fig.ws.close();\n",
       "    }\n",
       "\n",
       "    this.ws.onmessage = this._make_on_message_function(this);\n",
       "\n",
       "    this.ondownload = ondownload;\n",
       "}\n",
       "\n",
       "mpl.figure.prototype._init_header = function() {\n",
       "    var titlebar = $(\n",
       "        '<div class=\"ui-dialog-titlebar ui-widget-header ui-corner-all ' +\n",
       "        'ui-helper-clearfix\"/>');\n",
       "    var titletext = $(\n",
       "        '<div class=\"ui-dialog-title\" style=\"width: 100%; ' +\n",
       "        'text-align: center; padding: 3px;\"/>');\n",
       "    titlebar.append(titletext)\n",
       "    this.root.append(titlebar);\n",
       "    this.header = titletext[0];\n",
       "}\n",
       "\n",
       "\n",
       "\n",
       "mpl.figure.prototype._canvas_extra_style = function(canvas_div) {\n",
       "\n",
       "}\n",
       "\n",
       "\n",
       "mpl.figure.prototype._root_extra_style = function(canvas_div) {\n",
       "\n",
       "}\n",
       "\n",
       "mpl.figure.prototype._init_canvas = function() {\n",
       "    var fig = this;\n",
       "\n",
       "    var canvas_div = $('<div/>');\n",
       "\n",
       "    canvas_div.attr('style', 'position: relative; clear: both; outline: 0');\n",
       "\n",
       "    function canvas_keyboard_event(event) {\n",
       "        return fig.key_event(event, event['data']);\n",
       "    }\n",
       "\n",
       "    canvas_div.keydown('key_press', canvas_keyboard_event);\n",
       "    canvas_div.keyup('key_release', canvas_keyboard_event);\n",
       "    this.canvas_div = canvas_div\n",
       "    this._canvas_extra_style(canvas_div)\n",
       "    this.root.append(canvas_div);\n",
       "\n",
       "    var canvas = $('<canvas/>');\n",
       "    canvas.addClass('mpl-canvas');\n",
       "    canvas.attr('style', \"left: 0; top: 0; z-index: 0; outline: 0\")\n",
       "\n",
       "    this.canvas = canvas[0];\n",
       "    this.context = canvas[0].getContext(\"2d\");\n",
       "\n",
       "    var backingStore = this.context.backingStorePixelRatio ||\n",
       "\tthis.context.webkitBackingStorePixelRatio ||\n",
       "\tthis.context.mozBackingStorePixelRatio ||\n",
       "\tthis.context.msBackingStorePixelRatio ||\n",
       "\tthis.context.oBackingStorePixelRatio ||\n",
       "\tthis.context.backingStorePixelRatio || 1;\n",
       "\n",
       "    mpl.ratio = (window.devicePixelRatio || 1) / backingStore;\n",
       "\n",
       "    var rubberband = $('<canvas/>');\n",
       "    rubberband.attr('style', \"position: absolute; left: 0; top: 0; z-index: 1;\")\n",
       "\n",
       "    var pass_mouse_events = true;\n",
       "\n",
       "    canvas_div.resizable({\n",
       "        start: function(event, ui) {\n",
       "            pass_mouse_events = false;\n",
       "        },\n",
       "        resize: function(event, ui) {\n",
       "            fig.request_resize(ui.size.width, ui.size.height);\n",
       "        },\n",
       "        stop: function(event, ui) {\n",
       "            pass_mouse_events = true;\n",
       "            fig.request_resize(ui.size.width, ui.size.height);\n",
       "        },\n",
       "    });\n",
       "\n",
       "    function mouse_event_fn(event) {\n",
       "        if (pass_mouse_events)\n",
       "            return fig.mouse_event(event, event['data']);\n",
       "    }\n",
       "\n",
       "    rubberband.mousedown('button_press', mouse_event_fn);\n",
       "    rubberband.mouseup('button_release', mouse_event_fn);\n",
       "    // Throttle sequential mouse events to 1 every 20ms.\n",
       "    rubberband.mousemove('motion_notify', mouse_event_fn);\n",
       "\n",
       "    rubberband.mouseenter('figure_enter', mouse_event_fn);\n",
       "    rubberband.mouseleave('figure_leave', mouse_event_fn);\n",
       "\n",
       "    canvas_div.on(\"wheel\", function (event) {\n",
       "        event = event.originalEvent;\n",
       "        event['data'] = 'scroll'\n",
       "        if (event.deltaY < 0) {\n",
       "            event.step = 1;\n",
       "        } else {\n",
       "            event.step = -1;\n",
       "        }\n",
       "        mouse_event_fn(event);\n",
       "    });\n",
       "\n",
       "    canvas_div.append(canvas);\n",
       "    canvas_div.append(rubberband);\n",
       "\n",
       "    this.rubberband = rubberband;\n",
       "    this.rubberband_canvas = rubberband[0];\n",
       "    this.rubberband_context = rubberband[0].getContext(\"2d\");\n",
       "    this.rubberband_context.strokeStyle = \"#000000\";\n",
       "\n",
       "    this._resize_canvas = function(width, height) {\n",
       "        // Keep the size of the canvas, canvas container, and rubber band\n",
       "        // canvas in synch.\n",
       "        canvas_div.css('width', width)\n",
       "        canvas_div.css('height', height)\n",
       "\n",
       "        canvas.attr('width', width * mpl.ratio);\n",
       "        canvas.attr('height', height * mpl.ratio);\n",
       "        canvas.attr('style', 'width: ' + width + 'px; height: ' + height + 'px;');\n",
       "\n",
       "        rubberband.attr('width', width);\n",
       "        rubberband.attr('height', height);\n",
       "    }\n",
       "\n",
       "    // Set the figure to an initial 600x600px, this will subsequently be updated\n",
       "    // upon first draw.\n",
       "    this._resize_canvas(600, 600);\n",
       "\n",
       "    // Disable right mouse context menu.\n",
       "    $(this.rubberband_canvas).bind(\"contextmenu\",function(e){\n",
       "        return false;\n",
       "    });\n",
       "\n",
       "    function set_focus () {\n",
       "        canvas.focus();\n",
       "        canvas_div.focus();\n",
       "    }\n",
       "\n",
       "    window.setTimeout(set_focus, 100);\n",
       "}\n",
       "\n",
       "mpl.figure.prototype._init_toolbar = function() {\n",
       "    var fig = this;\n",
       "\n",
       "    var nav_element = $('<div/>')\n",
       "    nav_element.attr('style', 'width: 100%');\n",
       "    this.root.append(nav_element);\n",
       "\n",
       "    // Define a callback function for later on.\n",
       "    function toolbar_event(event) {\n",
       "        return fig.toolbar_button_onclick(event['data']);\n",
       "    }\n",
       "    function toolbar_mouse_event(event) {\n",
       "        return fig.toolbar_button_onmouseover(event['data']);\n",
       "    }\n",
       "\n",
       "    for(var toolbar_ind in mpl.toolbar_items) {\n",
       "        var name = mpl.toolbar_items[toolbar_ind][0];\n",
       "        var tooltip = mpl.toolbar_items[toolbar_ind][1];\n",
       "        var image = mpl.toolbar_items[toolbar_ind][2];\n",
       "        var method_name = mpl.toolbar_items[toolbar_ind][3];\n",
       "\n",
       "        if (!name) {\n",
       "            // put a spacer in here.\n",
       "            continue;\n",
       "        }\n",
       "        var button = $('<button/>');\n",
       "        button.addClass('ui-button ui-widget ui-state-default ui-corner-all ' +\n",
       "                        'ui-button-icon-only');\n",
       "        button.attr('role', 'button');\n",
       "        button.attr('aria-disabled', 'false');\n",
       "        button.click(method_name, toolbar_event);\n",
       "        button.mouseover(tooltip, toolbar_mouse_event);\n",
       "\n",
       "        var icon_img = $('<span/>');\n",
       "        icon_img.addClass('ui-button-icon-primary ui-icon');\n",
       "        icon_img.addClass(image);\n",
       "        icon_img.addClass('ui-corner-all');\n",
       "\n",
       "        var tooltip_span = $('<span/>');\n",
       "        tooltip_span.addClass('ui-button-text');\n",
       "        tooltip_span.html(tooltip);\n",
       "\n",
       "        button.append(icon_img);\n",
       "        button.append(tooltip_span);\n",
       "\n",
       "        nav_element.append(button);\n",
       "    }\n",
       "\n",
       "    var fmt_picker_span = $('<span/>');\n",
       "\n",
       "    var fmt_picker = $('<select/>');\n",
       "    fmt_picker.addClass('mpl-toolbar-option ui-widget ui-widget-content');\n",
       "    fmt_picker_span.append(fmt_picker);\n",
       "    nav_element.append(fmt_picker_span);\n",
       "    this.format_dropdown = fmt_picker[0];\n",
       "\n",
       "    for (var ind in mpl.extensions) {\n",
       "        var fmt = mpl.extensions[ind];\n",
       "        var option = $(\n",
       "            '<option/>', {selected: fmt === mpl.default_extension}).html(fmt);\n",
       "        fmt_picker.append(option)\n",
       "    }\n",
       "\n",
       "    // Add hover states to the ui-buttons\n",
       "    $( \".ui-button\" ).hover(\n",
       "        function() { $(this).addClass(\"ui-state-hover\");},\n",
       "        function() { $(this).removeClass(\"ui-state-hover\");}\n",
       "    );\n",
       "\n",
       "    var status_bar = $('<span class=\"mpl-message\"/>');\n",
       "    nav_element.append(status_bar);\n",
       "    this.message = status_bar[0];\n",
       "}\n",
       "\n",
       "mpl.figure.prototype.request_resize = function(x_pixels, y_pixels) {\n",
       "    // Request matplotlib to resize the figure. Matplotlib will then trigger a resize in the client,\n",
       "    // which will in turn request a refresh of the image.\n",
       "    this.send_message('resize', {'width': x_pixels, 'height': y_pixels});\n",
       "}\n",
       "\n",
       "mpl.figure.prototype.send_message = function(type, properties) {\n",
       "    properties['type'] = type;\n",
       "    properties['figure_id'] = this.id;\n",
       "    this.ws.send(JSON.stringify(properties));\n",
       "}\n",
       "\n",
       "mpl.figure.prototype.send_draw_message = function() {\n",
       "    if (!this.waiting) {\n",
       "        this.waiting = true;\n",
       "        this.ws.send(JSON.stringify({type: \"draw\", figure_id: this.id}));\n",
       "    }\n",
       "}\n",
       "\n",
       "\n",
       "mpl.figure.prototype.handle_save = function(fig, msg) {\n",
       "    var format_dropdown = fig.format_dropdown;\n",
       "    var format = format_dropdown.options[format_dropdown.selectedIndex].value;\n",
       "    fig.ondownload(fig, format);\n",
       "}\n",
       "\n",
       "\n",
       "mpl.figure.prototype.handle_resize = function(fig, msg) {\n",
       "    var size = msg['size'];\n",
       "    if (size[0] != fig.canvas.width || size[1] != fig.canvas.height) {\n",
       "        fig._resize_canvas(size[0], size[1]);\n",
       "        fig.send_message(\"refresh\", {});\n",
       "    };\n",
       "}\n",
       "\n",
       "mpl.figure.prototype.handle_rubberband = function(fig, msg) {\n",
       "    var x0 = msg['x0'] / mpl.ratio;\n",
       "    var y0 = (fig.canvas.height - msg['y0']) / mpl.ratio;\n",
       "    var x1 = msg['x1'] / mpl.ratio;\n",
       "    var y1 = (fig.canvas.height - msg['y1']) / mpl.ratio;\n",
       "    x0 = Math.floor(x0) + 0.5;\n",
       "    y0 = Math.floor(y0) + 0.5;\n",
       "    x1 = Math.floor(x1) + 0.5;\n",
       "    y1 = Math.floor(y1) + 0.5;\n",
       "    var min_x = Math.min(x0, x1);\n",
       "    var min_y = Math.min(y0, y1);\n",
       "    var width = Math.abs(x1 - x0);\n",
       "    var height = Math.abs(y1 - y0);\n",
       "\n",
       "    fig.rubberband_context.clearRect(\n",
       "        0, 0, fig.canvas.width, fig.canvas.height);\n",
       "\n",
       "    fig.rubberband_context.strokeRect(min_x, min_y, width, height);\n",
       "}\n",
       "\n",
       "mpl.figure.prototype.handle_figure_label = function(fig, msg) {\n",
       "    // Updates the figure title.\n",
       "    fig.header.textContent = msg['label'];\n",
       "}\n",
       "\n",
       "mpl.figure.prototype.handle_cursor = function(fig, msg) {\n",
       "    var cursor = msg['cursor'];\n",
       "    switch(cursor)\n",
       "    {\n",
       "    case 0:\n",
       "        cursor = 'pointer';\n",
       "        break;\n",
       "    case 1:\n",
       "        cursor = 'default';\n",
       "        break;\n",
       "    case 2:\n",
       "        cursor = 'crosshair';\n",
       "        break;\n",
       "    case 3:\n",
       "        cursor = 'move';\n",
       "        break;\n",
       "    }\n",
       "    fig.rubberband_canvas.style.cursor = cursor;\n",
       "}\n",
       "\n",
       "mpl.figure.prototype.handle_message = function(fig, msg) {\n",
       "    fig.message.textContent = msg['message'];\n",
       "}\n",
       "\n",
       "mpl.figure.prototype.handle_draw = function(fig, msg) {\n",
       "    // Request the server to send over a new figure.\n",
       "    fig.send_draw_message();\n",
       "}\n",
       "\n",
       "mpl.figure.prototype.handle_image_mode = function(fig, msg) {\n",
       "    fig.image_mode = msg['mode'];\n",
       "}\n",
       "\n",
       "mpl.figure.prototype.updated_canvas_event = function() {\n",
       "    // Called whenever the canvas gets updated.\n",
       "    this.send_message(\"ack\", {});\n",
       "}\n",
       "\n",
       "// A function to construct a web socket function for onmessage handling.\n",
       "// Called in the figure constructor.\n",
       "mpl.figure.prototype._make_on_message_function = function(fig) {\n",
       "    return function socket_on_message(evt) {\n",
       "        if (evt.data instanceof Blob) {\n",
       "            /* FIXME: We get \"Resource interpreted as Image but\n",
       "             * transferred with MIME type text/plain:\" errors on\n",
       "             * Chrome.  But how to set the MIME type?  It doesn't seem\n",
       "             * to be part of the websocket stream */\n",
       "            evt.data.type = \"image/png\";\n",
       "\n",
       "            /* Free the memory for the previous frames */\n",
       "            if (fig.imageObj.src) {\n",
       "                (window.URL || window.webkitURL).revokeObjectURL(\n",
       "                    fig.imageObj.src);\n",
       "            }\n",
       "\n",
       "            fig.imageObj.src = (window.URL || window.webkitURL).createObjectURL(\n",
       "                evt.data);\n",
       "            fig.updated_canvas_event();\n",
       "            fig.waiting = false;\n",
       "            return;\n",
       "        }\n",
       "        else if (typeof evt.data === 'string' && evt.data.slice(0, 21) == \"data:image/png;base64\") {\n",
       "            fig.imageObj.src = evt.data;\n",
       "            fig.updated_canvas_event();\n",
       "            fig.waiting = false;\n",
       "            return;\n",
       "        }\n",
       "\n",
       "        var msg = JSON.parse(evt.data);\n",
       "        var msg_type = msg['type'];\n",
       "\n",
       "        // Call the  \"handle_{type}\" callback, which takes\n",
       "        // the figure and JSON message as its only arguments.\n",
       "        try {\n",
       "            var callback = fig[\"handle_\" + msg_type];\n",
       "        } catch (e) {\n",
       "            console.log(\"No handler for the '\" + msg_type + \"' message type: \", msg);\n",
       "            return;\n",
       "        }\n",
       "\n",
       "        if (callback) {\n",
       "            try {\n",
       "                // console.log(\"Handling '\" + msg_type + \"' message: \", msg);\n",
       "                callback(fig, msg);\n",
       "            } catch (e) {\n",
       "                console.log(\"Exception inside the 'handler_\" + msg_type + \"' callback:\", e, e.stack, msg);\n",
       "            }\n",
       "        }\n",
       "    };\n",
       "}\n",
       "\n",
       "// from http://stackoverflow.com/questions/1114465/getting-mouse-location-in-canvas\n",
       "mpl.findpos = function(e) {\n",
       "    //this section is from http://www.quirksmode.org/js/events_properties.html\n",
       "    var targ;\n",
       "    if (!e)\n",
       "        e = window.event;\n",
       "    if (e.target)\n",
       "        targ = e.target;\n",
       "    else if (e.srcElement)\n",
       "        targ = e.srcElement;\n",
       "    if (targ.nodeType == 3) // defeat Safari bug\n",
       "        targ = targ.parentNode;\n",
       "\n",
       "    // jQuery normalizes the pageX and pageY\n",
       "    // pageX,Y are the mouse positions relative to the document\n",
       "    // offset() returns the position of the element relative to the document\n",
       "    var x = e.pageX - $(targ).offset().left;\n",
       "    var y = e.pageY - $(targ).offset().top;\n",
       "\n",
       "    return {\"x\": x, \"y\": y};\n",
       "};\n",
       "\n",
       "/*\n",
       " * return a copy of an object with only non-object keys\n",
       " * we need this to avoid circular references\n",
       " * http://stackoverflow.com/a/24161582/3208463\n",
       " */\n",
       "function simpleKeys (original) {\n",
       "  return Object.keys(original).reduce(function (obj, key) {\n",
       "    if (typeof original[key] !== 'object')\n",
       "        obj[key] = original[key]\n",
       "    return obj;\n",
       "  }, {});\n",
       "}\n",
       "\n",
       "mpl.figure.prototype.mouse_event = function(event, name) {\n",
       "    var canvas_pos = mpl.findpos(event)\n",
       "\n",
       "    if (name === 'button_press')\n",
       "    {\n",
       "        this.canvas.focus();\n",
       "        this.canvas_div.focus();\n",
       "    }\n",
       "\n",
       "    var x = canvas_pos.x * mpl.ratio;\n",
       "    var y = canvas_pos.y * mpl.ratio;\n",
       "\n",
       "    this.send_message(name, {x: x, y: y, button: event.button,\n",
       "                             step: event.step,\n",
       "                             guiEvent: simpleKeys(event)});\n",
       "\n",
       "    /* This prevents the web browser from automatically changing to\n",
       "     * the text insertion cursor when the button is pressed.  We want\n",
       "     * to control all of the cursor setting manually through the\n",
       "     * 'cursor' event from matplotlib */\n",
       "    event.preventDefault();\n",
       "    return false;\n",
       "}\n",
       "\n",
       "mpl.figure.prototype._key_event_extra = function(event, name) {\n",
       "    // Handle any extra behaviour associated with a key event\n",
       "}\n",
       "\n",
       "mpl.figure.prototype.key_event = function(event, name) {\n",
       "\n",
       "    // Prevent repeat events\n",
       "    if (name == 'key_press')\n",
       "    {\n",
       "        if (event.which === this._key)\n",
       "            return;\n",
       "        else\n",
       "            this._key = event.which;\n",
       "    }\n",
       "    if (name == 'key_release')\n",
       "        this._key = null;\n",
       "\n",
       "    var value = '';\n",
       "    if (event.ctrlKey && event.which != 17)\n",
       "        value += \"ctrl+\";\n",
       "    if (event.altKey && event.which != 18)\n",
       "        value += \"alt+\";\n",
       "    if (event.shiftKey && event.which != 16)\n",
       "        value += \"shift+\";\n",
       "\n",
       "    value += 'k';\n",
       "    value += event.which.toString();\n",
       "\n",
       "    this._key_event_extra(event, name);\n",
       "\n",
       "    this.send_message(name, {key: value,\n",
       "                             guiEvent: simpleKeys(event)});\n",
       "    return false;\n",
       "}\n",
       "\n",
       "mpl.figure.prototype.toolbar_button_onclick = function(name) {\n",
       "    if (name == 'download') {\n",
       "        this.handle_save(this, null);\n",
       "    } else {\n",
       "        this.send_message(\"toolbar_button\", {name: name});\n",
       "    }\n",
       "};\n",
       "\n",
       "mpl.figure.prototype.toolbar_button_onmouseover = function(tooltip) {\n",
       "    this.message.textContent = tooltip;\n",
       "};\n",
       "mpl.toolbar_items = [[\"Home\", \"Reset original view\", \"fa fa-home icon-home\", \"home\"], [\"Back\", \"Back to  previous view\", \"fa fa-arrow-left icon-arrow-left\", \"back\"], [\"Forward\", \"Forward to next view\", \"fa fa-arrow-right icon-arrow-right\", \"forward\"], [\"\", \"\", \"\", \"\"], [\"Pan\", \"Pan axes with left mouse, zoom with right\", \"fa fa-arrows icon-move\", \"pan\"], [\"Zoom\", \"Zoom to rectangle\", \"fa fa-square-o icon-check-empty\", \"zoom\"], [\"\", \"\", \"\", \"\"], [\"Download\", \"Download plot\", \"fa fa-floppy-o icon-save\", \"download\"]];\n",
       "\n",
       "mpl.extensions = [\"eps\", \"pdf\", \"png\", \"ps\", \"raw\", \"svg\"];\n",
       "\n",
       "mpl.default_extension = \"png\";var comm_websocket_adapter = function(comm) {\n",
       "    // Create a \"websocket\"-like object which calls the given IPython comm\n",
       "    // object with the appropriate methods. Currently this is a non binary\n",
       "    // socket, so there is still some room for performance tuning.\n",
       "    var ws = {};\n",
       "\n",
       "    ws.close = function() {\n",
       "        comm.close()\n",
       "    };\n",
       "    ws.send = function(m) {\n",
       "        //console.log('sending', m);\n",
       "        comm.send(m);\n",
       "    };\n",
       "    // Register the callback with on_msg.\n",
       "    comm.on_msg(function(msg) {\n",
       "        //console.log('receiving', msg['content']['data'], msg);\n",
       "        // Pass the mpl event to the overriden (by mpl) onmessage function.\n",
       "        ws.onmessage(msg['content']['data'])\n",
       "    });\n",
       "    return ws;\n",
       "}\n",
       "\n",
       "mpl.mpl_figure_comm = function(comm, msg) {\n",
       "    // This is the function which gets called when the mpl process\n",
       "    // starts-up an IPython Comm through the \"matplotlib\" channel.\n",
       "\n",
       "    var id = msg.content.data.id;\n",
       "    // Get hold of the div created by the display call when the Comm\n",
       "    // socket was opened in Python.\n",
       "    var element = $(\"#\" + id);\n",
       "    var ws_proxy = comm_websocket_adapter(comm)\n",
       "\n",
       "    function ondownload(figure, format) {\n",
       "        window.open(figure.imageObj.src);\n",
       "    }\n",
       "\n",
       "    var fig = new mpl.figure(id, ws_proxy,\n",
       "                           ondownload,\n",
       "                           element.get(0));\n",
       "\n",
       "    // Call onopen now - mpl needs it, as it is assuming we've passed it a real\n",
       "    // web socket which is closed, not our websocket->open comm proxy.\n",
       "    ws_proxy.onopen();\n",
       "\n",
       "    fig.parent_element = element.get(0);\n",
       "    fig.cell_info = mpl.find_output_cell(\"<div id='\" + id + \"'></div>\");\n",
       "    if (!fig.cell_info) {\n",
       "        console.error(\"Failed to find cell for figure\", id, fig);\n",
       "        return;\n",
       "    }\n",
       "\n",
       "    var output_index = fig.cell_info[2]\n",
       "    var cell = fig.cell_info[0];\n",
       "\n",
       "};\n",
       "\n",
       "mpl.figure.prototype.handle_close = function(fig, msg) {\n",
       "    var width = fig.canvas.width/mpl.ratio\n",
       "    fig.root.unbind('remove')\n",
       "\n",
       "    // Update the output cell to use the data from the current canvas.\n",
       "    fig.push_to_output();\n",
       "    var dataURL = fig.canvas.toDataURL();\n",
       "    // Re-enable the keyboard manager in IPython - without this line, in FF,\n",
       "    // the notebook keyboard shortcuts fail.\n",
       "    IPython.keyboard_manager.enable()\n",
       "    $(fig.parent_element).html('<img src=\"' + dataURL + '\" width=\"' + width + '\">');\n",
       "    fig.close_ws(fig, msg);\n",
       "}\n",
       "\n",
       "mpl.figure.prototype.close_ws = function(fig, msg){\n",
       "    fig.send_message('closing', msg);\n",
       "    // fig.ws.close()\n",
       "}\n",
       "\n",
       "mpl.figure.prototype.push_to_output = function(remove_interactive) {\n",
       "    // Turn the data on the canvas into data in the output cell.\n",
       "    var width = this.canvas.width/mpl.ratio\n",
       "    var dataURL = this.canvas.toDataURL();\n",
       "    this.cell_info[1]['text/html'] = '<img src=\"' + dataURL + '\" width=\"' + width + '\">';\n",
       "}\n",
       "\n",
       "mpl.figure.prototype.updated_canvas_event = function() {\n",
       "    // Tell IPython that the notebook contents must change.\n",
       "    IPython.notebook.set_dirty(true);\n",
       "    this.send_message(\"ack\", {});\n",
       "    var fig = this;\n",
       "    // Wait a second, then push the new image to the DOM so\n",
       "    // that it is saved nicely (might be nice to debounce this).\n",
       "    setTimeout(function () { fig.push_to_output() }, 1000);\n",
       "}\n",
       "\n",
       "mpl.figure.prototype._init_toolbar = function() {\n",
       "    var fig = this;\n",
       "\n",
       "    var nav_element = $('<div/>')\n",
       "    nav_element.attr('style', 'width: 100%');\n",
       "    this.root.append(nav_element);\n",
       "\n",
       "    // Define a callback function for later on.\n",
       "    function toolbar_event(event) {\n",
       "        return fig.toolbar_button_onclick(event['data']);\n",
       "    }\n",
       "    function toolbar_mouse_event(event) {\n",
       "        return fig.toolbar_button_onmouseover(event['data']);\n",
       "    }\n",
       "\n",
       "    for(var toolbar_ind in mpl.toolbar_items){\n",
       "        var name = mpl.toolbar_items[toolbar_ind][0];\n",
       "        var tooltip = mpl.toolbar_items[toolbar_ind][1];\n",
       "        var image = mpl.toolbar_items[toolbar_ind][2];\n",
       "        var method_name = mpl.toolbar_items[toolbar_ind][3];\n",
       "\n",
       "        if (!name) { continue; };\n",
       "\n",
       "        var button = $('<button class=\"btn btn-default\" href=\"#\" title=\"' + name + '\"><i class=\"fa ' + image + ' fa-lg\"></i></button>');\n",
       "        button.click(method_name, toolbar_event);\n",
       "        button.mouseover(tooltip, toolbar_mouse_event);\n",
       "        nav_element.append(button);\n",
       "    }\n",
       "\n",
       "    // Add the status bar.\n",
       "    var status_bar = $('<span class=\"mpl-message\" style=\"text-align:right; float: right;\"/>');\n",
       "    nav_element.append(status_bar);\n",
       "    this.message = status_bar[0];\n",
       "\n",
       "    // Add the close button to the window.\n",
       "    var buttongrp = $('<div class=\"btn-group inline pull-right\"></div>');\n",
       "    var button = $('<button class=\"btn btn-mini btn-primary\" href=\"#\" title=\"Stop Interaction\"><i class=\"fa fa-power-off icon-remove icon-large\"></i></button>');\n",
       "    button.click(function (evt) { fig.handle_close(fig, {}); } );\n",
       "    button.mouseover('Stop Interaction', toolbar_mouse_event);\n",
       "    buttongrp.append(button);\n",
       "    var titlebar = this.root.find($('.ui-dialog-titlebar'));\n",
       "    titlebar.prepend(buttongrp);\n",
       "}\n",
       "\n",
       "mpl.figure.prototype._root_extra_style = function(el){\n",
       "    var fig = this\n",
       "    el.on(\"remove\", function(){\n",
       "\tfig.close_ws(fig, {});\n",
       "    });\n",
       "}\n",
       "\n",
       "mpl.figure.prototype._canvas_extra_style = function(el){\n",
       "    // this is important to make the div 'focusable\n",
       "    el.attr('tabindex', 0)\n",
       "    // reach out to IPython and tell the keyboard manager to turn it's self\n",
       "    // off when our div gets focus\n",
       "\n",
       "    // location in version 3\n",
       "    if (IPython.notebook.keyboard_manager) {\n",
       "        IPython.notebook.keyboard_manager.register_events(el);\n",
       "    }\n",
       "    else {\n",
       "        // location in version 2\n",
       "        IPython.keyboard_manager.register_events(el);\n",
       "    }\n",
       "\n",
       "}\n",
       "\n",
       "mpl.figure.prototype._key_event_extra = function(event, name) {\n",
       "    var manager = IPython.notebook.keyboard_manager;\n",
       "    if (!manager)\n",
       "        manager = IPython.keyboard_manager;\n",
       "\n",
       "    // Check for shift+enter\n",
       "    if (event.shiftKey && event.which == 13) {\n",
       "        this.canvas_div.blur();\n",
       "        event.shiftKey = false;\n",
       "        // Send a \"J\" for go to next cell\n",
       "        event.which = 74;\n",
       "        event.keyCode = 74;\n",
       "        manager.command_mode();\n",
       "        manager.handle_keydown(event);\n",
       "    }\n",
       "}\n",
       "\n",
       "mpl.figure.prototype.handle_save = function(fig, msg) {\n",
       "    fig.ondownload(fig, null);\n",
       "}\n",
       "\n",
       "\n",
       "mpl.find_output_cell = function(html_output) {\n",
       "    // Return the cell and output element which can be found *uniquely* in the notebook.\n",
       "    // Note - this is a bit hacky, but it is done because the \"notebook_saving.Notebook\"\n",
       "    // IPython event is triggered only after the cells have been serialised, which for\n",
       "    // our purposes (turning an active figure into a static one), is too late.\n",
       "    var cells = IPython.notebook.get_cells();\n",
       "    var ncells = cells.length;\n",
       "    for (var i=0; i<ncells; i++) {\n",
       "        var cell = cells[i];\n",
       "        if (cell.cell_type === 'code'){\n",
       "            for (var j=0; j<cell.output_area.outputs.length; j++) {\n",
       "                var data = cell.output_area.outputs[j];\n",
       "                if (data.data) {\n",
       "                    // IPython >= 3 moved mimebundle to data attribute of output\n",
       "                    data = data.data;\n",
       "                }\n",
       "                if (data['text/html'] == html_output) {\n",
       "                    return [cell, data, j];\n",
       "                }\n",
       "            }\n",
       "        }\n",
       "    }\n",
       "}\n",
       "\n",
       "// Register the function which deals with the matplotlib target/channel.\n",
       "// The kernel may be null if the page has been refreshed.\n",
       "if (IPython.notebook.kernel != null) {\n",
       "    IPython.notebook.kernel.comm_manager.register_target('matplotlib', mpl.mpl_figure_comm);\n",
       "}\n"
      ],
      "text/plain": [
       "<IPython.core.display.Javascript object>"
      ]
     },
     "metadata": {},
     "output_type": "display_data"
    },
    {
     "data": {
      "text/html": [
       "<img src=\"data:image/png;base64,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\" width=\"640\">"
      ],
      "text/plain": [
       "<IPython.core.display.HTML object>"
      ]
     },
     "metadata": {},
     "output_type": "display_data"
    }
   ],
   "source": [
    "display_closestwords_tsnescatterplot(model, 'jacket')"
   ]
  },
  {
   "cell_type": "code",
   "execution_count": 324,
   "metadata": {},
   "outputs": [],
   "source": [
    "# Plot 100 words\n",
    "vocab = list(model.wv.vocab)[0:100]\n",
    "X = model[vocab]\n",
    "tsne = TSNE(n_components=2)\n",
    "X_tsne = tsne.fit_transform(X[0:100])"
   ]
  },
  {
   "cell_type": "code",
   "execution_count": 326,
   "metadata": {},
   "outputs": [
    {
     "data": {
      "application/javascript": [
       "/* Put everything inside the global mpl namespace */\n",
       "window.mpl = {};\n",
       "\n",
       "\n",
       "mpl.get_websocket_type = function() {\n",
       "    if (typeof(WebSocket) !== 'undefined') {\n",
       "        return WebSocket;\n",
       "    } else if (typeof(MozWebSocket) !== 'undefined') {\n",
       "        return MozWebSocket;\n",
       "    } else {\n",
       "        alert('Your browser does not have WebSocket support.' +\n",
       "              'Please try Chrome, Safari or Firefox ≥ 6. ' +\n",
       "              'Firefox 4 and 5 are also supported but you ' +\n",
       "              'have to enable WebSockets in about:config.');\n",
       "    };\n",
       "}\n",
       "\n",
       "mpl.figure = function(figure_id, websocket, ondownload, parent_element) {\n",
       "    this.id = figure_id;\n",
       "\n",
       "    this.ws = websocket;\n",
       "\n",
       "    this.supports_binary = (this.ws.binaryType != undefined);\n",
       "\n",
       "    if (!this.supports_binary) {\n",
       "        var warnings = document.getElementById(\"mpl-warnings\");\n",
       "        if (warnings) {\n",
       "            warnings.style.display = 'block';\n",
       "            warnings.textContent = (\n",
       "                \"This browser does not support binary websocket messages. \" +\n",
       "                    \"Performance may be slow.\");\n",
       "        }\n",
       "    }\n",
       "\n",
       "    this.imageObj = new Image();\n",
       "\n",
       "    this.context = undefined;\n",
       "    this.message = undefined;\n",
       "    this.canvas = undefined;\n",
       "    this.rubberband_canvas = undefined;\n",
       "    this.rubberband_context = undefined;\n",
       "    this.format_dropdown = undefined;\n",
       "\n",
       "    this.image_mode = 'full';\n",
       "\n",
       "    this.root = $('<div/>');\n",
       "    this._root_extra_style(this.root)\n",
       "    this.root.attr('style', 'display: inline-block');\n",
       "\n",
       "    $(parent_element).append(this.root);\n",
       "\n",
       "    this._init_header(this);\n",
       "    this._init_canvas(this);\n",
       "    this._init_toolbar(this);\n",
       "\n",
       "    var fig = this;\n",
       "\n",
       "    this.waiting = false;\n",
       "\n",
       "    this.ws.onopen =  function () {\n",
       "            fig.send_message(\"supports_binary\", {value: fig.supports_binary});\n",
       "            fig.send_message(\"send_image_mode\", {});\n",
       "            if (mpl.ratio != 1) {\n",
       "                fig.send_message(\"set_dpi_ratio\", {'dpi_ratio': mpl.ratio});\n",
       "            }\n",
       "            fig.send_message(\"refresh\", {});\n",
       "        }\n",
       "\n",
       "    this.imageObj.onload = function() {\n",
       "            if (fig.image_mode == 'full') {\n",
       "                // Full images could contain transparency (where diff images\n",
       "                // almost always do), so we need to clear the canvas so that\n",
       "                // there is no ghosting.\n",
       "                fig.context.clearRect(0, 0, fig.canvas.width, fig.canvas.height);\n",
       "            }\n",
       "            fig.context.drawImage(fig.imageObj, 0, 0);\n",
       "        };\n",
       "\n",
       "    this.imageObj.onunload = function() {\n",
       "        fig.ws.close();\n",
       "    }\n",
       "\n",
       "    this.ws.onmessage = this._make_on_message_function(this);\n",
       "\n",
       "    this.ondownload = ondownload;\n",
       "}\n",
       "\n",
       "mpl.figure.prototype._init_header = function() {\n",
       "    var titlebar = $(\n",
       "        '<div class=\"ui-dialog-titlebar ui-widget-header ui-corner-all ' +\n",
       "        'ui-helper-clearfix\"/>');\n",
       "    var titletext = $(\n",
       "        '<div class=\"ui-dialog-title\" style=\"width: 100%; ' +\n",
       "        'text-align: center; padding: 3px;\"/>');\n",
       "    titlebar.append(titletext)\n",
       "    this.root.append(titlebar);\n",
       "    this.header = titletext[0];\n",
       "}\n",
       "\n",
       "\n",
       "\n",
       "mpl.figure.prototype._canvas_extra_style = function(canvas_div) {\n",
       "\n",
       "}\n",
       "\n",
       "\n",
       "mpl.figure.prototype._root_extra_style = function(canvas_div) {\n",
       "\n",
       "}\n",
       "\n",
       "mpl.figure.prototype._init_canvas = function() {\n",
       "    var fig = this;\n",
       "\n",
       "    var canvas_div = $('<div/>');\n",
       "\n",
       "    canvas_div.attr('style', 'position: relative; clear: both; outline: 0');\n",
       "\n",
       "    function canvas_keyboard_event(event) {\n",
       "        return fig.key_event(event, event['data']);\n",
       "    }\n",
       "\n",
       "    canvas_div.keydown('key_press', canvas_keyboard_event);\n",
       "    canvas_div.keyup('key_release', canvas_keyboard_event);\n",
       "    this.canvas_div = canvas_div\n",
       "    this._canvas_extra_style(canvas_div)\n",
       "    this.root.append(canvas_div);\n",
       "\n",
       "    var canvas = $('<canvas/>');\n",
       "    canvas.addClass('mpl-canvas');\n",
       "    canvas.attr('style', \"left: 0; top: 0; z-index: 0; outline: 0\")\n",
       "\n",
       "    this.canvas = canvas[0];\n",
       "    this.context = canvas[0].getContext(\"2d\");\n",
       "\n",
       "    var backingStore = this.context.backingStorePixelRatio ||\n",
       "\tthis.context.webkitBackingStorePixelRatio ||\n",
       "\tthis.context.mozBackingStorePixelRatio ||\n",
       "\tthis.context.msBackingStorePixelRatio ||\n",
       "\tthis.context.oBackingStorePixelRatio ||\n",
       "\tthis.context.backingStorePixelRatio || 1;\n",
       "\n",
       "    mpl.ratio = (window.devicePixelRatio || 1) / backingStore;\n",
       "\n",
       "    var rubberband = $('<canvas/>');\n",
       "    rubberband.attr('style', \"position: absolute; left: 0; top: 0; z-index: 1;\")\n",
       "\n",
       "    var pass_mouse_events = true;\n",
       "\n",
       "    canvas_div.resizable({\n",
       "        start: function(event, ui) {\n",
       "            pass_mouse_events = false;\n",
       "        },\n",
       "        resize: function(event, ui) {\n",
       "            fig.request_resize(ui.size.width, ui.size.height);\n",
       "        },\n",
       "        stop: function(event, ui) {\n",
       "            pass_mouse_events = true;\n",
       "            fig.request_resize(ui.size.width, ui.size.height);\n",
       "        },\n",
       "    });\n",
       "\n",
       "    function mouse_event_fn(event) {\n",
       "        if (pass_mouse_events)\n",
       "            return fig.mouse_event(event, event['data']);\n",
       "    }\n",
       "\n",
       "    rubberband.mousedown('button_press', mouse_event_fn);\n",
       "    rubberband.mouseup('button_release', mouse_event_fn);\n",
       "    // Throttle sequential mouse events to 1 every 20ms.\n",
       "    rubberband.mousemove('motion_notify', mouse_event_fn);\n",
       "\n",
       "    rubberband.mouseenter('figure_enter', mouse_event_fn);\n",
       "    rubberband.mouseleave('figure_leave', mouse_event_fn);\n",
       "\n",
       "    canvas_div.on(\"wheel\", function (event) {\n",
       "        event = event.originalEvent;\n",
       "        event['data'] = 'scroll'\n",
       "        if (event.deltaY < 0) {\n",
       "            event.step = 1;\n",
       "        } else {\n",
       "            event.step = -1;\n",
       "        }\n",
       "        mouse_event_fn(event);\n",
       "    });\n",
       "\n",
       "    canvas_div.append(canvas);\n",
       "    canvas_div.append(rubberband);\n",
       "\n",
       "    this.rubberband = rubberband;\n",
       "    this.rubberband_canvas = rubberband[0];\n",
       "    this.rubberband_context = rubberband[0].getContext(\"2d\");\n",
       "    this.rubberband_context.strokeStyle = \"#000000\";\n",
       "\n",
       "    this._resize_canvas = function(width, height) {\n",
       "        // Keep the size of the canvas, canvas container, and rubber band\n",
       "        // canvas in synch.\n",
       "        canvas_div.css('width', width)\n",
       "        canvas_div.css('height', height)\n",
       "\n",
       "        canvas.attr('width', width * mpl.ratio);\n",
       "        canvas.attr('height', height * mpl.ratio);\n",
       "        canvas.attr('style', 'width: ' + width + 'px; height: ' + height + 'px;');\n",
       "\n",
       "        rubberband.attr('width', width);\n",
       "        rubberband.attr('height', height);\n",
       "    }\n",
       "\n",
       "    // Set the figure to an initial 600x600px, this will subsequently be updated\n",
       "    // upon first draw.\n",
       "    this._resize_canvas(600, 600);\n",
       "\n",
       "    // Disable right mouse context menu.\n",
       "    $(this.rubberband_canvas).bind(\"contextmenu\",function(e){\n",
       "        return false;\n",
       "    });\n",
       "\n",
       "    function set_focus () {\n",
       "        canvas.focus();\n",
       "        canvas_div.focus();\n",
       "    }\n",
       "\n",
       "    window.setTimeout(set_focus, 100);\n",
       "}\n",
       "\n",
       "mpl.figure.prototype._init_toolbar = function() {\n",
       "    var fig = this;\n",
       "\n",
       "    var nav_element = $('<div/>')\n",
       "    nav_element.attr('style', 'width: 100%');\n",
       "    this.root.append(nav_element);\n",
       "\n",
       "    // Define a callback function for later on.\n",
       "    function toolbar_event(event) {\n",
       "        return fig.toolbar_button_onclick(event['data']);\n",
       "    }\n",
       "    function toolbar_mouse_event(event) {\n",
       "        return fig.toolbar_button_onmouseover(event['data']);\n",
       "    }\n",
       "\n",
       "    for(var toolbar_ind in mpl.toolbar_items) {\n",
       "        var name = mpl.toolbar_items[toolbar_ind][0];\n",
       "        var tooltip = mpl.toolbar_items[toolbar_ind][1];\n",
       "        var image = mpl.toolbar_items[toolbar_ind][2];\n",
       "        var method_name = mpl.toolbar_items[toolbar_ind][3];\n",
       "\n",
       "        if (!name) {\n",
       "            // put a spacer in here.\n",
       "            continue;\n",
       "        }\n",
       "        var button = $('<button/>');\n",
       "        button.addClass('ui-button ui-widget ui-state-default ui-corner-all ' +\n",
       "                        'ui-button-icon-only');\n",
       "        button.attr('role', 'button');\n",
       "        button.attr('aria-disabled', 'false');\n",
       "        button.click(method_name, toolbar_event);\n",
       "        button.mouseover(tooltip, toolbar_mouse_event);\n",
       "\n",
       "        var icon_img = $('<span/>');\n",
       "        icon_img.addClass('ui-button-icon-primary ui-icon');\n",
       "        icon_img.addClass(image);\n",
       "        icon_img.addClass('ui-corner-all');\n",
       "\n",
       "        var tooltip_span = $('<span/>');\n",
       "        tooltip_span.addClass('ui-button-text');\n",
       "        tooltip_span.html(tooltip);\n",
       "\n",
       "        button.append(icon_img);\n",
       "        button.append(tooltip_span);\n",
       "\n",
       "        nav_element.append(button);\n",
       "    }\n",
       "\n",
       "    var fmt_picker_span = $('<span/>');\n",
       "\n",
       "    var fmt_picker = $('<select/>');\n",
       "    fmt_picker.addClass('mpl-toolbar-option ui-widget ui-widget-content');\n",
       "    fmt_picker_span.append(fmt_picker);\n",
       "    nav_element.append(fmt_picker_span);\n",
       "    this.format_dropdown = fmt_picker[0];\n",
       "\n",
       "    for (var ind in mpl.extensions) {\n",
       "        var fmt = mpl.extensions[ind];\n",
       "        var option = $(\n",
       "            '<option/>', {selected: fmt === mpl.default_extension}).html(fmt);\n",
       "        fmt_picker.append(option)\n",
       "    }\n",
       "\n",
       "    // Add hover states to the ui-buttons\n",
       "    $( \".ui-button\" ).hover(\n",
       "        function() { $(this).addClass(\"ui-state-hover\");},\n",
       "        function() { $(this).removeClass(\"ui-state-hover\");}\n",
       "    );\n",
       "\n",
       "    var status_bar = $('<span class=\"mpl-message\"/>');\n",
       "    nav_element.append(status_bar);\n",
       "    this.message = status_bar[0];\n",
       "}\n",
       "\n",
       "mpl.figure.prototype.request_resize = function(x_pixels, y_pixels) {\n",
       "    // Request matplotlib to resize the figure. Matplotlib will then trigger a resize in the client,\n",
       "    // which will in turn request a refresh of the image.\n",
       "    this.send_message('resize', {'width': x_pixels, 'height': y_pixels});\n",
       "}\n",
       "\n",
       "mpl.figure.prototype.send_message = function(type, properties) {\n",
       "    properties['type'] = type;\n",
       "    properties['figure_id'] = this.id;\n",
       "    this.ws.send(JSON.stringify(properties));\n",
       "}\n",
       "\n",
       "mpl.figure.prototype.send_draw_message = function() {\n",
       "    if (!this.waiting) {\n",
       "        this.waiting = true;\n",
       "        this.ws.send(JSON.stringify({type: \"draw\", figure_id: this.id}));\n",
       "    }\n",
       "}\n",
       "\n",
       "\n",
       "mpl.figure.prototype.handle_save = function(fig, msg) {\n",
       "    var format_dropdown = fig.format_dropdown;\n",
       "    var format = format_dropdown.options[format_dropdown.selectedIndex].value;\n",
       "    fig.ondownload(fig, format);\n",
       "}\n",
       "\n",
       "\n",
       "mpl.figure.prototype.handle_resize = function(fig, msg) {\n",
       "    var size = msg['size'];\n",
       "    if (size[0] != fig.canvas.width || size[1] != fig.canvas.height) {\n",
       "        fig._resize_canvas(size[0], size[1]);\n",
       "        fig.send_message(\"refresh\", {});\n",
       "    };\n",
       "}\n",
       "\n",
       "mpl.figure.prototype.handle_rubberband = function(fig, msg) {\n",
       "    var x0 = msg['x0'] / mpl.ratio;\n",
       "    var y0 = (fig.canvas.height - msg['y0']) / mpl.ratio;\n",
       "    var x1 = msg['x1'] / mpl.ratio;\n",
       "    var y1 = (fig.canvas.height - msg['y1']) / mpl.ratio;\n",
       "    x0 = Math.floor(x0) + 0.5;\n",
       "    y0 = Math.floor(y0) + 0.5;\n",
       "    x1 = Math.floor(x1) + 0.5;\n",
       "    y1 = Math.floor(y1) + 0.5;\n",
       "    var min_x = Math.min(x0, x1);\n",
       "    var min_y = Math.min(y0, y1);\n",
       "    var width = Math.abs(x1 - x0);\n",
       "    var height = Math.abs(y1 - y0);\n",
       "\n",
       "    fig.rubberband_context.clearRect(\n",
       "        0, 0, fig.canvas.width, fig.canvas.height);\n",
       "\n",
       "    fig.rubberband_context.strokeRect(min_x, min_y, width, height);\n",
       "}\n",
       "\n",
       "mpl.figure.prototype.handle_figure_label = function(fig, msg) {\n",
       "    // Updates the figure title.\n",
       "    fig.header.textContent = msg['label'];\n",
       "}\n",
       "\n",
       "mpl.figure.prototype.handle_cursor = function(fig, msg) {\n",
       "    var cursor = msg['cursor'];\n",
       "    switch(cursor)\n",
       "    {\n",
       "    case 0:\n",
       "        cursor = 'pointer';\n",
       "        break;\n",
       "    case 1:\n",
       "        cursor = 'default';\n",
       "        break;\n",
       "    case 2:\n",
       "        cursor = 'crosshair';\n",
       "        break;\n",
       "    case 3:\n",
       "        cursor = 'move';\n",
       "        break;\n",
       "    }\n",
       "    fig.rubberband_canvas.style.cursor = cursor;\n",
       "}\n",
       "\n",
       "mpl.figure.prototype.handle_message = function(fig, msg) {\n",
       "    fig.message.textContent = msg['message'];\n",
       "}\n",
       "\n",
       "mpl.figure.prototype.handle_draw = function(fig, msg) {\n",
       "    // Request the server to send over a new figure.\n",
       "    fig.send_draw_message();\n",
       "}\n",
       "\n",
       "mpl.figure.prototype.handle_image_mode = function(fig, msg) {\n",
       "    fig.image_mode = msg['mode'];\n",
       "}\n",
       "\n",
       "mpl.figure.prototype.updated_canvas_event = function() {\n",
       "    // Called whenever the canvas gets updated.\n",
       "    this.send_message(\"ack\", {});\n",
       "}\n",
       "\n",
       "// A function to construct a web socket function for onmessage handling.\n",
       "// Called in the figure constructor.\n",
       "mpl.figure.prototype._make_on_message_function = function(fig) {\n",
       "    return function socket_on_message(evt) {\n",
       "        if (evt.data instanceof Blob) {\n",
       "            /* FIXME: We get \"Resource interpreted as Image but\n",
       "             * transferred with MIME type text/plain:\" errors on\n",
       "             * Chrome.  But how to set the MIME type?  It doesn't seem\n",
       "             * to be part of the websocket stream */\n",
       "            evt.data.type = \"image/png\";\n",
       "\n",
       "            /* Free the memory for the previous frames */\n",
       "            if (fig.imageObj.src) {\n",
       "                (window.URL || window.webkitURL).revokeObjectURL(\n",
       "                    fig.imageObj.src);\n",
       "            }\n",
       "\n",
       "            fig.imageObj.src = (window.URL || window.webkitURL).createObjectURL(\n",
       "                evt.data);\n",
       "            fig.updated_canvas_event();\n",
       "            fig.waiting = false;\n",
       "            return;\n",
       "        }\n",
       "        else if (typeof evt.data === 'string' && evt.data.slice(0, 21) == \"data:image/png;base64\") {\n",
       "            fig.imageObj.src = evt.data;\n",
       "            fig.updated_canvas_event();\n",
       "            fig.waiting = false;\n",
       "            return;\n",
       "        }\n",
       "\n",
       "        var msg = JSON.parse(evt.data);\n",
       "        var msg_type = msg['type'];\n",
       "\n",
       "        // Call the  \"handle_{type}\" callback, which takes\n",
       "        // the figure and JSON message as its only arguments.\n",
       "        try {\n",
       "            var callback = fig[\"handle_\" + msg_type];\n",
       "        } catch (e) {\n",
       "            console.log(\"No handler for the '\" + msg_type + \"' message type: \", msg);\n",
       "            return;\n",
       "        }\n",
       "\n",
       "        if (callback) {\n",
       "            try {\n",
       "                // console.log(\"Handling '\" + msg_type + \"' message: \", msg);\n",
       "                callback(fig, msg);\n",
       "            } catch (e) {\n",
       "                console.log(\"Exception inside the 'handler_\" + msg_type + \"' callback:\", e, e.stack, msg);\n",
       "            }\n",
       "        }\n",
       "    };\n",
       "}\n",
       "\n",
       "// from http://stackoverflow.com/questions/1114465/getting-mouse-location-in-canvas\n",
       "mpl.findpos = function(e) {\n",
       "    //this section is from http://www.quirksmode.org/js/events_properties.html\n",
       "    var targ;\n",
       "    if (!e)\n",
       "        e = window.event;\n",
       "    if (e.target)\n",
       "        targ = e.target;\n",
       "    else if (e.srcElement)\n",
       "        targ = e.srcElement;\n",
       "    if (targ.nodeType == 3) // defeat Safari bug\n",
       "        targ = targ.parentNode;\n",
       "\n",
       "    // jQuery normalizes the pageX and pageY\n",
       "    // pageX,Y are the mouse positions relative to the document\n",
       "    // offset() returns the position of the element relative to the document\n",
       "    var x = e.pageX - $(targ).offset().left;\n",
       "    var y = e.pageY - $(targ).offset().top;\n",
       "\n",
       "    return {\"x\": x, \"y\": y};\n",
       "};\n",
       "\n",
       "/*\n",
       " * return a copy of an object with only non-object keys\n",
       " * we need this to avoid circular references\n",
       " * http://stackoverflow.com/a/24161582/3208463\n",
       " */\n",
       "function simpleKeys (original) {\n",
       "  return Object.keys(original).reduce(function (obj, key) {\n",
       "    if (typeof original[key] !== 'object')\n",
       "        obj[key] = original[key]\n",
       "    return obj;\n",
       "  }, {});\n",
       "}\n",
       "\n",
       "mpl.figure.prototype.mouse_event = function(event, name) {\n",
       "    var canvas_pos = mpl.findpos(event)\n",
       "\n",
       "    if (name === 'button_press')\n",
       "    {\n",
       "        this.canvas.focus();\n",
       "        this.canvas_div.focus();\n",
       "    }\n",
       "\n",
       "    var x = canvas_pos.x * mpl.ratio;\n",
       "    var y = canvas_pos.y * mpl.ratio;\n",
       "\n",
       "    this.send_message(name, {x: x, y: y, button: event.button,\n",
       "                             step: event.step,\n",
       "                             guiEvent: simpleKeys(event)});\n",
       "\n",
       "    /* This prevents the web browser from automatically changing to\n",
       "     * the text insertion cursor when the button is pressed.  We want\n",
       "     * to control all of the cursor setting manually through the\n",
       "     * 'cursor' event from matplotlib */\n",
       "    event.preventDefault();\n",
       "    return false;\n",
       "}\n",
       "\n",
       "mpl.figure.prototype._key_event_extra = function(event, name) {\n",
       "    // Handle any extra behaviour associated with a key event\n",
       "}\n",
       "\n",
       "mpl.figure.prototype.key_event = function(event, name) {\n",
       "\n",
       "    // Prevent repeat events\n",
       "    if (name == 'key_press')\n",
       "    {\n",
       "        if (event.which === this._key)\n",
       "            return;\n",
       "        else\n",
       "            this._key = event.which;\n",
       "    }\n",
       "    if (name == 'key_release')\n",
       "        this._key = null;\n",
       "\n",
       "    var value = '';\n",
       "    if (event.ctrlKey && event.which != 17)\n",
       "        value += \"ctrl+\";\n",
       "    if (event.altKey && event.which != 18)\n",
       "        value += \"alt+\";\n",
       "    if (event.shiftKey && event.which != 16)\n",
       "        value += \"shift+\";\n",
       "\n",
       "    value += 'k';\n",
       "    value += event.which.toString();\n",
       "\n",
       "    this._key_event_extra(event, name);\n",
       "\n",
       "    this.send_message(name, {key: value,\n",
       "                             guiEvent: simpleKeys(event)});\n",
       "    return false;\n",
       "}\n",
       "\n",
       "mpl.figure.prototype.toolbar_button_onclick = function(name) {\n",
       "    if (name == 'download') {\n",
       "        this.handle_save(this, null);\n",
       "    } else {\n",
       "        this.send_message(\"toolbar_button\", {name: name});\n",
       "    }\n",
       "};\n",
       "\n",
       "mpl.figure.prototype.toolbar_button_onmouseover = function(tooltip) {\n",
       "    this.message.textContent = tooltip;\n",
       "};\n",
       "mpl.toolbar_items = [[\"Home\", \"Reset original view\", \"fa fa-home icon-home\", \"home\"], [\"Back\", \"Back to  previous view\", \"fa fa-arrow-left icon-arrow-left\", \"back\"], [\"Forward\", \"Forward to next view\", \"fa fa-arrow-right icon-arrow-right\", \"forward\"], [\"\", \"\", \"\", \"\"], [\"Pan\", \"Pan axes with left mouse, zoom with right\", \"fa fa-arrows icon-move\", \"pan\"], [\"Zoom\", \"Zoom to rectangle\", \"fa fa-square-o icon-check-empty\", \"zoom\"], [\"\", \"\", \"\", \"\"], [\"Download\", \"Download plot\", \"fa fa-floppy-o icon-save\", \"download\"]];\n",
       "\n",
       "mpl.extensions = [\"eps\", \"pdf\", \"png\", \"ps\", \"raw\", \"svg\"];\n",
       "\n",
       "mpl.default_extension = \"png\";var comm_websocket_adapter = function(comm) {\n",
       "    // Create a \"websocket\"-like object which calls the given IPython comm\n",
       "    // object with the appropriate methods. Currently this is a non binary\n",
       "    // socket, so there is still some room for performance tuning.\n",
       "    var ws = {};\n",
       "\n",
       "    ws.close = function() {\n",
       "        comm.close()\n",
       "    };\n",
       "    ws.send = function(m) {\n",
       "        //console.log('sending', m);\n",
       "        comm.send(m);\n",
       "    };\n",
       "    // Register the callback with on_msg.\n",
       "    comm.on_msg(function(msg) {\n",
       "        //console.log('receiving', msg['content']['data'], msg);\n",
       "        // Pass the mpl event to the overriden (by mpl) onmessage function.\n",
       "        ws.onmessage(msg['content']['data'])\n",
       "    });\n",
       "    return ws;\n",
       "}\n",
       "\n",
       "mpl.mpl_figure_comm = function(comm, msg) {\n",
       "    // This is the function which gets called when the mpl process\n",
       "    // starts-up an IPython Comm through the \"matplotlib\" channel.\n",
       "\n",
       "    var id = msg.content.data.id;\n",
       "    // Get hold of the div created by the display call when the Comm\n",
       "    // socket was opened in Python.\n",
       "    var element = $(\"#\" + id);\n",
       "    var ws_proxy = comm_websocket_adapter(comm)\n",
       "\n",
       "    function ondownload(figure, format) {\n",
       "        window.open(figure.imageObj.src);\n",
       "    }\n",
       "\n",
       "    var fig = new mpl.figure(id, ws_proxy,\n",
       "                           ondownload,\n",
       "                           element.get(0));\n",
       "\n",
       "    // Call onopen now - mpl needs it, as it is assuming we've passed it a real\n",
       "    // web socket which is closed, not our websocket->open comm proxy.\n",
       "    ws_proxy.onopen();\n",
       "\n",
       "    fig.parent_element = element.get(0);\n",
       "    fig.cell_info = mpl.find_output_cell(\"<div id='\" + id + \"'></div>\");\n",
       "    if (!fig.cell_info) {\n",
       "        console.error(\"Failed to find cell for figure\", id, fig);\n",
       "        return;\n",
       "    }\n",
       "\n",
       "    var output_index = fig.cell_info[2]\n",
       "    var cell = fig.cell_info[0];\n",
       "\n",
       "};\n",
       "\n",
       "mpl.figure.prototype.handle_close = function(fig, msg) {\n",
       "    var width = fig.canvas.width/mpl.ratio\n",
       "    fig.root.unbind('remove')\n",
       "\n",
       "    // Update the output cell to use the data from the current canvas.\n",
       "    fig.push_to_output();\n",
       "    var dataURL = fig.canvas.toDataURL();\n",
       "    // Re-enable the keyboard manager in IPython - without this line, in FF,\n",
       "    // the notebook keyboard shortcuts fail.\n",
       "    IPython.keyboard_manager.enable()\n",
       "    $(fig.parent_element).html('<img src=\"' + dataURL + '\" width=\"' + width + '\">');\n",
       "    fig.close_ws(fig, msg);\n",
       "}\n",
       "\n",
       "mpl.figure.prototype.close_ws = function(fig, msg){\n",
       "    fig.send_message('closing', msg);\n",
       "    // fig.ws.close()\n",
       "}\n",
       "\n",
       "mpl.figure.prototype.push_to_output = function(remove_interactive) {\n",
       "    // Turn the data on the canvas into data in the output cell.\n",
       "    var width = this.canvas.width/mpl.ratio\n",
       "    var dataURL = this.canvas.toDataURL();\n",
       "    this.cell_info[1]['text/html'] = '<img src=\"' + dataURL + '\" width=\"' + width + '\">';\n",
       "}\n",
       "\n",
       "mpl.figure.prototype.updated_canvas_event = function() {\n",
       "    // Tell IPython that the notebook contents must change.\n",
       "    IPython.notebook.set_dirty(true);\n",
       "    this.send_message(\"ack\", {});\n",
       "    var fig = this;\n",
       "    // Wait a second, then push the new image to the DOM so\n",
       "    // that it is saved nicely (might be nice to debounce this).\n",
       "    setTimeout(function () { fig.push_to_output() }, 1000);\n",
       "}\n",
       "\n",
       "mpl.figure.prototype._init_toolbar = function() {\n",
       "    var fig = this;\n",
       "\n",
       "    var nav_element = $('<div/>')\n",
       "    nav_element.attr('style', 'width: 100%');\n",
       "    this.root.append(nav_element);\n",
       "\n",
       "    // Define a callback function for later on.\n",
       "    function toolbar_event(event) {\n",
       "        return fig.toolbar_button_onclick(event['data']);\n",
       "    }\n",
       "    function toolbar_mouse_event(event) {\n",
       "        return fig.toolbar_button_onmouseover(event['data']);\n",
       "    }\n",
       "\n",
       "    for(var toolbar_ind in mpl.toolbar_items){\n",
       "        var name = mpl.toolbar_items[toolbar_ind][0];\n",
       "        var tooltip = mpl.toolbar_items[toolbar_ind][1];\n",
       "        var image = mpl.toolbar_items[toolbar_ind][2];\n",
       "        var method_name = mpl.toolbar_items[toolbar_ind][3];\n",
       "\n",
       "        if (!name) { continue; };\n",
       "\n",
       "        var button = $('<button class=\"btn btn-default\" href=\"#\" title=\"' + name + '\"><i class=\"fa ' + image + ' fa-lg\"></i></button>');\n",
       "        button.click(method_name, toolbar_event);\n",
       "        button.mouseover(tooltip, toolbar_mouse_event);\n",
       "        nav_element.append(button);\n",
       "    }\n",
       "\n",
       "    // Add the status bar.\n",
       "    var status_bar = $('<span class=\"mpl-message\" style=\"text-align:right; float: right;\"/>');\n",
       "    nav_element.append(status_bar);\n",
       "    this.message = status_bar[0];\n",
       "\n",
       "    // Add the close button to the window.\n",
       "    var buttongrp = $('<div class=\"btn-group inline pull-right\"></div>');\n",
       "    var button = $('<button class=\"btn btn-mini btn-primary\" href=\"#\" title=\"Stop Interaction\"><i class=\"fa fa-power-off icon-remove icon-large\"></i></button>');\n",
       "    button.click(function (evt) { fig.handle_close(fig, {}); } );\n",
       "    button.mouseover('Stop Interaction', toolbar_mouse_event);\n",
       "    buttongrp.append(button);\n",
       "    var titlebar = this.root.find($('.ui-dialog-titlebar'));\n",
       "    titlebar.prepend(buttongrp);\n",
       "}\n",
       "\n",
       "mpl.figure.prototype._root_extra_style = function(el){\n",
       "    var fig = this\n",
       "    el.on(\"remove\", function(){\n",
       "\tfig.close_ws(fig, {});\n",
       "    });\n",
       "}\n",
       "\n",
       "mpl.figure.prototype._canvas_extra_style = function(el){\n",
       "    // this is important to make the div 'focusable\n",
       "    el.attr('tabindex', 0)\n",
       "    // reach out to IPython and tell the keyboard manager to turn it's self\n",
       "    // off when our div gets focus\n",
       "\n",
       "    // location in version 3\n",
       "    if (IPython.notebook.keyboard_manager) {\n",
       "        IPython.notebook.keyboard_manager.register_events(el);\n",
       "    }\n",
       "    else {\n",
       "        // location in version 2\n",
       "        IPython.keyboard_manager.register_events(el);\n",
       "    }\n",
       "\n",
       "}\n",
       "\n",
       "mpl.figure.prototype._key_event_extra = function(event, name) {\n",
       "    var manager = IPython.notebook.keyboard_manager;\n",
       "    if (!manager)\n",
       "        manager = IPython.keyboard_manager;\n",
       "\n",
       "    // Check for shift+enter\n",
       "    if (event.shiftKey && event.which == 13) {\n",
       "        this.canvas_div.blur();\n",
       "        event.shiftKey = false;\n",
       "        // Send a \"J\" for go to next cell\n",
       "        event.which = 74;\n",
       "        event.keyCode = 74;\n",
       "        manager.command_mode();\n",
       "        manager.handle_keydown(event);\n",
       "    }\n",
       "}\n",
       "\n",
       "mpl.figure.prototype.handle_save = function(fig, msg) {\n",
       "    fig.ondownload(fig, null);\n",
       "}\n",
       "\n",
       "\n",
       "mpl.find_output_cell = function(html_output) {\n",
       "    // Return the cell and output element which can be found *uniquely* in the notebook.\n",
       "    // Note - this is a bit hacky, but it is done because the \"notebook_saving.Notebook\"\n",
       "    // IPython event is triggered only after the cells have been serialised, which for\n",
       "    // our purposes (turning an active figure into a static one), is too late.\n",
       "    var cells = IPython.notebook.get_cells();\n",
       "    var ncells = cells.length;\n",
       "    for (var i=0; i<ncells; i++) {\n",
       "        var cell = cells[i];\n",
       "        if (cell.cell_type === 'code'){\n",
       "            for (var j=0; j<cell.output_area.outputs.length; j++) {\n",
       "                var data = cell.output_area.outputs[j];\n",
       "                if (data.data) {\n",
       "                    // IPython >= 3 moved mimebundle to data attribute of output\n",
       "                    data = data.data;\n",
       "                }\n",
       "                if (data['text/html'] == html_output) {\n",
       "                    return [cell, data, j];\n",
       "                }\n",
       "            }\n",
       "        }\n",
       "    }\n",
       "}\n",
       "\n",
       "// Register the function which deals with the matplotlib target/channel.\n",
       "// The kernel may be null if the page has been refreshed.\n",
       "if (IPython.notebook.kernel != null) {\n",
       "    IPython.notebook.kernel.comm_manager.register_target('matplotlib', mpl.mpl_figure_comm);\n",
       "}\n"
      ],
      "text/plain": [
       "<IPython.core.display.Javascript object>"
      ]
     },
     "metadata": {},
     "output_type": "display_data"
    },
    {
     "data": {
      "text/html": [
       "<img src=\"data:image/png;base64,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\" width=\"640\">"
      ],
      "text/plain": [
       "<IPython.core.display.HTML object>"
      ]
     },
     "metadata": {},
     "output_type": "display_data"
    }
   ],
   "source": [
    "df = pd.DataFrame(X_tsne, index=vocab, columns=['x', 'y'])\n",
    "fig = plt.figure()\n",
    "ax = fig.add_subplot(1, 1, 1)\n",
    "ax.scatter(df['x'], df['y'])\n",
    "for word, pos in df.iterrows():\n",
    "    ax.annotate(word, pos)\n",
    "plt.savefig('figures/100_words_scatter.pdf', format='pdf', dpi=1000)\n",
    "plt.show()"
   ]
  },
  {
   "cell_type": "code",
   "execution_count": 314,
   "metadata": {},
   "outputs": [
    {
     "data": {
      "text/plain": [
       "[u'#truth',\n",
       " u'\\U0001f49d\\U0001f49d\\U0001f49d',\n",
       " u'Gorgeous\\U0001f497',\n",
       " u'jeans!!!',\n",
       " u'right?!?',\n",
       " u'headband',\n",
       " u'@queenj__xx',\n",
       " u'gah',\n",
       " u'@xnaomi_vxx',\n",
       " u'yellow',\n",
       " u'Sugar',\n",
       " u'four',\n",
       " u'@stylistadesignscarmina',\n",
       " u'deal!!',\n",
       " u'Does',\n",
       " u'\\U0001f44c\\U0001f3fe\\U0001f44c\\U0001f3fe\\U0001f44c\\U0001f3fe',\n",
       " u'@natykac',\n",
       " u'hanging',\n",
       " u'story!!',\n",
       " u'(And',\n",
       " u'Oooh!',\n",
       " u'@fberrada',\n",
       " u'@obey_briix33',\n",
       " u'otro',\n",
       " u'@jtcruzan',\n",
       " u'zapatillas',\n",
       " u'@itsmemariag',\n",
       " u'@veronicawynkoop',\n",
       " u'advantage',\n",
       " u'happywednesday',\n",
       " u'\"Amen!',\n",
       " u'Beauty!!',\n",
       " u'@kenzielegrand',\n",
       " u'otra',\n",
       " u'igual',\n",
       " u'doppelg\\xe4nger',\n",
       " u'repost?',\n",
       " u'fab!!!',\n",
       " u'favorites!!',\n",
       " u'#hairinspo',\n",
       " u'@c_bambi',\n",
       " u'\\U0001f60d\\U0001f64c\\U0001f3fc',\n",
       " u'\\U0001f60d\\U0001f64c\\U0001f3fd',\n",
       " u'dela',\n",
       " u'@untiltheverytrend',\n",
       " u'advice!',\n",
       " u'better.',\n",
       " u'dele',\n",
       " u'@soph_collis',\n",
       " u'@shemler',\n",
       " u'Looove!',\n",
       " u'Andrea!',\n",
       " u'@erinreneebel',\n",
       " u'@abby_beaver',\n",
       " u'fingers!',\n",
       " u'TURNING',\n",
       " u'bringing',\n",
       " u'@edamehmed2006',\n",
       " u'basics',\n",
       " u'prize',\n",
       " u'\\U0001f47c\\U0001f47c\\U0001f47c',\n",
       " u'karen',\n",
       " u'000',\n",
       " u'oooo',\n",
       " u'Feel',\n",
       " u'@julianamillet',\n",
       " u'bag!!!!',\n",
       " u'@amy_c_schneider',\n",
       " u'omg\\U0001f60d\\U0001f60d\\U0001f60d',\n",
       " u'@livinglifeunbound',\n",
       " u'Beautiful\\U0001f60d',\n",
       " u'commented',\n",
       " u'@rkim000',\n",
       " u'chaussure',\n",
       " u'NO.',\n",
       " u'@fashionbeforefunction',\n",
       " u'\\u2705',\n",
       " u'her.',\n",
       " u'esos',\n",
       " u'@catiamarcolino',\n",
       " u'snuggles',\n",
       " u'@kfornelas',\n",
       " u'funny.',\n",
       " u'\\U0001f60f',\n",
       " u'budget',\n",
       " u'elegant',\n",
       " u'second',\n",
       " u'her?',\n",
       " u'@zobo7',\n",
       " u'@gusgot49',\n",
       " u'Neeeeed',\n",
       " u'@evakaragjozi',\n",
       " u'@alexandriaposada',\n",
       " u'#cali',\n",
       " u'blouse',\n",
       " u'it\\u2763\\ufe0f',\n",
       " u'man!!!',\n",
       " u'\\U0001f622\\U0001f622',\n",
       " u'#canon',\n",
       " u'cooking']"
      ]
     },
     "execution_count": 314,
     "metadata": {},
     "output_type": "execute_result"
    }
   ],
   "source": [
    "vocab"
   ]
  },
  {
   "cell_type": "markdown",
   "metadata": {},
   "source": [
    "## FastText\n",
    "\n",
    "Test to load in the pre-trained vectors using FastText algorithm by Facebook. These vectors are also trained on Wikipedia but FastText tend to give better results than word2vec. \n",
    "\n",
    "** NOTE: it takes forever (24h) to load the FastText vectors and it gave similar results as word2vec**"
   ]
  },
  {
   "cell_type": "code",
   "execution_count": null,
   "metadata": {},
   "outputs": [],
   "source": [
    "vectors_loc = \"fasttext/wiki.en.vec\"\n",
    "load_vecs(vectors_loc, nlp)"
   ]
  },
  {
   "cell_type": "code",
   "execution_count": null,
   "metadata": {},
   "outputs": [],
   "source": [
    "nlp.vocab[u'gucci'].similarity(nlp.vocab[u'prada'])"
   ]
  },
  {
   "cell_type": "code",
   "execution_count": null,
   "metadata": {},
   "outputs": [],
   "source": [
    "nlp.vocab[u'sweater'].similarity(nlp.vocab[u'shirt'])"
   ]
  },
  {
   "cell_type": "markdown",
   "metadata": {},
   "source": [
    "## Load Glove Vectors "
   ]
  },
  {
   "cell_type": "code",
   "execution_count": 241,
   "metadata": {},
   "outputs": [],
   "source": [
    "nlp = spacy.load('en', vectors='en_glove_cc_300_1m_vectors')"
   ]
  },
  {
   "cell_type": "code",
   "execution_count": 243,
   "metadata": {},
   "outputs": [],
   "source": [
    "nlp.vocab[u'gucci'].similarity(nlp.vocab[u'prada'])"
   ]
  },
  {
   "cell_type": "code",
   "execution_count": null,
   "metadata": {},
   "outputs": [],
   "source": []
  }
 ],
 "metadata": {
  "kernelspec": {
   "display_name": "Python 3",
   "language": "python",
   "name": "python3"
  },
  "language_info": {
   "codemirror_mode": {
    "name": "ipython",
    "version": 2
   },
   "file_extension": ".py",
   "mimetype": "text/x-python",
   "name": "python",
   "nbconvert_exporter": "python",
   "pygments_lexer": "ipython2",
   "version": "2.7.14"
  }
 },
 "nbformat": 4,
 "nbformat_minor": 2
}
